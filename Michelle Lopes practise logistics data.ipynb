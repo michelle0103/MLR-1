{
 "cells": [
  {
   "cell_type": "markdown",
   "metadata": {},
   "source": [
    "# Objective\n",
    "\n",
    "* Predict whether the student( Applicant ) class will be Reject ( Bad ) or Approved ( Good )\n"
   ]
  },
  {
   "cell_type": "code",
   "execution_count": 1,
   "metadata": {},
   "outputs": [
    {
     "data": {
      "text/html": [
       "        <script type=\"text/javascript\">\n",
       "        window.PlotlyConfig = {MathJaxConfig: 'local'};\n",
       "        if (window.MathJax && window.MathJax.Hub && window.MathJax.Hub.Config) {window.MathJax.Hub.Config({SVG: {font: \"STIX-Web\"}});}\n",
       "        if (typeof require !== 'undefined') {\n",
       "        require.undef(\"plotly\");\n",
       "        requirejs.config({\n",
       "            paths: {\n",
       "                'plotly': ['https://cdn.plot.ly/plotly-2.12.1.min']\n",
       "            }\n",
       "        });\n",
       "        require(['plotly'], function(Plotly) {\n",
       "            window._Plotly = Plotly;\n",
       "        });\n",
       "        }\n",
       "        </script>\n",
       "        "
      ]
     },
     "metadata": {},
     "output_type": "display_data"
    }
   ],
   "source": [
    "#Importing libraries\n",
    "import numpy as np # linear algebra\n",
    "import pandas as pd # data processing, CSV file I/O \n",
    "import os\n",
    "import itertools\n",
    "import warnings\n",
    "warnings.filterwarnings(\"ignore\")\n",
    "import io\n",
    "\n",
    "################# visualization #################\n",
    "import matplotlib.pyplot as plt \n",
    "from PIL import  Image\n",
    "import seaborn as sns \n",
    "import plotly.offline as py\n",
    "py.init_notebook_mode(connected=True)\n",
    "import plotly.graph_objs as go\n",
    "import plotly.tools as tls\n",
    "import plotly.figure_factory as ff"
   ]
  },
  {
   "cell_type": "markdown",
   "metadata": {},
   "source": [
    "# 1. Data Importing"
   ]
  },
  {
   "cell_type": "code",
   "execution_count": 4,
   "metadata": {},
   "outputs": [
    {
     "data": {
      "text/html": [
       "<div>\n",
       "<style scoped>\n",
       "    .dataframe tbody tr th:only-of-type {\n",
       "        vertical-align: middle;\n",
       "    }\n",
       "\n",
       "    .dataframe tbody tr th {\n",
       "        vertical-align: top;\n",
       "    }\n",
       "\n",
       "    .dataframe thead th {\n",
       "        text-align: right;\n",
       "    }\n",
       "</style>\n",
       "<table border=\"1\" class=\"dataframe\">\n",
       "  <thead>\n",
       "    <tr style=\"text-align: right;\">\n",
       "      <th></th>\n",
       "      <th>gender</th>\n",
       "      <th>NationalITy</th>\n",
       "      <th>PlaceofBirth</th>\n",
       "      <th>StageID</th>\n",
       "      <th>GradeID</th>\n",
       "      <th>SectionID</th>\n",
       "      <th>Topic</th>\n",
       "      <th>Semester</th>\n",
       "      <th>Relation</th>\n",
       "      <th>raisedhands</th>\n",
       "      <th>VisITedResources</th>\n",
       "      <th>AnnouncementsView</th>\n",
       "      <th>Discussion</th>\n",
       "      <th>ParentAnsweringSurvey</th>\n",
       "      <th>ParentschoolSatisfaction</th>\n",
       "      <th>StudentAbsenceDays</th>\n",
       "      <th>Class</th>\n",
       "    </tr>\n",
       "  </thead>\n",
       "  <tbody>\n",
       "    <tr>\n",
       "      <th>0</th>\n",
       "      <td>M</td>\n",
       "      <td>KW</td>\n",
       "      <td>KuwaIT</td>\n",
       "      <td>lowerlevel</td>\n",
       "      <td>G-04</td>\n",
       "      <td>A</td>\n",
       "      <td>IT</td>\n",
       "      <td>F</td>\n",
       "      <td>Father</td>\n",
       "      <td>15</td>\n",
       "      <td>16</td>\n",
       "      <td>2</td>\n",
       "      <td>20</td>\n",
       "      <td>Yes</td>\n",
       "      <td>Good</td>\n",
       "      <td>Under-7</td>\n",
       "      <td>M</td>\n",
       "    </tr>\n",
       "    <tr>\n",
       "      <th>1</th>\n",
       "      <td>M</td>\n",
       "      <td>KW</td>\n",
       "      <td>KuwaIT</td>\n",
       "      <td>lowerlevel</td>\n",
       "      <td>G-04</td>\n",
       "      <td>A</td>\n",
       "      <td>IT</td>\n",
       "      <td>F</td>\n",
       "      <td>Father</td>\n",
       "      <td>20</td>\n",
       "      <td>20</td>\n",
       "      <td>3</td>\n",
       "      <td>25</td>\n",
       "      <td>Yes</td>\n",
       "      <td>Good</td>\n",
       "      <td>Under-7</td>\n",
       "      <td>M</td>\n",
       "    </tr>\n",
       "    <tr>\n",
       "      <th>2</th>\n",
       "      <td>M</td>\n",
       "      <td>KW</td>\n",
       "      <td>KuwaIT</td>\n",
       "      <td>lowerlevel</td>\n",
       "      <td>G-04</td>\n",
       "      <td>A</td>\n",
       "      <td>IT</td>\n",
       "      <td>F</td>\n",
       "      <td>Father</td>\n",
       "      <td>10</td>\n",
       "      <td>7</td>\n",
       "      <td>0</td>\n",
       "      <td>30</td>\n",
       "      <td>No</td>\n",
       "      <td>Bad</td>\n",
       "      <td>Above-7</td>\n",
       "      <td>L</td>\n",
       "    </tr>\n",
       "    <tr>\n",
       "      <th>3</th>\n",
       "      <td>M</td>\n",
       "      <td>KW</td>\n",
       "      <td>KuwaIT</td>\n",
       "      <td>lowerlevel</td>\n",
       "      <td>G-04</td>\n",
       "      <td>A</td>\n",
       "      <td>IT</td>\n",
       "      <td>F</td>\n",
       "      <td>Father</td>\n",
       "      <td>30</td>\n",
       "      <td>25</td>\n",
       "      <td>5</td>\n",
       "      <td>35</td>\n",
       "      <td>No</td>\n",
       "      <td>Bad</td>\n",
       "      <td>Above-7</td>\n",
       "      <td>L</td>\n",
       "    </tr>\n",
       "    <tr>\n",
       "      <th>4</th>\n",
       "      <td>M</td>\n",
       "      <td>KW</td>\n",
       "      <td>KuwaIT</td>\n",
       "      <td>lowerlevel</td>\n",
       "      <td>G-04</td>\n",
       "      <td>A</td>\n",
       "      <td>IT</td>\n",
       "      <td>F</td>\n",
       "      <td>Father</td>\n",
       "      <td>40</td>\n",
       "      <td>50</td>\n",
       "      <td>12</td>\n",
       "      <td>50</td>\n",
       "      <td>No</td>\n",
       "      <td>Bad</td>\n",
       "      <td>Above-7</td>\n",
       "      <td>M</td>\n",
       "    </tr>\n",
       "  </tbody>\n",
       "</table>\n",
       "</div>"
      ],
      "text/plain": [
       "  gender NationalITy PlaceofBirth     StageID GradeID SectionID Topic  \\\n",
       "0      M          KW       KuwaIT  lowerlevel    G-04         A    IT   \n",
       "1      M          KW       KuwaIT  lowerlevel    G-04         A    IT   \n",
       "2      M          KW       KuwaIT  lowerlevel    G-04         A    IT   \n",
       "3      M          KW       KuwaIT  lowerlevel    G-04         A    IT   \n",
       "4      M          KW       KuwaIT  lowerlevel    G-04         A    IT   \n",
       "\n",
       "  Semester Relation  raisedhands  VisITedResources  AnnouncementsView  \\\n",
       "0        F   Father           15                16                  2   \n",
       "1        F   Father           20                20                  3   \n",
       "2        F   Father           10                 7                  0   \n",
       "3        F   Father           30                25                  5   \n",
       "4        F   Father           40                50                 12   \n",
       "\n",
       "   Discussion ParentAnsweringSurvey ParentschoolSatisfaction  \\\n",
       "0          20                   Yes                     Good   \n",
       "1          25                   Yes                     Good   \n",
       "2          30                    No                      Bad   \n",
       "3          35                    No                      Bad   \n",
       "4          50                    No                      Bad   \n",
       "\n",
       "  StudentAbsenceDays Class  \n",
       "0            Under-7     M  \n",
       "1            Under-7     M  \n",
       "2            Above-7     L  \n",
       "3            Above-7     L  \n",
       "4            Above-7     M  "
      ]
     },
     "execution_count": 4,
     "metadata": {},
     "output_type": "execute_result"
    }
   ],
   "source": [
    "import pandas as pd\n",
    "students= pd.read_csv (r\"C:\\Users\\Clint Dmello\\Desktop\\michelle\\logistics regreesion\\xAPI-Edu-Data.csv\")\n",
    "students.head()"
   ]
  },
  {
   "cell_type": "markdown",
   "metadata": {},
   "source": [
    "# 2. Data Pre-Processing \n",
    "\n",
    "1. Data Type and conversion\n",
    "2. Identifying & Treatment Missing Value "
   ]
  },
  {
   "cell_type": "markdown",
   "metadata": {},
   "source": [
    "#### 2.1. Data Type and conversion"
   ]
  },
  {
   "cell_type": "code",
   "execution_count": 5,
   "metadata": {},
   "outputs": [
    {
     "name": "stdout",
     "output_type": "stream",
     "text": [
      "<class 'pandas.core.frame.DataFrame'>\n",
      "RangeIndex: 480 entries, 0 to 479\n",
      "Data columns (total 17 columns):\n",
      " #   Column                    Non-Null Count  Dtype \n",
      "---  ------                    --------------  ----- \n",
      " 0   gender                    480 non-null    object\n",
      " 1   NationalITy               480 non-null    object\n",
      " 2   PlaceofBirth              480 non-null    object\n",
      " 3   StageID                   480 non-null    object\n",
      " 4   GradeID                   480 non-null    object\n",
      " 5   SectionID                 480 non-null    object\n",
      " 6   Topic                     480 non-null    object\n",
      " 7   Semester                  480 non-null    object\n",
      " 8   Relation                  480 non-null    object\n",
      " 9   raisedhands               480 non-null    int64 \n",
      " 10  VisITedResources          480 non-null    int64 \n",
      " 11  AnnouncementsView         480 non-null    int64 \n",
      " 12  Discussion                480 non-null    int64 \n",
      " 13  ParentAnsweringSurvey     480 non-null    object\n",
      " 14  ParentschoolSatisfaction  480 non-null    object\n",
      " 15  StudentAbsenceDays        480 non-null    object\n",
      " 16  Class                     480 non-null    object\n",
      "dtypes: int64(4), object(13)\n",
      "memory usage: 63.9+ KB\n"
     ]
    }
   ],
   "source": [
    "students.info()"
   ]
  },
  {
   "cell_type": "markdown",
   "metadata": {},
   "source": [
    "#### 2.2. Identifying & Treatment Missing Value"
   ]
  },
  {
   "cell_type": "code",
   "execution_count": 6,
   "metadata": {},
   "outputs": [
    {
     "data": {
      "text/plain": [
       "gender                      0\n",
       "NationalITy                 0\n",
       "PlaceofBirth                0\n",
       "StageID                     0\n",
       "GradeID                     0\n",
       "SectionID                   0\n",
       "Topic                       0\n",
       "Semester                    0\n",
       "Relation                    0\n",
       "raisedhands                 0\n",
       "VisITedResources            0\n",
       "AnnouncementsView           0\n",
       "Discussion                  0\n",
       "ParentAnsweringSurvey       0\n",
       "ParentschoolSatisfaction    0\n",
       "StudentAbsenceDays          0\n",
       "Class                       0\n",
       "dtype: int64"
      ]
     },
     "execution_count": 6,
     "metadata": {},
     "output_type": "execute_result"
    }
   ],
   "source": [
    "# count the number of NaN values in each column\n",
    "students.isnull().sum()"
   ]
  },
  {
   "cell_type": "code",
   "execution_count": 6,
   "metadata": {},
   "outputs": [
    {
     "data": {
      "text/html": [
       "<div>\n",
       "<style scoped>\n",
       "    .dataframe tbody tr th:only-of-type {\n",
       "        vertical-align: middle;\n",
       "    }\n",
       "\n",
       "    .dataframe tbody tr th {\n",
       "        vertical-align: top;\n",
       "    }\n",
       "\n",
       "    .dataframe thead th {\n",
       "        text-align: right;\n",
       "    }\n",
       "</style>\n",
       "<table border=\"1\" class=\"dataframe\">\n",
       "  <thead>\n",
       "    <tr style=\"text-align: right;\">\n",
       "      <th></th>\n",
       "      <th>Loan_ID</th>\n",
       "      <th>Age</th>\n",
       "      <th>Gender</th>\n",
       "      <th>Married</th>\n",
       "      <th>Dependents</th>\n",
       "      <th>Education</th>\n",
       "      <th>Self_Employed</th>\n",
       "      <th>ApplicantIncome</th>\n",
       "      <th>LoanAmount</th>\n",
       "      <th>Previous_Loan_Taken</th>\n",
       "      <th>Cibil_Score</th>\n",
       "      <th>Property_Area</th>\n",
       "      <th>Customer_Bandwith</th>\n",
       "      <th>Tenure</th>\n",
       "      <th>Loan_Status</th>\n",
       "    </tr>\n",
       "  </thead>\n",
       "  <tbody>\n",
       "    <tr>\n",
       "      <th>0</th>\n",
       "      <td>LP001002</td>\n",
       "      <td>43</td>\n",
       "      <td>Male</td>\n",
       "      <td>No</td>\n",
       "      <td>3</td>\n",
       "      <td>Graduate</td>\n",
       "      <td>No</td>\n",
       "      <td>54005</td>\n",
       "      <td>334113</td>\n",
       "      <td>Yes</td>\n",
       "      <td>668</td>\n",
       "      <td>Urban</td>\n",
       "      <td>Good</td>\n",
       "      <td>43</td>\n",
       "      <td>No</td>\n",
       "    </tr>\n",
       "    <tr>\n",
       "      <th>1</th>\n",
       "      <td>LP001003</td>\n",
       "      <td>57</td>\n",
       "      <td>Male</td>\n",
       "      <td>Yes</td>\n",
       "      <td>2</td>\n",
       "      <td>Graduate</td>\n",
       "      <td>No</td>\n",
       "      <td>28817</td>\n",
       "      <td>736026</td>\n",
       "      <td>Yes</td>\n",
       "      <td>684</td>\n",
       "      <td>Rural</td>\n",
       "      <td>Good</td>\n",
       "      <td>13</td>\n",
       "      <td>Yes</td>\n",
       "    </tr>\n",
       "    <tr>\n",
       "      <th>2</th>\n",
       "      <td>LP001005</td>\n",
       "      <td>25</td>\n",
       "      <td>Male</td>\n",
       "      <td>Yes</td>\n",
       "      <td>3</td>\n",
       "      <td>Graduate</td>\n",
       "      <td>Yes</td>\n",
       "      <td>99939</td>\n",
       "      <td>712432</td>\n",
       "      <td>Yes</td>\n",
       "      <td>788</td>\n",
       "      <td>Urban</td>\n",
       "      <td>Good</td>\n",
       "      <td>10</td>\n",
       "      <td>No</td>\n",
       "    </tr>\n",
       "    <tr>\n",
       "      <th>3</th>\n",
       "      <td>LP001006</td>\n",
       "      <td>44</td>\n",
       "      <td>Male</td>\n",
       "      <td>Yes</td>\n",
       "      <td>1</td>\n",
       "      <td>Not Graduate</td>\n",
       "      <td>No</td>\n",
       "      <td>38470</td>\n",
       "      <td>267161</td>\n",
       "      <td>Yes</td>\n",
       "      <td>888</td>\n",
       "      <td>Urban</td>\n",
       "      <td>Good</td>\n",
       "      <td>9</td>\n",
       "      <td>No</td>\n",
       "    </tr>\n",
       "    <tr>\n",
       "      <th>4</th>\n",
       "      <td>LP001008</td>\n",
       "      <td>58</td>\n",
       "      <td>Male</td>\n",
       "      <td>No</td>\n",
       "      <td>1</td>\n",
       "      <td>Graduate</td>\n",
       "      <td>No</td>\n",
       "      <td>28991</td>\n",
       "      <td>402474</td>\n",
       "      <td>Yes</td>\n",
       "      <td>703</td>\n",
       "      <td>Urban</td>\n",
       "      <td>Good</td>\n",
       "      <td>11</td>\n",
       "      <td>No</td>\n",
       "    </tr>\n",
       "  </tbody>\n",
       "</table>\n",
       "</div>"
      ],
      "text/plain": [
       "    Loan_ID  Age Gender Married  Dependents     Education Self_Employed  \\\n",
       "0  LP001002   43   Male      No           3      Graduate            No   \n",
       "1  LP001003   57   Male     Yes           2      Graduate            No   \n",
       "2  LP001005   25   Male     Yes           3      Graduate           Yes   \n",
       "3  LP001006   44   Male     Yes           1  Not Graduate            No   \n",
       "4  LP001008   58   Male      No           1      Graduate            No   \n",
       "\n",
       "   ApplicantIncome  LoanAmount Previous_Loan_Taken  Cibil_Score Property_Area  \\\n",
       "0            54005      334113                 Yes          668         Urban   \n",
       "1            28817      736026                 Yes          684         Rural   \n",
       "2            99939      712432                 Yes          788         Urban   \n",
       "3            38470      267161                 Yes          888         Urban   \n",
       "4            28991      402474                 Yes          703         Urban   \n",
       "\n",
       "  Customer_Bandwith  Tenure Loan_Status  \n",
       "0              Good      43          No  \n",
       "1              Good      13         Yes  \n",
       "2              Good      10          No  \n",
       "3              Good       9          No  \n",
       "4              Good      11          No  "
      ]
     },
     "execution_count": 6,
     "metadata": {},
     "output_type": "execute_result"
    }
   ],
   "source": [
    "Bank.head()"
   ]
  },
  {
   "cell_type": "markdown",
   "metadata": {},
   "source": [
    "#### Replacing Missing value by Mode"
   ]
  },
  {
   "cell_type": "code",
   "execution_count": 7,
   "metadata": {},
   "outputs": [
    {
     "data": {
      "text/plain": [
       "Yes    631\n",
       "No     347\n",
       "NaN      3\n",
       "Name: Married, dtype: int64"
      ]
     },
     "execution_count": 7,
     "metadata": {},
     "output_type": "execute_result"
    }
   ],
   "source": [
    "Bank.Married.value_counts(dropna=False)"
   ]
  },
  {
   "cell_type": "code",
   "execution_count": 8,
   "metadata": {},
   "outputs": [],
   "source": [
    "for column in ['Married','Gender','Self_Employed']:\n",
    "    Bank[column].fillna(Bank[column].mode()[0], inplace=True)"
   ]
  },
  {
   "cell_type": "code",
   "execution_count": 9,
   "metadata": {},
   "outputs": [
    {
     "data": {
      "text/plain": [
       "Yes    634\n",
       "No     347\n",
       "Name: Married, dtype: int64"
      ]
     },
     "execution_count": 9,
     "metadata": {},
     "output_type": "execute_result"
    }
   ],
   "source": [
    "Bank.Married.value_counts(dropna=False)"
   ]
  },
  {
   "cell_type": "code",
   "execution_count": 10,
   "metadata": {
    "scrolled": true
   },
   "outputs": [
    {
     "name": "stdout",
     "output_type": "stream",
     "text": [
      "Loan_ID                0\n",
      "Age                    0\n",
      "Gender                 0\n",
      "Married                0\n",
      "Dependents             0\n",
      "Education              0\n",
      "Self_Employed          0\n",
      "ApplicantIncome        0\n",
      "LoanAmount             0\n",
      "Previous_Loan_Taken    0\n",
      "Cibil_Score            0\n",
      "Property_Area          0\n",
      "Customer_Bandwith      0\n",
      "Tenure                 0\n",
      "Loan_Status            0\n",
      "dtype: int64\n"
     ]
    }
   ],
   "source": [
    "# count the number of NaN values in each column\n",
    "print(Bank.isnull().sum())"
   ]
  },
  {
   "cell_type": "code",
   "execution_count": 7,
   "metadata": {
    "scrolled": true
   },
   "outputs": [
    {
     "data": {
      "text/html": [
       "<div>\n",
       "<style scoped>\n",
       "    .dataframe tbody tr th:only-of-type {\n",
       "        vertical-align: middle;\n",
       "    }\n",
       "\n",
       "    .dataframe tbody tr th {\n",
       "        vertical-align: top;\n",
       "    }\n",
       "\n",
       "    .dataframe thead th {\n",
       "        text-align: right;\n",
       "    }\n",
       "</style>\n",
       "<table border=\"1\" class=\"dataframe\">\n",
       "  <thead>\n",
       "    <tr style=\"text-align: right;\">\n",
       "      <th></th>\n",
       "      <th>gender</th>\n",
       "      <th>NationalITy</th>\n",
       "      <th>PlaceofBirth</th>\n",
       "      <th>StageID</th>\n",
       "      <th>GradeID</th>\n",
       "      <th>SectionID</th>\n",
       "      <th>Topic</th>\n",
       "      <th>Semester</th>\n",
       "      <th>Relation</th>\n",
       "      <th>raisedhands</th>\n",
       "      <th>VisITedResources</th>\n",
       "      <th>AnnouncementsView</th>\n",
       "      <th>Discussion</th>\n",
       "      <th>ParentAnsweringSurvey</th>\n",
       "      <th>ParentschoolSatisfaction</th>\n",
       "      <th>StudentAbsenceDays</th>\n",
       "      <th>Class</th>\n",
       "    </tr>\n",
       "  </thead>\n",
       "  <tbody>\n",
       "    <tr>\n",
       "      <th>0</th>\n",
       "      <td>M</td>\n",
       "      <td>KW</td>\n",
       "      <td>KuwaIT</td>\n",
       "      <td>lowerlevel</td>\n",
       "      <td>G-04</td>\n",
       "      <td>A</td>\n",
       "      <td>IT</td>\n",
       "      <td>F</td>\n",
       "      <td>Father</td>\n",
       "      <td>15</td>\n",
       "      <td>16</td>\n",
       "      <td>2</td>\n",
       "      <td>20</td>\n",
       "      <td>Yes</td>\n",
       "      <td>Good</td>\n",
       "      <td>Under-7</td>\n",
       "      <td>M</td>\n",
       "    </tr>\n",
       "    <tr>\n",
       "      <th>1</th>\n",
       "      <td>M</td>\n",
       "      <td>KW</td>\n",
       "      <td>KuwaIT</td>\n",
       "      <td>lowerlevel</td>\n",
       "      <td>G-04</td>\n",
       "      <td>A</td>\n",
       "      <td>IT</td>\n",
       "      <td>F</td>\n",
       "      <td>Father</td>\n",
       "      <td>20</td>\n",
       "      <td>20</td>\n",
       "      <td>3</td>\n",
       "      <td>25</td>\n",
       "      <td>Yes</td>\n",
       "      <td>Good</td>\n",
       "      <td>Under-7</td>\n",
       "      <td>M</td>\n",
       "    </tr>\n",
       "    <tr>\n",
       "      <th>2</th>\n",
       "      <td>M</td>\n",
       "      <td>KW</td>\n",
       "      <td>KuwaIT</td>\n",
       "      <td>lowerlevel</td>\n",
       "      <td>G-04</td>\n",
       "      <td>A</td>\n",
       "      <td>IT</td>\n",
       "      <td>F</td>\n",
       "      <td>Father</td>\n",
       "      <td>10</td>\n",
       "      <td>7</td>\n",
       "      <td>0</td>\n",
       "      <td>30</td>\n",
       "      <td>No</td>\n",
       "      <td>Bad</td>\n",
       "      <td>Above-7</td>\n",
       "      <td>L</td>\n",
       "    </tr>\n",
       "    <tr>\n",
       "      <th>3</th>\n",
       "      <td>M</td>\n",
       "      <td>KW</td>\n",
       "      <td>KuwaIT</td>\n",
       "      <td>lowerlevel</td>\n",
       "      <td>G-04</td>\n",
       "      <td>A</td>\n",
       "      <td>IT</td>\n",
       "      <td>F</td>\n",
       "      <td>Father</td>\n",
       "      <td>30</td>\n",
       "      <td>25</td>\n",
       "      <td>5</td>\n",
       "      <td>35</td>\n",
       "      <td>No</td>\n",
       "      <td>Bad</td>\n",
       "      <td>Above-7</td>\n",
       "      <td>L</td>\n",
       "    </tr>\n",
       "    <tr>\n",
       "      <th>4</th>\n",
       "      <td>M</td>\n",
       "      <td>KW</td>\n",
       "      <td>KuwaIT</td>\n",
       "      <td>lowerlevel</td>\n",
       "      <td>G-04</td>\n",
       "      <td>A</td>\n",
       "      <td>IT</td>\n",
       "      <td>F</td>\n",
       "      <td>Father</td>\n",
       "      <td>40</td>\n",
       "      <td>50</td>\n",
       "      <td>12</td>\n",
       "      <td>50</td>\n",
       "      <td>No</td>\n",
       "      <td>Bad</td>\n",
       "      <td>Above-7</td>\n",
       "      <td>M</td>\n",
       "    </tr>\n",
       "  </tbody>\n",
       "</table>\n",
       "</div>"
      ],
      "text/plain": [
       "  gender NationalITy PlaceofBirth     StageID GradeID SectionID Topic  \\\n",
       "0      M          KW       KuwaIT  lowerlevel    G-04         A    IT   \n",
       "1      M          KW       KuwaIT  lowerlevel    G-04         A    IT   \n",
       "2      M          KW       KuwaIT  lowerlevel    G-04         A    IT   \n",
       "3      M          KW       KuwaIT  lowerlevel    G-04         A    IT   \n",
       "4      M          KW       KuwaIT  lowerlevel    G-04         A    IT   \n",
       "\n",
       "  Semester Relation  raisedhands  VisITedResources  AnnouncementsView  \\\n",
       "0        F   Father           15                16                  2   \n",
       "1        F   Father           20                20                  3   \n",
       "2        F   Father           10                 7                  0   \n",
       "3        F   Father           30                25                  5   \n",
       "4        F   Father           40                50                 12   \n",
       "\n",
       "   Discussion ParentAnsweringSurvey ParentschoolSatisfaction  \\\n",
       "0          20                   Yes                     Good   \n",
       "1          25                   Yes                     Good   \n",
       "2          30                    No                      Bad   \n",
       "3          35                    No                      Bad   \n",
       "4          50                    No                      Bad   \n",
       "\n",
       "  StudentAbsenceDays Class  \n",
       "0            Under-7     M  \n",
       "1            Under-7     M  \n",
       "2            Above-7     L  \n",
       "3            Above-7     L  \n",
       "4            Above-7     M  "
      ]
     },
     "execution_count": 7,
     "metadata": {},
     "output_type": "execute_result"
    }
   ],
   "source": [
    "students.head()"
   ]
  },
  {
   "cell_type": "code",
   "execution_count": 13,
   "metadata": {
    "scrolled": true
   },
   "outputs": [
    {
     "data": {
      "text/plain": [
       "<AxesSubplot:>"
      ]
     },
     "execution_count": 13,
     "metadata": {},
     "output_type": "execute_result"
    },
    {
     "data": {
      "image/png": "[encoded data removed]",
      "text/plain": [
       "<Figure size 640x480 with 1 Axes>"
      ]
     },
     "metadata": {},
     "output_type": "display_data"
    }
   ],
   "source": [
    "sns.boxplot(data=students.raisedhands)"
   ]
  },
  {
   "cell_type": "code",
   "execution_count": 14,
   "metadata": {},
   "outputs": [
    {
     "data": {
      "text/plain": [
       "<AxesSubplot:>"
      ]
     },
     "execution_count": 14,
     "metadata": {},
     "output_type": "execute_result"
    },
    {
     "data": {
      "image/png": "[encoded data removed]",
      "text/plain": [
       "<Figure size 640x480 with 1 Axes>"
      ]
     },
     "metadata": {},
     "output_type": "display_data"
    }
   ],
   "source": [
    "sns.boxplot(data=students.VisITedResources)"
   ]
  },
  {
   "cell_type": "code",
   "execution_count": 15,
   "metadata": {
    "scrolled": true
   },
   "outputs": [
    {
     "data": {
      "text/plain": [
       "<AxesSubplot:>"
      ]
     },
     "execution_count": 15,
     "metadata": {},
     "output_type": "execute_result"
    },
    {
     "data": {
      "image/png": "[encoded data removed]",
      "text/plain": [
       "<Figure size 640x480 with 1 Axes>"
      ]
     },
     "metadata": {},
     "output_type": "display_data"
    }
   ],
   "source": [
    "sns.boxplot(data=students.AnnouncementsView)"
   ]
  },
  {
   "cell_type": "code",
   "execution_count": 16,
   "metadata": {
    "scrolled": true
   },
   "outputs": [
    {
     "data": {
      "text/plain": [
       "<AxesSubplot:>"
      ]
     },
     "execution_count": 16,
     "metadata": {},
     "output_type": "execute_result"
    },
    {
     "data": {
      "image/png": "[encoded data removed]",
      "text/plain": [
       "<Figure size 640x480 with 1 Axes>"
      ]
     },
     "metadata": {},
     "output_type": "display_data"
    }
   ],
   "source": [
    "sns.boxplot(data=students.Discussion)"
   ]
  },
  {
   "cell_type": "code",
   "execution_count": 15,
   "metadata": {},
   "outputs": [
    {
     "data": {
      "text/plain": [
       "Tenure_gt_36    267\n",
       "Tenure_13_24    266\n",
       "Tenure_25-36    259\n",
       "Tenure_7_12     131\n",
       "Tenure_0_6       58\n",
       "Name: Tenure_group, dtype: int64"
      ]
     },
     "execution_count": 15,
     "metadata": {},
     "output_type": "execute_result"
    }
   ],
   "source": [
    "Bank.Tenure_group.value_counts(dropna=False)"
   ]
  },
  {
   "cell_type": "code",
   "execution_count": 16,
   "metadata": {},
   "outputs": [
    {
     "data": {
      "text/plain": [
       "80.73394495412845"
      ]
     },
     "execution_count": 16,
     "metadata": {},
     "output_type": "execute_result"
    }
   ],
   "source": [
    "((267+266+259)/981)*100"
   ]
  },
  {
   "cell_type": "code",
   "execution_count": 17,
   "metadata": {},
   "outputs": [
    {
     "data": {
      "text/plain": [
       "19.26605504587156"
      ]
     },
     "execution_count": 17,
     "metadata": {},
     "output_type": "execute_result"
    }
   ],
   "source": [
    "((58+131)/981)*100"
   ]
  },
  {
   "cell_type": "markdown",
   "metadata": {},
   "source": [
    "* 80% of customer required loan tenure for more than a Year"
   ]
  },
  {
   "cell_type": "markdown",
   "metadata": {},
   "source": [
    "# Data Visualization"
   ]
  },
  {
   "cell_type": "markdown",
   "metadata": {},
   "source": [
    "#### Bad Rate Analysis "
   ]
  },
  {
   "cell_type": "code",
   "execution_count": 17,
   "metadata": {
    "scrolled": false
   },
   "outputs": [
    {
     "data": {
      "text/plain": [
       "Yes    270\n",
       "No     210\n",
       "Name: ParentAnsweringSurvey, dtype: int64"
      ]
     },
     "execution_count": 17,
     "metadata": {},
     "output_type": "execute_result"
    }
   ],
   "source": [
    "students.ParentAnsweringSurvey.value_counts()"
   ]
  },
  {
   "cell_type": "code",
   "execution_count": 18,
   "metadata": {
    "scrolled": true
   },
   "outputs": [
    {
     "data": {
      "text/plain": [
       "43.75"
      ]
     },
     "execution_count": 18,
     "metadata": {},
     "output_type": "execute_result"
    }
   ],
   "source": [
    "(210/480)*100 # 43.75% is bad rate in data "
   ]
  },
  {
   "cell_type": "code",
   "execution_count": 19,
   "metadata": {},
   "outputs": [
    {
     "data": {
      "application/vnd.plotly.v1+json": {
       "config": {
        "plotlyServerURL": "https://plot.ly"
       },
       "data": [
        {
         "customdata": [
          [
           "Yes"
          ],
          [
           "Yes"
          ],
          [
           "No"
          ],
          [
           "No"
          ],
          [
           "No"
          ],
          [
           "Yes"
          ],
          [
           "No"
          ],
          [
           "Yes"
          ],
          [
           "Yes"
          ],
          [
           "Yes"
          ],
          [
           "Yes"
          ],
          [
           "Yes"
          ],
          [
           "No"
          ],
          [
           "No"
          ],
          [
           "No"
          ],
          [
           "Yes"
          ],
          [
           "No"
          ],
          [
           "No"
          ],
          [
           "Yes"
          ],
          [
           "Yes"
          ],
          [
           "No"
          ],
          [
           "No"
          ],
          [
           "No"
          ],
          [
           "No"
          ],
          [
           "Yes"
          ],
          [
           "Yes"
          ],
          [
           "Yes"
          ],
          [
           "No"
          ],
          [
           "Yes"
          ],
          [
           "No"
          ],
          [
           "Yes"
          ],
          [
           "Yes"
          ],
          [
           "Yes"
          ],
          [
           "No"
          ],
          [
           "No"
          ],
          [
           "No"
          ],
          [
           "Yes"
          ],
          [
           "Yes"
          ],
          [
           "No"
          ],
          [
           "Yes"
          ],
          [
           "No"
          ],
          [
           "No"
          ],
          [
           "Yes"
          ],
          [
           "Yes"
          ],
          [
           "No"
          ],
          [
           "No"
          ],
          [
           "No"
          ],
          [
           "Yes"
          ],
          [
           "Yes"
          ],
          [
           "Yes"
          ],
          [
           "No"
          ],
          [
           "No"
          ],
          [
           "No"
          ],
          [
           "Yes"
          ],
          [
           "No"
          ],
          [
           "Yes"
          ],
          [
           "Yes"
          ],
          [
           "Yes"
          ],
          [
           "Yes"
          ],
          [
           "No"
          ],
          [
           "No"
          ],
          [
           "Yes"
          ],
          [
           "Yes"
          ],
          [
           "Yes"
          ],
          [
           "No"
          ],
          [
           "No"
          ],
          [
           "No"
          ],
          [
           "Yes"
          ],
          [
           "Yes"
          ],
          [
           "No"
          ],
          [
           "Yes"
          ],
          [
           "Yes"
          ],
          [
           "No"
          ],
          [
           "Yes"
          ],
          [
           "No"
          ],
          [
           "Yes"
          ],
          [
           "Yes"
          ],
          [
           "Yes"
          ],
          [
           "No"
          ],
          [
           "Yes"
          ],
          [
           "Yes"
          ],
          [
           "No"
          ],
          [
           "Yes"
          ],
          [
           "No"
          ],
          [
           "Yes"
          ],
          [
           "No"
          ],
          [
           "Yes"
          ],
          [
           "No"
          ],
          [
           "No"
          ],
          [
           "Yes"
          ],
          [
           "Yes"
          ],
          [
           "Yes"
          ],
          [
           "Yes"
          ],
          [
           "Yes"
          ],
          [
           "No"
          ],
          [
           "No"
          ],
          [
           "Yes"
          ],
          [
           "No"
          ],
          [
           "No"
          ],
          [
           "Yes"
          ],
          [
           "Yes"
          ],
          [
           "Yes"
          ],
          [
           "No"
          ],
          [
           "No"
          ],
          [
           "Yes"
          ],
          [
           "Yes"
          ],
          [
           "Yes"
          ],
          [
           "Yes"
          ],
          [
           "No"
          ],
          [
           "No"
          ],
          [
           "Yes"
          ],
          [
           "No"
          ],
          [
           "No"
          ],
          [
           "No"
          ],
          [
           "No"
          ],
          [
           "Yes"
          ],
          [
           "Yes"
          ],
          [
           "No"
          ],
          [
           "Yes"
          ],
          [
           "No"
          ],
          [
           "Yes"
          ],
          [
           "No"
          ],
          [
           "Yes"
          ],
          [
           "Yes"
          ],
          [
           "Yes"
          ],
          [
           "No"
          ],
          [
           "Yes"
          ],
          [
           "No"
          ],
          [
           "No"
          ],
          [
           "Yes"
          ],
          [
           "No"
          ],
          [
           "Yes"
          ],
          [
           "No"
          ],
          [
           "Yes"
          ],
          [
           "Yes"
          ],
          [
           "Yes"
          ],
          [
           "Yes"
          ],
          [
           "No"
          ],
          [
           "No"
          ],
          [
           "No"
          ],
          [
           "Yes"
          ],
          [
           "No"
          ],
          [
           "Yes"
          ],
          [
           "Yes"
          ],
          [
           "No"
          ],
          [
           "Yes"
          ],
          [
           "Yes"
          ],
          [
           "No"
          ],
          [
           "No"
          ],
          [
           "Yes"
          ],
          [
           "Yes"
          ],
          [
           "Yes"
          ],
          [
           "Yes"
          ],
          [
           "No"
          ],
          [
           "No"
          ],
          [
           "Yes"
          ],
          [
           "Yes"
          ],
          [
           "No"
          ],
          [
           "No"
          ],
          [
           "Yes"
          ],
          [
           "Yes"
          ],
          [
           "No"
          ],
          [
           "No"
          ],
          [
           "No"
          ],
          [
           "Yes"
          ],
          [
           "Yes"
          ],
          [
           "No"
          ],
          [
           "Yes"
          ],
          [
           "Yes"
          ],
          [
           "No"
          ],
          [
           "Yes"
          ],
          [
           "No"
          ],
          [
           "No"
          ],
          [
           "Yes"
          ],
          [
           "Yes"
          ],
          [
           "No"
          ],
          [
           "Yes"
          ],
          [
           "Yes"
          ],
          [
           "Yes"
          ],
          [
           "No"
          ],
          [
           "Yes"
          ],
          [
           "No"
          ],
          [
           "Yes"
          ],
          [
           "No"
          ],
          [
           "No"
          ],
          [
           "Yes"
          ],
          [
           "Yes"
          ],
          [
           "Yes"
          ],
          [
           "Yes"
          ],
          [
           "No"
          ],
          [
           "No"
          ],
          [
           "Yes"
          ],
          [
           "Yes"
          ],
          [
           "No"
          ],
          [
           "No"
          ],
          [
           "Yes"
          ],
          [
           "Yes"
          ],
          [
           "No"
          ],
          [
           "No"
          ],
          [
           "No"
          ],
          [
           "Yes"
          ],
          [
           "Yes"
          ],
          [
           "Yes"
          ],
          [
           "Yes"
          ],
          [
           "No"
          ],
          [
           "Yes"
          ],
          [
           "Yes"
          ],
          [
           "Yes"
          ],
          [
           "No"
          ],
          [
           "No"
          ],
          [
           "Yes"
          ],
          [
           "No"
          ],
          [
           "Yes"
          ],
          [
           "No"
          ],
          [
           "No"
          ],
          [
           "No"
          ],
          [
           "Yes"
          ],
          [
           "Yes"
          ],
          [
           "Yes"
          ],
          [
           "Yes"
          ],
          [
           "Yes"
          ],
          [
           "No"
          ],
          [
           "Yes"
          ],
          [
           "Yes"
          ],
          [
           "Yes"
          ],
          [
           "No"
          ],
          [
           "No"
          ],
          [
           "Yes"
          ],
          [
           "Yes"
          ],
          [
           "No"
          ],
          [
           "No"
          ],
          [
           "Yes"
          ],
          [
           "Yes"
          ],
          [
           "Yes"
          ],
          [
           "Yes"
          ],
          [
           "No"
          ],
          [
           "No"
          ],
          [
           "Yes"
          ],
          [
           "Yes"
          ],
          [
           "Yes"
          ],
          [
           "Yes"
          ],
          [
           "Yes"
          ],
          [
           "No"
          ],
          [
           "No"
          ],
          [
           "Yes"
          ],
          [
           "Yes"
          ],
          [
           "Yes"
          ],
          [
           "No"
          ],
          [
           "No"
          ],
          [
           "No"
          ],
          [
           "Yes"
          ],
          [
           "No"
          ],
          [
           "No"
          ],
          [
           "No"
          ],
          [
           "Yes"
          ],
          [
           "Yes"
          ],
          [
           "No"
          ],
          [
           "No"
          ],
          [
           "Yes"
          ],
          [
           "No"
          ],
          [
           "No"
          ],
          [
           "Yes"
          ],
          [
           "Yes"
          ],
          [
           "No"
          ],
          [
           "No"
          ],
          [
           "No"
          ],
          [
           "Yes"
          ],
          [
           "Yes"
          ],
          [
           "Yes"
          ],
          [
           "Yes"
          ],
          [
           "No"
          ],
          [
           "No"
          ],
          [
           "No"
          ],
          [
           "No"
          ],
          [
           "Yes"
          ],
          [
           "Yes"
          ],
          [
           "Yes"
          ],
          [
           "Yes"
          ],
          [
           "No"
          ],
          [
           "No"
          ],
          [
           "No"
          ],
          [
           "No"
          ],
          [
           "No"
          ],
          [
           "No"
          ],
          [
           "No"
          ],
          [
           "Yes"
          ],
          [
           "Yes"
          ],
          [
           "Yes"
          ],
          [
           "Yes"
          ],
          [
           "Yes"
          ],
          [
           "No"
          ],
          [
           "No"
          ],
          [
           "Yes"
          ],
          [
           "Yes"
          ],
          [
           "Yes"
          ],
          [
           "Yes"
          ],
          [
           "No"
          ],
          [
           "No"
          ],
          [
           "No"
          ],
          [
           "No"
          ],
          [
           "No"
          ],
          [
           "No"
          ],
          [
           "No"
          ],
          [
           "No"
          ],
          [
           "Yes"
          ],
          [
           "Yes"
          ],
          [
           "Yes"
          ],
          [
           "Yes"
          ],
          [
           "Yes"
          ],
          [
           "Yes"
          ],
          [
           "No"
          ],
          [
           "No"
          ],
          [
           "Yes"
          ],
          [
           "Yes"
          ],
          [
           "Yes"
          ],
          [
           "Yes"
          ],
          [
           "Yes"
          ],
          [
           "Yes"
          ],
          [
           "Yes"
          ],
          [
           "Yes"
          ],
          [
           "Yes"
          ],
          [
           "Yes"
          ],
          [
           "No"
          ],
          [
           "No"
          ],
          [
           "No"
          ],
          [
           "No"
          ],
          [
           "No"
          ],
          [
           "No"
          ],
          [
           "Yes"
          ],
          [
           "Yes"
          ],
          [
           "No"
          ],
          [
           "No"
          ],
          [
           "No"
          ],
          [
           "No"
          ],
          [
           "No"
          ],
          [
           "No"
          ],
          [
           "No"
          ],
          [
           "No"
          ],
          [
           "No"
          ],
          [
           "No"
          ],
          [
           "No"
          ],
          [
           "No"
          ],
          [
           "No"
          ],
          [
           "No"
          ],
          [
           "No"
          ],
          [
           "No"
          ],
          [
           "No"
          ],
          [
           "No"
          ],
          [
           "No"
          ],
          [
           "No"
          ],
          [
           "No"
          ],
          [
           "No"
          ],
          [
           "Yes"
          ],
          [
           "Yes"
          ],
          [
           "Yes"
          ],
          [
           "Yes"
          ],
          [
           "Yes"
          ],
          [
           "Yes"
          ],
          [
           "Yes"
          ],
          [
           "Yes"
          ],
          [
           "Yes"
          ],
          [
           "Yes"
          ],
          [
           "Yes"
          ],
          [
           "Yes"
          ],
          [
           "Yes"
          ],
          [
           "Yes"
          ],
          [
           "Yes"
          ],
          [
           "Yes"
          ],
          [
           "No"
          ],
          [
           "No"
          ],
          [
           "No"
          ],
          [
           "No"
          ],
          [
           "No"
          ],
          [
           "No"
          ],
          [
           "No"
          ],
          [
           "No"
          ],
          [
           "Yes"
          ],
          [
           "Yes"
          ],
          [
           "Yes"
          ],
          [
           "Yes"
          ],
          [
           "No"
          ],
          [
           "No"
          ],
          [
           "Yes"
          ],
          [
           "Yes"
          ],
          [
           "Yes"
          ],
          [
           "Yes"
          ],
          [
           "Yes"
          ],
          [
           "Yes"
          ],
          [
           "No"
          ],
          [
           "No"
          ],
          [
           "Yes"
          ],
          [
           "Yes"
          ],
          [
           "Yes"
          ],
          [
           "Yes"
          ],
          [
           "Yes"
          ],
          [
           "Yes"
          ],
          [
           "Yes"
          ],
          [
           "Yes"
          ],
          [
           "Yes"
          ],
          [
           "Yes"
          ],
          [
           "No"
          ],
          [
           "No"
          ],
          [
           "No"
          ],
          [
           "No"
          ],
          [
           "Yes"
          ],
          [
           "Yes"
          ],
          [
           "No"
          ],
          [
           "No"
          ],
          [
           "No"
          ],
          [
           "No"
          ],
          [
           "No"
          ],
          [
           "No"
          ],
          [
           "Yes"
          ],
          [
           "Yes"
          ],
          [
           "No"
          ],
          [
           "No"
          ],
          [
           "Yes"
          ],
          [
           "Yes"
          ],
          [
           "Yes"
          ],
          [
           "Yes"
          ],
          [
           "Yes"
          ],
          [
           "Yes"
          ],
          [
           "Yes"
          ],
          [
           "Yes"
          ],
          [
           "Yes"
          ],
          [
           "Yes"
          ],
          [
           "Yes"
          ],
          [
           "Yes"
          ],
          [
           "No"
          ],
          [
           "No"
          ],
          [
           "No"
          ],
          [
           "No"
          ],
          [
           "No"
          ],
          [
           "No"
          ],
          [
           "Yes"
          ],
          [
           "Yes"
          ],
          [
           "Yes"
          ],
          [
           "Yes"
          ],
          [
           "Yes"
          ],
          [
           "Yes"
          ],
          [
           "Yes"
          ],
          [
           "Yes"
          ],
          [
           "Yes"
          ],
          [
           "Yes"
          ],
          [
           "Yes"
          ],
          [
           "Yes"
          ],
          [
           "Yes"
          ],
          [
           "Yes"
          ],
          [
           "Yes"
          ],
          [
           "Yes"
          ],
          [
           "Yes"
          ],
          [
           "Yes"
          ],
          [
           "Yes"
          ],
          [
           "Yes"
          ],
          [
           "Yes"
          ],
          [
           "Yes"
          ],
          [
           "Yes"
          ],
          [
           "Yes"
          ],
          [
           "Yes"
          ],
          [
           "Yes"
          ],
          [
           "Yes"
          ],
          [
           "Yes"
          ],
          [
           "Yes"
          ],
          [
           "Yes"
          ],
          [
           "Yes"
          ],
          [
           "Yes"
          ],
          [
           "Yes"
          ],
          [
           "Yes"
          ],
          [
           "No"
          ],
          [
           "No"
          ],
          [
           "Yes"
          ],
          [
           "Yes"
          ],
          [
           "Yes"
          ],
          [
           "Yes"
          ],
          [
           "No"
          ],
          [
           "No"
          ],
          [
           "No"
          ],
          [
           "No"
          ],
          [
           "No"
          ],
          [
           "No"
          ]
         ],
         "domain": {
          "x": [
           0,
           1
          ],
          "y": [
           0,
           1
          ]
         },
         "hovertemplate": "ParentAnsweringSurvey=%{customdata[0]}<extra></extra>",
         "labels": [
          "Yes",
          "Yes",
          "No",
          "No",
          "No",
          "Yes",
          "No",
          "Yes",
          "Yes",
          "Yes",
          "Yes",
          "Yes",
          "No",
          "No",
          "No",
          "Yes",
          "No",
          "No",
          "Yes",
          "Yes",
          "No",
          "No",
          "No",
          "No",
          "Yes",
          "Yes",
          "Yes",
          "No",
          "Yes",
          "No",
          "Yes",
          "Yes",
          "Yes",
          "No",
          "No",
          "No",
          "Yes",
          "Yes",
          "No",
          "Yes",
          "No",
          "No",
          "Yes",
          "Yes",
          "No",
          "No",
          "No",
          "Yes",
          "Yes",
          "Yes",
          "No",
          "No",
          "No",
          "Yes",
          "No",
          "Yes",
          "Yes",
          "Yes",
          "Yes",
          "No",
          "No",
          "Yes",
          "Yes",
          "Yes",
          "No",
          "No",
          "No",
          "Yes",
          "Yes",
          "No",
          "Yes",
          "Yes",
          "No",
          "Yes",
          "No",
          "Yes",
          "Yes",
          "Yes",
          "No",
          "Yes",
          "Yes",
          "No",
          "Yes",
          "No",
          "Yes",
          "No",
          "Yes",
          "No",
          "No",
          "Yes",
          "Yes",
          "Yes",
          "Yes",
          "Yes",
          "No",
          "No",
          "Yes",
          "No",
          "No",
          "Yes",
          "Yes",
          "Yes",
          "No",
          "No",
          "Yes",
          "Yes",
          "Yes",
          "Yes",
          "No",
          "No",
          "Yes",
          "No",
          "No",
          "No",
          "No",
          "Yes",
          "Yes",
          "No",
          "Yes",
          "No",
          "Yes",
          "No",
          "Yes",
          "Yes",
          "Yes",
          "No",
          "Yes",
          "No",
          "No",
          "Yes",
          "No",
          "Yes",
          "No",
          "Yes",
          "Yes",
          "Yes",
          "Yes",
          "No",
          "No",
          "No",
          "Yes",
          "No",
          "Yes",
          "Yes",
          "No",
          "Yes",
          "Yes",
          "No",
          "No",
          "Yes",
          "Yes",
          "Yes",
          "Yes",
          "No",
          "No",
          "Yes",
          "Yes",
          "No",
          "No",
          "Yes",
          "Yes",
          "No",
          "No",
          "No",
          "Yes",
          "Yes",
          "No",
          "Yes",
          "Yes",
          "No",
          "Yes",
          "No",
          "No",
          "Yes",
          "Yes",
          "No",
          "Yes",
          "Yes",
          "Yes",
          "No",
          "Yes",
          "No",
          "Yes",
          "No",
          "No",
          "Yes",
          "Yes",
          "Yes",
          "Yes",
          "No",
          "No",
          "Yes",
          "Yes",
          "No",
          "No",
          "Yes",
          "Yes",
          "No",
          "No",
          "No",
          "Yes",
          "Yes",
          "Yes",
          "Yes",
          "No",
          "Yes",
          "Yes",
          "Yes",
          "No",
          "No",
          "Yes",
          "No",
          "Yes",
          "No",
          "No",
          "No",
          "Yes",
          "Yes",
          "Yes",
          "Yes",
          "Yes",
          "No",
          "Yes",
          "Yes",
          "Yes",
          "No",
          "No",
          "Yes",
          "Yes",
          "No",
          "No",
          "Yes",
          "Yes",
          "Yes",
          "Yes",
          "No",
          "No",
          "Yes",
          "Yes",
          "Yes",
          "Yes",
          "Yes",
          "No",
          "No",
          "Yes",
          "Yes",
          "Yes",
          "No",
          "No",
          "No",
          "Yes",
          "No",
          "No",
          "No",
          "Yes",
          "Yes",
          "No",
          "No",
          "Yes",
          "No",
          "No",
          "Yes",
          "Yes",
          "No",
          "No",
          "No",
          "Yes",
          "Yes",
          "Yes",
          "Yes",
          "No",
          "No",
          "No",
          "No",
          "Yes",
          "Yes",
          "Yes",
          "Yes",
          "No",
          "No",
          "No",
          "No",
          "No",
          "No",
          "No",
          "Yes",
          "Yes",
          "Yes",
          "Yes",
          "Yes",
          "No",
          "No",
          "Yes",
          "Yes",
          "Yes",
          "Yes",
          "No",
          "No",
          "No",
          "No",
          "No",
          "No",
          "No",
          "No",
          "Yes",
          "Yes",
          "Yes",
          "Yes",
          "Yes",
          "Yes",
          "No",
          "No",
          "Yes",
          "Yes",
          "Yes",
          "Yes",
          "Yes",
          "Yes",
          "Yes",
          "Yes",
          "Yes",
          "Yes",
          "No",
          "No",
          "No",
          "No",
          "No",
          "No",
          "Yes",
          "Yes",
          "No",
          "No",
          "No",
          "No",
          "No",
          "No",
          "No",
          "No",
          "No",
          "No",
          "No",
          "No",
          "No",
          "No",
          "No",
          "No",
          "No",
          "No",
          "No",
          "No",
          "No",
          "No",
          "Yes",
          "Yes",
          "Yes",
          "Yes",
          "Yes",
          "Yes",
          "Yes",
          "Yes",
          "Yes",
          "Yes",
          "Yes",
          "Yes",
          "Yes",
          "Yes",
          "Yes",
          "Yes",
          "No",
          "No",
          "No",
          "No",
          "No",
          "No",
          "No",
          "No",
          "Yes",
          "Yes",
          "Yes",
          "Yes",
          "No",
          "No",
          "Yes",
          "Yes",
          "Yes",
          "Yes",
          "Yes",
          "Yes",
          "No",
          "No",
          "Yes",
          "Yes",
          "Yes",
          "Yes",
          "Yes",
          "Yes",
          "Yes",
          "Yes",
          "Yes",
          "Yes",
          "No",
          "No",
          "No",
          "No",
          "Yes",
          "Yes",
          "No",
          "No",
          "No",
          "No",
          "No",
          "No",
          "Yes",
          "Yes",
          "No",
          "No",
          "Yes",
          "Yes",
          "Yes",
          "Yes",
          "Yes",
          "Yes",
          "Yes",
          "Yes",
          "Yes",
          "Yes",
          "Yes",
          "Yes",
          "No",
          "No",
          "No",
          "No",
          "No",
          "No",
          "Yes",
          "Yes",
          "Yes",
          "Yes",
          "Yes",
          "Yes",
          "Yes",
          "Yes",
          "Yes",
          "Yes",
          "Yes",
          "Yes",
          "Yes",
          "Yes",
          "Yes",
          "Yes",
          "Yes",
          "Yes",
          "Yes",
          "Yes",
          "Yes",
          "Yes",
          "Yes",
          "Yes",
          "Yes",
          "Yes",
          "Yes",
          "Yes",
          "Yes",
          "Yes",
          "Yes",
          "Yes",
          "Yes",
          "Yes",
          "No",
          "No",
          "Yes",
          "Yes",
          "Yes",
          "Yes",
          "No",
          "No",
          "No",
          "No",
          "No",
          "No"
         ],
         "legendgroup": "",
         "marker": {
          "colors": [
           "red",
           "red",
           "green",
           "green",
           "green",
           "red",
           "green",
           "red",
           "red",
           "red",
           "red",
           "red",
           "green",
           "green",
           "green",
           "red",
           "green",
           "green",
           "red",
           "red",
           "green",
           "green",
           "green",
           "green",
           "red",
           "red",
           "red",
           "green",
           "red",
           "green",
           "red",
           "red",
           "red",
           "green",
           "green",
           "green",
           "red",
           "red",
           "green",
           "red",
           "green",
           "green",
           "red",
           "red",
           "green",
           "green",
           "green",
           "red",
           "red",
           "red",
           "green",
           "green",
           "green",
           "red",
           "green",
           "red",
           "red",
           "red",
           "red",
           "green",
           "green",
           "red",
           "red",
           "red",
           "green",
           "green",
           "green",
           "red",
           "red",
           "green",
           "red",
           "red",
           "green",
           "red",
           "green",
           "red",
           "red",
           "red",
           "green",
           "red",
           "red",
           "green",
           "red",
           "green",
           "red",
           "green",
           "red",
           "green",
           "green",
           "red",
           "red",
           "red",
           "red",
           "red",
           "green",
           "green",
           "red",
           "green",
           "green",
           "red",
           "red",
           "red",
           "green",
           "green",
           "red",
           "red",
           "red",
           "red",
           "green",
           "green",
           "red",
           "green",
           "green",
           "green",
           "green",
           "red",
           "red",
           "green",
           "red",
           "green",
           "red",
           "green",
           "red",
           "red",
           "red",
           "green",
           "red",
           "green",
           "green",
           "red",
           "green",
           "red",
           "green",
           "red",
           "red",
           "red",
           "red",
           "green",
           "green",
           "green",
           "red",
           "green",
           "red",
           "red",
           "green",
           "red",
           "red",
           "green",
           "green",
           "red",
           "red",
           "red",
           "red",
           "green",
           "green",
           "red",
           "red",
           "green",
           "green",
           "red",
           "red",
           "green",
           "green",
           "green",
           "red",
           "red",
           "green",
           "red",
           "red",
           "green",
           "red",
           "green",
           "green",
           "red",
           "red",
           "green",
           "red",
           "red",
           "red",
           "green",
           "red",
           "green",
           "red",
           "green",
           "green",
           "red",
           "red",
           "red",
           "red",
           "green",
           "green",
           "red",
           "red",
           "green",
           "green",
           "red",
           "red",
           "green",
           "green",
           "green",
           "red",
           "red",
           "red",
           "red",
           "green",
           "red",
           "red",
           "red",
           "green",
           "green",
           "red",
           "green",
           "red",
           "green",
           "green",
           "green",
           "red",
           "red",
           "red",
           "red",
           "red",
           "green",
           "red",
           "red",
           "red",
           "green",
           "green",
           "red",
           "red",
           "green",
           "green",
           "red",
           "red",
           "red",
           "red",
           "green",
           "green",
           "red",
           "red",
           "red",
           "red",
           "red",
           "green",
           "green",
           "red",
           "red",
           "red",
           "green",
           "green",
           "green",
           "red",
           "green",
           "green",
           "green",
           "red",
           "red",
           "green",
           "green",
           "red",
           "green",
           "green",
           "red",
           "red",
           "green",
           "green",
           "green",
           "red",
           "red",
           "red",
           "red",
           "green",
           "green",
           "green",
           "green",
           "red",
           "red",
           "red",
           "red",
           "green",
           "green",
           "green",
           "green",
           "green",
           "green",
           "green",
           "red",
           "red",
           "red",
           "red",
           "red",
           "green",
           "green",
           "red",
           "red",
           "red",
           "red",
           "green",
           "green",
           "green",
           "green",
           "green",
           "green",
           "green",
           "green",
           "red",
           "red",
           "red",
           "red",
           "red",
           "red",
           "green",
           "green",
           "red",
           "red",
           "red",
           "red",
           "red",
           "red",
           "red",
           "red",
           "red",
           "red",
           "green",
           "green",
           "green",
           "green",
           "green",
           "green",
           "red",
           "red",
           "green",
           "green",
           "green",
           "green",
           "green",
           "green",
           "green",
           "green",
           "green",
           "green",
           "green",
           "green",
           "green",
           "green",
           "green",
           "green",
           "green",
           "green",
           "green",
           "green",
           "green",
           "green",
           "red",
           "red",
           "red",
           "red",
           "red",
           "red",
           "red",
           "red",
           "red",
           "red",
           "red",
           "red",
           "red",
           "red",
           "red",
           "red",
           "green",
           "green",
           "green",
           "green",
           "green",
           "green",
           "green",
           "green",
           "red",
           "red",
           "red",
           "red",
           "green",
           "green",
           "red",
           "red",
           "red",
           "red",
           "red",
           "red",
           "green",
           "green",
           "red",
           "red",
           "red",
           "red",
           "red",
           "red",
           "red",
           "red",
           "red",
           "red",
           "green",
           "green",
           "green",
           "green",
           "red",
           "red",
           "green",
           "green",
           "green",
           "green",
           "green",
           "green",
           "red",
           "red",
           "green",
           "green",
           "red",
           "red",
           "red",
           "red",
           "red",
           "red",
           "red",
           "red",
           "red",
           "red",
           "red",
           "red",
           "green",
           "green",
           "green",
           "green",
           "green",
           "green",
           "red",
           "red",
           "red",
           "red",
           "red",
           "red",
           "red",
           "red",
           "red",
           "red",
           "red",
           "red",
           "red",
           "red",
           "red",
           "red",
           "red",
           "red",
           "red",
           "red",
           "red",
           "red",
           "red",
           "red",
           "red",
           "red",
           "red",
           "red",
           "red",
           "red",
           "red",
           "red",
           "red",
           "red",
           "green",
           "green",
           "red",
           "red",
           "red",
           "red",
           "green",
           "green",
           "green",
           "green",
           "green",
           "green"
          ]
         },
         "name": "",
         "showlegend": true,
         "type": "pie"
        }
       ],
       "layout": {
        "legend": {
         "tracegroupgap": 0
        },
        "margin": {
         "t": 60
        },
        "template": {
         "data": {
          "bar": [
           {
            "error_x": {
             "color": "#2a3f5f"
            },
            "error_y": {
             "color": "#2a3f5f"
            },
            "marker": {
             "line": {
              "color": "#E5ECF6",
              "width": 0.5
             },
             "pattern": {
              "fillmode": "overlay",
              "size": 10,
              "solidity": 0.2
             }
            },
            "type": "bar"
           }
          ],
          "barpolar": [
           {
            "marker": {
             "line": {
              "color": "#E5ECF6",
              "width": 0.5
             },
             "pattern": {
              "fillmode": "overlay",
              "size": 10,
              "solidity": 0.2
             }
            },
            "type": "barpolar"
           }
          ],
          "carpet": [
           {
            "aaxis": {
             "endlinecolor": "#2a3f5f",
             "gridcolor": "white",
             "linecolor": "white",
             "minorgridcolor": "white",
             "startlinecolor": "#2a3f5f"
            },
            "baxis": {
             "endlinecolor": "#2a3f5f",
             "gridcolor": "white",
             "linecolor": "white",
             "minorgridcolor": "white",
             "startlinecolor": "#2a3f5f"
            },
            "type": "carpet"
           }
          ],
          "choropleth": [
           {
            "colorbar": {
             "outlinewidth": 0,
             "ticks": ""
            },
            "type": "choropleth"
           }
          ],
          "contour": [
           {
            "colorbar": {
             "outlinewidth": 0,
             "ticks": ""
            },
            "colorscale": [
             [
              0,
              "#0d0887"
             ],
             [
              0.1111111111111111,
              "#46039f"
             ],
             [
              0.2222222222222222,
              "#7201a8"
             ],
             [
              0.3333333333333333,
              "#9c179e"
             ],
             [
              0.4444444444444444,
              "#bd3786"
             ],
             [
              0.5555555555555556,
              "#d8576b"
             ],
             [
              0.6666666666666666,
              "#ed7953"
             ],
             [
              0.7777777777777778,
              "#fb9f3a"
             ],
             [
              0.8888888888888888,
              "#fdca26"
             ],
             [
              1,
              "#f0f921"
             ]
            ],
            "type": "contour"
           }
          ],
          "contourcarpet": [
           {
            "colorbar": {
             "outlinewidth": 0,
             "ticks": ""
            },
            "type": "contourcarpet"
           }
          ],
          "heatmap": [
           {
            "colorbar": {
             "outlinewidth": 0,
             "ticks": ""
            },
            "colorscale": [
             [
              0,
              "#0d0887"
             ],
             [
              0.1111111111111111,
              "#46039f"
             ],
             [
              0.2222222222222222,
              "#7201a8"
             ],
             [
              0.3333333333333333,
              "#9c179e"
             ],
             [
              0.4444444444444444,
              "#bd3786"
             ],
             [
              0.5555555555555556,
              "#d8576b"
             ],
             [
              0.6666666666666666,
              "#ed7953"
             ],
             [
              0.7777777777777778,
              "#fb9f3a"
             ],
             [
              0.8888888888888888,
              "#fdca26"
             ],
             [
              1,
              "#f0f921"
             ]
            ],
            "type": "heatmap"
           }
          ],
          "heatmapgl": [
           {
            "colorbar": {
             "outlinewidth": 0,
             "ticks": ""
            },
            "colorscale": [
             [
              0,
              "#0d0887"
             ],
             [
              0.1111111111111111,
              "#46039f"
             ],
             [
              0.2222222222222222,
              "#7201a8"
             ],
             [
              0.3333333333333333,
              "#9c179e"
             ],
             [
              0.4444444444444444,
              "#bd3786"
             ],
             [
              0.5555555555555556,
              "#d8576b"
             ],
             [
              0.6666666666666666,
              "#ed7953"
             ],
             [
              0.7777777777777778,
              "#fb9f3a"
             ],
             [
              0.8888888888888888,
              "#fdca26"
             ],
             [
              1,
              "#f0f921"
             ]
            ],
            "type": "heatmapgl"
           }
          ],
          "histogram": [
           {
            "marker": {
             "pattern": {
              "fillmode": "overlay",
              "size": 10,
              "solidity": 0.2
             }
            },
            "type": "histogram"
           }
          ],
          "histogram2d": [
           {
            "colorbar": {
             "outlinewidth": 0,
             "ticks": ""
            },
            "colorscale": [
             [
              0,
              "#0d0887"
             ],
             [
              0.1111111111111111,
              "#46039f"
             ],
             [
              0.2222222222222222,
              "#7201a8"
             ],
             [
              0.3333333333333333,
              "#9c179e"
             ],
             [
              0.4444444444444444,
              "#bd3786"
             ],
             [
              0.5555555555555556,
              "#d8576b"
             ],
             [
              0.6666666666666666,
              "#ed7953"
             ],
             [
              0.7777777777777778,
              "#fb9f3a"
             ],
             [
              0.8888888888888888,
              "#fdca26"
             ],
             [
              1,
              "#f0f921"
             ]
            ],
            "type": "histogram2d"
           }
          ],
          "histogram2dcontour": [
           {
            "colorbar": {
             "outlinewidth": 0,
             "ticks": ""
            },
            "colorscale": [
             [
              0,
              "#0d0887"
             ],
             [
              0.1111111111111111,
              "#46039f"
             ],
             [
              0.2222222222222222,
              "#7201a8"
             ],
             [
              0.3333333333333333,
              "#9c179e"
             ],
             [
              0.4444444444444444,
              "#bd3786"
             ],
             [
              0.5555555555555556,
              "#d8576b"
             ],
             [
              0.6666666666666666,
              "#ed7953"
             ],
             [
              0.7777777777777778,
              "#fb9f3a"
             ],
             [
              0.8888888888888888,
              "#fdca26"
             ],
             [
              1,
              "#f0f921"
             ]
            ],
            "type": "histogram2dcontour"
           }
          ],
          "mesh3d": [
           {
            "colorbar": {
             "outlinewidth": 0,
             "ticks": ""
            },
            "type": "mesh3d"
           }
          ],
          "parcoords": [
           {
            "line": {
             "colorbar": {
              "outlinewidth": 0,
              "ticks": ""
             }
            },
            "type": "parcoords"
           }
          ],
          "pie": [
           {
            "automargin": true,
            "type": "pie"
           }
          ],
          "scatter": [
           {
            "fillpattern": {
             "fillmode": "overlay",
             "size": 10,
             "solidity": 0.2
            },
            "type": "scatter"
           }
          ],
          "scatter3d": [
           {
            "line": {
             "colorbar": {
              "outlinewidth": 0,
              "ticks": ""
             }
            },
            "marker": {
             "colorbar": {
              "outlinewidth": 0,
              "ticks": ""
             }
            },
            "type": "scatter3d"
           }
          ],
          "scattercarpet": [
           {
            "marker": {
             "colorbar": {
              "outlinewidth": 0,
              "ticks": ""
             }
            },
            "type": "scattercarpet"
           }
          ],
          "scattergeo": [
           {
            "marker": {
             "colorbar": {
              "outlinewidth": 0,
              "ticks": ""
             }
            },
            "type": "scattergeo"
           }
          ],
          "scattergl": [
           {
            "marker": {
             "colorbar": {
              "outlinewidth": 0,
              "ticks": ""
             }
            },
            "type": "scattergl"
           }
          ],
          "scattermapbox": [
           {
            "marker": {
             "colorbar": {
              "outlinewidth": 0,
              "ticks": ""
             }
            },
            "type": "scattermapbox"
           }
          ],
          "scatterpolar": [
           {
            "marker": {
             "colorbar": {
              "outlinewidth": 0,
              "ticks": ""
             }
            },
            "type": "scatterpolar"
           }
          ],
          "scatterpolargl": [
           {
            "marker": {
             "colorbar": {
              "outlinewidth": 0,
              "ticks": ""
             }
            },
            "type": "scatterpolargl"
           }
          ],
          "scatterternary": [
           {
            "marker": {
             "colorbar": {
              "outlinewidth": 0,
              "ticks": ""
             }
            },
            "type": "scatterternary"
           }
          ],
          "surface": [
           {
            "colorbar": {
             "outlinewidth": 0,
             "ticks": ""
            },
            "colorscale": [
             [
              0,
              "#0d0887"
             ],
             [
              0.1111111111111111,
              "#46039f"
             ],
             [
              0.2222222222222222,
              "#7201a8"
             ],
             [
              0.3333333333333333,
              "#9c179e"
             ],
             [
              0.4444444444444444,
              "#bd3786"
             ],
             [
              0.5555555555555556,
              "#d8576b"
             ],
             [
              0.6666666666666666,
              "#ed7953"
             ],
             [
              0.7777777777777778,
              "#fb9f3a"
             ],
             [
              0.8888888888888888,
              "#fdca26"
             ],
             [
              1,
              "#f0f921"
             ]
            ],
            "type": "surface"
           }
          ],
          "table": [
           {
            "cells": {
             "fill": {
              "color": "#EBF0F8"
             },
             "line": {
              "color": "white"
             }
            },
            "header": {
             "fill": {
              "color": "#C8D4E3"
             },
             "line": {
              "color": "white"
             }
            },
            "type": "table"
           }
          ]
         },
         "layout": {
          "annotationdefaults": {
           "arrowcolor": "#2a3f5f",
           "arrowhead": 0,
           "arrowwidth": 1
          },
          "autotypenumbers": "strict",
          "coloraxis": {
           "colorbar": {
            "outlinewidth": 0,
            "ticks": ""
           }
          },
          "colorscale": {
           "diverging": [
            [
             0,
             "#8e0152"
            ],
            [
             0.1,
             "#c51b7d"
            ],
            [
             0.2,
             "#de77ae"
            ],
            [
             0.3,
             "#f1b6da"
            ],
            [
             0.4,
             "#fde0ef"
            ],
            [
             0.5,
             "#f7f7f7"
            ],
            [
             0.6,
             "#e6f5d0"
            ],
            [
             0.7,
             "#b8e186"
            ],
            [
             0.8,
             "#7fbc41"
            ],
            [
             0.9,
             "#4d9221"
            ],
            [
             1,
             "#276419"
            ]
           ],
           "sequential": [
            [
             0,
             "#0d0887"
            ],
            [
             0.1111111111111111,
             "#46039f"
            ],
            [
             0.2222222222222222,
             "#7201a8"
            ],
            [
             0.3333333333333333,
             "#9c179e"
            ],
            [
             0.4444444444444444,
             "#bd3786"
            ],
            [
             0.5555555555555556,
             "#d8576b"
            ],
            [
             0.6666666666666666,
             "#ed7953"
            ],
            [
             0.7777777777777778,
             "#fb9f3a"
            ],
            [
             0.8888888888888888,
             "#fdca26"
            ],
            [
             1,
             "#f0f921"
            ]
           ],
           "sequentialminus": [
            [
             0,
             "#0d0887"
            ],
            [
             0.1111111111111111,
             "#46039f"
            ],
            [
             0.2222222222222222,
             "#7201a8"
            ],
            [
             0.3333333333333333,
             "#9c179e"
            ],
            [
             0.4444444444444444,
             "#bd3786"
            ],
            [
             0.5555555555555556,
             "#d8576b"
            ],
            [
             0.6666666666666666,
             "#ed7953"
            ],
            [
             0.7777777777777778,
             "#fb9f3a"
            ],
            [
             0.8888888888888888,
             "#fdca26"
            ],
            [
             1,
             "#f0f921"
            ]
           ]
          },
          "colorway": [
           "#636efa",
           "#EF553B",
           "#00cc96",
           "#ab63fa",
           "#FFA15A",
           "#19d3f3",
           "#FF6692",
           "#B6E880",
           "#FF97FF",
           "#FECB52"
          ],
          "font": {
           "color": "#2a3f5f"
          },
          "geo": {
           "bgcolor": "white",
           "lakecolor": "white",
           "landcolor": "#E5ECF6",
           "showlakes": true,
           "showland": true,
           "subunitcolor": "white"
          },
          "hoverlabel": {
           "align": "left"
          },
          "hovermode": "closest",
          "mapbox": {
           "style": "light"
          },
          "paper_bgcolor": "white",
          "plot_bgcolor": "#E5ECF6",
          "polar": {
           "angularaxis": {
            "gridcolor": "white",
            "linecolor": "white",
            "ticks": ""
           },
           "bgcolor": "#E5ECF6",
           "radialaxis": {
            "gridcolor": "white",
            "linecolor": "white",
            "ticks": ""
           }
          },
          "scene": {
           "xaxis": {
            "backgroundcolor": "#E5ECF6",
            "gridcolor": "white",
            "gridwidth": 2,
            "linecolor": "white",
            "showbackground": true,
            "ticks": "",
            "zerolinecolor": "white"
           },
           "yaxis": {
            "backgroundcolor": "#E5ECF6",
            "gridcolor": "white",
            "gridwidth": 2,
            "linecolor": "white",
            "showbackground": true,
            "ticks": "",
            "zerolinecolor": "white"
           },
           "zaxis": {
            "backgroundcolor": "#E5ECF6",
            "gridcolor": "white",
            "gridwidth": 2,
            "linecolor": "white",
            "showbackground": true,
            "ticks": "",
            "zerolinecolor": "white"
           }
          },
          "shapedefaults": {
           "line": {
            "color": "#2a3f5f"
           }
          },
          "ternary": {
           "aaxis": {
            "gridcolor": "white",
            "linecolor": "white",
            "ticks": ""
           },
           "baxis": {
            "gridcolor": "white",
            "linecolor": "white",
            "ticks": ""
           },
           "bgcolor": "#E5ECF6",
           "caxis": {
            "gridcolor": "white",
            "linecolor": "white",
            "ticks": ""
           }
          },
          "title": {
           "x": 0.05
          },
          "xaxis": {
           "automargin": true,
           "gridcolor": "white",
           "linecolor": "white",
           "ticks": "",
           "title": {
            "standoff": 15
           },
           "zerolinecolor": "white",
           "zerolinewidth": 2
          },
          "yaxis": {
           "automargin": true,
           "gridcolor": "white",
           "linecolor": "white",
           "ticks": "",
           "title": {
            "standoff": 15
           },
           "zerolinecolor": "white",
           "zerolinewidth": 2
          }
         }
        }
       }
      },
      "text/html": [
       "<div>                            <div id=\"6b7231c0-650d-4078-9ef6-6165cdb55821\" class=\"plotly-graph-div\" style=\"height:525px; width:100%;\"></div>            <script type=\"text/javascript\">                require([\"plotly\"], function(Plotly) {                    window.PLOTLYENV=window.PLOTLYENV || {};                                    if (document.getElementById(\"6b7231c0-650d-4078-9ef6-6165cdb55821\")) {                    Plotly.newPlot(                        \"6b7231c0-650d-4078-9ef6-6165cdb55821\",                        [{\"customdata\":[[\"Yes\"],[\"Yes\"],[\"No\"],[\"No\"],[\"No\"],[\"Yes\"],[\"No\"],[\"Yes\"],[\"Yes\"],[\"Yes\"],[\"Yes\"],[\"Yes\"],[\"No\"],[\"No\"],[\"No\"],[\"Yes\"],[\"No\"],[\"No\"],[\"Yes\"],[\"Yes\"],[\"No\"],[\"No\"],[\"No\"],[\"No\"],[\"Yes\"],[\"Yes\"],[\"Yes\"],[\"No\"],[\"Yes\"],[\"No\"],[\"Yes\"],[\"Yes\"],[\"Yes\"],[\"No\"],[\"No\"],[\"No\"],[\"Yes\"],[\"Yes\"],[\"No\"],[\"Yes\"],[\"No\"],[\"No\"],[\"Yes\"],[\"Yes\"],[\"No\"],[\"No\"],[\"No\"],[\"Yes\"],[\"Yes\"],[\"Yes\"],[\"No\"],[\"No\"],[\"No\"],[\"Yes\"],[\"No\"],[\"Yes\"],[\"Yes\"],[\"Yes\"],[\"Yes\"],[\"No\"],[\"No\"],[\"Yes\"],[\"Yes\"],[\"Yes\"],[\"No\"],[\"No\"],[\"No\"],[\"Yes\"],[\"Yes\"],[\"No\"],[\"Yes\"],[\"Yes\"],[\"No\"],[\"Yes\"],[\"No\"],[\"Yes\"],[\"Yes\"],[\"Yes\"],[\"No\"],[\"Yes\"],[\"Yes\"],[\"No\"],[\"Yes\"],[\"No\"],[\"Yes\"],[\"No\"],[\"Yes\"],[\"No\"],[\"No\"],[\"Yes\"],[\"Yes\"],[\"Yes\"],[\"Yes\"],[\"Yes\"],[\"No\"],[\"No\"],[\"Yes\"],[\"No\"],[\"No\"],[\"Yes\"],[\"Yes\"],[\"Yes\"],[\"No\"],[\"No\"],[\"Yes\"],[\"Yes\"],[\"Yes\"],[\"Yes\"],[\"No\"],[\"No\"],[\"Yes\"],[\"No\"],[\"No\"],[\"No\"],[\"No\"],[\"Yes\"],[\"Yes\"],[\"No\"],[\"Yes\"],[\"No\"],[\"Yes\"],[\"No\"],[\"Yes\"],[\"Yes\"],[\"Yes\"],[\"No\"],[\"Yes\"],[\"No\"],[\"No\"],[\"Yes\"],[\"No\"],[\"Yes\"],[\"No\"],[\"Yes\"],[\"Yes\"],[\"Yes\"],[\"Yes\"],[\"No\"],[\"No\"],[\"No\"],[\"Yes\"],[\"No\"],[\"Yes\"],[\"Yes\"],[\"No\"],[\"Yes\"],[\"Yes\"],[\"No\"],[\"No\"],[\"Yes\"],[\"Yes\"],[\"Yes\"],[\"Yes\"],[\"No\"],[\"No\"],[\"Yes\"],[\"Yes\"],[\"No\"],[\"No\"],[\"Yes\"],[\"Yes\"],[\"No\"],[\"No\"],[\"No\"],[\"Yes\"],[\"Yes\"],[\"No\"],[\"Yes\"],[\"Yes\"],[\"No\"],[\"Yes\"],[\"No\"],[\"No\"],[\"Yes\"],[\"Yes\"],[\"No\"],[\"Yes\"],[\"Yes\"],[\"Yes\"],[\"No\"],[\"Yes\"],[\"No\"],[\"Yes\"],[\"No\"],[\"No\"],[\"Yes\"],[\"Yes\"],[\"Yes\"],[\"Yes\"],[\"No\"],[\"No\"],[\"Yes\"],[\"Yes\"],[\"No\"],[\"No\"],[\"Yes\"],[\"Yes\"],[\"No\"],[\"No\"],[\"No\"],[\"Yes\"],[\"Yes\"],[\"Yes\"],[\"Yes\"],[\"No\"],[\"Yes\"],[\"Yes\"],[\"Yes\"],[\"No\"],[\"No\"],[\"Yes\"],[\"No\"],[\"Yes\"],[\"No\"],[\"No\"],[\"No\"],[\"Yes\"],[\"Yes\"],[\"Yes\"],[\"Yes\"],[\"Yes\"],[\"No\"],[\"Yes\"],[\"Yes\"],[\"Yes\"],[\"No\"],[\"No\"],[\"Yes\"],[\"Yes\"],[\"No\"],[\"No\"],[\"Yes\"],[\"Yes\"],[\"Yes\"],[\"Yes\"],[\"No\"],[\"No\"],[\"Yes\"],[\"Yes\"],[\"Yes\"],[\"Yes\"],[\"Yes\"],[\"No\"],[\"No\"],[\"Yes\"],[\"Yes\"],[\"Yes\"],[\"No\"],[\"No\"],[\"No\"],[\"Yes\"],[\"No\"],[\"No\"],[\"No\"],[\"Yes\"],[\"Yes\"],[\"No\"],[\"No\"],[\"Yes\"],[\"No\"],[\"No\"],[\"Yes\"],[\"Yes\"],[\"No\"],[\"No\"],[\"No\"],[\"Yes\"],[\"Yes\"],[\"Yes\"],[\"Yes\"],[\"No\"],[\"No\"],[\"No\"],[\"No\"],[\"Yes\"],[\"Yes\"],[\"Yes\"],[\"Yes\"],[\"No\"],[\"No\"],[\"No\"],[\"No\"],[\"No\"],[\"No\"],[\"No\"],[\"Yes\"],[\"Yes\"],[\"Yes\"],[\"Yes\"],[\"Yes\"],[\"No\"],[\"No\"],[\"Yes\"],[\"Yes\"],[\"Yes\"],[\"Yes\"],[\"No\"],[\"No\"],[\"No\"],[\"No\"],[\"No\"],[\"No\"],[\"No\"],[\"No\"],[\"Yes\"],[\"Yes\"],[\"Yes\"],[\"Yes\"],[\"Yes\"],[\"Yes\"],[\"No\"],[\"No\"],[\"Yes\"],[\"Yes\"],[\"Yes\"],[\"Yes\"],[\"Yes\"],[\"Yes\"],[\"Yes\"],[\"Yes\"],[\"Yes\"],[\"Yes\"],[\"No\"],[\"No\"],[\"No\"],[\"No\"],[\"No\"],[\"No\"],[\"Yes\"],[\"Yes\"],[\"No\"],[\"No\"],[\"No\"],[\"No\"],[\"No\"],[\"No\"],[\"No\"],[\"No\"],[\"No\"],[\"No\"],[\"No\"],[\"No\"],[\"No\"],[\"No\"],[\"No\"],[\"No\"],[\"No\"],[\"No\"],[\"No\"],[\"No\"],[\"No\"],[\"No\"],[\"Yes\"],[\"Yes\"],[\"Yes\"],[\"Yes\"],[\"Yes\"],[\"Yes\"],[\"Yes\"],[\"Yes\"],[\"Yes\"],[\"Yes\"],[\"Yes\"],[\"Yes\"],[\"Yes\"],[\"Yes\"],[\"Yes\"],[\"Yes\"],[\"No\"],[\"No\"],[\"No\"],[\"No\"],[\"No\"],[\"No\"],[\"No\"],[\"No\"],[\"Yes\"],[\"Yes\"],[\"Yes\"],[\"Yes\"],[\"No\"],[\"No\"],[\"Yes\"],[\"Yes\"],[\"Yes\"],[\"Yes\"],[\"Yes\"],[\"Yes\"],[\"No\"],[\"No\"],[\"Yes\"],[\"Yes\"],[\"Yes\"],[\"Yes\"],[\"Yes\"],[\"Yes\"],[\"Yes\"],[\"Yes\"],[\"Yes\"],[\"Yes\"],[\"No\"],[\"No\"],[\"No\"],[\"No\"],[\"Yes\"],[\"Yes\"],[\"No\"],[\"No\"],[\"No\"],[\"No\"],[\"No\"],[\"No\"],[\"Yes\"],[\"Yes\"],[\"No\"],[\"No\"],[\"Yes\"],[\"Yes\"],[\"Yes\"],[\"Yes\"],[\"Yes\"],[\"Yes\"],[\"Yes\"],[\"Yes\"],[\"Yes\"],[\"Yes\"],[\"Yes\"],[\"Yes\"],[\"No\"],[\"No\"],[\"No\"],[\"No\"],[\"No\"],[\"No\"],[\"Yes\"],[\"Yes\"],[\"Yes\"],[\"Yes\"],[\"Yes\"],[\"Yes\"],[\"Yes\"],[\"Yes\"],[\"Yes\"],[\"Yes\"],[\"Yes\"],[\"Yes\"],[\"Yes\"],[\"Yes\"],[\"Yes\"],[\"Yes\"],[\"Yes\"],[\"Yes\"],[\"Yes\"],[\"Yes\"],[\"Yes\"],[\"Yes\"],[\"Yes\"],[\"Yes\"],[\"Yes\"],[\"Yes\"],[\"Yes\"],[\"Yes\"],[\"Yes\"],[\"Yes\"],[\"Yes\"],[\"Yes\"],[\"Yes\"],[\"Yes\"],[\"No\"],[\"No\"],[\"Yes\"],[\"Yes\"],[\"Yes\"],[\"Yes\"],[\"No\"],[\"No\"],[\"No\"],[\"No\"],[\"No\"],[\"No\"]],\"domain\":{\"x\":[0.0,1.0],\"y\":[0.0,1.0]},\"hovertemplate\":\"ParentAnsweringSurvey=%{customdata[0]}<extra></extra>\",\"labels\":[\"Yes\",\"Yes\",\"No\",\"No\",\"No\",\"Yes\",\"No\",\"Yes\",\"Yes\",\"Yes\",\"Yes\",\"Yes\",\"No\",\"No\",\"No\",\"Yes\",\"No\",\"No\",\"Yes\",\"Yes\",\"No\",\"No\",\"No\",\"No\",\"Yes\",\"Yes\",\"Yes\",\"No\",\"Yes\",\"No\",\"Yes\",\"Yes\",\"Yes\",\"No\",\"No\",\"No\",\"Yes\",\"Yes\",\"No\",\"Yes\",\"No\",\"No\",\"Yes\",\"Yes\",\"No\",\"No\",\"No\",\"Yes\",\"Yes\",\"Yes\",\"No\",\"No\",\"No\",\"Yes\",\"No\",\"Yes\",\"Yes\",\"Yes\",\"Yes\",\"No\",\"No\",\"Yes\",\"Yes\",\"Yes\",\"No\",\"No\",\"No\",\"Yes\",\"Yes\",\"No\",\"Yes\",\"Yes\",\"No\",\"Yes\",\"No\",\"Yes\",\"Yes\",\"Yes\",\"No\",\"Yes\",\"Yes\",\"No\",\"Yes\",\"No\",\"Yes\",\"No\",\"Yes\",\"No\",\"No\",\"Yes\",\"Yes\",\"Yes\",\"Yes\",\"Yes\",\"No\",\"No\",\"Yes\",\"No\",\"No\",\"Yes\",\"Yes\",\"Yes\",\"No\",\"No\",\"Yes\",\"Yes\",\"Yes\",\"Yes\",\"No\",\"No\",\"Yes\",\"No\",\"No\",\"No\",\"No\",\"Yes\",\"Yes\",\"No\",\"Yes\",\"No\",\"Yes\",\"No\",\"Yes\",\"Yes\",\"Yes\",\"No\",\"Yes\",\"No\",\"No\",\"Yes\",\"No\",\"Yes\",\"No\",\"Yes\",\"Yes\",\"Yes\",\"Yes\",\"No\",\"No\",\"No\",\"Yes\",\"No\",\"Yes\",\"Yes\",\"No\",\"Yes\",\"Yes\",\"No\",\"No\",\"Yes\",\"Yes\",\"Yes\",\"Yes\",\"No\",\"No\",\"Yes\",\"Yes\",\"No\",\"No\",\"Yes\",\"Yes\",\"No\",\"No\",\"No\",\"Yes\",\"Yes\",\"No\",\"Yes\",\"Yes\",\"No\",\"Yes\",\"No\",\"No\",\"Yes\",\"Yes\",\"No\",\"Yes\",\"Yes\",\"Yes\",\"No\",\"Yes\",\"No\",\"Yes\",\"No\",\"No\",\"Yes\",\"Yes\",\"Yes\",\"Yes\",\"No\",\"No\",\"Yes\",\"Yes\",\"No\",\"No\",\"Yes\",\"Yes\",\"No\",\"No\",\"No\",\"Yes\",\"Yes\",\"Yes\",\"Yes\",\"No\",\"Yes\",\"Yes\",\"Yes\",\"No\",\"No\",\"Yes\",\"No\",\"Yes\",\"No\",\"No\",\"No\",\"Yes\",\"Yes\",\"Yes\",\"Yes\",\"Yes\",\"No\",\"Yes\",\"Yes\",\"Yes\",\"No\",\"No\",\"Yes\",\"Yes\",\"No\",\"No\",\"Yes\",\"Yes\",\"Yes\",\"Yes\",\"No\",\"No\",\"Yes\",\"Yes\",\"Yes\",\"Yes\",\"Yes\",\"No\",\"No\",\"Yes\",\"Yes\",\"Yes\",\"No\",\"No\",\"No\",\"Yes\",\"No\",\"No\",\"No\",\"Yes\",\"Yes\",\"No\",\"No\",\"Yes\",\"No\",\"No\",\"Yes\",\"Yes\",\"No\",\"No\",\"No\",\"Yes\",\"Yes\",\"Yes\",\"Yes\",\"No\",\"No\",\"No\",\"No\",\"Yes\",\"Yes\",\"Yes\",\"Yes\",\"No\",\"No\",\"No\",\"No\",\"No\",\"No\",\"No\",\"Yes\",\"Yes\",\"Yes\",\"Yes\",\"Yes\",\"No\",\"No\",\"Yes\",\"Yes\",\"Yes\",\"Yes\",\"No\",\"No\",\"No\",\"No\",\"No\",\"No\",\"No\",\"No\",\"Yes\",\"Yes\",\"Yes\",\"Yes\",\"Yes\",\"Yes\",\"No\",\"No\",\"Yes\",\"Yes\",\"Yes\",\"Yes\",\"Yes\",\"Yes\",\"Yes\",\"Yes\",\"Yes\",\"Yes\",\"No\",\"No\",\"No\",\"No\",\"No\",\"No\",\"Yes\",\"Yes\",\"No\",\"No\",\"No\",\"No\",\"No\",\"No\",\"No\",\"No\",\"No\",\"No\",\"No\",\"No\",\"No\",\"No\",\"No\",\"No\",\"No\",\"No\",\"No\",\"No\",\"No\",\"No\",\"Yes\",\"Yes\",\"Yes\",\"Yes\",\"Yes\",\"Yes\",\"Yes\",\"Yes\",\"Yes\",\"Yes\",\"Yes\",\"Yes\",\"Yes\",\"Yes\",\"Yes\",\"Yes\",\"No\",\"No\",\"No\",\"No\",\"No\",\"No\",\"No\",\"No\",\"Yes\",\"Yes\",\"Yes\",\"Yes\",\"No\",\"No\",\"Yes\",\"Yes\",\"Yes\",\"Yes\",\"Yes\",\"Yes\",\"No\",\"No\",\"Yes\",\"Yes\",\"Yes\",\"Yes\",\"Yes\",\"Yes\",\"Yes\",\"Yes\",\"Yes\",\"Yes\",\"No\",\"No\",\"No\",\"No\",\"Yes\",\"Yes\",\"No\",\"No\",\"No\",\"No\",\"No\",\"No\",\"Yes\",\"Yes\",\"No\",\"No\",\"Yes\",\"Yes\",\"Yes\",\"Yes\",\"Yes\",\"Yes\",\"Yes\",\"Yes\",\"Yes\",\"Yes\",\"Yes\",\"Yes\",\"No\",\"No\",\"No\",\"No\",\"No\",\"No\",\"Yes\",\"Yes\",\"Yes\",\"Yes\",\"Yes\",\"Yes\",\"Yes\",\"Yes\",\"Yes\",\"Yes\",\"Yes\",\"Yes\",\"Yes\",\"Yes\",\"Yes\",\"Yes\",\"Yes\",\"Yes\",\"Yes\",\"Yes\",\"Yes\",\"Yes\",\"Yes\",\"Yes\",\"Yes\",\"Yes\",\"Yes\",\"Yes\",\"Yes\",\"Yes\",\"Yes\",\"Yes\",\"Yes\",\"Yes\",\"No\",\"No\",\"Yes\",\"Yes\",\"Yes\",\"Yes\",\"No\",\"No\",\"No\",\"No\",\"No\",\"No\"],\"legendgroup\":\"\",\"marker\":{\"colors\":[\"red\",\"red\",\"green\",\"green\",\"green\",\"red\",\"green\",\"red\",\"red\",\"red\",\"red\",\"red\",\"green\",\"green\",\"green\",\"red\",\"green\",\"green\",\"red\",\"red\",\"green\",\"green\",\"green\",\"green\",\"red\",\"red\",\"red\",\"green\",\"red\",\"green\",\"red\",\"red\",\"red\",\"green\",\"green\",\"green\",\"red\",\"red\",\"green\",\"red\",\"green\",\"green\",\"red\",\"red\",\"green\",\"green\",\"green\",\"red\",\"red\",\"red\",\"green\",\"green\",\"green\",\"red\",\"green\",\"red\",\"red\",\"red\",\"red\",\"green\",\"green\",\"red\",\"red\",\"red\",\"green\",\"green\",\"green\",\"red\",\"red\",\"green\",\"red\",\"red\",\"green\",\"red\",\"green\",\"red\",\"red\",\"red\",\"green\",\"red\",\"red\",\"green\",\"red\",\"green\",\"red\",\"green\",\"red\",\"green\",\"green\",\"red\",\"red\",\"red\",\"red\",\"red\",\"green\",\"green\",\"red\",\"green\",\"green\",\"red\",\"red\",\"red\",\"green\",\"green\",\"red\",\"red\",\"red\",\"red\",\"green\",\"green\",\"red\",\"green\",\"green\",\"green\",\"green\",\"red\",\"red\",\"green\",\"red\",\"green\",\"red\",\"green\",\"red\",\"red\",\"red\",\"green\",\"red\",\"green\",\"green\",\"red\",\"green\",\"red\",\"green\",\"red\",\"red\",\"red\",\"red\",\"green\",\"green\",\"green\",\"red\",\"green\",\"red\",\"red\",\"green\",\"red\",\"red\",\"green\",\"green\",\"red\",\"red\",\"red\",\"red\",\"green\",\"green\",\"red\",\"red\",\"green\",\"green\",\"red\",\"red\",\"green\",\"green\",\"green\",\"red\",\"red\",\"green\",\"red\",\"red\",\"green\",\"red\",\"green\",\"green\",\"red\",\"red\",\"green\",\"red\",\"red\",\"red\",\"green\",\"red\",\"green\",\"red\",\"green\",\"green\",\"red\",\"red\",\"red\",\"red\",\"green\",\"green\",\"red\",\"red\",\"green\",\"green\",\"red\",\"red\",\"green\",\"green\",\"green\",\"red\",\"red\",\"red\",\"red\",\"green\",\"red\",\"red\",\"red\",\"green\",\"green\",\"red\",\"green\",\"red\",\"green\",\"green\",\"green\",\"red\",\"red\",\"red\",\"red\",\"red\",\"green\",\"red\",\"red\",\"red\",\"green\",\"green\",\"red\",\"red\",\"green\",\"green\",\"red\",\"red\",\"red\",\"red\",\"green\",\"green\",\"red\",\"red\",\"red\",\"red\",\"red\",\"green\",\"green\",\"red\",\"red\",\"red\",\"green\",\"green\",\"green\",\"red\",\"green\",\"green\",\"green\",\"red\",\"red\",\"green\",\"green\",\"red\",\"green\",\"green\",\"red\",\"red\",\"green\",\"green\",\"green\",\"red\",\"red\",\"red\",\"red\",\"green\",\"green\",\"green\",\"green\",\"red\",\"red\",\"red\",\"red\",\"green\",\"green\",\"green\",\"green\",\"green\",\"green\",\"green\",\"red\",\"red\",\"red\",\"red\",\"red\",\"green\",\"green\",\"red\",\"red\",\"red\",\"red\",\"green\",\"green\",\"green\",\"green\",\"green\",\"green\",\"green\",\"green\",\"red\",\"red\",\"red\",\"red\",\"red\",\"red\",\"green\",\"green\",\"red\",\"red\",\"red\",\"red\",\"red\",\"red\",\"red\",\"red\",\"red\",\"red\",\"green\",\"green\",\"green\",\"green\",\"green\",\"green\",\"red\",\"red\",\"green\",\"green\",\"green\",\"green\",\"green\",\"green\",\"green\",\"green\",\"green\",\"green\",\"green\",\"green\",\"green\",\"green\",\"green\",\"green\",\"green\",\"green\",\"green\",\"green\",\"green\",\"green\",\"red\",\"red\",\"red\",\"red\",\"red\",\"red\",\"red\",\"red\",\"red\",\"red\",\"red\",\"red\",\"red\",\"red\",\"red\",\"red\",\"green\",\"green\",\"green\",\"green\",\"green\",\"green\",\"green\",\"green\",\"red\",\"red\",\"red\",\"red\",\"green\",\"green\",\"red\",\"red\",\"red\",\"red\",\"red\",\"red\",\"green\",\"green\",\"red\",\"red\",\"red\",\"red\",\"red\",\"red\",\"red\",\"red\",\"red\",\"red\",\"green\",\"green\",\"green\",\"green\",\"red\",\"red\",\"green\",\"green\",\"green\",\"green\",\"green\",\"green\",\"red\",\"red\",\"green\",\"green\",\"red\",\"red\",\"red\",\"red\",\"red\",\"red\",\"red\",\"red\",\"red\",\"red\",\"red\",\"red\",\"green\",\"green\",\"green\",\"green\",\"green\",\"green\",\"red\",\"red\",\"red\",\"red\",\"red\",\"red\",\"red\",\"red\",\"red\",\"red\",\"red\",\"red\",\"red\",\"red\",\"red\",\"red\",\"red\",\"red\",\"red\",\"red\",\"red\",\"red\",\"red\",\"red\",\"red\",\"red\",\"red\",\"red\",\"red\",\"red\",\"red\",\"red\",\"red\",\"red\",\"green\",\"green\",\"red\",\"red\",\"red\",\"red\",\"green\",\"green\",\"green\",\"green\",\"green\",\"green\"]},\"name\":\"\",\"showlegend\":true,\"type\":\"pie\"}],                        {\"template\":{\"data\":{\"histogram2dcontour\":[{\"type\":\"histogram2dcontour\",\"colorbar\":{\"outlinewidth\":0,\"ticks\":\"\"},\"colorscale\":[[0.0,\"#0d0887\"],[0.1111111111111111,\"#46039f\"],[0.2222222222222222,\"#7201a8\"],[0.3333333333333333,\"#9c179e\"],[0.4444444444444444,\"#bd3786\"],[0.5555555555555556,\"#d8576b\"],[0.6666666666666666,\"#ed7953\"],[0.7777777777777778,\"#fb9f3a\"],[0.8888888888888888,\"#fdca26\"],[1.0,\"#f0f921\"]]}],\"choropleth\":[{\"type\":\"choropleth\",\"colorbar\":{\"outlinewidth\":0,\"ticks\":\"\"}}],\"histogram2d\":[{\"type\":\"histogram2d\",\"colorbar\":{\"outlinewidth\":0,\"ticks\":\"\"},\"colorscale\":[[0.0,\"#0d0887\"],[0.1111111111111111,\"#46039f\"],[0.2222222222222222,\"#7201a8\"],[0.3333333333333333,\"#9c179e\"],[0.4444444444444444,\"#bd3786\"],[0.5555555555555556,\"#d8576b\"],[0.6666666666666666,\"#ed7953\"],[0.7777777777777778,\"#fb9f3a\"],[0.8888888888888888,\"#fdca26\"],[1.0,\"#f0f921\"]]}],\"heatmap\":[{\"type\":\"heatmap\",\"colorbar\":{\"outlinewidth\":0,\"ticks\":\"\"},\"colorscale\":[[0.0,\"#0d0887\"],[0.1111111111111111,\"#46039f\"],[0.2222222222222222,\"#7201a8\"],[0.3333333333333333,\"#9c179e\"],[0.4444444444444444,\"#bd3786\"],[0.5555555555555556,\"#d8576b\"],[0.6666666666666666,\"#ed7953\"],[0.7777777777777778,\"#fb9f3a\"],[0.8888888888888888,\"#fdca26\"],[1.0,\"#f0f921\"]]}],\"heatmapgl\":[{\"type\":\"heatmapgl\",\"colorbar\":{\"outlinewidth\":0,\"ticks\":\"\"},\"colorscale\":[[0.0,\"#0d0887\"],[0.1111111111111111,\"#46039f\"],[0.2222222222222222,\"#7201a8\"],[0.3333333333333333,\"#9c179e\"],[0.4444444444444444,\"#bd3786\"],[0.5555555555555556,\"#d8576b\"],[0.6666666666666666,\"#ed7953\"],[0.7777777777777778,\"#fb9f3a\"],[0.8888888888888888,\"#fdca26\"],[1.0,\"#f0f921\"]]}],\"contourcarpet\":[{\"type\":\"contourcarpet\",\"colorbar\":{\"outlinewidth\":0,\"ticks\":\"\"}}],\"contour\":[{\"type\":\"contour\",\"colorbar\":{\"outlinewidth\":0,\"ticks\":\"\"},\"colorscale\":[[0.0,\"#0d0887\"],[0.1111111111111111,\"#46039f\"],[0.2222222222222222,\"#7201a8\"],[0.3333333333333333,\"#9c179e\"],[0.4444444444444444,\"#bd3786\"],[0.5555555555555556,\"#d8576b\"],[0.6666666666666666,\"#ed7953\"],[0.7777777777777778,\"#fb9f3a\"],[0.8888888888888888,\"#fdca26\"],[1.0,\"#f0f921\"]]}],\"surface\":[{\"type\":\"surface\",\"colorbar\":{\"outlinewidth\":0,\"ticks\":\"\"},\"colorscale\":[[0.0,\"#0d0887\"],[0.1111111111111111,\"#46039f\"],[0.2222222222222222,\"#7201a8\"],[0.3333333333333333,\"#9c179e\"],[0.4444444444444444,\"#bd3786\"],[0.5555555555555556,\"#d8576b\"],[0.6666666666666666,\"#ed7953\"],[0.7777777777777778,\"#fb9f3a\"],[0.8888888888888888,\"#fdca26\"],[1.0,\"#f0f921\"]]}],\"mesh3d\":[{\"type\":\"mesh3d\",\"colorbar\":{\"outlinewidth\":0,\"ticks\":\"\"}}],\"scatter\":[{\"fillpattern\":{\"fillmode\":\"overlay\",\"size\":10,\"solidity\":0.2},\"type\":\"scatter\"}],\"parcoords\":[{\"type\":\"parcoords\",\"line\":{\"colorbar\":{\"outlinewidth\":0,\"ticks\":\"\"}}}],\"scatterpolargl\":[{\"type\":\"scatterpolargl\",\"marker\":{\"colorbar\":{\"outlinewidth\":0,\"ticks\":\"\"}}}],\"bar\":[{\"error_x\":{\"color\":\"#2a3f5f\"},\"error_y\":{\"color\":\"#2a3f5f\"},\"marker\":{\"line\":{\"color\":\"#E5ECF6\",\"width\":0.5},\"pattern\":{\"fillmode\":\"overlay\",\"size\":10,\"solidity\":0.2}},\"type\":\"bar\"}],\"scattergeo\":[{\"type\":\"scattergeo\",\"marker\":{\"colorbar\":{\"outlinewidth\":0,\"ticks\":\"\"}}}],\"scatterpolar\":[{\"type\":\"scatterpolar\",\"marker\":{\"colorbar\":{\"outlinewidth\":0,\"ticks\":\"\"}}}],\"histogram\":[{\"marker\":{\"pattern\":{\"fillmode\":\"overlay\",\"size\":10,\"solidity\":0.2}},\"type\":\"histogram\"}],\"scattergl\":[{\"type\":\"scattergl\",\"marker\":{\"colorbar\":{\"outlinewidth\":0,\"ticks\":\"\"}}}],\"scatter3d\":[{\"type\":\"scatter3d\",\"line\":{\"colorbar\":{\"outlinewidth\":0,\"ticks\":\"\"}},\"marker\":{\"colorbar\":{\"outlinewidth\":0,\"ticks\":\"\"}}}],\"scattermapbox\":[{\"type\":\"scattermapbox\",\"marker\":{\"colorbar\":{\"outlinewidth\":0,\"ticks\":\"\"}}}],\"scatterternary\":[{\"type\":\"scatterternary\",\"marker\":{\"colorbar\":{\"outlinewidth\":0,\"ticks\":\"\"}}}],\"scattercarpet\":[{\"type\":\"scattercarpet\",\"marker\":{\"colorbar\":{\"outlinewidth\":0,\"ticks\":\"\"}}}],\"carpet\":[{\"aaxis\":{\"endlinecolor\":\"#2a3f5f\",\"gridcolor\":\"white\",\"linecolor\":\"white\",\"minorgridcolor\":\"white\",\"startlinecolor\":\"#2a3f5f\"},\"baxis\":{\"endlinecolor\":\"#2a3f5f\",\"gridcolor\":\"white\",\"linecolor\":\"white\",\"minorgridcolor\":\"white\",\"startlinecolor\":\"#2a3f5f\"},\"type\":\"carpet\"}],\"table\":[{\"cells\":{\"fill\":{\"color\":\"#EBF0F8\"},\"line\":{\"color\":\"white\"}},\"header\":{\"fill\":{\"color\":\"#C8D4E3\"},\"line\":{\"color\":\"white\"}},\"type\":\"table\"}],\"barpolar\":[{\"marker\":{\"line\":{\"color\":\"#E5ECF6\",\"width\":0.5},\"pattern\":{\"fillmode\":\"overlay\",\"size\":10,\"solidity\":0.2}},\"type\":\"barpolar\"}],\"pie\":[{\"automargin\":true,\"type\":\"pie\"}]},\"layout\":{\"autotypenumbers\":\"strict\",\"colorway\":[\"#636efa\",\"#EF553B\",\"#00cc96\",\"#ab63fa\",\"#FFA15A\",\"#19d3f3\",\"#FF6692\",\"#B6E880\",\"#FF97FF\",\"#FECB52\"],\"font\":{\"color\":\"#2a3f5f\"},\"hovermode\":\"closest\",\"hoverlabel\":{\"align\":\"left\"},\"paper_bgcolor\":\"white\",\"plot_bgcolor\":\"#E5ECF6\",\"polar\":{\"bgcolor\":\"#E5ECF6\",\"angularaxis\":{\"gridcolor\":\"white\",\"linecolor\":\"white\",\"ticks\":\"\"},\"radialaxis\":{\"gridcolor\":\"white\",\"linecolor\":\"white\",\"ticks\":\"\"}},\"ternary\":{\"bgcolor\":\"#E5ECF6\",\"aaxis\":{\"gridcolor\":\"white\",\"linecolor\":\"white\",\"ticks\":\"\"},\"baxis\":{\"gridcolor\":\"white\",\"linecolor\":\"white\",\"ticks\":\"\"},\"caxis\":{\"gridcolor\":\"white\",\"linecolor\":\"white\",\"ticks\":\"\"}},\"coloraxis\":{\"colorbar\":{\"outlinewidth\":0,\"ticks\":\"\"}},\"colorscale\":{\"sequential\":[[0.0,\"#0d0887\"],[0.1111111111111111,\"#46039f\"],[0.2222222222222222,\"#7201a8\"],[0.3333333333333333,\"#9c179e\"],[0.4444444444444444,\"#bd3786\"],[0.5555555555555556,\"#d8576b\"],[0.6666666666666666,\"#ed7953\"],[0.7777777777777778,\"#fb9f3a\"],[0.8888888888888888,\"#fdca26\"],[1.0,\"#f0f921\"]],\"sequentialminus\":[[0.0,\"#0d0887\"],[0.1111111111111111,\"#46039f\"],[0.2222222222222222,\"#7201a8\"],[0.3333333333333333,\"#9c179e\"],[0.4444444444444444,\"#bd3786\"],[0.5555555555555556,\"#d8576b\"],[0.6666666666666666,\"#ed7953\"],[0.7777777777777778,\"#fb9f3a\"],[0.8888888888888888,\"#fdca26\"],[1.0,\"#f0f921\"]],\"diverging\":[[0,\"#8e0152\"],[0.1,\"#c51b7d\"],[0.2,\"#de77ae\"],[0.3,\"#f1b6da\"],[0.4,\"#fde0ef\"],[0.5,\"#f7f7f7\"],[0.6,\"#e6f5d0\"],[0.7,\"#b8e186\"],[0.8,\"#7fbc41\"],[0.9,\"#4d9221\"],[1,\"#276419\"]]},\"xaxis\":{\"gridcolor\":\"white\",\"linecolor\":\"white\",\"ticks\":\"\",\"title\":{\"standoff\":15},\"zerolinecolor\":\"white\",\"automargin\":true,\"zerolinewidth\":2},\"yaxis\":{\"gridcolor\":\"white\",\"linecolor\":\"white\",\"ticks\":\"\",\"title\":{\"standoff\":15},\"zerolinecolor\":\"white\",\"automargin\":true,\"zerolinewidth\":2},\"scene\":{\"xaxis\":{\"backgroundcolor\":\"#E5ECF6\",\"gridcolor\":\"white\",\"linecolor\":\"white\",\"showbackground\":true,\"ticks\":\"\",\"zerolinecolor\":\"white\",\"gridwidth\":2},\"yaxis\":{\"backgroundcolor\":\"#E5ECF6\",\"gridcolor\":\"white\",\"linecolor\":\"white\",\"showbackground\":true,\"ticks\":\"\",\"zerolinecolor\":\"white\",\"gridwidth\":2},\"zaxis\":{\"backgroundcolor\":\"#E5ECF6\",\"gridcolor\":\"white\",\"linecolor\":\"white\",\"showbackground\":true,\"ticks\":\"\",\"zerolinecolor\":\"white\",\"gridwidth\":2}},\"shapedefaults\":{\"line\":{\"color\":\"#2a3f5f\"}},\"annotationdefaults\":{\"arrowcolor\":\"#2a3f5f\",\"arrowhead\":0,\"arrowwidth\":1},\"geo\":{\"bgcolor\":\"white\",\"landcolor\":\"#E5ECF6\",\"subunitcolor\":\"white\",\"showland\":true,\"showlakes\":true,\"lakecolor\":\"white\"},\"title\":{\"x\":0.05},\"mapbox\":{\"style\":\"light\"}}},\"legend\":{\"tracegroupgap\":0},\"margin\":{\"t\":60}},                        {\"responsive\": true}                    ).then(function(){\n",
       "                            \n",
       "var gd = document.getElementById('6b7231c0-650d-4078-9ef6-6165cdb55821');\n",
       "var x = new MutationObserver(function (mutations, observer) {{\n",
       "        var display = window.getComputedStyle(gd).display;\n",
       "        if (!display || display === 'none') {{\n",
       "            console.log([gd, 'removed!']);\n",
       "            Plotly.purge(gd);\n",
       "            observer.disconnect();\n",
       "        }}\n",
       "}});\n",
       "\n",
       "// Listen for the removal of the full notebook cells\n",
       "var notebookContainer = gd.closest('#notebook-container');\n",
       "if (notebookContainer) {{\n",
       "    x.observe(notebookContainer, {childList: true});\n",
       "}}\n",
       "\n",
       "// Listen for the clearing of the current output cell\n",
       "var outputEl = gd.closest('.output');\n",
       "if (outputEl) {{\n",
       "    x.observe(outputEl, {childList: true});\n",
       "}}\n",
       "\n",
       "                        })                };                });            </script>        </div>"
      ]
     },
     "metadata": {},
     "output_type": "display_data"
    }
   ],
   "source": [
    "import plotly.express as px\n",
    "\n",
    "fig = px.pie(students,names='ParentAnsweringSurvey',color='ParentAnsweringSurvey',\n",
    "             color_discrete_map={'Yes':'red',\n",
    "                                 'No':'green'})\n",
    "fig.show()"
   ]
  },
  {
   "cell_type": "markdown",
   "metadata": {},
   "source": [
    "### Reject customer data  = Bad Customer"
   ]
  },
  {
   "cell_type": "code",
   "execution_count": 21,
   "metadata": {},
   "outputs": [
    {
     "data": {
      "text/html": [
       "<div>\n",
       "<style scoped>\n",
       "    .dataframe tbody tr th:only-of-type {\n",
       "        vertical-align: middle;\n",
       "    }\n",
       "\n",
       "    .dataframe tbody tr th {\n",
       "        vertical-align: top;\n",
       "    }\n",
       "\n",
       "    .dataframe thead th {\n",
       "        text-align: right;\n",
       "    }\n",
       "</style>\n",
       "<table border=\"1\" class=\"dataframe\">\n",
       "  <thead>\n",
       "    <tr style=\"text-align: right;\">\n",
       "      <th></th>\n",
       "      <th>gender</th>\n",
       "      <th>NationalITy</th>\n",
       "      <th>PlaceofBirth</th>\n",
       "      <th>StageID</th>\n",
       "      <th>GradeID</th>\n",
       "      <th>SectionID</th>\n",
       "      <th>Topic</th>\n",
       "      <th>Semester</th>\n",
       "      <th>Relation</th>\n",
       "      <th>raisedhands</th>\n",
       "      <th>VisITedResources</th>\n",
       "      <th>AnnouncementsView</th>\n",
       "      <th>Discussion</th>\n",
       "      <th>ParentAnsweringSurvey</th>\n",
       "      <th>ParentschoolSatisfaction</th>\n",
       "      <th>StudentAbsenceDays</th>\n",
       "      <th>Class</th>\n",
       "    </tr>\n",
       "  </thead>\n",
       "  <tbody>\n",
       "    <tr>\n",
       "      <th>0</th>\n",
       "      <td>M</td>\n",
       "      <td>KW</td>\n",
       "      <td>KuwaIT</td>\n",
       "      <td>lowerlevel</td>\n",
       "      <td>G-04</td>\n",
       "      <td>A</td>\n",
       "      <td>IT</td>\n",
       "      <td>F</td>\n",
       "      <td>Father</td>\n",
       "      <td>15</td>\n",
       "      <td>16</td>\n",
       "      <td>2</td>\n",
       "      <td>20</td>\n",
       "      <td>Yes</td>\n",
       "      <td>Good</td>\n",
       "      <td>Under-7</td>\n",
       "      <td>M</td>\n",
       "    </tr>\n",
       "    <tr>\n",
       "      <th>1</th>\n",
       "      <td>M</td>\n",
       "      <td>KW</td>\n",
       "      <td>KuwaIT</td>\n",
       "      <td>lowerlevel</td>\n",
       "      <td>G-04</td>\n",
       "      <td>A</td>\n",
       "      <td>IT</td>\n",
       "      <td>F</td>\n",
       "      <td>Father</td>\n",
       "      <td>20</td>\n",
       "      <td>20</td>\n",
       "      <td>3</td>\n",
       "      <td>25</td>\n",
       "      <td>Yes</td>\n",
       "      <td>Good</td>\n",
       "      <td>Under-7</td>\n",
       "      <td>M</td>\n",
       "    </tr>\n",
       "    <tr>\n",
       "      <th>5</th>\n",
       "      <td>F</td>\n",
       "      <td>KW</td>\n",
       "      <td>KuwaIT</td>\n",
       "      <td>lowerlevel</td>\n",
       "      <td>G-04</td>\n",
       "      <td>A</td>\n",
       "      <td>IT</td>\n",
       "      <td>F</td>\n",
       "      <td>Father</td>\n",
       "      <td>42</td>\n",
       "      <td>30</td>\n",
       "      <td>13</td>\n",
       "      <td>70</td>\n",
       "      <td>Yes</td>\n",
       "      <td>Bad</td>\n",
       "      <td>Above-7</td>\n",
       "      <td>M</td>\n",
       "    </tr>\n",
       "    <tr>\n",
       "      <th>7</th>\n",
       "      <td>M</td>\n",
       "      <td>KW</td>\n",
       "      <td>KuwaIT</td>\n",
       "      <td>MiddleSchool</td>\n",
       "      <td>G-07</td>\n",
       "      <td>A</td>\n",
       "      <td>Math</td>\n",
       "      <td>F</td>\n",
       "      <td>Father</td>\n",
       "      <td>50</td>\n",
       "      <td>10</td>\n",
       "      <td>15</td>\n",
       "      <td>22</td>\n",
       "      <td>Yes</td>\n",
       "      <td>Good</td>\n",
       "      <td>Under-7</td>\n",
       "      <td>M</td>\n",
       "    </tr>\n",
       "    <tr>\n",
       "      <th>8</th>\n",
       "      <td>F</td>\n",
       "      <td>KW</td>\n",
       "      <td>KuwaIT</td>\n",
       "      <td>MiddleSchool</td>\n",
       "      <td>G-07</td>\n",
       "      <td>A</td>\n",
       "      <td>Math</td>\n",
       "      <td>F</td>\n",
       "      <td>Father</td>\n",
       "      <td>12</td>\n",
       "      <td>21</td>\n",
       "      <td>16</td>\n",
       "      <td>50</td>\n",
       "      <td>Yes</td>\n",
       "      <td>Good</td>\n",
       "      <td>Under-7</td>\n",
       "      <td>M</td>\n",
       "    </tr>\n",
       "    <tr>\n",
       "      <th>...</th>\n",
       "      <td>...</td>\n",
       "      <td>...</td>\n",
       "      <td>...</td>\n",
       "      <td>...</td>\n",
       "      <td>...</td>\n",
       "      <td>...</td>\n",
       "      <td>...</td>\n",
       "      <td>...</td>\n",
       "      <td>...</td>\n",
       "      <td>...</td>\n",
       "      <td>...</td>\n",
       "      <td>...</td>\n",
       "      <td>...</td>\n",
       "      <td>...</td>\n",
       "      <td>...</td>\n",
       "      <td>...</td>\n",
       "      <td>...</td>\n",
       "    </tr>\n",
       "    <tr>\n",
       "      <th>467</th>\n",
       "      <td>F</td>\n",
       "      <td>Jordan</td>\n",
       "      <td>Jordan</td>\n",
       "      <td>MiddleSchool</td>\n",
       "      <td>G-08</td>\n",
       "      <td>A</td>\n",
       "      <td>Geology</td>\n",
       "      <td>S</td>\n",
       "      <td>Mum</td>\n",
       "      <td>87</td>\n",
       "      <td>93</td>\n",
       "      <td>63</td>\n",
       "      <td>60</td>\n",
       "      <td>Yes</td>\n",
       "      <td>Good</td>\n",
       "      <td>Under-7</td>\n",
       "      <td>H</td>\n",
       "    </tr>\n",
       "    <tr>\n",
       "      <th>470</th>\n",
       "      <td>M</td>\n",
       "      <td>Palestine</td>\n",
       "      <td>Jordan</td>\n",
       "      <td>MiddleSchool</td>\n",
       "      <td>G-08</td>\n",
       "      <td>A</td>\n",
       "      <td>History</td>\n",
       "      <td>F</td>\n",
       "      <td>Father</td>\n",
       "      <td>81</td>\n",
       "      <td>86</td>\n",
       "      <td>86</td>\n",
       "      <td>41</td>\n",
       "      <td>Yes</td>\n",
       "      <td>Good</td>\n",
       "      <td>Under-7</td>\n",
       "      <td>M</td>\n",
       "    </tr>\n",
       "    <tr>\n",
       "      <th>471</th>\n",
       "      <td>M</td>\n",
       "      <td>Palestine</td>\n",
       "      <td>Jordan</td>\n",
       "      <td>MiddleSchool</td>\n",
       "      <td>G-08</td>\n",
       "      <td>A</td>\n",
       "      <td>History</td>\n",
       "      <td>S</td>\n",
       "      <td>Father</td>\n",
       "      <td>78</td>\n",
       "      <td>82</td>\n",
       "      <td>78</td>\n",
       "      <td>53</td>\n",
       "      <td>Yes</td>\n",
       "      <td>Good</td>\n",
       "      <td>Under-7</td>\n",
       "      <td>M</td>\n",
       "    </tr>\n",
       "    <tr>\n",
       "      <th>472</th>\n",
       "      <td>M</td>\n",
       "      <td>Palestine</td>\n",
       "      <td>Palestine</td>\n",
       "      <td>MiddleSchool</td>\n",
       "      <td>G-08</td>\n",
       "      <td>A</td>\n",
       "      <td>Geology</td>\n",
       "      <td>F</td>\n",
       "      <td>Father</td>\n",
       "      <td>80</td>\n",
       "      <td>87</td>\n",
       "      <td>74</td>\n",
       "      <td>68</td>\n",
       "      <td>Yes</td>\n",
       "      <td>Good</td>\n",
       "      <td>Under-7</td>\n",
       "      <td>M</td>\n",
       "    </tr>\n",
       "    <tr>\n",
       "      <th>473</th>\n",
       "      <td>M</td>\n",
       "      <td>Palestine</td>\n",
       "      <td>Palestine</td>\n",
       "      <td>MiddleSchool</td>\n",
       "      <td>G-08</td>\n",
       "      <td>A</td>\n",
       "      <td>Geology</td>\n",
       "      <td>S</td>\n",
       "      <td>Father</td>\n",
       "      <td>85</td>\n",
       "      <td>88</td>\n",
       "      <td>79</td>\n",
       "      <td>70</td>\n",
       "      <td>Yes</td>\n",
       "      <td>Good</td>\n",
       "      <td>Under-7</td>\n",
       "      <td>M</td>\n",
       "    </tr>\n",
       "  </tbody>\n",
       "</table>\n",
       "<p>270 rows × 17 columns</p>\n",
       "</div>"
      ],
      "text/plain": [
       "    gender NationalITy PlaceofBirth       StageID GradeID SectionID    Topic  \\\n",
       "0        M          KW       KuwaIT    lowerlevel    G-04         A       IT   \n",
       "1        M          KW       KuwaIT    lowerlevel    G-04         A       IT   \n",
       "5        F          KW       KuwaIT    lowerlevel    G-04         A       IT   \n",
       "7        M          KW       KuwaIT  MiddleSchool    G-07         A     Math   \n",
       "8        F          KW       KuwaIT  MiddleSchool    G-07         A     Math   \n",
       "..     ...         ...          ...           ...     ...       ...      ...   \n",
       "467      F      Jordan       Jordan  MiddleSchool    G-08         A  Geology   \n",
       "470      M   Palestine       Jordan  MiddleSchool    G-08         A  History   \n",
       "471      M   Palestine       Jordan  MiddleSchool    G-08         A  History   \n",
       "472      M   Palestine    Palestine  MiddleSchool    G-08         A  Geology   \n",
       "473      M   Palestine    Palestine  MiddleSchool    G-08         A  Geology   \n",
       "\n",
       "    Semester Relation  raisedhands  VisITedResources  AnnouncementsView  \\\n",
       "0          F   Father           15                16                  2   \n",
       "1          F   Father           20                20                  3   \n",
       "5          F   Father           42                30                 13   \n",
       "7          F   Father           50                10                 15   \n",
       "8          F   Father           12                21                 16   \n",
       "..       ...      ...          ...               ...                ...   \n",
       "467        S      Mum           87                93                 63   \n",
       "470        F   Father           81                86                 86   \n",
       "471        S   Father           78                82                 78   \n",
       "472        F   Father           80                87                 74   \n",
       "473        S   Father           85                88                 79   \n",
       "\n",
       "     Discussion ParentAnsweringSurvey ParentschoolSatisfaction  \\\n",
       "0            20                   Yes                     Good   \n",
       "1            25                   Yes                     Good   \n",
       "5            70                   Yes                      Bad   \n",
       "7            22                   Yes                     Good   \n",
       "8            50                   Yes                     Good   \n",
       "..          ...                   ...                      ...   \n",
       "467          60                   Yes                     Good   \n",
       "470          41                   Yes                     Good   \n",
       "471          53                   Yes                     Good   \n",
       "472          68                   Yes                     Good   \n",
       "473          70                   Yes                     Good   \n",
       "\n",
       "    StudentAbsenceDays Class  \n",
       "0              Under-7     M  \n",
       "1              Under-7     M  \n",
       "5              Above-7     M  \n",
       "7              Under-7     M  \n",
       "8              Under-7     M  \n",
       "..                 ...   ...  \n",
       "467            Under-7     H  \n",
       "470            Under-7     M  \n",
       "471            Under-7     M  \n",
       "472            Under-7     M  \n",
       "473            Under-7     M  \n",
       "\n",
       "[270 rows x 17 columns]"
      ]
     },
     "execution_count": 21,
     "metadata": {},
     "output_type": "execute_result"
    }
   ],
   "source": [
    "students_Yes= students[students[\"ParentAnsweringSurvey\"] == \"Yes\"]  # 270\n",
    "\n",
    "students_Yes"
   ]
  },
  {
   "cell_type": "code",
   "execution_count": 25,
   "metadata": {},
   "outputs": [
    {
     "data": {
      "application/vnd.plotly.v1+json": {
       "config": {
        "plotlyServerURL": "https://plot.ly"
       },
       "data": [
        {
         "branchvalues": "total",
         "domain": {
          "x": [
           0,
           1
          ],
          "y": [
           0,
           1
          ]
         },
         "hovertemplate": "labels=%{label}<br>count=%{value}<br>parent=%{parent}<br>id=%{id}<extra></extra>",
         "ids": [
          "M/lowerlevel/G-02/Arabic/F/Above-7",
          "F/MiddleSchool/G-07/Biology/F/Above-7",
          "M/MiddleSchool/G-08/Chemistry/F/Above-7",
          "M/MiddleSchool/G-06/English/F/Above-7",
          "F/MiddleSchool/G-07/English/F/Above-7",
          "F/lowerlevel/G-02/French/F/Above-7",
          "F/MiddleSchool/G-08/Geology/F/Above-7",
          "M/MiddleSchool/G-08/Geology/F/Above-7",
          "M/MiddleSchool/G-08/History/F/Above-7",
          "F/lowerlevel/G-02/IT/F/Above-7",
          "M/lowerlevel/G-02/IT/F/Above-7",
          "F/lowerlevel/G-04/IT/F/Above-7",
          "M/MiddleSchool/G-07/IT/F/Above-7",
          "F/lowerlevel/G-07/IT/F/Above-7",
          "M/HighSchool/G-09/IT/F/Above-7",
          "M/MiddleSchool/G-07/Math/F/Above-7",
          "M/MiddleSchool/G-08/Math/F/Above-7",
          "M/MiddleSchool/G-07/Quran/F/Above-7",
          "M/lowerlevel/G-04/Science/F/Above-7",
          "M/MiddleSchool/G-07/Science/F/Above-7",
          "M/lowerlevel/G-02/Arabic/S/Above-7",
          "F/MiddleSchool/G-08/Arabic/S/Above-7",
          "M/MiddleSchool/G-08/Arabic/S/Above-7",
          "F/MiddleSchool/G-07/Biology/S/Above-7",
          "M/MiddleSchool/G-08/Chemistry/S/Above-7",
          "M/MiddleSchool/G-06/English/S/Above-7",
          "F/lowerlevel/G-02/French/S/Above-7",
          "M/lowerlevel/G-02/French/S/Above-7",
          "F/MiddleSchool/G-08/Geology/S/Above-7",
          "M/MiddleSchool/G-08/Geology/S/Above-7",
          "F/lowerlevel/G-04/History/S/Above-7",
          "M/lowerlevel/G-04/History/S/Above-7",
          "M/MiddleSchool/G-08/History/S/Above-7",
          "M/lowerlevel/G-02/IT/S/Above-7",
          "M/HighSchool/G-11/Math/S/Above-7",
          "M/lowerlevel/G-04/Science/S/Above-7",
          "F/MiddleSchool/G-07/Science/S/Above-7",
          "M/MiddleSchool/G-07/Science/S/Above-7",
          "M/MiddleSchool/G-08/Spanish/S/Above-7",
          "F/lowerlevel/G-02/Arabic/F/Under-7",
          "M/lowerlevel/G-02/Arabic/F/Under-7",
          "F/MiddleSchool/G-08/Arabic/F/Under-7",
          "F/MiddleSchool/G-07/Biology/F/Under-7",
          "M/MiddleSchool/G-07/Biology/F/Under-7",
          "F/MiddleSchool/G-08/Chemistry/F/Under-7",
          "M/MiddleSchool/G-08/Chemistry/F/Under-7",
          "F/MiddleSchool/G-06/English/F/Under-7",
          "M/MiddleSchool/G-06/English/F/Under-7",
          "F/HighSchool/G-12/English/F/Under-7",
          "F/lowerlevel/G-02/French/F/Under-7",
          "M/lowerlevel/G-02/French/F/Under-7",
          "F/MiddleSchool/G-08/Geology/F/Under-7",
          "M/MiddleSchool/G-08/Geology/F/Under-7",
          "F/MiddleSchool/G-08/History/F/Under-7",
          "M/MiddleSchool/G-08/History/F/Under-7",
          "F/lowerlevel/G-02/IT/F/Under-7",
          "M/lowerlevel/G-02/IT/F/Under-7",
          "M/lowerlevel/G-04/IT/F/Under-7",
          "F/MiddleSchool/G-06/IT/F/Under-7",
          "F/MiddleSchool/G-07/IT/F/Under-7",
          "M/MiddleSchool/G-07/IT/F/Under-7",
          "F/HighSchool/G-09/IT/F/Under-7",
          "M/HighSchool/G-09/IT/F/Under-7",
          "M/HighSchool/G-10/IT/F/Under-7",
          "F/HighSchool/G-12/IT/F/Under-7",
          "F/MiddleSchool/G-07/Math/F/Under-7",
          "M/MiddleSchool/G-07/Math/F/Under-7",
          "M/MiddleSchool/G-07/Quran/F/Under-7",
          "F/lowerlevel/G-04/Science/F/Under-7",
          "M/lowerlevel/G-04/Science/F/Under-7",
          "F/MiddleSchool/G-07/Science/F/Under-7",
          "M/MiddleSchool/G-08/Science/F/Under-7",
          "F/HighSchool/G-11/Science/F/Under-7",
          "F/lowerlevel/G-02/Arabic/S/Under-7",
          "M/lowerlevel/G-02/Arabic/S/Under-7",
          "F/MiddleSchool/G-08/Arabic/S/Under-7",
          "M/MiddleSchool/G-08/Arabic/S/Under-7",
          "F/MiddleSchool/G-07/Biology/S/Under-7",
          "M/MiddleSchool/G-07/Biology/S/Under-7",
          "F/MiddleSchool/G-08/Chemistry/S/Under-7",
          "M/MiddleSchool/G-08/Chemistry/S/Under-7",
          "M/lowerlevel/G-04/English/S/Under-7",
          "F/MiddleSchool/G-06/English/S/Under-7",
          "M/MiddleSchool/G-06/English/S/Under-7",
          "F/lowerlevel/G-02/French/S/Under-7",
          "M/lowerlevel/G-02/French/S/Under-7",
          "F/HighSchool/G-11/French/S/Under-7",
          "F/MiddleSchool/G-08/Geology/S/Under-7",
          "M/MiddleSchool/G-08/Geology/S/Under-7",
          "F/lowerlevel/G-04/History/S/Under-7",
          "M/lowerlevel/G-04/History/S/Under-7",
          "F/MiddleSchool/G-08/History/S/Under-7",
          "M/MiddleSchool/G-08/History/S/Under-7",
          "F/MiddleSchool/G-06/IT/S/Under-7",
          "M/MiddleSchool/G-07/IT/S/Under-7",
          "M/lowerlevel/G-04/Math/S/Under-7",
          "M/HighSchool/G-11/Math/S/Under-7",
          "F/MiddleSchool/G-07/Quran/S/Under-7",
          "M/MiddleSchool/G-07/Quran/S/Under-7",
          "F/HighSchool/G-11/Quran/S/Under-7",
          "M/HighSchool/G-11/Quran/S/Under-7",
          "F/lowerlevel/G-04/Science/S/Under-7",
          "M/lowerlevel/G-04/Science/S/Under-7",
          "F/MiddleSchool/G-06/Science/S/Under-7",
          "F/MiddleSchool/G-07/Science/S/Under-7",
          "M/MiddleSchool/G-07/Science/S/Under-7",
          "F/HighSchool/G-11/Science/S/Under-7",
          "M/HighSchool/G-11/Science/S/Under-7",
          "F/MiddleSchool/G-08/Spanish/S/Under-7",
          "M/MiddleSchool/G-08/Spanish/S/Under-7",
          "F/lowerlevel/G-02/Arabic/F",
          "M/lowerlevel/G-02/Arabic/F",
          "F/MiddleSchool/G-08/Arabic/F",
          "F/MiddleSchool/G-07/Biology/F",
          "M/MiddleSchool/G-07/Biology/F",
          "F/MiddleSchool/G-08/Chemistry/F",
          "M/MiddleSchool/G-08/Chemistry/F",
          "F/MiddleSchool/G-06/English/F",
          "M/MiddleSchool/G-06/English/F",
          "F/MiddleSchool/G-07/English/F",
          "F/HighSchool/G-12/English/F",
          "F/lowerlevel/G-02/French/F",
          "M/lowerlevel/G-02/French/F",
          "F/MiddleSchool/G-08/Geology/F",
          "M/MiddleSchool/G-08/Geology/F",
          "F/MiddleSchool/G-08/History/F",
          "M/MiddleSchool/G-08/History/F",
          "F/lowerlevel/G-02/IT/F",
          "M/lowerlevel/G-02/IT/F",
          "F/lowerlevel/G-04/IT/F",
          "M/lowerlevel/G-04/IT/F",
          "F/MiddleSchool/G-06/IT/F",
          "F/MiddleSchool/G-07/IT/F",
          "M/MiddleSchool/G-07/IT/F",
          "F/lowerlevel/G-07/IT/F",
          "F/HighSchool/G-09/IT/F",
          "M/HighSchool/G-09/IT/F",
          "M/HighSchool/G-10/IT/F",
          "F/HighSchool/G-12/IT/F",
          "F/MiddleSchool/G-07/Math/F",
          "M/MiddleSchool/G-07/Math/F",
          "M/MiddleSchool/G-08/Math/F",
          "M/MiddleSchool/G-07/Quran/F",
          "F/lowerlevel/G-04/Science/F",
          "M/lowerlevel/G-04/Science/F",
          "F/MiddleSchool/G-07/Science/F",
          "M/MiddleSchool/G-07/Science/F",
          "M/MiddleSchool/G-08/Science/F",
          "F/HighSchool/G-11/Science/F",
          "F/lowerlevel/G-02/Arabic/S",
          "M/lowerlevel/G-02/Arabic/S",
          "F/MiddleSchool/G-08/Arabic/S",
          "M/MiddleSchool/G-08/Arabic/S",
          "F/MiddleSchool/G-07/Biology/S",
          "M/MiddleSchool/G-07/Biology/S",
          "F/MiddleSchool/G-08/Chemistry/S",
          "M/MiddleSchool/G-08/Chemistry/S",
          "M/lowerlevel/G-04/English/S",
          "F/MiddleSchool/G-06/English/S",
          "M/MiddleSchool/G-06/English/S",
          "F/lowerlevel/G-02/French/S",
          "M/lowerlevel/G-02/French/S",
          "F/HighSchool/G-11/French/S",
          "F/MiddleSchool/G-08/Geology/S",
          "M/MiddleSchool/G-08/Geology/S",
          "F/lowerlevel/G-04/History/S",
          "M/lowerlevel/G-04/History/S",
          "F/MiddleSchool/G-08/History/S",
          "M/MiddleSchool/G-08/History/S",
          "M/lowerlevel/G-02/IT/S",
          "F/MiddleSchool/G-06/IT/S",
          "M/MiddleSchool/G-07/IT/S",
          "M/lowerlevel/G-04/Math/S",
          "M/HighSchool/G-11/Math/S",
          "F/MiddleSchool/G-07/Quran/S",
          "M/MiddleSchool/G-07/Quran/S",
          "F/HighSchool/G-11/Quran/S",
          "M/HighSchool/G-11/Quran/S",
          "F/lowerlevel/G-04/Science/S",
          "M/lowerlevel/G-04/Science/S",
          "F/MiddleSchool/G-06/Science/S",
          "F/MiddleSchool/G-07/Science/S",
          "M/MiddleSchool/G-07/Science/S",
          "F/HighSchool/G-11/Science/S",
          "M/HighSchool/G-11/Science/S",
          "F/MiddleSchool/G-08/Spanish/S",
          "M/MiddleSchool/G-08/Spanish/S",
          "F/lowerlevel/G-02/Arabic",
          "M/lowerlevel/G-02/Arabic",
          "F/MiddleSchool/G-08/Arabic",
          "M/MiddleSchool/G-08/Arabic",
          "F/MiddleSchool/G-07/Biology",
          "M/MiddleSchool/G-07/Biology",
          "F/MiddleSchool/G-08/Chemistry",
          "M/MiddleSchool/G-08/Chemistry",
          "M/lowerlevel/G-04/English",
          "F/MiddleSchool/G-06/English",
          "M/MiddleSchool/G-06/English",
          "F/MiddleSchool/G-07/English",
          "F/HighSchool/G-12/English",
          "F/lowerlevel/G-02/French",
          "M/lowerlevel/G-02/French",
          "F/HighSchool/G-11/French",
          "F/MiddleSchool/G-08/Geology",
          "M/MiddleSchool/G-08/Geology",
          "F/lowerlevel/G-04/History",
          "M/lowerlevel/G-04/History",
          "F/MiddleSchool/G-08/History",
          "M/MiddleSchool/G-08/History",
          "F/lowerlevel/G-02/IT",
          "M/lowerlevel/G-02/IT",
          "F/lowerlevel/G-04/IT",
          "M/lowerlevel/G-04/IT",
          "F/MiddleSchool/G-06/IT",
          "F/MiddleSchool/G-07/IT",
          "M/MiddleSchool/G-07/IT",
          "F/lowerlevel/G-07/IT",
          "F/HighSchool/G-09/IT",
          "M/HighSchool/G-09/IT",
          "M/HighSchool/G-10/IT",
          "F/HighSchool/G-12/IT",
          "M/lowerlevel/G-04/Math",
          "F/MiddleSchool/G-07/Math",
          "M/MiddleSchool/G-07/Math",
          "M/MiddleSchool/G-08/Math",
          "M/HighSchool/G-11/Math",
          "F/MiddleSchool/G-07/Quran",
          "M/MiddleSchool/G-07/Quran",
          "F/HighSchool/G-11/Quran",
          "M/HighSchool/G-11/Quran",
          "F/lowerlevel/G-04/Science",
          "M/lowerlevel/G-04/Science",
          "F/MiddleSchool/G-06/Science",
          "F/MiddleSchool/G-07/Science",
          "M/MiddleSchool/G-07/Science",
          "M/MiddleSchool/G-08/Science",
          "F/HighSchool/G-11/Science",
          "M/HighSchool/G-11/Science",
          "F/MiddleSchool/G-08/Spanish",
          "M/MiddleSchool/G-08/Spanish",
          "F/lowerlevel/G-02",
          "M/lowerlevel/G-02",
          "F/lowerlevel/G-04",
          "M/lowerlevel/G-04",
          "F/MiddleSchool/G-06",
          "M/MiddleSchool/G-06",
          "F/MiddleSchool/G-07",
          "M/MiddleSchool/G-07",
          "F/lowerlevel/G-07",
          "F/MiddleSchool/G-08",
          "M/MiddleSchool/G-08",
          "F/HighSchool/G-09",
          "M/HighSchool/G-09",
          "M/HighSchool/G-10",
          "F/HighSchool/G-11",
          "M/HighSchool/G-11",
          "F/HighSchool/G-12",
          "F/HighSchool",
          "M/HighSchool",
          "F/MiddleSchool",
          "M/MiddleSchool",
          "F/lowerlevel",
          "M/lowerlevel",
          "F",
          "M"
         ],
         "labels": [
          "Above-7",
          "Above-7",
          "Above-7",
          "Above-7",
          "Above-7",
          "Above-7",
          "Above-7",
          "Above-7",
          "Above-7",
          "Above-7",
          "Above-7",
          "Above-7",
          "Above-7",
          "Above-7",
          "Above-7",
          "Above-7",
          "Above-7",
          "Above-7",
          "Above-7",
          "Above-7",
          "Above-7",
          "Above-7",
          "Above-7",
          "Above-7",
          "Above-7",
          "Above-7",
          "Above-7",
          "Above-7",
          "Above-7",
          "Above-7",
          "Above-7",
          "Above-7",
          "Above-7",
          "Above-7",
          "Above-7",
          "Above-7",
          "Above-7",
          "Above-7",
          "Above-7",
          "Under-7",
          "Under-7",
          "Under-7",
          "Under-7",
          "Under-7",
          "Under-7",
          "Under-7",
          "Under-7",
          "Under-7",
          "Under-7",
          "Under-7",
          "Under-7",
          "Under-7",
          "Under-7",
          "Under-7",
          "Under-7",
          "Under-7",
          "Under-7",
          "Under-7",
          "Under-7",
          "Under-7",
          "Under-7",
          "Under-7",
          "Under-7",
          "Under-7",
          "Under-7",
          "Under-7",
          "Under-7",
          "Under-7",
          "Under-7",
          "Under-7",
          "Under-7",
          "Under-7",
          "Under-7",
          "Under-7",
          "Under-7",
          "Under-7",
          "Under-7",
          "Under-7",
          "Under-7",
          "Under-7",
          "Under-7",
          "Under-7",
          "Under-7",
          "Under-7",
          "Under-7",
          "Under-7",
          "Under-7",
          "Under-7",
          "Under-7",
          "Under-7",
          "Under-7",
          "Under-7",
          "Under-7",
          "Under-7",
          "Under-7",
          "Under-7",
          "Under-7",
          "Under-7",
          "Under-7",
          "Under-7",
          "Under-7",
          "Under-7",
          "Under-7",
          "Under-7",
          "Under-7",
          "Under-7",
          "Under-7",
          "Under-7",
          "Under-7",
          "Under-7",
          "F",
          "F",
          "F",
          "F",
          "F",
          "F",
          "F",
          "F",
          "F",
          "F",
          "F",
          "F",
          "F",
          "F",
          "F",
          "F",
          "F",
          "F",
          "F",
          "F",
          "F",
          "F",
          "F",
          "F",
          "F",
          "F",
          "F",
          "F",
          "F",
          "F",
          "F",
          "F",
          "F",
          "F",
          "F",
          "F",
          "F",
          "F",
          "F",
          "S",
          "S",
          "S",
          "S",
          "S",
          "S",
          "S",
          "S",
          "S",
          "S",
          "S",
          "S",
          "S",
          "S",
          "S",
          "S",
          "S",
          "S",
          "S",
          "S",
          "S",
          "S",
          "S",
          "S",
          "S",
          "S",
          "S",
          "S",
          "S",
          "S",
          "S",
          "S",
          "S",
          "S",
          "S",
          "S",
          "S",
          "S",
          "Arabic",
          "Arabic",
          "Arabic",
          "Arabic",
          "Biology",
          "Biology",
          "Chemistry",
          "Chemistry",
          "English",
          "English",
          "English",
          "English",
          "English",
          "French",
          "French",
          "French",
          "Geology",
          "Geology",
          "History",
          "History",
          "History",
          "History",
          "IT",
          "IT",
          "IT",
          "IT",
          "IT",
          "IT",
          "IT",
          "IT",
          "IT",
          "IT",
          "IT",
          "IT",
          "Math",
          "Math",
          "Math",
          "Math",
          "Math",
          "Quran",
          "Quran",
          "Quran",
          "Quran",
          "Science",
          "Science",
          "Science",
          "Science",
          "Science",
          "Science",
          "Science",
          "Science",
          "Spanish",
          "Spanish",
          "G-02",
          "G-02",
          "G-04",
          "G-04",
          "G-06",
          "G-06",
          "G-07",
          "G-07",
          "G-07",
          "G-08",
          "G-08",
          "G-09",
          "G-09",
          "G-10",
          "G-11",
          "G-11",
          "G-12",
          "HighSchool",
          "HighSchool",
          "MiddleSchool",
          "MiddleSchool",
          "lowerlevel",
          "lowerlevel",
          "F",
          "M"
         ],
         "name": "",
         "parents": [
          "M/lowerlevel/G-02/Arabic/F",
          "F/MiddleSchool/G-07/Biology/F",
          "M/MiddleSchool/G-08/Chemistry/F",
          "M/MiddleSchool/G-06/English/F",
          "F/MiddleSchool/G-07/English/F",
          "F/lowerlevel/G-02/French/F",
          "F/MiddleSchool/G-08/Geology/F",
          "M/MiddleSchool/G-08/Geology/F",
          "M/MiddleSchool/G-08/History/F",
          "F/lowerlevel/G-02/IT/F",
          "M/lowerlevel/G-02/IT/F",
          "F/lowerlevel/G-04/IT/F",
          "M/MiddleSchool/G-07/IT/F",
          "F/lowerlevel/G-07/IT/F",
          "M/HighSchool/G-09/IT/F",
          "M/MiddleSchool/G-07/Math/F",
          "M/MiddleSchool/G-08/Math/F",
          "M/MiddleSchool/G-07/Quran/F",
          "M/lowerlevel/G-04/Science/F",
          "M/MiddleSchool/G-07/Science/F",
          "M/lowerlevel/G-02/Arabic/S",
          "F/MiddleSchool/G-08/Arabic/S",
          "M/MiddleSchool/G-08/Arabic/S",
          "F/MiddleSchool/G-07/Biology/S",
          "M/MiddleSchool/G-08/Chemistry/S",
          "M/MiddleSchool/G-06/English/S",
          "F/lowerlevel/G-02/French/S",
          "M/lowerlevel/G-02/French/S",
          "F/MiddleSchool/G-08/Geology/S",
          "M/MiddleSchool/G-08/Geology/S",
          "F/lowerlevel/G-04/History/S",
          "M/lowerlevel/G-04/History/S",
          "M/MiddleSchool/G-08/History/S",
          "M/lowerlevel/G-02/IT/S",
          "M/HighSchool/G-11/Math/S",
          "M/lowerlevel/G-04/Science/S",
          "F/MiddleSchool/G-07/Science/S",
          "M/MiddleSchool/G-07/Science/S",
          "M/MiddleSchool/G-08/Spanish/S",
          "F/lowerlevel/G-02/Arabic/F",
          "M/lowerlevel/G-02/Arabic/F",
          "F/MiddleSchool/G-08/Arabic/F",
          "F/MiddleSchool/G-07/Biology/F",
          "M/MiddleSchool/G-07/Biology/F",
          "F/MiddleSchool/G-08/Chemistry/F",
          "M/MiddleSchool/G-08/Chemistry/F",
          "F/MiddleSchool/G-06/English/F",
          "M/MiddleSchool/G-06/English/F",
          "F/HighSchool/G-12/English/F",
          "F/lowerlevel/G-02/French/F",
          "M/lowerlevel/G-02/French/F",
          "F/MiddleSchool/G-08/Geology/F",
          "M/MiddleSchool/G-08/Geology/F",
          "F/MiddleSchool/G-08/History/F",
          "M/MiddleSchool/G-08/History/F",
          "F/lowerlevel/G-02/IT/F",
          "M/lowerlevel/G-02/IT/F",
          "M/lowerlevel/G-04/IT/F",
          "F/MiddleSchool/G-06/IT/F",
          "F/MiddleSchool/G-07/IT/F",
          "M/MiddleSchool/G-07/IT/F",
          "F/HighSchool/G-09/IT/F",
          "M/HighSchool/G-09/IT/F",
          "M/HighSchool/G-10/IT/F",
          "F/HighSchool/G-12/IT/F",
          "F/MiddleSchool/G-07/Math/F",
          "M/MiddleSchool/G-07/Math/F",
          "M/MiddleSchool/G-07/Quran/F",
          "F/lowerlevel/G-04/Science/F",
          "M/lowerlevel/G-04/Science/F",
          "F/MiddleSchool/G-07/Science/F",
          "M/MiddleSchool/G-08/Science/F",
          "F/HighSchool/G-11/Science/F",
          "F/lowerlevel/G-02/Arabic/S",
          "M/lowerlevel/G-02/Arabic/S",
          "F/MiddleSchool/G-08/Arabic/S",
          "M/MiddleSchool/G-08/Arabic/S",
          "F/MiddleSchool/G-07/Biology/S",
          "M/MiddleSchool/G-07/Biology/S",
          "F/MiddleSchool/G-08/Chemistry/S",
          "M/MiddleSchool/G-08/Chemistry/S",
          "M/lowerlevel/G-04/English/S",
          "F/MiddleSchool/G-06/English/S",
          "M/MiddleSchool/G-06/English/S",
          "F/lowerlevel/G-02/French/S",
          "M/lowerlevel/G-02/French/S",
          "F/HighSchool/G-11/French/S",
          "F/MiddleSchool/G-08/Geology/S",
          "M/MiddleSchool/G-08/Geology/S",
          "F/lowerlevel/G-04/History/S",
          "M/lowerlevel/G-04/History/S",
          "F/MiddleSchool/G-08/History/S",
          "M/MiddleSchool/G-08/History/S",
          "F/MiddleSchool/G-06/IT/S",
          "M/MiddleSchool/G-07/IT/S",
          "M/lowerlevel/G-04/Math/S",
          "M/HighSchool/G-11/Math/S",
          "F/MiddleSchool/G-07/Quran/S",
          "M/MiddleSchool/G-07/Quran/S",
          "F/HighSchool/G-11/Quran/S",
          "M/HighSchool/G-11/Quran/S",
          "F/lowerlevel/G-04/Science/S",
          "M/lowerlevel/G-04/Science/S",
          "F/MiddleSchool/G-06/Science/S",
          "F/MiddleSchool/G-07/Science/S",
          "M/MiddleSchool/G-07/Science/S",
          "F/HighSchool/G-11/Science/S",
          "M/HighSchool/G-11/Science/S",
          "F/MiddleSchool/G-08/Spanish/S",
          "M/MiddleSchool/G-08/Spanish/S",
          "F/lowerlevel/G-02/Arabic",
          "M/lowerlevel/G-02/Arabic",
          "F/MiddleSchool/G-08/Arabic",
          "F/MiddleSchool/G-07/Biology",
          "M/MiddleSchool/G-07/Biology",
          "F/MiddleSchool/G-08/Chemistry",
          "M/MiddleSchool/G-08/Chemistry",
          "F/MiddleSchool/G-06/English",
          "M/MiddleSchool/G-06/English",
          "F/MiddleSchool/G-07/English",
          "F/HighSchool/G-12/English",
          "F/lowerlevel/G-02/French",
          "M/lowerlevel/G-02/French",
          "F/MiddleSchool/G-08/Geology",
          "M/MiddleSchool/G-08/Geology",
          "F/MiddleSchool/G-08/History",
          "M/MiddleSchool/G-08/History",
          "F/lowerlevel/G-02/IT",
          "M/lowerlevel/G-02/IT",
          "F/lowerlevel/G-04/IT",
          "M/lowerlevel/G-04/IT",
          "F/MiddleSchool/G-06/IT",
          "F/MiddleSchool/G-07/IT",
          "M/MiddleSchool/G-07/IT",
          "F/lowerlevel/G-07/IT",
          "F/HighSchool/G-09/IT",
          "M/HighSchool/G-09/IT",
          "M/HighSchool/G-10/IT",
          "F/HighSchool/G-12/IT",
          "F/MiddleSchool/G-07/Math",
          "M/MiddleSchool/G-07/Math",
          "M/MiddleSchool/G-08/Math",
          "M/MiddleSchool/G-07/Quran",
          "F/lowerlevel/G-04/Science",
          "M/lowerlevel/G-04/Science",
          "F/MiddleSchool/G-07/Science",
          "M/MiddleSchool/G-07/Science",
          "M/MiddleSchool/G-08/Science",
          "F/HighSchool/G-11/Science",
          "F/lowerlevel/G-02/Arabic",
          "M/lowerlevel/G-02/Arabic",
          "F/MiddleSchool/G-08/Arabic",
          "M/MiddleSchool/G-08/Arabic",
          "F/MiddleSchool/G-07/Biology",
          "M/MiddleSchool/G-07/Biology",
          "F/MiddleSchool/G-08/Chemistry",
          "M/MiddleSchool/G-08/Chemistry",
          "M/lowerlevel/G-04/English",
          "F/MiddleSchool/G-06/English",
          "M/MiddleSchool/G-06/English",
          "F/lowerlevel/G-02/French",
          "M/lowerlevel/G-02/French",
          "F/HighSchool/G-11/French",
          "F/MiddleSchool/G-08/Geology",
          "M/MiddleSchool/G-08/Geology",
          "F/lowerlevel/G-04/History",
          "M/lowerlevel/G-04/History",
          "F/MiddleSchool/G-08/History",
          "M/MiddleSchool/G-08/History",
          "M/lowerlevel/G-02/IT",
          "F/MiddleSchool/G-06/IT",
          "M/MiddleSchool/G-07/IT",
          "M/lowerlevel/G-04/Math",
          "M/HighSchool/G-11/Math",
          "F/MiddleSchool/G-07/Quran",
          "M/MiddleSchool/G-07/Quran",
          "F/HighSchool/G-11/Quran",
          "M/HighSchool/G-11/Quran",
          "F/lowerlevel/G-04/Science",
          "M/lowerlevel/G-04/Science",
          "F/MiddleSchool/G-06/Science",
          "F/MiddleSchool/G-07/Science",
          "M/MiddleSchool/G-07/Science",
          "F/HighSchool/G-11/Science",
          "M/HighSchool/G-11/Science",
          "F/MiddleSchool/G-08/Spanish",
          "M/MiddleSchool/G-08/Spanish",
          "F/lowerlevel/G-02",
          "M/lowerlevel/G-02",
          "F/MiddleSchool/G-08",
          "M/MiddleSchool/G-08",
          "F/MiddleSchool/G-07",
          "M/MiddleSchool/G-07",
          "F/MiddleSchool/G-08",
          "M/MiddleSchool/G-08",
          "M/lowerlevel/G-04",
          "F/MiddleSchool/G-06",
          "M/MiddleSchool/G-06",
          "F/MiddleSchool/G-07",
          "F/HighSchool/G-12",
          "F/lowerlevel/G-02",
          "M/lowerlevel/G-02",
          "F/HighSchool/G-11",
          "F/MiddleSchool/G-08",
          "M/MiddleSchool/G-08",
          "F/lowerlevel/G-04",
          "M/lowerlevel/G-04",
          "F/MiddleSchool/G-08",
          "M/MiddleSchool/G-08",
          "F/lowerlevel/G-02",
          "M/lowerlevel/G-02",
          "F/lowerlevel/G-04",
          "M/lowerlevel/G-04",
          "F/MiddleSchool/G-06",
          "F/MiddleSchool/G-07",
          "M/MiddleSchool/G-07",
          "F/lowerlevel/G-07",
          "F/HighSchool/G-09",
          "M/HighSchool/G-09",
          "M/HighSchool/G-10",
          "F/HighSchool/G-12",
          "M/lowerlevel/G-04",
          "F/MiddleSchool/G-07",
          "M/MiddleSchool/G-07",
          "M/MiddleSchool/G-08",
          "M/HighSchool/G-11",
          "F/MiddleSchool/G-07",
          "M/MiddleSchool/G-07",
          "F/HighSchool/G-11",
          "M/HighSchool/G-11",
          "F/lowerlevel/G-04",
          "M/lowerlevel/G-04",
          "F/MiddleSchool/G-06",
          "F/MiddleSchool/G-07",
          "M/MiddleSchool/G-07",
          "M/MiddleSchool/G-08",
          "F/HighSchool/G-11",
          "M/HighSchool/G-11",
          "F/MiddleSchool/G-08",
          "M/MiddleSchool/G-08",
          "F/lowerlevel",
          "M/lowerlevel",
          "F/lowerlevel",
          "M/lowerlevel",
          "F/MiddleSchool",
          "M/MiddleSchool",
          "F/MiddleSchool",
          "M/MiddleSchool",
          "F/lowerlevel",
          "F/MiddleSchool",
          "M/MiddleSchool",
          "F/HighSchool",
          "M/HighSchool",
          "M/HighSchool",
          "F/HighSchool",
          "M/HighSchool",
          "F/HighSchool",
          "F",
          "M",
          "F",
          "M",
          "F",
          "M",
          "",
          ""
         ],
         "type": "sunburst",
         "values": [
          4,
          1,
          3,
          2,
          1,
          1,
          2,
          1,
          2,
          4,
          7,
          1,
          4,
          1,
          1,
          2,
          1,
          2,
          2,
          1,
          4,
          1,
          1,
          1,
          3,
          3,
          2,
          2,
          2,
          1,
          1,
          1,
          2,
          1,
          1,
          2,
          2,
          2,
          2,
          1,
          4,
          1,
          2,
          6,
          4,
          2,
          2,
          2,
          4,
          4,
          3,
          2,
          4,
          1,
          2,
          7,
          9,
          2,
          1,
          3,
          3,
          1,
          2,
          3,
          1,
          2,
          5,
          1,
          4,
          1,
          1,
          1,
          1,
          1,
          4,
          3,
          10,
          2,
          6,
          4,
          2,
          1,
          2,
          2,
          8,
          7,
          1,
          2,
          4,
          1,
          1,
          1,
          2,
          1,
          1,
          1,
          1,
          3,
          4,
          1,
          1,
          4,
          1,
          1,
          2,
          3,
          1,
          1,
          1,
          10,
          1,
          8,
          1,
          3,
          6,
          4,
          5,
          2,
          4,
          1,
          4,
          5,
          3,
          4,
          5,
          1,
          4,
          11,
          16,
          1,
          2,
          1,
          3,
          7,
          1,
          1,
          3,
          3,
          1,
          2,
          7,
          1,
          3,
          4,
          3,
          1,
          1,
          1,
          1,
          1,
          8,
          4,
          11,
          3,
          6,
          4,
          5,
          1,
          2,
          5,
          10,
          9,
          1,
          4,
          5,
          2,
          2,
          1,
          4,
          1,
          1,
          1,
          1,
          2,
          3,
          4,
          1,
          1,
          4,
          3,
          1,
          4,
          5,
          1,
          1,
          1,
          12,
          2,
          16,
          5,
          11,
          6,
          12,
          8,
          10,
          1,
          4,
          9,
          1,
          4,
          15,
          12,
          1,
          8,
          10,
          2,
          2,
          2,
          8,
          11,
          17,
          1,
          2,
          2,
          3,
          8,
          1,
          1,
          3,
          3,
          1,
          1,
          2,
          7,
          1,
          2,
          3,
          7,
          1,
          1,
          8,
          6,
          1,
          5,
          6,
          1,
          2,
          1,
          1,
          12,
          28,
          45,
          11,
          12,
          7,
          9,
          20,
          40,
          1,
          24,
          53,
          1,
          3,
          3,
          4,
          4,
          5,
          10,
          10,
          51,
          102,
          40,
          57,
          101,
          169
         ]
        }
       ],
       "layout": {
        "legend": {
         "tracegroupgap": 0
        },
        "margin": {
         "t": 60
        },
        "template": {
         "data": {
          "bar": [
           {
            "error_x": {
             "color": "#2a3f5f"
            },
            "error_y": {
             "color": "#2a3f5f"
            },
            "marker": {
             "line": {
              "color": "#E5ECF6",
              "width": 0.5
             },
             "pattern": {
              "fillmode": "overlay",
              "size": 10,
              "solidity": 0.2
             }
            },
            "type": "bar"
           }
          ],
          "barpolar": [
           {
            "marker": {
             "line": {
              "color": "#E5ECF6",
              "width": 0.5
             },
             "pattern": {
              "fillmode": "overlay",
              "size": 10,
              "solidity": 0.2
             }
            },
            "type": "barpolar"
           }
          ],
          "carpet": [
           {
            "aaxis": {
             "endlinecolor": "#2a3f5f",
             "gridcolor": "white",
             "linecolor": "white",
             "minorgridcolor": "white",
             "startlinecolor": "#2a3f5f"
            },
            "baxis": {
             "endlinecolor": "#2a3f5f",
             "gridcolor": "white",
             "linecolor": "white",
             "minorgridcolor": "white",
             "startlinecolor": "#2a3f5f"
            },
            "type": "carpet"
           }
          ],
          "choropleth": [
           {
            "colorbar": {
             "outlinewidth": 0,
             "ticks": ""
            },
            "type": "choropleth"
           }
          ],
          "contour": [
           {
            "colorbar": {
             "outlinewidth": 0,
             "ticks": ""
            },
            "colorscale": [
             [
              0,
              "#0d0887"
             ],
             [
              0.1111111111111111,
              "#46039f"
             ],
             [
              0.2222222222222222,
              "#7201a8"
             ],
             [
              0.3333333333333333,
              "#9c179e"
             ],
             [
              0.4444444444444444,
              "#bd3786"
             ],
             [
              0.5555555555555556,
              "#d8576b"
             ],
             [
              0.6666666666666666,
              "#ed7953"
             ],
             [
              0.7777777777777778,
              "#fb9f3a"
             ],
             [
              0.8888888888888888,
              "#fdca26"
             ],
             [
              1,
              "#f0f921"
             ]
            ],
            "type": "contour"
           }
          ],
          "contourcarpet": [
           {
            "colorbar": {
             "outlinewidth": 0,
             "ticks": ""
            },
            "type": "contourcarpet"
           }
          ],
          "heatmap": [
           {
            "colorbar": {
             "outlinewidth": 0,
             "ticks": ""
            },
            "colorscale": [
             [
              0,
              "#0d0887"
             ],
             [
              0.1111111111111111,
              "#46039f"
             ],
             [
              0.2222222222222222,
              "#7201a8"
             ],
             [
              0.3333333333333333,
              "#9c179e"
             ],
             [
              0.4444444444444444,
              "#bd3786"
             ],
             [
              0.5555555555555556,
              "#d8576b"
             ],
             [
              0.6666666666666666,
              "#ed7953"
             ],
             [
              0.7777777777777778,
              "#fb9f3a"
             ],
             [
              0.8888888888888888,
              "#fdca26"
             ],
             [
              1,
              "#f0f921"
             ]
            ],
            "type": "heatmap"
           }
          ],
          "heatmapgl": [
           {
            "colorbar": {
             "outlinewidth": 0,
             "ticks": ""
            },
            "colorscale": [
             [
              0,
              "#0d0887"
             ],
             [
              0.1111111111111111,
              "#46039f"
             ],
             [
              0.2222222222222222,
              "#7201a8"
             ],
             [
              0.3333333333333333,
              "#9c179e"
             ],
             [
              0.4444444444444444,
              "#bd3786"
             ],
             [
              0.5555555555555556,
              "#d8576b"
             ],
             [
              0.6666666666666666,
              "#ed7953"
             ],
             [
              0.7777777777777778,
              "#fb9f3a"
             ],
             [
              0.8888888888888888,
              "#fdca26"
             ],
             [
              1,
              "#f0f921"
             ]
            ],
            "type": "heatmapgl"
           }
          ],
          "histogram": [
           {
            "marker": {
             "pattern": {
              "fillmode": "overlay",
              "size": 10,
              "solidity": 0.2
             }
            },
            "type": "histogram"
           }
          ],
          "histogram2d": [
           {
            "colorbar": {
             "outlinewidth": 0,
             "ticks": ""
            },
            "colorscale": [
             [
              0,
              "#0d0887"
             ],
             [
              0.1111111111111111,
              "#46039f"
             ],
             [
              0.2222222222222222,
              "#7201a8"
             ],
             [
              0.3333333333333333,
              "#9c179e"
             ],
             [
              0.4444444444444444,
              "#bd3786"
             ],
             [
              0.5555555555555556,
              "#d8576b"
             ],
             [
              0.6666666666666666,
              "#ed7953"
             ],
             [
              0.7777777777777778,
              "#fb9f3a"
             ],
             [
              0.8888888888888888,
              "#fdca26"
             ],
             [
              1,
              "#f0f921"
             ]
            ],
            "type": "histogram2d"
           }
          ],
          "histogram2dcontour": [
           {
            "colorbar": {
             "outlinewidth": 0,
             "ticks": ""
            },
            "colorscale": [
             [
              0,
              "#0d0887"
             ],
             [
              0.1111111111111111,
              "#46039f"
             ],
             [
              0.2222222222222222,
              "#7201a8"
             ],
             [
              0.3333333333333333,
              "#9c179e"
             ],
             [
              0.4444444444444444,
              "#bd3786"
             ],
             [
              0.5555555555555556,
              "#d8576b"
             ],
             [
              0.6666666666666666,
              "#ed7953"
             ],
             [
              0.7777777777777778,
              "#fb9f3a"
             ],
             [
              0.8888888888888888,
              "#fdca26"
             ],
             [
              1,
              "#f0f921"
             ]
            ],
            "type": "histogram2dcontour"
           }
          ],
          "mesh3d": [
           {
            "colorbar": {
             "outlinewidth": 0,
             "ticks": ""
            },
            "type": "mesh3d"
           }
          ],
          "parcoords": [
           {
            "line": {
             "colorbar": {
              "outlinewidth": 0,
              "ticks": ""
             }
            },
            "type": "parcoords"
           }
          ],
          "pie": [
           {
            "automargin": true,
            "type": "pie"
           }
          ],
          "scatter": [
           {
            "fillpattern": {
             "fillmode": "overlay",
             "size": 10,
             "solidity": 0.2
            },
            "type": "scatter"
           }
          ],
          "scatter3d": [
           {
            "line": {
             "colorbar": {
              "outlinewidth": 0,
              "ticks": ""
             }
            },
            "marker": {
             "colorbar": {
              "outlinewidth": 0,
              "ticks": ""
             }
            },
            "type": "scatter3d"
           }
          ],
          "scattercarpet": [
           {
            "marker": {
             "colorbar": {
              "outlinewidth": 0,
              "ticks": ""
             }
            },
            "type": "scattercarpet"
           }
          ],
          "scattergeo": [
           {
            "marker": {
             "colorbar": {
              "outlinewidth": 0,
              "ticks": ""
             }
            },
            "type": "scattergeo"
           }
          ],
          "scattergl": [
           {
            "marker": {
             "colorbar": {
              "outlinewidth": 0,
              "ticks": ""
             }
            },
            "type": "scattergl"
           }
          ],
          "scattermapbox": [
           {
            "marker": {
             "colorbar": {
              "outlinewidth": 0,
              "ticks": ""
             }
            },
            "type": "scattermapbox"
           }
          ],
          "scatterpolar": [
           {
            "marker": {
             "colorbar": {
              "outlinewidth": 0,
              "ticks": ""
             }
            },
            "type": "scatterpolar"
           }
          ],
          "scatterpolargl": [
           {
            "marker": {
             "colorbar": {
              "outlinewidth": 0,
              "ticks": ""
             }
            },
            "type": "scatterpolargl"
           }
          ],
          "scatterternary": [
           {
            "marker": {
             "colorbar": {
              "outlinewidth": 0,
              "ticks": ""
             }
            },
            "type": "scatterternary"
           }
          ],
          "surface": [
           {
            "colorbar": {
             "outlinewidth": 0,
             "ticks": ""
            },
            "colorscale": [
             [
              0,
              "#0d0887"
             ],
             [
              0.1111111111111111,
              "#46039f"
             ],
             [
              0.2222222222222222,
              "#7201a8"
             ],
             [
              0.3333333333333333,
              "#9c179e"
             ],
             [
              0.4444444444444444,
              "#bd3786"
             ],
             [
              0.5555555555555556,
              "#d8576b"
             ],
             [
              0.6666666666666666,
              "#ed7953"
             ],
             [
              0.7777777777777778,
              "#fb9f3a"
             ],
             [
              0.8888888888888888,
              "#fdca26"
             ],
             [
              1,
              "#f0f921"
             ]
            ],
            "type": "surface"
           }
          ],
          "table": [
           {
            "cells": {
             "fill": {
              "color": "#EBF0F8"
             },
             "line": {
              "color": "white"
             }
            },
            "header": {
             "fill": {
              "color": "#C8D4E3"
             },
             "line": {
              "color": "white"
             }
            },
            "type": "table"
           }
          ]
         },
         "layout": {
          "annotationdefaults": {
           "arrowcolor": "#2a3f5f",
           "arrowhead": 0,
           "arrowwidth": 1
          },
          "autotypenumbers": "strict",
          "coloraxis": {
           "colorbar": {
            "outlinewidth": 0,
            "ticks": ""
           }
          },
          "colorscale": {
           "diverging": [
            [
             0,
             "#8e0152"
            ],
            [
             0.1,
             "#c51b7d"
            ],
            [
             0.2,
             "#de77ae"
            ],
            [
             0.3,
             "#f1b6da"
            ],
            [
             0.4,
             "#fde0ef"
            ],
            [
             0.5,
             "#f7f7f7"
            ],
            [
             0.6,
             "#e6f5d0"
            ],
            [
             0.7,
             "#b8e186"
            ],
            [
             0.8,
             "#7fbc41"
            ],
            [
             0.9,
             "#4d9221"
            ],
            [
             1,
             "#276419"
            ]
           ],
           "sequential": [
            [
             0,
             "#0d0887"
            ],
            [
             0.1111111111111111,
             "#46039f"
            ],
            [
             0.2222222222222222,
             "#7201a8"
            ],
            [
             0.3333333333333333,
             "#9c179e"
            ],
            [
             0.4444444444444444,
             "#bd3786"
            ],
            [
             0.5555555555555556,
             "#d8576b"
            ],
            [
             0.6666666666666666,
             "#ed7953"
            ],
            [
             0.7777777777777778,
             "#fb9f3a"
            ],
            [
             0.8888888888888888,
             "#fdca26"
            ],
            [
             1,
             "#f0f921"
            ]
           ],
           "sequentialminus": [
            [
             0,
             "#0d0887"
            ],
            [
             0.1111111111111111,
             "#46039f"
            ],
            [
             0.2222222222222222,
             "#7201a8"
            ],
            [
             0.3333333333333333,
             "#9c179e"
            ],
            [
             0.4444444444444444,
             "#bd3786"
            ],
            [
             0.5555555555555556,
             "#d8576b"
            ],
            [
             0.6666666666666666,
             "#ed7953"
            ],
            [
             0.7777777777777778,
             "#fb9f3a"
            ],
            [
             0.8888888888888888,
             "#fdca26"
            ],
            [
             1,
             "#f0f921"
            ]
           ]
          },
          "colorway": [
           "#636efa",
           "#EF553B",
           "#00cc96",
           "#ab63fa",
           "#FFA15A",
           "#19d3f3",
           "#FF6692",
           "#B6E880",
           "#FF97FF",
           "#FECB52"
          ],
          "font": {
           "color": "#2a3f5f"
          },
          "geo": {
           "bgcolor": "white",
           "lakecolor": "white",
           "landcolor": "#E5ECF6",
           "showlakes": true,
           "showland": true,
           "subunitcolor": "white"
          },
          "hoverlabel": {
           "align": "left"
          },
          "hovermode": "closest",
          "mapbox": {
           "style": "light"
          },
          "paper_bgcolor": "white",
          "plot_bgcolor": "#E5ECF6",
          "polar": {
           "angularaxis": {
            "gridcolor": "white",
            "linecolor": "white",
            "ticks": ""
           },
           "bgcolor": "#E5ECF6",
           "radialaxis": {
            "gridcolor": "white",
            "linecolor": "white",
            "ticks": ""
           }
          },
          "scene": {
           "xaxis": {
            "backgroundcolor": "#E5ECF6",
            "gridcolor": "white",
            "gridwidth": 2,
            "linecolor": "white",
            "showbackground": true,
            "ticks": "",
            "zerolinecolor": "white"
           },
           "yaxis": {
            "backgroundcolor": "#E5ECF6",
            "gridcolor": "white",
            "gridwidth": 2,
            "linecolor": "white",
            "showbackground": true,
            "ticks": "",
            "zerolinecolor": "white"
           },
           "zaxis": {
            "backgroundcolor": "#E5ECF6",
            "gridcolor": "white",
            "gridwidth": 2,
            "linecolor": "white",
            "showbackground": true,
            "ticks": "",
            "zerolinecolor": "white"
           }
          },
          "shapedefaults": {
           "line": {
            "color": "#2a3f5f"
           }
          },
          "ternary": {
           "aaxis": {
            "gridcolor": "white",
            "linecolor": "white",
            "ticks": ""
           },
           "baxis": {
            "gridcolor": "white",
            "linecolor": "white",
            "ticks": ""
           },
           "bgcolor": "#E5ECF6",
           "caxis": {
            "gridcolor": "white",
            "linecolor": "white",
            "ticks": ""
           }
          },
          "title": {
           "x": 0.05
          },
          "xaxis": {
           "automargin": true,
           "gridcolor": "white",
           "linecolor": "white",
           "ticks": "",
           "title": {
            "standoff": 15
           },
           "zerolinecolor": "white",
           "zerolinewidth": 2
          },
          "yaxis": {
           "automargin": true,
           "gridcolor": "white",
           "linecolor": "white",
           "ticks": "",
           "title": {
            "standoff": 15
           },
           "zerolinecolor": "white",
           "zerolinewidth": 2
          }
         }
        }
       }
      },
      "text/html": [
       "<div>                            <div id=\"c0b984c7-775c-498f-b8fc-e7768e58724f\" class=\"plotly-graph-div\" style=\"height:525px; width:100%;\"></div>            <script type=\"text/javascript\">                require([\"plotly\"], function(Plotly) {                    window.PLOTLYENV=window.PLOTLYENV || {};                                    if (document.getElementById(\"c0b984c7-775c-498f-b8fc-e7768e58724f\")) {                    Plotly.newPlot(                        \"c0b984c7-775c-498f-b8fc-e7768e58724f\",                        [{\"branchvalues\":\"total\",\"domain\":{\"x\":[0.0,1.0],\"y\":[0.0,1.0]},\"hovertemplate\":\"labels=%{label}<br>count=%{value}<br>parent=%{parent}<br>id=%{id}<extra></extra>\",\"ids\":[\"M/lowerlevel/G-02/Arabic/F/Above-7\",\"F/MiddleSchool/G-07/Biology/F/Above-7\",\"M/MiddleSchool/G-08/Chemistry/F/Above-7\",\"M/MiddleSchool/G-06/English/F/Above-7\",\"F/MiddleSchool/G-07/English/F/Above-7\",\"F/lowerlevel/G-02/French/F/Above-7\",\"F/MiddleSchool/G-08/Geology/F/Above-7\",\"M/MiddleSchool/G-08/Geology/F/Above-7\",\"M/MiddleSchool/G-08/History/F/Above-7\",\"F/lowerlevel/G-02/IT/F/Above-7\",\"M/lowerlevel/G-02/IT/F/Above-7\",\"F/lowerlevel/G-04/IT/F/Above-7\",\"M/MiddleSchool/G-07/IT/F/Above-7\",\"F/lowerlevel/G-07/IT/F/Above-7\",\"M/HighSchool/G-09/IT/F/Above-7\",\"M/MiddleSchool/G-07/Math/F/Above-7\",\"M/MiddleSchool/G-08/Math/F/Above-7\",\"M/MiddleSchool/G-07/Quran/F/Above-7\",\"M/lowerlevel/G-04/Science/F/Above-7\",\"M/MiddleSchool/G-07/Science/F/Above-7\",\"M/lowerlevel/G-02/Arabic/S/Above-7\",\"F/MiddleSchool/G-08/Arabic/S/Above-7\",\"M/MiddleSchool/G-08/Arabic/S/Above-7\",\"F/MiddleSchool/G-07/Biology/S/Above-7\",\"M/MiddleSchool/G-08/Chemistry/S/Above-7\",\"M/MiddleSchool/G-06/English/S/Above-7\",\"F/lowerlevel/G-02/French/S/Above-7\",\"M/lowerlevel/G-02/French/S/Above-7\",\"F/MiddleSchool/G-08/Geology/S/Above-7\",\"M/MiddleSchool/G-08/Geology/S/Above-7\",\"F/lowerlevel/G-04/History/S/Above-7\",\"M/lowerlevel/G-04/History/S/Above-7\",\"M/MiddleSchool/G-08/History/S/Above-7\",\"M/lowerlevel/G-02/IT/S/Above-7\",\"M/HighSchool/G-11/Math/S/Above-7\",\"M/lowerlevel/G-04/Science/S/Above-7\",\"F/MiddleSchool/G-07/Science/S/Above-7\",\"M/MiddleSchool/G-07/Science/S/Above-7\",\"M/MiddleSchool/G-08/Spanish/S/Above-7\",\"F/lowerlevel/G-02/Arabic/F/Under-7\",\"M/lowerlevel/G-02/Arabic/F/Under-7\",\"F/MiddleSchool/G-08/Arabic/F/Under-7\",\"F/MiddleSchool/G-07/Biology/F/Under-7\",\"M/MiddleSchool/G-07/Biology/F/Under-7\",\"F/MiddleSchool/G-08/Chemistry/F/Under-7\",\"M/MiddleSchool/G-08/Chemistry/F/Under-7\",\"F/MiddleSchool/G-06/English/F/Under-7\",\"M/MiddleSchool/G-06/English/F/Under-7\",\"F/HighSchool/G-12/English/F/Under-7\",\"F/lowerlevel/G-02/French/F/Under-7\",\"M/lowerlevel/G-02/French/F/Under-7\",\"F/MiddleSchool/G-08/Geology/F/Under-7\",\"M/MiddleSchool/G-08/Geology/F/Under-7\",\"F/MiddleSchool/G-08/History/F/Under-7\",\"M/MiddleSchool/G-08/History/F/Under-7\",\"F/lowerlevel/G-02/IT/F/Under-7\",\"M/lowerlevel/G-02/IT/F/Under-7\",\"M/lowerlevel/G-04/IT/F/Under-7\",\"F/MiddleSchool/G-06/IT/F/Under-7\",\"F/MiddleSchool/G-07/IT/F/Under-7\",\"M/MiddleSchool/G-07/IT/F/Under-7\",\"F/HighSchool/G-09/IT/F/Under-7\",\"M/HighSchool/G-09/IT/F/Under-7\",\"M/HighSchool/G-10/IT/F/Under-7\",\"F/HighSchool/G-12/IT/F/Under-7\",\"F/MiddleSchool/G-07/Math/F/Under-7\",\"M/MiddleSchool/G-07/Math/F/Under-7\",\"M/MiddleSchool/G-07/Quran/F/Under-7\",\"F/lowerlevel/G-04/Science/F/Under-7\",\"M/lowerlevel/G-04/Science/F/Under-7\",\"F/MiddleSchool/G-07/Science/F/Under-7\",\"M/MiddleSchool/G-08/Science/F/Under-7\",\"F/HighSchool/G-11/Science/F/Under-7\",\"F/lowerlevel/G-02/Arabic/S/Under-7\",\"M/lowerlevel/G-02/Arabic/S/Under-7\",\"F/MiddleSchool/G-08/Arabic/S/Under-7\",\"M/MiddleSchool/G-08/Arabic/S/Under-7\",\"F/MiddleSchool/G-07/Biology/S/Under-7\",\"M/MiddleSchool/G-07/Biology/S/Under-7\",\"F/MiddleSchool/G-08/Chemistry/S/Under-7\",\"M/MiddleSchool/G-08/Chemistry/S/Under-7\",\"M/lowerlevel/G-04/English/S/Under-7\",\"F/MiddleSchool/G-06/English/S/Under-7\",\"M/MiddleSchool/G-06/English/S/Under-7\",\"F/lowerlevel/G-02/French/S/Under-7\",\"M/lowerlevel/G-02/French/S/Under-7\",\"F/HighSchool/G-11/French/S/Under-7\",\"F/MiddleSchool/G-08/Geology/S/Under-7\",\"M/MiddleSchool/G-08/Geology/S/Under-7\",\"F/lowerlevel/G-04/History/S/Under-7\",\"M/lowerlevel/G-04/History/S/Under-7\",\"F/MiddleSchool/G-08/History/S/Under-7\",\"M/MiddleSchool/G-08/History/S/Under-7\",\"F/MiddleSchool/G-06/IT/S/Under-7\",\"M/MiddleSchool/G-07/IT/S/Under-7\",\"M/lowerlevel/G-04/Math/S/Under-7\",\"M/HighSchool/G-11/Math/S/Under-7\",\"F/MiddleSchool/G-07/Quran/S/Under-7\",\"M/MiddleSchool/G-07/Quran/S/Under-7\",\"F/HighSchool/G-11/Quran/S/Under-7\",\"M/HighSchool/G-11/Quran/S/Under-7\",\"F/lowerlevel/G-04/Science/S/Under-7\",\"M/lowerlevel/G-04/Science/S/Under-7\",\"F/MiddleSchool/G-06/Science/S/Under-7\",\"F/MiddleSchool/G-07/Science/S/Under-7\",\"M/MiddleSchool/G-07/Science/S/Under-7\",\"F/HighSchool/G-11/Science/S/Under-7\",\"M/HighSchool/G-11/Science/S/Under-7\",\"F/MiddleSchool/G-08/Spanish/S/Under-7\",\"M/MiddleSchool/G-08/Spanish/S/Under-7\",\"F/lowerlevel/G-02/Arabic/F\",\"M/lowerlevel/G-02/Arabic/F\",\"F/MiddleSchool/G-08/Arabic/F\",\"F/MiddleSchool/G-07/Biology/F\",\"M/MiddleSchool/G-07/Biology/F\",\"F/MiddleSchool/G-08/Chemistry/F\",\"M/MiddleSchool/G-08/Chemistry/F\",\"F/MiddleSchool/G-06/English/F\",\"M/MiddleSchool/G-06/English/F\",\"F/MiddleSchool/G-07/English/F\",\"F/HighSchool/G-12/English/F\",\"F/lowerlevel/G-02/French/F\",\"M/lowerlevel/G-02/French/F\",\"F/MiddleSchool/G-08/Geology/F\",\"M/MiddleSchool/G-08/Geology/F\",\"F/MiddleSchool/G-08/History/F\",\"M/MiddleSchool/G-08/History/F\",\"F/lowerlevel/G-02/IT/F\",\"M/lowerlevel/G-02/IT/F\",\"F/lowerlevel/G-04/IT/F\",\"M/lowerlevel/G-04/IT/F\",\"F/MiddleSchool/G-06/IT/F\",\"F/MiddleSchool/G-07/IT/F\",\"M/MiddleSchool/G-07/IT/F\",\"F/lowerlevel/G-07/IT/F\",\"F/HighSchool/G-09/IT/F\",\"M/HighSchool/G-09/IT/F\",\"M/HighSchool/G-10/IT/F\",\"F/HighSchool/G-12/IT/F\",\"F/MiddleSchool/G-07/Math/F\",\"M/MiddleSchool/G-07/Math/F\",\"M/MiddleSchool/G-08/Math/F\",\"M/MiddleSchool/G-07/Quran/F\",\"F/lowerlevel/G-04/Science/F\",\"M/lowerlevel/G-04/Science/F\",\"F/MiddleSchool/G-07/Science/F\",\"M/MiddleSchool/G-07/Science/F\",\"M/MiddleSchool/G-08/Science/F\",\"F/HighSchool/G-11/Science/F\",\"F/lowerlevel/G-02/Arabic/S\",\"M/lowerlevel/G-02/Arabic/S\",\"F/MiddleSchool/G-08/Arabic/S\",\"M/MiddleSchool/G-08/Arabic/S\",\"F/MiddleSchool/G-07/Biology/S\",\"M/MiddleSchool/G-07/Biology/S\",\"F/MiddleSchool/G-08/Chemistry/S\",\"M/MiddleSchool/G-08/Chemistry/S\",\"M/lowerlevel/G-04/English/S\",\"F/MiddleSchool/G-06/English/S\",\"M/MiddleSchool/G-06/English/S\",\"F/lowerlevel/G-02/French/S\",\"M/lowerlevel/G-02/French/S\",\"F/HighSchool/G-11/French/S\",\"F/MiddleSchool/G-08/Geology/S\",\"M/MiddleSchool/G-08/Geology/S\",\"F/lowerlevel/G-04/History/S\",\"M/lowerlevel/G-04/History/S\",\"F/MiddleSchool/G-08/History/S\",\"M/MiddleSchool/G-08/History/S\",\"M/lowerlevel/G-02/IT/S\",\"F/MiddleSchool/G-06/IT/S\",\"M/MiddleSchool/G-07/IT/S\",\"M/lowerlevel/G-04/Math/S\",\"M/HighSchool/G-11/Math/S\",\"F/MiddleSchool/G-07/Quran/S\",\"M/MiddleSchool/G-07/Quran/S\",\"F/HighSchool/G-11/Quran/S\",\"M/HighSchool/G-11/Quran/S\",\"F/lowerlevel/G-04/Science/S\",\"M/lowerlevel/G-04/Science/S\",\"F/MiddleSchool/G-06/Science/S\",\"F/MiddleSchool/G-07/Science/S\",\"M/MiddleSchool/G-07/Science/S\",\"F/HighSchool/G-11/Science/S\",\"M/HighSchool/G-11/Science/S\",\"F/MiddleSchool/G-08/Spanish/S\",\"M/MiddleSchool/G-08/Spanish/S\",\"F/lowerlevel/G-02/Arabic\",\"M/lowerlevel/G-02/Arabic\",\"F/MiddleSchool/G-08/Arabic\",\"M/MiddleSchool/G-08/Arabic\",\"F/MiddleSchool/G-07/Biology\",\"M/MiddleSchool/G-07/Biology\",\"F/MiddleSchool/G-08/Chemistry\",\"M/MiddleSchool/G-08/Chemistry\",\"M/lowerlevel/G-04/English\",\"F/MiddleSchool/G-06/English\",\"M/MiddleSchool/G-06/English\",\"F/MiddleSchool/G-07/English\",\"F/HighSchool/G-12/English\",\"F/lowerlevel/G-02/French\",\"M/lowerlevel/G-02/French\",\"F/HighSchool/G-11/French\",\"F/MiddleSchool/G-08/Geology\",\"M/MiddleSchool/G-08/Geology\",\"F/lowerlevel/G-04/History\",\"M/lowerlevel/G-04/History\",\"F/MiddleSchool/G-08/History\",\"M/MiddleSchool/G-08/History\",\"F/lowerlevel/G-02/IT\",\"M/lowerlevel/G-02/IT\",\"F/lowerlevel/G-04/IT\",\"M/lowerlevel/G-04/IT\",\"F/MiddleSchool/G-06/IT\",\"F/MiddleSchool/G-07/IT\",\"M/MiddleSchool/G-07/IT\",\"F/lowerlevel/G-07/IT\",\"F/HighSchool/G-09/IT\",\"M/HighSchool/G-09/IT\",\"M/HighSchool/G-10/IT\",\"F/HighSchool/G-12/IT\",\"M/lowerlevel/G-04/Math\",\"F/MiddleSchool/G-07/Math\",\"M/MiddleSchool/G-07/Math\",\"M/MiddleSchool/G-08/Math\",\"M/HighSchool/G-11/Math\",\"F/MiddleSchool/G-07/Quran\",\"M/MiddleSchool/G-07/Quran\",\"F/HighSchool/G-11/Quran\",\"M/HighSchool/G-11/Quran\",\"F/lowerlevel/G-04/Science\",\"M/lowerlevel/G-04/Science\",\"F/MiddleSchool/G-06/Science\",\"F/MiddleSchool/G-07/Science\",\"M/MiddleSchool/G-07/Science\",\"M/MiddleSchool/G-08/Science\",\"F/HighSchool/G-11/Science\",\"M/HighSchool/G-11/Science\",\"F/MiddleSchool/G-08/Spanish\",\"M/MiddleSchool/G-08/Spanish\",\"F/lowerlevel/G-02\",\"M/lowerlevel/G-02\",\"F/lowerlevel/G-04\",\"M/lowerlevel/G-04\",\"F/MiddleSchool/G-06\",\"M/MiddleSchool/G-06\",\"F/MiddleSchool/G-07\",\"M/MiddleSchool/G-07\",\"F/lowerlevel/G-07\",\"F/MiddleSchool/G-08\",\"M/MiddleSchool/G-08\",\"F/HighSchool/G-09\",\"M/HighSchool/G-09\",\"M/HighSchool/G-10\",\"F/HighSchool/G-11\",\"M/HighSchool/G-11\",\"F/HighSchool/G-12\",\"F/HighSchool\",\"M/HighSchool\",\"F/MiddleSchool\",\"M/MiddleSchool\",\"F/lowerlevel\",\"M/lowerlevel\",\"F\",\"M\"],\"labels\":[\"Above-7\",\"Above-7\",\"Above-7\",\"Above-7\",\"Above-7\",\"Above-7\",\"Above-7\",\"Above-7\",\"Above-7\",\"Above-7\",\"Above-7\",\"Above-7\",\"Above-7\",\"Above-7\",\"Above-7\",\"Above-7\",\"Above-7\",\"Above-7\",\"Above-7\",\"Above-7\",\"Above-7\",\"Above-7\",\"Above-7\",\"Above-7\",\"Above-7\",\"Above-7\",\"Above-7\",\"Above-7\",\"Above-7\",\"Above-7\",\"Above-7\",\"Above-7\",\"Above-7\",\"Above-7\",\"Above-7\",\"Above-7\",\"Above-7\",\"Above-7\",\"Above-7\",\"Under-7\",\"Under-7\",\"Under-7\",\"Under-7\",\"Under-7\",\"Under-7\",\"Under-7\",\"Under-7\",\"Under-7\",\"Under-7\",\"Under-7\",\"Under-7\",\"Under-7\",\"Under-7\",\"Under-7\",\"Under-7\",\"Under-7\",\"Under-7\",\"Under-7\",\"Under-7\",\"Under-7\",\"Under-7\",\"Under-7\",\"Under-7\",\"Under-7\",\"Under-7\",\"Under-7\",\"Under-7\",\"Under-7\",\"Under-7\",\"Under-7\",\"Under-7\",\"Under-7\",\"Under-7\",\"Under-7\",\"Under-7\",\"Under-7\",\"Under-7\",\"Under-7\",\"Under-7\",\"Under-7\",\"Under-7\",\"Under-7\",\"Under-7\",\"Under-7\",\"Under-7\",\"Under-7\",\"Under-7\",\"Under-7\",\"Under-7\",\"Under-7\",\"Under-7\",\"Under-7\",\"Under-7\",\"Under-7\",\"Under-7\",\"Under-7\",\"Under-7\",\"Under-7\",\"Under-7\",\"Under-7\",\"Under-7\",\"Under-7\",\"Under-7\",\"Under-7\",\"Under-7\",\"Under-7\",\"Under-7\",\"Under-7\",\"Under-7\",\"Under-7\",\"F\",\"F\",\"F\",\"F\",\"F\",\"F\",\"F\",\"F\",\"F\",\"F\",\"F\",\"F\",\"F\",\"F\",\"F\",\"F\",\"F\",\"F\",\"F\",\"F\",\"F\",\"F\",\"F\",\"F\",\"F\",\"F\",\"F\",\"F\",\"F\",\"F\",\"F\",\"F\",\"F\",\"F\",\"F\",\"F\",\"F\",\"F\",\"F\",\"S\",\"S\",\"S\",\"S\",\"S\",\"S\",\"S\",\"S\",\"S\",\"S\",\"S\",\"S\",\"S\",\"S\",\"S\",\"S\",\"S\",\"S\",\"S\",\"S\",\"S\",\"S\",\"S\",\"S\",\"S\",\"S\",\"S\",\"S\",\"S\",\"S\",\"S\",\"S\",\"S\",\"S\",\"S\",\"S\",\"S\",\"S\",\"Arabic\",\"Arabic\",\"Arabic\",\"Arabic\",\"Biology\",\"Biology\",\"Chemistry\",\"Chemistry\",\"English\",\"English\",\"English\",\"English\",\"English\",\"French\",\"French\",\"French\",\"Geology\",\"Geology\",\"History\",\"History\",\"History\",\"History\",\"IT\",\"IT\",\"IT\",\"IT\",\"IT\",\"IT\",\"IT\",\"IT\",\"IT\",\"IT\",\"IT\",\"IT\",\"Math\",\"Math\",\"Math\",\"Math\",\"Math\",\"Quran\",\"Quran\",\"Quran\",\"Quran\",\"Science\",\"Science\",\"Science\",\"Science\",\"Science\",\"Science\",\"Science\",\"Science\",\"Spanish\",\"Spanish\",\"G-02\",\"G-02\",\"G-04\",\"G-04\",\"G-06\",\"G-06\",\"G-07\",\"G-07\",\"G-07\",\"G-08\",\"G-08\",\"G-09\",\"G-09\",\"G-10\",\"G-11\",\"G-11\",\"G-12\",\"HighSchool\",\"HighSchool\",\"MiddleSchool\",\"MiddleSchool\",\"lowerlevel\",\"lowerlevel\",\"F\",\"M\"],\"name\":\"\",\"parents\":[\"M/lowerlevel/G-02/Arabic/F\",\"F/MiddleSchool/G-07/Biology/F\",\"M/MiddleSchool/G-08/Chemistry/F\",\"M/MiddleSchool/G-06/English/F\",\"F/MiddleSchool/G-07/English/F\",\"F/lowerlevel/G-02/French/F\",\"F/MiddleSchool/G-08/Geology/F\",\"M/MiddleSchool/G-08/Geology/F\",\"M/MiddleSchool/G-08/History/F\",\"F/lowerlevel/G-02/IT/F\",\"M/lowerlevel/G-02/IT/F\",\"F/lowerlevel/G-04/IT/F\",\"M/MiddleSchool/G-07/IT/F\",\"F/lowerlevel/G-07/IT/F\",\"M/HighSchool/G-09/IT/F\",\"M/MiddleSchool/G-07/Math/F\",\"M/MiddleSchool/G-08/Math/F\",\"M/MiddleSchool/G-07/Quran/F\",\"M/lowerlevel/G-04/Science/F\",\"M/MiddleSchool/G-07/Science/F\",\"M/lowerlevel/G-02/Arabic/S\",\"F/MiddleSchool/G-08/Arabic/S\",\"M/MiddleSchool/G-08/Arabic/S\",\"F/MiddleSchool/G-07/Biology/S\",\"M/MiddleSchool/G-08/Chemistry/S\",\"M/MiddleSchool/G-06/English/S\",\"F/lowerlevel/G-02/French/S\",\"M/lowerlevel/G-02/French/S\",\"F/MiddleSchool/G-08/Geology/S\",\"M/MiddleSchool/G-08/Geology/S\",\"F/lowerlevel/G-04/History/S\",\"M/lowerlevel/G-04/History/S\",\"M/MiddleSchool/G-08/History/S\",\"M/lowerlevel/G-02/IT/S\",\"M/HighSchool/G-11/Math/S\",\"M/lowerlevel/G-04/Science/S\",\"F/MiddleSchool/G-07/Science/S\",\"M/MiddleSchool/G-07/Science/S\",\"M/MiddleSchool/G-08/Spanish/S\",\"F/lowerlevel/G-02/Arabic/F\",\"M/lowerlevel/G-02/Arabic/F\",\"F/MiddleSchool/G-08/Arabic/F\",\"F/MiddleSchool/G-07/Biology/F\",\"M/MiddleSchool/G-07/Biology/F\",\"F/MiddleSchool/G-08/Chemistry/F\",\"M/MiddleSchool/G-08/Chemistry/F\",\"F/MiddleSchool/G-06/English/F\",\"M/MiddleSchool/G-06/English/F\",\"F/HighSchool/G-12/English/F\",\"F/lowerlevel/G-02/French/F\",\"M/lowerlevel/G-02/French/F\",\"F/MiddleSchool/G-08/Geology/F\",\"M/MiddleSchool/G-08/Geology/F\",\"F/MiddleSchool/G-08/History/F\",\"M/MiddleSchool/G-08/History/F\",\"F/lowerlevel/G-02/IT/F\",\"M/lowerlevel/G-02/IT/F\",\"M/lowerlevel/G-04/IT/F\",\"F/MiddleSchool/G-06/IT/F\",\"F/MiddleSchool/G-07/IT/F\",\"M/MiddleSchool/G-07/IT/F\",\"F/HighSchool/G-09/IT/F\",\"M/HighSchool/G-09/IT/F\",\"M/HighSchool/G-10/IT/F\",\"F/HighSchool/G-12/IT/F\",\"F/MiddleSchool/G-07/Math/F\",\"M/MiddleSchool/G-07/Math/F\",\"M/MiddleSchool/G-07/Quran/F\",\"F/lowerlevel/G-04/Science/F\",\"M/lowerlevel/G-04/Science/F\",\"F/MiddleSchool/G-07/Science/F\",\"M/MiddleSchool/G-08/Science/F\",\"F/HighSchool/G-11/Science/F\",\"F/lowerlevel/G-02/Arabic/S\",\"M/lowerlevel/G-02/Arabic/S\",\"F/MiddleSchool/G-08/Arabic/S\",\"M/MiddleSchool/G-08/Arabic/S\",\"F/MiddleSchool/G-07/Biology/S\",\"M/MiddleSchool/G-07/Biology/S\",\"F/MiddleSchool/G-08/Chemistry/S\",\"M/MiddleSchool/G-08/Chemistry/S\",\"M/lowerlevel/G-04/English/S\",\"F/MiddleSchool/G-06/English/S\",\"M/MiddleSchool/G-06/English/S\",\"F/lowerlevel/G-02/French/S\",\"M/lowerlevel/G-02/French/S\",\"F/HighSchool/G-11/French/S\",\"F/MiddleSchool/G-08/Geology/S\",\"M/MiddleSchool/G-08/Geology/S\",\"F/lowerlevel/G-04/History/S\",\"M/lowerlevel/G-04/History/S\",\"F/MiddleSchool/G-08/History/S\",\"M/MiddleSchool/G-08/History/S\",\"F/MiddleSchool/G-06/IT/S\",\"M/MiddleSchool/G-07/IT/S\",\"M/lowerlevel/G-04/Math/S\",\"M/HighSchool/G-11/Math/S\",\"F/MiddleSchool/G-07/Quran/S\",\"M/MiddleSchool/G-07/Quran/S\",\"F/HighSchool/G-11/Quran/S\",\"M/HighSchool/G-11/Quran/S\",\"F/lowerlevel/G-04/Science/S\",\"M/lowerlevel/G-04/Science/S\",\"F/MiddleSchool/G-06/Science/S\",\"F/MiddleSchool/G-07/Science/S\",\"M/MiddleSchool/G-07/Science/S\",\"F/HighSchool/G-11/Science/S\",\"M/HighSchool/G-11/Science/S\",\"F/MiddleSchool/G-08/Spanish/S\",\"M/MiddleSchool/G-08/Spanish/S\",\"F/lowerlevel/G-02/Arabic\",\"M/lowerlevel/G-02/Arabic\",\"F/MiddleSchool/G-08/Arabic\",\"F/MiddleSchool/G-07/Biology\",\"M/MiddleSchool/G-07/Biology\",\"F/MiddleSchool/G-08/Chemistry\",\"M/MiddleSchool/G-08/Chemistry\",\"F/MiddleSchool/G-06/English\",\"M/MiddleSchool/G-06/English\",\"F/MiddleSchool/G-07/English\",\"F/HighSchool/G-12/English\",\"F/lowerlevel/G-02/French\",\"M/lowerlevel/G-02/French\",\"F/MiddleSchool/G-08/Geology\",\"M/MiddleSchool/G-08/Geology\",\"F/MiddleSchool/G-08/History\",\"M/MiddleSchool/G-08/History\",\"F/lowerlevel/G-02/IT\",\"M/lowerlevel/G-02/IT\",\"F/lowerlevel/G-04/IT\",\"M/lowerlevel/G-04/IT\",\"F/MiddleSchool/G-06/IT\",\"F/MiddleSchool/G-07/IT\",\"M/MiddleSchool/G-07/IT\",\"F/lowerlevel/G-07/IT\",\"F/HighSchool/G-09/IT\",\"M/HighSchool/G-09/IT\",\"M/HighSchool/G-10/IT\",\"F/HighSchool/G-12/IT\",\"F/MiddleSchool/G-07/Math\",\"M/MiddleSchool/G-07/Math\",\"M/MiddleSchool/G-08/Math\",\"M/MiddleSchool/G-07/Quran\",\"F/lowerlevel/G-04/Science\",\"M/lowerlevel/G-04/Science\",\"F/MiddleSchool/G-07/Science\",\"M/MiddleSchool/G-07/Science\",\"M/MiddleSchool/G-08/Science\",\"F/HighSchool/G-11/Science\",\"F/lowerlevel/G-02/Arabic\",\"M/lowerlevel/G-02/Arabic\",\"F/MiddleSchool/G-08/Arabic\",\"M/MiddleSchool/G-08/Arabic\",\"F/MiddleSchool/G-07/Biology\",\"M/MiddleSchool/G-07/Biology\",\"F/MiddleSchool/G-08/Chemistry\",\"M/MiddleSchool/G-08/Chemistry\",\"M/lowerlevel/G-04/English\",\"F/MiddleSchool/G-06/English\",\"M/MiddleSchool/G-06/English\",\"F/lowerlevel/G-02/French\",\"M/lowerlevel/G-02/French\",\"F/HighSchool/G-11/French\",\"F/MiddleSchool/G-08/Geology\",\"M/MiddleSchool/G-08/Geology\",\"F/lowerlevel/G-04/History\",\"M/lowerlevel/G-04/History\",\"F/MiddleSchool/G-08/History\",\"M/MiddleSchool/G-08/History\",\"M/lowerlevel/G-02/IT\",\"F/MiddleSchool/G-06/IT\",\"M/MiddleSchool/G-07/IT\",\"M/lowerlevel/G-04/Math\",\"M/HighSchool/G-11/Math\",\"F/MiddleSchool/G-07/Quran\",\"M/MiddleSchool/G-07/Quran\",\"F/HighSchool/G-11/Quran\",\"M/HighSchool/G-11/Quran\",\"F/lowerlevel/G-04/Science\",\"M/lowerlevel/G-04/Science\",\"F/MiddleSchool/G-06/Science\",\"F/MiddleSchool/G-07/Science\",\"M/MiddleSchool/G-07/Science\",\"F/HighSchool/G-11/Science\",\"M/HighSchool/G-11/Science\",\"F/MiddleSchool/G-08/Spanish\",\"M/MiddleSchool/G-08/Spanish\",\"F/lowerlevel/G-02\",\"M/lowerlevel/G-02\",\"F/MiddleSchool/G-08\",\"M/MiddleSchool/G-08\",\"F/MiddleSchool/G-07\",\"M/MiddleSchool/G-07\",\"F/MiddleSchool/G-08\",\"M/MiddleSchool/G-08\",\"M/lowerlevel/G-04\",\"F/MiddleSchool/G-06\",\"M/MiddleSchool/G-06\",\"F/MiddleSchool/G-07\",\"F/HighSchool/G-12\",\"F/lowerlevel/G-02\",\"M/lowerlevel/G-02\",\"F/HighSchool/G-11\",\"F/MiddleSchool/G-08\",\"M/MiddleSchool/G-08\",\"F/lowerlevel/G-04\",\"M/lowerlevel/G-04\",\"F/MiddleSchool/G-08\",\"M/MiddleSchool/G-08\",\"F/lowerlevel/G-02\",\"M/lowerlevel/G-02\",\"F/lowerlevel/G-04\",\"M/lowerlevel/G-04\",\"F/MiddleSchool/G-06\",\"F/MiddleSchool/G-07\",\"M/MiddleSchool/G-07\",\"F/lowerlevel/G-07\",\"F/HighSchool/G-09\",\"M/HighSchool/G-09\",\"M/HighSchool/G-10\",\"F/HighSchool/G-12\",\"M/lowerlevel/G-04\",\"F/MiddleSchool/G-07\",\"M/MiddleSchool/G-07\",\"M/MiddleSchool/G-08\",\"M/HighSchool/G-11\",\"F/MiddleSchool/G-07\",\"M/MiddleSchool/G-07\",\"F/HighSchool/G-11\",\"M/HighSchool/G-11\",\"F/lowerlevel/G-04\",\"M/lowerlevel/G-04\",\"F/MiddleSchool/G-06\",\"F/MiddleSchool/G-07\",\"M/MiddleSchool/G-07\",\"M/MiddleSchool/G-08\",\"F/HighSchool/G-11\",\"M/HighSchool/G-11\",\"F/MiddleSchool/G-08\",\"M/MiddleSchool/G-08\",\"F/lowerlevel\",\"M/lowerlevel\",\"F/lowerlevel\",\"M/lowerlevel\",\"F/MiddleSchool\",\"M/MiddleSchool\",\"F/MiddleSchool\",\"M/MiddleSchool\",\"F/lowerlevel\",\"F/MiddleSchool\",\"M/MiddleSchool\",\"F/HighSchool\",\"M/HighSchool\",\"M/HighSchool\",\"F/HighSchool\",\"M/HighSchool\",\"F/HighSchool\",\"F\",\"M\",\"F\",\"M\",\"F\",\"M\",\"\",\"\"],\"values\":[4,1,3,2,1,1,2,1,2,4,7,1,4,1,1,2,1,2,2,1,4,1,1,1,3,3,2,2,2,1,1,1,2,1,1,2,2,2,2,1,4,1,2,6,4,2,2,2,4,4,3,2,4,1,2,7,9,2,1,3,3,1,2,3,1,2,5,1,4,1,1,1,1,1,4,3,10,2,6,4,2,1,2,2,8,7,1,2,4,1,1,1,2,1,1,1,1,3,4,1,1,4,1,1,2,3,1,1,1,10,1,8,1,3,6,4,5,2,4,1,4,5,3,4,5,1,4,11,16,1,2,1,3,7,1,1,3,3,1,2,7,1,3,4,3,1,1,1,1,1,8,4,11,3,6,4,5,1,2,5,10,9,1,4,5,2,2,1,4,1,1,1,1,2,3,4,1,1,4,3,1,4,5,1,1,1,12,2,16,5,11,6,12,8,10,1,4,9,1,4,15,12,1,8,10,2,2,2,8,11,17,1,2,2,3,8,1,1,3,3,1,1,2,7,1,2,3,7,1,1,8,6,1,5,6,1,2,1,1,12,28,45,11,12,7,9,20,40,1,24,53,1,3,3,4,4,5,10,10,51,102,40,57,101,169],\"type\":\"sunburst\"}],                        {\"template\":{\"data\":{\"histogram2dcontour\":[{\"type\":\"histogram2dcontour\",\"colorbar\":{\"outlinewidth\":0,\"ticks\":\"\"},\"colorscale\":[[0.0,\"#0d0887\"],[0.1111111111111111,\"#46039f\"],[0.2222222222222222,\"#7201a8\"],[0.3333333333333333,\"#9c179e\"],[0.4444444444444444,\"#bd3786\"],[0.5555555555555556,\"#d8576b\"],[0.6666666666666666,\"#ed7953\"],[0.7777777777777778,\"#fb9f3a\"],[0.8888888888888888,\"#fdca26\"],[1.0,\"#f0f921\"]]}],\"choropleth\":[{\"type\":\"choropleth\",\"colorbar\":{\"outlinewidth\":0,\"ticks\":\"\"}}],\"histogram2d\":[{\"type\":\"histogram2d\",\"colorbar\":{\"outlinewidth\":0,\"ticks\":\"\"},\"colorscale\":[[0.0,\"#0d0887\"],[0.1111111111111111,\"#46039f\"],[0.2222222222222222,\"#7201a8\"],[0.3333333333333333,\"#9c179e\"],[0.4444444444444444,\"#bd3786\"],[0.5555555555555556,\"#d8576b\"],[0.6666666666666666,\"#ed7953\"],[0.7777777777777778,\"#fb9f3a\"],[0.8888888888888888,\"#fdca26\"],[1.0,\"#f0f921\"]]}],\"heatmap\":[{\"type\":\"heatmap\",\"colorbar\":{\"outlinewidth\":0,\"ticks\":\"\"},\"colorscale\":[[0.0,\"#0d0887\"],[0.1111111111111111,\"#46039f\"],[0.2222222222222222,\"#7201a8\"],[0.3333333333333333,\"#9c179e\"],[0.4444444444444444,\"#bd3786\"],[0.5555555555555556,\"#d8576b\"],[0.6666666666666666,\"#ed7953\"],[0.7777777777777778,\"#fb9f3a\"],[0.8888888888888888,\"#fdca26\"],[1.0,\"#f0f921\"]]}],\"heatmapgl\":[{\"type\":\"heatmapgl\",\"colorbar\":{\"outlinewidth\":0,\"ticks\":\"\"},\"colorscale\":[[0.0,\"#0d0887\"],[0.1111111111111111,\"#46039f\"],[0.2222222222222222,\"#7201a8\"],[0.3333333333333333,\"#9c179e\"],[0.4444444444444444,\"#bd3786\"],[0.5555555555555556,\"#d8576b\"],[0.6666666666666666,\"#ed7953\"],[0.7777777777777778,\"#fb9f3a\"],[0.8888888888888888,\"#fdca26\"],[1.0,\"#f0f921\"]]}],\"contourcarpet\":[{\"type\":\"contourcarpet\",\"colorbar\":{\"outlinewidth\":0,\"ticks\":\"\"}}],\"contour\":[{\"type\":\"contour\",\"colorbar\":{\"outlinewidth\":0,\"ticks\":\"\"},\"colorscale\":[[0.0,\"#0d0887\"],[0.1111111111111111,\"#46039f\"],[0.2222222222222222,\"#7201a8\"],[0.3333333333333333,\"#9c179e\"],[0.4444444444444444,\"#bd3786\"],[0.5555555555555556,\"#d8576b\"],[0.6666666666666666,\"#ed7953\"],[0.7777777777777778,\"#fb9f3a\"],[0.8888888888888888,\"#fdca26\"],[1.0,\"#f0f921\"]]}],\"surface\":[{\"type\":\"surface\",\"colorbar\":{\"outlinewidth\":0,\"ticks\":\"\"},\"colorscale\":[[0.0,\"#0d0887\"],[0.1111111111111111,\"#46039f\"],[0.2222222222222222,\"#7201a8\"],[0.3333333333333333,\"#9c179e\"],[0.4444444444444444,\"#bd3786\"],[0.5555555555555556,\"#d8576b\"],[0.6666666666666666,\"#ed7953\"],[0.7777777777777778,\"#fb9f3a\"],[0.8888888888888888,\"#fdca26\"],[1.0,\"#f0f921\"]]}],\"mesh3d\":[{\"type\":\"mesh3d\",\"colorbar\":{\"outlinewidth\":0,\"ticks\":\"\"}}],\"scatter\":[{\"fillpattern\":{\"fillmode\":\"overlay\",\"size\":10,\"solidity\":0.2},\"type\":\"scatter\"}],\"parcoords\":[{\"type\":\"parcoords\",\"line\":{\"colorbar\":{\"outlinewidth\":0,\"ticks\":\"\"}}}],\"scatterpolargl\":[{\"type\":\"scatterpolargl\",\"marker\":{\"colorbar\":{\"outlinewidth\":0,\"ticks\":\"\"}}}],\"bar\":[{\"error_x\":{\"color\":\"#2a3f5f\"},\"error_y\":{\"color\":\"#2a3f5f\"},\"marker\":{\"line\":{\"color\":\"#E5ECF6\",\"width\":0.5},\"pattern\":{\"fillmode\":\"overlay\",\"size\":10,\"solidity\":0.2}},\"type\":\"bar\"}],\"scattergeo\":[{\"type\":\"scattergeo\",\"marker\":{\"colorbar\":{\"outlinewidth\":0,\"ticks\":\"\"}}}],\"scatterpolar\":[{\"type\":\"scatterpolar\",\"marker\":{\"colorbar\":{\"outlinewidth\":0,\"ticks\":\"\"}}}],\"histogram\":[{\"marker\":{\"pattern\":{\"fillmode\":\"overlay\",\"size\":10,\"solidity\":0.2}},\"type\":\"histogram\"}],\"scattergl\":[{\"type\":\"scattergl\",\"marker\":{\"colorbar\":{\"outlinewidth\":0,\"ticks\":\"\"}}}],\"scatter3d\":[{\"type\":\"scatter3d\",\"line\":{\"colorbar\":{\"outlinewidth\":0,\"ticks\":\"\"}},\"marker\":{\"colorbar\":{\"outlinewidth\":0,\"ticks\":\"\"}}}],\"scattermapbox\":[{\"type\":\"scattermapbox\",\"marker\":{\"colorbar\":{\"outlinewidth\":0,\"ticks\":\"\"}}}],\"scatterternary\":[{\"type\":\"scatterternary\",\"marker\":{\"colorbar\":{\"outlinewidth\":0,\"ticks\":\"\"}}}],\"scattercarpet\":[{\"type\":\"scattercarpet\",\"marker\":{\"colorbar\":{\"outlinewidth\":0,\"ticks\":\"\"}}}],\"carpet\":[{\"aaxis\":{\"endlinecolor\":\"#2a3f5f\",\"gridcolor\":\"white\",\"linecolor\":\"white\",\"minorgridcolor\":\"white\",\"startlinecolor\":\"#2a3f5f\"},\"baxis\":{\"endlinecolor\":\"#2a3f5f\",\"gridcolor\":\"white\",\"linecolor\":\"white\",\"minorgridcolor\":\"white\",\"startlinecolor\":\"#2a3f5f\"},\"type\":\"carpet\"}],\"table\":[{\"cells\":{\"fill\":{\"color\":\"#EBF0F8\"},\"line\":{\"color\":\"white\"}},\"header\":{\"fill\":{\"color\":\"#C8D4E3\"},\"line\":{\"color\":\"white\"}},\"type\":\"table\"}],\"barpolar\":[{\"marker\":{\"line\":{\"color\":\"#E5ECF6\",\"width\":0.5},\"pattern\":{\"fillmode\":\"overlay\",\"size\":10,\"solidity\":0.2}},\"type\":\"barpolar\"}],\"pie\":[{\"automargin\":true,\"type\":\"pie\"}]},\"layout\":{\"autotypenumbers\":\"strict\",\"colorway\":[\"#636efa\",\"#EF553B\",\"#00cc96\",\"#ab63fa\",\"#FFA15A\",\"#19d3f3\",\"#FF6692\",\"#B6E880\",\"#FF97FF\",\"#FECB52\"],\"font\":{\"color\":\"#2a3f5f\"},\"hovermode\":\"closest\",\"hoverlabel\":{\"align\":\"left\"},\"paper_bgcolor\":\"white\",\"plot_bgcolor\":\"#E5ECF6\",\"polar\":{\"bgcolor\":\"#E5ECF6\",\"angularaxis\":{\"gridcolor\":\"white\",\"linecolor\":\"white\",\"ticks\":\"\"},\"radialaxis\":{\"gridcolor\":\"white\",\"linecolor\":\"white\",\"ticks\":\"\"}},\"ternary\":{\"bgcolor\":\"#E5ECF6\",\"aaxis\":{\"gridcolor\":\"white\",\"linecolor\":\"white\",\"ticks\":\"\"},\"baxis\":{\"gridcolor\":\"white\",\"linecolor\":\"white\",\"ticks\":\"\"},\"caxis\":{\"gridcolor\":\"white\",\"linecolor\":\"white\",\"ticks\":\"\"}},\"coloraxis\":{\"colorbar\":{\"outlinewidth\":0,\"ticks\":\"\"}},\"colorscale\":{\"sequential\":[[0.0,\"#0d0887\"],[0.1111111111111111,\"#46039f\"],[0.2222222222222222,\"#7201a8\"],[0.3333333333333333,\"#9c179e\"],[0.4444444444444444,\"#bd3786\"],[0.5555555555555556,\"#d8576b\"],[0.6666666666666666,\"#ed7953\"],[0.7777777777777778,\"#fb9f3a\"],[0.8888888888888888,\"#fdca26\"],[1.0,\"#f0f921\"]],\"sequentialminus\":[[0.0,\"#0d0887\"],[0.1111111111111111,\"#46039f\"],[0.2222222222222222,\"#7201a8\"],[0.3333333333333333,\"#9c179e\"],[0.4444444444444444,\"#bd3786\"],[0.5555555555555556,\"#d8576b\"],[0.6666666666666666,\"#ed7953\"],[0.7777777777777778,\"#fb9f3a\"],[0.8888888888888888,\"#fdca26\"],[1.0,\"#f0f921\"]],\"diverging\":[[0,\"#8e0152\"],[0.1,\"#c51b7d\"],[0.2,\"#de77ae\"],[0.3,\"#f1b6da\"],[0.4,\"#fde0ef\"],[0.5,\"#f7f7f7\"],[0.6,\"#e6f5d0\"],[0.7,\"#b8e186\"],[0.8,\"#7fbc41\"],[0.9,\"#4d9221\"],[1,\"#276419\"]]},\"xaxis\":{\"gridcolor\":\"white\",\"linecolor\":\"white\",\"ticks\":\"\",\"title\":{\"standoff\":15},\"zerolinecolor\":\"white\",\"automargin\":true,\"zerolinewidth\":2},\"yaxis\":{\"gridcolor\":\"white\",\"linecolor\":\"white\",\"ticks\":\"\",\"title\":{\"standoff\":15},\"zerolinecolor\":\"white\",\"automargin\":true,\"zerolinewidth\":2},\"scene\":{\"xaxis\":{\"backgroundcolor\":\"#E5ECF6\",\"gridcolor\":\"white\",\"linecolor\":\"white\",\"showbackground\":true,\"ticks\":\"\",\"zerolinecolor\":\"white\",\"gridwidth\":2},\"yaxis\":{\"backgroundcolor\":\"#E5ECF6\",\"gridcolor\":\"white\",\"linecolor\":\"white\",\"showbackground\":true,\"ticks\":\"\",\"zerolinecolor\":\"white\",\"gridwidth\":2},\"zaxis\":{\"backgroundcolor\":\"#E5ECF6\",\"gridcolor\":\"white\",\"linecolor\":\"white\",\"showbackground\":true,\"ticks\":\"\",\"zerolinecolor\":\"white\",\"gridwidth\":2}},\"shapedefaults\":{\"line\":{\"color\":\"#2a3f5f\"}},\"annotationdefaults\":{\"arrowcolor\":\"#2a3f5f\",\"arrowhead\":0,\"arrowwidth\":1},\"geo\":{\"bgcolor\":\"white\",\"landcolor\":\"#E5ECF6\",\"subunitcolor\":\"white\",\"showland\":true,\"showlakes\":true,\"lakecolor\":\"white\"},\"title\":{\"x\":0.05},\"mapbox\":{\"style\":\"light\"}}},\"legend\":{\"tracegroupgap\":0},\"margin\":{\"t\":60}},                        {\"responsive\": true}                    ).then(function(){\n",
       "                            \n",
       "var gd = document.getElementById('c0b984c7-775c-498f-b8fc-e7768e58724f');\n",
       "var x = new MutationObserver(function (mutations, observer) {{\n",
       "        var display = window.getComputedStyle(gd).display;\n",
       "        if (!display || display === 'none') {{\n",
       "            console.log([gd, 'removed!']);\n",
       "            Plotly.purge(gd);\n",
       "            observer.disconnect();\n",
       "        }}\n",
       "}});\n",
       "\n",
       "// Listen for the removal of the full notebook cells\n",
       "var notebookContainer = gd.closest('#notebook-container');\n",
       "if (notebookContainer) {{\n",
       "    x.observe(notebookContainer, {childList: true});\n",
       "}}\n",
       "\n",
       "// Listen for the clearing of the current output cell\n",
       "var outputEl = gd.closest('.output');\n",
       "if (outputEl) {{\n",
       "    x.observe(outputEl, {childList: true});\n",
       "}}\n",
       "\n",
       "                        })                };                });            </script>        </div>"
      ]
     },
     "metadata": {},
     "output_type": "display_data"
    }
   ],
   "source": [
    "fig = px.sunburst(students_Yes, path=[\"gender\",'StageID','GradeID',\n",
    "                                    'Topic','Semester','StudentAbsenceDays'])\n",
    "fig.show()"
   ]
  },
  {
   "cell_type": "code",
   "execution_count": null,
   "metadata": {},
   "outputs": [],
   "source": []
  },
  {
   "cell_type": "code",
   "execution_count": 22,
   "metadata": {},
   "outputs": [
    {
     "data": {
      "text/plain": [
       "Good    292\n",
       "Bad     188\n",
       "Name: ParentschoolSatisfaction, dtype: int64"
      ]
     },
     "execution_count": 22,
     "metadata": {},
     "output_type": "execute_result"
    }
   ],
   "source": [
    "students.ParentschoolSatisfaction.value_counts()"
   ]
  },
  {
   "cell_type": "code",
   "execution_count": null,
   "metadata": {},
   "outputs": [],
   "source": [
    "(188/480)*100 # 43.75% is bad rate in data "
   ]
  },
  {
   "cell_type": "code",
   "execution_count": 23,
   "metadata": {},
   "outputs": [
    {
     "data": {
      "application/vnd.plotly.v1+json": {
       "config": {
        "plotlyServerURL": "https://plot.ly"
       },
       "data": [
        {
         "customdata": [
          [
           "Good"
          ],
          [
           "Good"
          ],
          [
           "Bad"
          ],
          [
           "Bad"
          ],
          [
           "Bad"
          ],
          [
           "Bad"
          ],
          [
           "Bad"
          ],
          [
           "Good"
          ],
          [
           "Good"
          ],
          [
           "Good"
          ],
          [
           "Good"
          ],
          [
           "Good"
          ],
          [
           "Bad"
          ],
          [
           "Bad"
          ],
          [
           "Bad"
          ],
          [
           "Good"
          ],
          [
           "Bad"
          ],
          [
           "Bad"
          ],
          [
           "Good"
          ],
          [
           "Good"
          ],
          [
           "Bad"
          ],
          [
           "Bad"
          ],
          [
           "Bad"
          ],
          [
           "Bad"
          ],
          [
           "Good"
          ],
          [
           "Good"
          ],
          [
           "Bad"
          ],
          [
           "Bad"
          ],
          [
           "Good"
          ],
          [
           "Bad"
          ],
          [
           "Good"
          ],
          [
           "Good"
          ],
          [
           "Good"
          ],
          [
           "Bad"
          ],
          [
           "Bad"
          ],
          [
           "Bad"
          ],
          [
           "Good"
          ],
          [
           "Good"
          ],
          [
           "Bad"
          ],
          [
           "Good"
          ],
          [
           "Bad"
          ],
          [
           "Good"
          ],
          [
           "Good"
          ],
          [
           "Good"
          ],
          [
           "Bad"
          ],
          [
           "Good"
          ],
          [
           "Bad"
          ],
          [
           "Good"
          ],
          [
           "Good"
          ],
          [
           "Good"
          ],
          [
           "Bad"
          ],
          [
           "Good"
          ],
          [
           "Bad"
          ],
          [
           "Good"
          ],
          [
           "Bad"
          ],
          [
           "Good"
          ],
          [
           "Good"
          ],
          [
           "Good"
          ],
          [
           "Good"
          ],
          [
           "Good"
          ],
          [
           "Good"
          ],
          [
           "Good"
          ],
          [
           "Good"
          ],
          [
           "Bad"
          ],
          [
           "Bad"
          ],
          [
           "Bad"
          ],
          [
           "Bad"
          ],
          [
           "Good"
          ],
          [
           "Good"
          ],
          [
           "Bad"
          ],
          [
           "Good"
          ],
          [
           "Good"
          ],
          [
           "Bad"
          ],
          [
           "Bad"
          ],
          [
           "Bad"
          ],
          [
           "Good"
          ],
          [
           "Good"
          ],
          [
           "Good"
          ],
          [
           "Bad"
          ],
          [
           "Bad"
          ],
          [
           "Bad"
          ],
          [
           "Bad"
          ],
          [
           "Good"
          ],
          [
           "Good"
          ],
          [
           "Good"
          ],
          [
           "Bad"
          ],
          [
           "Good"
          ],
          [
           "Bad"
          ],
          [
           "Bad"
          ],
          [
           "Good"
          ],
          [
           "Good"
          ],
          [
           "Good"
          ],
          [
           "Good"
          ],
          [
           "Good"
          ],
          [
           "Good"
          ],
          [
           "Bad"
          ],
          [
           "Good"
          ],
          [
           "Bad"
          ],
          [
           "Bad"
          ],
          [
           "Bad"
          ],
          [
           "Bad"
          ],
          [
           "Good"
          ],
          [
           "Bad"
          ],
          [
           "Bad"
          ],
          [
           "Good"
          ],
          [
           "Good"
          ],
          [
           "Good"
          ],
          [
           "Bad"
          ],
          [
           "Bad"
          ],
          [
           "Bad"
          ],
          [
           "Good"
          ],
          [
           "Good"
          ],
          [
           "Bad"
          ],
          [
           "Bad"
          ],
          [
           "Bad"
          ],
          [
           "Good"
          ],
          [
           "Good"
          ],
          [
           "Good"
          ],
          [
           "Good"
          ],
          [
           "Bad"
          ],
          [
           "Good"
          ],
          [
           "Bad"
          ],
          [
           "Good"
          ],
          [
           "Good"
          ],
          [
           "Bad"
          ],
          [
           "Good"
          ],
          [
           "Good"
          ],
          [
           "Bad"
          ],
          [
           "Bad"
          ],
          [
           "Good"
          ],
          [
           "Bad"
          ],
          [
           "Good"
          ],
          [
           "Bad"
          ],
          [
           "Good"
          ],
          [
           "Good"
          ],
          [
           "Good"
          ],
          [
           "Good"
          ],
          [
           "Bad"
          ],
          [
           "Bad"
          ],
          [
           "Bad"
          ],
          [
           "Bad"
          ],
          [
           "Bad"
          ],
          [
           "Good"
          ],
          [
           "Good"
          ],
          [
           "Bad"
          ],
          [
           "Bad"
          ],
          [
           "Good"
          ],
          [
           "Bad"
          ],
          [
           "Bad"
          ],
          [
           "Bad"
          ],
          [
           "Good"
          ],
          [
           "Good"
          ],
          [
           "Bad"
          ],
          [
           "Bad"
          ],
          [
           "Bad"
          ],
          [
           "Bad"
          ],
          [
           "Good"
          ],
          [
           "Good"
          ],
          [
           "Bad"
          ],
          [
           "Good"
          ],
          [
           "Good"
          ],
          [
           "Bad"
          ],
          [
           "Bad"
          ],
          [
           "Bad"
          ],
          [
           "Good"
          ],
          [
           "Good"
          ],
          [
           "Bad"
          ],
          [
           "Good"
          ],
          [
           "Good"
          ],
          [
           "Bad"
          ],
          [
           "Good"
          ],
          [
           "Good"
          ],
          [
           "Good"
          ],
          [
           "Good"
          ],
          [
           "Bad"
          ],
          [
           "Bad"
          ],
          [
           "Bad"
          ],
          [
           "Bad"
          ],
          [
           "Bad"
          ],
          [
           "Bad"
          ],
          [
           "Bad"
          ],
          [
           "Bad"
          ],
          [
           "Bad"
          ],
          [
           "Bad"
          ],
          [
           "Bad"
          ],
          [
           "Good"
          ],
          [
           "Good"
          ],
          [
           "Good"
          ],
          [
           "Good"
          ],
          [
           "Bad"
          ],
          [
           "Bad"
          ],
          [
           "Good"
          ],
          [
           "Good"
          ],
          [
           "Bad"
          ],
          [
           "Bad"
          ],
          [
           "Good"
          ],
          [
           "Good"
          ],
          [
           "Bad"
          ],
          [
           "Bad"
          ],
          [
           "Bad"
          ],
          [
           "Bad"
          ],
          [
           "Good"
          ],
          [
           "Good"
          ],
          [
           "Bad"
          ],
          [
           "Bad"
          ],
          [
           "Bad"
          ],
          [
           "Good"
          ],
          [
           "Good"
          ],
          [
           "Bad"
          ],
          [
           "Bad"
          ],
          [
           "Good"
          ],
          [
           "Bad"
          ],
          [
           "Good"
          ],
          [
           "Bad"
          ],
          [
           "Bad"
          ],
          [
           "Good"
          ],
          [
           "Bad"
          ],
          [
           "Good"
          ],
          [
           "Bad"
          ],
          [
           "Good"
          ],
          [
           "Good"
          ],
          [
           "Good"
          ],
          [
           "Bad"
          ],
          [
           "Good"
          ],
          [
           "Bad"
          ],
          [
           "Bad"
          ],
          [
           "Bad"
          ],
          [
           "Good"
          ],
          [
           "Good"
          ],
          [
           "Bad"
          ],
          [
           "Bad"
          ],
          [
           "Good"
          ],
          [
           "Good"
          ],
          [
           "Good"
          ],
          [
           "Good"
          ],
          [
           "Bad"
          ],
          [
           "Bad"
          ],
          [
           "Good"
          ],
          [
           "Good"
          ],
          [
           "Good"
          ],
          [
           "Bad"
          ],
          [
           "Good"
          ],
          [
           "Bad"
          ],
          [
           "Bad"
          ],
          [
           "Bad"
          ],
          [
           "Bad"
          ],
          [
           "Good"
          ],
          [
           "Bad"
          ],
          [
           "Bad"
          ],
          [
           "Good"
          ],
          [
           "Good"
          ],
          [
           "Good"
          ],
          [
           "Bad"
          ],
          [
           "Bad"
          ],
          [
           "Good"
          ],
          [
           "Good"
          ],
          [
           "Good"
          ],
          [
           "Good"
          ],
          [
           "Good"
          ],
          [
           "Bad"
          ],
          [
           "Bad"
          ],
          [
           "Bad"
          ],
          [
           "Good"
          ],
          [
           "Bad"
          ],
          [
           "Bad"
          ],
          [
           "Bad"
          ],
          [
           "Good"
          ],
          [
           "Good"
          ],
          [
           "Bad"
          ],
          [
           "Bad"
          ],
          [
           "Good"
          ],
          [
           "Good"
          ],
          [
           "Bad"
          ],
          [
           "Bad"
          ],
          [
           "Good"
          ],
          [
           "Good"
          ],
          [
           "Good"
          ],
          [
           "Good"
          ],
          [
           "Good"
          ],
          [
           "Good"
          ],
          [
           "Good"
          ],
          [
           "Good"
          ],
          [
           "Good"
          ],
          [
           "Good"
          ],
          [
           "Bad"
          ],
          [
           "Bad"
          ],
          [
           "Good"
          ],
          [
           "Good"
          ],
          [
           "Good"
          ],
          [
           "Good"
          ],
          [
           "Bad"
          ],
          [
           "Bad"
          ],
          [
           "Good"
          ],
          [
           "Good"
          ],
          [
           "Good"
          ],
          [
           "Good"
          ],
          [
           "Good"
          ],
          [
           "Good"
          ],
          [
           "Good"
          ],
          [
           "Good"
          ],
          [
           "Bad"
          ],
          [
           "Bad"
          ],
          [
           "Bad"
          ],
          [
           "Bad"
          ],
          [
           "Bad"
          ],
          [
           "Bad"
          ],
          [
           "Good"
          ],
          [
           "Good"
          ],
          [
           "Good"
          ],
          [
           "Good"
          ],
          [
           "Good"
          ],
          [
           "Good"
          ],
          [
           "Good"
          ],
          [
           "Good"
          ],
          [
           "Good"
          ],
          [
           "Good"
          ],
          [
           "Good"
          ],
          [
           "Good"
          ],
          [
           "Good"
          ],
          [
           "Good"
          ],
          [
           "Good"
          ],
          [
           "Good"
          ],
          [
           "Bad"
          ],
          [
           "Bad"
          ],
          [
           "Bad"
          ],
          [
           "Bad"
          ],
          [
           "Bad"
          ],
          [
           "Bad"
          ],
          [
           "Good"
          ],
          [
           "Good"
          ],
          [
           "Good"
          ],
          [
           "Good"
          ],
          [
           "Good"
          ],
          [
           "Good"
          ],
          [
           "Good"
          ],
          [
           "Good"
          ],
          [
           "Good"
          ],
          [
           "Good"
          ],
          [
           "Good"
          ],
          [
           "Good"
          ],
          [
           "Good"
          ],
          [
           "Good"
          ],
          [
           "Bad"
          ],
          [
           "Bad"
          ],
          [
           "Good"
          ],
          [
           "Good"
          ],
          [
           "Good"
          ],
          [
           "Good"
          ],
          [
           "Good"
          ],
          [
           "Good"
          ],
          [
           "Good"
          ],
          [
           "Good"
          ],
          [
           "Good"
          ],
          [
           "Good"
          ],
          [
           "Good"
          ],
          [
           "Good"
          ],
          [
           "Good"
          ],
          [
           "Good"
          ],
          [
           "Good"
          ],
          [
           "Good"
          ],
          [
           "Good"
          ],
          [
           "Good"
          ],
          [
           "Good"
          ],
          [
           "Good"
          ],
          [
           "Good"
          ],
          [
           "Good"
          ],
          [
           "Good"
          ],
          [
           "Good"
          ],
          [
           "Good"
          ],
          [
           "Good"
          ],
          [
           "Bad"
          ],
          [
           "Bad"
          ],
          [
           "Bad"
          ],
          [
           "Bad"
          ],
          [
           "Bad"
          ],
          [
           "Bad"
          ],
          [
           "Bad"
          ],
          [
           "Bad"
          ],
          [
           "Bad"
          ],
          [
           "Bad"
          ],
          [
           "Bad"
          ],
          [
           "Bad"
          ],
          [
           "Good"
          ],
          [
           "Good"
          ],
          [
           "Good"
          ],
          [
           "Good"
          ],
          [
           "Good"
          ],
          [
           "Good"
          ],
          [
           "Good"
          ],
          [
           "Good"
          ],
          [
           "Good"
          ],
          [
           "Good"
          ],
          [
           "Good"
          ],
          [
           "Good"
          ],
          [
           "Good"
          ],
          [
           "Good"
          ],
          [
           "Bad"
          ],
          [
           "Bad"
          ],
          [
           "Good"
          ],
          [
           "Good"
          ],
          [
           "Good"
          ],
          [
           "Good"
          ],
          [
           "Good"
          ],
          [
           "Good"
          ],
          [
           "Good"
          ],
          [
           "Good"
          ],
          [
           "Bad"
          ],
          [
           "Bad"
          ],
          [
           "Bad"
          ],
          [
           "Bad"
          ],
          [
           "Good"
          ],
          [
           "Good"
          ],
          [
           "Good"
          ],
          [
           "Good"
          ],
          [
           "Good"
          ],
          [
           "Good"
          ],
          [
           "Good"
          ],
          [
           "Good"
          ],
          [
           "Good"
          ],
          [
           "Good"
          ],
          [
           "Good"
          ],
          [
           "Good"
          ],
          [
           "Good"
          ],
          [
           "Good"
          ],
          [
           "Good"
          ],
          [
           "Good"
          ],
          [
           "Good"
          ],
          [
           "Good"
          ],
          [
           "Bad"
          ],
          [
           "Bad"
          ],
          [
           "Bad"
          ],
          [
           "Bad"
          ],
          [
           "Bad"
          ],
          [
           "Bad"
          ],
          [
           "Good"
          ],
          [
           "Good"
          ],
          [
           "Good"
          ],
          [
           "Good"
          ],
          [
           "Good"
          ],
          [
           "Good"
          ],
          [
           "Good"
          ],
          [
           "Good"
          ],
          [
           "Good"
          ],
          [
           "Good"
          ],
          [
           "Good"
          ],
          [
           "Good"
          ],
          [
           "Good"
          ],
          [
           "Good"
          ],
          [
           "Good"
          ],
          [
           "Good"
          ],
          [
           "Good"
          ],
          [
           "Good"
          ],
          [
           "Good"
          ],
          [
           "Good"
          ],
          [
           "Good"
          ],
          [
           "Good"
          ],
          [
           "Good"
          ],
          [
           "Good"
          ],
          [
           "Good"
          ],
          [
           "Good"
          ],
          [
           "Good"
          ],
          [
           "Good"
          ],
          [
           "Good"
          ],
          [
           "Good"
          ],
          [
           "Good"
          ],
          [
           "Good"
          ],
          [
           "Good"
          ],
          [
           "Good"
          ],
          [
           "Bad"
          ],
          [
           "Bad"
          ],
          [
           "Good"
          ],
          [
           "Good"
          ],
          [
           "Good"
          ],
          [
           "Good"
          ],
          [
           "Bad"
          ],
          [
           "Bad"
          ],
          [
           "Bad"
          ],
          [
           "Bad"
          ],
          [
           "Bad"
          ],
          [
           "Bad"
          ]
         ],
         "domain": {
          "x": [
           0,
           1
          ],
          "y": [
           0,
           1
          ]
         },
         "hovertemplate": "ParentschoolSatisfaction=%{customdata[0]}<extra></extra>",
         "labels": [
          "Good",
          "Good",
          "Bad",
          "Bad",
          "Bad",
          "Bad",
          "Bad",
          "Good",
          "Good",
          "Good",
          "Good",
          "Good",
          "Bad",
          "Bad",
          "Bad",
          "Good",
          "Bad",
          "Bad",
          "Good",
          "Good",
          "Bad",
          "Bad",
          "Bad",
          "Bad",
          "Good",
          "Good",
          "Bad",
          "Bad",
          "Good",
          "Bad",
          "Good",
          "Good",
          "Good",
          "Bad",
          "Bad",
          "Bad",
          "Good",
          "Good",
          "Bad",
          "Good",
          "Bad",
          "Good",
          "Good",
          "Good",
          "Bad",
          "Good",
          "Bad",
          "Good",
          "Good",
          "Good",
          "Bad",
          "Good",
          "Bad",
          "Good",
          "Bad",
          "Good",
          "Good",
          "Good",
          "Good",
          "Good",
          "Good",
          "Good",
          "Good",
          "Bad",
          "Bad",
          "Bad",
          "Bad",
          "Good",
          "Good",
          "Bad",
          "Good",
          "Good",
          "Bad",
          "Bad",
          "Bad",
          "Good",
          "Good",
          "Good",
          "Bad",
          "Bad",
          "Bad",
          "Bad",
          "Good",
          "Good",
          "Good",
          "Bad",
          "Good",
          "Bad",
          "Bad",
          "Good",
          "Good",
          "Good",
          "Good",
          "Good",
          "Good",
          "Bad",
          "Good",
          "Bad",
          "Bad",
          "Bad",
          "Bad",
          "Good",
          "Bad",
          "Bad",
          "Good",
          "Good",
          "Good",
          "Bad",
          "Bad",
          "Bad",
          "Good",
          "Good",
          "Bad",
          "Bad",
          "Bad",
          "Good",
          "Good",
          "Good",
          "Good",
          "Bad",
          "Good",
          "Bad",
          "Good",
          "Good",
          "Bad",
          "Good",
          "Good",
          "Bad",
          "Bad",
          "Good",
          "Bad",
          "Good",
          "Bad",
          "Good",
          "Good",
          "Good",
          "Good",
          "Bad",
          "Bad",
          "Bad",
          "Bad",
          "Bad",
          "Good",
          "Good",
          "Bad",
          "Bad",
          "Good",
          "Bad",
          "Bad",
          "Bad",
          "Good",
          "Good",
          "Bad",
          "Bad",
          "Bad",
          "Bad",
          "Good",
          "Good",
          "Bad",
          "Good",
          "Good",
          "Bad",
          "Bad",
          "Bad",
          "Good",
          "Good",
          "Bad",
          "Good",
          "Good",
          "Bad",
          "Good",
          "Good",
          "Good",
          "Good",
          "Bad",
          "Bad",
          "Bad",
          "Bad",
          "Bad",
          "Bad",
          "Bad",
          "Bad",
          "Bad",
          "Bad",
          "Bad",
          "Good",
          "Good",
          "Good",
          "Good",
          "Bad",
          "Bad",
          "Good",
          "Good",
          "Bad",
          "Bad",
          "Good",
          "Good",
          "Bad",
          "Bad",
          "Bad",
          "Bad",
          "Good",
          "Good",
          "Bad",
          "Bad",
          "Bad",
          "Good",
          "Good",
          "Bad",
          "Bad",
          "Good",
          "Bad",
          "Good",
          "Bad",
          "Bad",
          "Good",
          "Bad",
          "Good",
          "Bad",
          "Good",
          "Good",
          "Good",
          "Bad",
          "Good",
          "Bad",
          "Bad",
          "Bad",
          "Good",
          "Good",
          "Bad",
          "Bad",
          "Good",
          "Good",
          "Good",
          "Good",
          "Bad",
          "Bad",
          "Good",
          "Good",
          "Good",
          "Bad",
          "Good",
          "Bad",
          "Bad",
          "Bad",
          "Bad",
          "Good",
          "Bad",
          "Bad",
          "Good",
          "Good",
          "Good",
          "Bad",
          "Bad",
          "Good",
          "Good",
          "Good",
          "Good",
          "Good",
          "Bad",
          "Bad",
          "Bad",
          "Good",
          "Bad",
          "Bad",
          "Bad",
          "Good",
          "Good",
          "Bad",
          "Bad",
          "Good",
          "Good",
          "Bad",
          "Bad",
          "Good",
          "Good",
          "Good",
          "Good",
          "Good",
          "Good",
          "Good",
          "Good",
          "Good",
          "Good",
          "Bad",
          "Bad",
          "Good",
          "Good",
          "Good",
          "Good",
          "Bad",
          "Bad",
          "Good",
          "Good",
          "Good",
          "Good",
          "Good",
          "Good",
          "Good",
          "Good",
          "Bad",
          "Bad",
          "Bad",
          "Bad",
          "Bad",
          "Bad",
          "Good",
          "Good",
          "Good",
          "Good",
          "Good",
          "Good",
          "Good",
          "Good",
          "Good",
          "Good",
          "Good",
          "Good",
          "Good",
          "Good",
          "Good",
          "Good",
          "Bad",
          "Bad",
          "Bad",
          "Bad",
          "Bad",
          "Bad",
          "Good",
          "Good",
          "Good",
          "Good",
          "Good",
          "Good",
          "Good",
          "Good",
          "Good",
          "Good",
          "Good",
          "Good",
          "Good",
          "Good",
          "Bad",
          "Bad",
          "Good",
          "Good",
          "Good",
          "Good",
          "Good",
          "Good",
          "Good",
          "Good",
          "Good",
          "Good",
          "Good",
          "Good",
          "Good",
          "Good",
          "Good",
          "Good",
          "Good",
          "Good",
          "Good",
          "Good",
          "Good",
          "Good",
          "Good",
          "Good",
          "Good",
          "Good",
          "Bad",
          "Bad",
          "Bad",
          "Bad",
          "Bad",
          "Bad",
          "Bad",
          "Bad",
          "Bad",
          "Bad",
          "Bad",
          "Bad",
          "Good",
          "Good",
          "Good",
          "Good",
          "Good",
          "Good",
          "Good",
          "Good",
          "Good",
          "Good",
          "Good",
          "Good",
          "Good",
          "Good",
          "Bad",
          "Bad",
          "Good",
          "Good",
          "Good",
          "Good",
          "Good",
          "Good",
          "Good",
          "Good",
          "Bad",
          "Bad",
          "Bad",
          "Bad",
          "Good",
          "Good",
          "Good",
          "Good",
          "Good",
          "Good",
          "Good",
          "Good",
          "Good",
          "Good",
          "Good",
          "Good",
          "Good",
          "Good",
          "Good",
          "Good",
          "Good",
          "Good",
          "Bad",
          "Bad",
          "Bad",
          "Bad",
          "Bad",
          "Bad",
          "Good",
          "Good",
          "Good",
          "Good",
          "Good",
          "Good",
          "Good",
          "Good",
          "Good",
          "Good",
          "Good",
          "Good",
          "Good",
          "Good",
          "Good",
          "Good",
          "Good",
          "Good",
          "Good",
          "Good",
          "Good",
          "Good",
          "Good",
          "Good",
          "Good",
          "Good",
          "Good",
          "Good",
          "Good",
          "Good",
          "Good",
          "Good",
          "Good",
          "Good",
          "Bad",
          "Bad",
          "Good",
          "Good",
          "Good",
          "Good",
          "Bad",
          "Bad",
          "Bad",
          "Bad",
          "Bad",
          "Bad"
         ],
         "legendgroup": "",
         "marker": {
          "colors": [
           "red",
           "red",
           "green",
           "green",
           "green",
           "green",
           "green",
           "red",
           "red",
           "red",
           "red",
           "red",
           "green",
           "green",
           "green",
           "red",
           "green",
           "green",
           "red",
           "red",
           "green",
           "green",
           "green",
           "green",
           "red",
           "red",
           "green",
           "green",
           "red",
           "green",
           "red",
           "red",
           "red",
           "green",
           "green",
           "green",
           "red",
           "red",
           "green",
           "red",
           "green",
           "red",
           "red",
           "red",
           "green",
           "red",
           "green",
           "red",
           "red",
           "red",
           "green",
           "red",
           "green",
           "red",
           "green",
           "red",
           "red",
           "red",
           "red",
           "red",
           "red",
           "red",
           "red",
           "green",
           "green",
           "green",
           "green",
           "red",
           "red",
           "green",
           "red",
           "red",
           "green",
           "green",
           "green",
           "red",
           "red",
           "red",
           "green",
           "green",
           "green",
           "green",
           "red",
           "red",
           "red",
           "green",
           "red",
           "green",
           "green",
           "red",
           "red",
           "red",
           "red",
           "red",
           "red",
           "green",
           "red",
           "green",
           "green",
           "green",
           "green",
           "red",
           "green",
           "green",
           "red",
           "red",
           "red",
           "green",
           "green",
           "green",
           "red",
           "red",
           "green",
           "green",
           "green",
           "red",
           "red",
           "red",
           "red",
           "green",
           "red",
           "green",
           "red",
           "red",
           "green",
           "red",
           "red",
           "green",
           "green",
           "red",
           "green",
           "red",
           "green",
           "red",
           "red",
           "red",
           "red",
           "green",
           "green",
           "green",
           "green",
           "green",
           "red",
           "red",
           "green",
           "green",
           "red",
           "green",
           "green",
           "green",
           "red",
           "red",
           "green",
           "green",
           "green",
           "green",
           "red",
           "red",
           "green",
           "red",
           "red",
           "green",
           "green",
           "green",
           "red",
           "red",
           "green",
           "red",
           "red",
           "green",
           "red",
           "red",
           "red",
           "red",
           "green",
           "green",
           "green",
           "green",
           "green",
           "green",
           "green",
           "green",
           "green",
           "green",
           "green",
           "red",
           "red",
           "red",
           "red",
           "green",
           "green",
           "red",
           "red",
           "green",
           "green",
           "red",
           "red",
           "green",
           "green",
           "green",
           "green",
           "red",
           "red",
           "green",
           "green",
           "green",
           "red",
           "red",
           "green",
           "green",
           "red",
           "green",
           "red",
           "green",
           "green",
           "red",
           "green",
           "red",
           "green",
           "red",
           "red",
           "red",
           "green",
           "red",
           "green",
           "green",
           "green",
           "red",
           "red",
           "green",
           "green",
           "red",
           "red",
           "red",
           "red",
           "green",
           "green",
           "red",
           "red",
           "red",
           "green",
           "red",
           "green",
           "green",
           "green",
           "green",
           "red",
           "green",
           "green",
           "red",
           "red",
           "red",
           "green",
           "green",
           "red",
           "red",
           "red",
           "red",
           "red",
           "green",
           "green",
           "green",
           "red",
           "green",
           "green",
           "green",
           "red",
           "red",
           "green",
           "green",
           "red",
           "red",
           "green",
           "green",
           "red",
           "red",
           "red",
           "red",
           "red",
           "red",
           "red",
           "red",
           "red",
           "red",
           "green",
           "green",
           "red",
           "red",
           "red",
           "red",
           "green",
           "green",
           "red",
           "red",
           "red",
           "red",
           "red",
           "red",
           "red",
           "red",
           "green",
           "green",
           "green",
           "green",
           "green",
           "green",
           "red",
           "red",
           "red",
           "red",
           "red",
           "red",
           "red",
           "red",
           "red",
           "red",
           "red",
           "red",
           "red",
           "red",
           "red",
           "red",
           "green",
           "green",
           "green",
           "green",
           "green",
           "green",
           "red",
           "red",
           "red",
           "red",
           "red",
           "red",
           "red",
           "red",
           "red",
           "red",
           "red",
           "red",
           "red",
           "red",
           "green",
           "green",
           "red",
           "red",
           "red",
           "red",
           "red",
           "red",
           "red",
           "red",
           "red",
           "red",
           "red",
           "red",
           "red",
           "red",
           "red",
           "red",
           "red",
           "red",
           "red",
           "red",
           "red",
           "red",
           "red",
           "red",
           "red",
           "red",
           "green",
           "green",
           "green",
           "green",
           "green",
           "green",
           "green",
           "green",
           "green",
           "green",
           "green",
           "green",
           "red",
           "red",
           "red",
           "red",
           "red",
           "red",
           "red",
           "red",
           "red",
           "red",
           "red",
           "red",
           "red",
           "red",
           "green",
           "green",
           "red",
           "red",
           "red",
           "red",
           "red",
           "red",
           "red",
           "red",
           "green",
           "green",
           "green",
           "green",
           "red",
           "red",
           "red",
           "red",
           "red",
           "red",
           "red",
           "red",
           "red",
           "red",
           "red",
           "red",
           "red",
           "red",
           "red",
           "red",
           "red",
           "red",
           "green",
           "green",
           "green",
           "green",
           "green",
           "green",
           "red",
           "red",
           "red",
           "red",
           "red",
           "red",
           "red",
           "red",
           "red",
           "red",
           "red",
           "red",
           "red",
           "red",
           "red",
           "red",
           "red",
           "red",
           "red",
           "red",
           "red",
           "red",
           "red",
           "red",
           "red",
           "red",
           "red",
           "red",
           "red",
           "red",
           "red",
           "red",
           "red",
           "red",
           "green",
           "green",
           "red",
           "red",
           "red",
           "red",
           "green",
           "green",
           "green",
           "green",
           "green",
           "green"
          ]
         },
         "name": "",
         "showlegend": true,
         "type": "pie"
        }
       ],
       "layout": {
        "legend": {
         "tracegroupgap": 0
        },
        "margin": {
         "t": 60
        },
        "template": {
         "data": {
          "bar": [
           {
            "error_x": {
             "color": "#2a3f5f"
            },
            "error_y": {
             "color": "#2a3f5f"
            },
            "marker": {
             "line": {
              "color": "#E5ECF6",
              "width": 0.5
             },
             "pattern": {
              "fillmode": "overlay",
              "size": 10,
              "solidity": 0.2
             }
            },
            "type": "bar"
           }
          ],
          "barpolar": [
           {
            "marker": {
             "line": {
              "color": "#E5ECF6",
              "width": 0.5
             },
             "pattern": {
              "fillmode": "overlay",
              "size": 10,
              "solidity": 0.2
             }
            },
            "type": "barpolar"
           }
          ],
          "carpet": [
           {
            "aaxis": {
             "endlinecolor": "#2a3f5f",
             "gridcolor": "white",
             "linecolor": "white",
             "minorgridcolor": "white",
             "startlinecolor": "#2a3f5f"
            },
            "baxis": {
             "endlinecolor": "#2a3f5f",
             "gridcolor": "white",
             "linecolor": "white",
             "minorgridcolor": "white",
             "startlinecolor": "#2a3f5f"
            },
            "type": "carpet"
           }
          ],
          "choropleth": [
           {
            "colorbar": {
             "outlinewidth": 0,
             "ticks": ""
            },
            "type": "choropleth"
           }
          ],
          "contour": [
           {
            "colorbar": {
             "outlinewidth": 0,
             "ticks": ""
            },
            "colorscale": [
             [
              0,
              "#0d0887"
             ],
             [
              0.1111111111111111,
              "#46039f"
             ],
             [
              0.2222222222222222,
              "#7201a8"
             ],
             [
              0.3333333333333333,
              "#9c179e"
             ],
             [
              0.4444444444444444,
              "#bd3786"
             ],
             [
              0.5555555555555556,
              "#d8576b"
             ],
             [
              0.6666666666666666,
              "#ed7953"
             ],
             [
              0.7777777777777778,
              "#fb9f3a"
             ],
             [
              0.8888888888888888,
              "#fdca26"
             ],
             [
              1,
              "#f0f921"
             ]
            ],
            "type": "contour"
           }
          ],
          "contourcarpet": [
           {
            "colorbar": {
             "outlinewidth": 0,
             "ticks": ""
            },
            "type": "contourcarpet"
           }
          ],
          "heatmap": [
           {
            "colorbar": {
             "outlinewidth": 0,
             "ticks": ""
            },
            "colorscale": [
             [
              0,
              "#0d0887"
             ],
             [
              0.1111111111111111,
              "#46039f"
             ],
             [
              0.2222222222222222,
              "#7201a8"
             ],
             [
              0.3333333333333333,
              "#9c179e"
             ],
             [
              0.4444444444444444,
              "#bd3786"
             ],
             [
              0.5555555555555556,
              "#d8576b"
             ],
             [
              0.6666666666666666,
              "#ed7953"
             ],
             [
              0.7777777777777778,
              "#fb9f3a"
             ],
             [
              0.8888888888888888,
              "#fdca26"
             ],
             [
              1,
              "#f0f921"
             ]
            ],
            "type": "heatmap"
           }
          ],
          "heatmapgl": [
           {
            "colorbar": {
             "outlinewidth": 0,
             "ticks": ""
            },
            "colorscale": [
             [
              0,
              "#0d0887"
             ],
             [
              0.1111111111111111,
              "#46039f"
             ],
             [
              0.2222222222222222,
              "#7201a8"
             ],
             [
              0.3333333333333333,
              "#9c179e"
             ],
             [
              0.4444444444444444,
              "#bd3786"
             ],
             [
              0.5555555555555556,
              "#d8576b"
             ],
             [
              0.6666666666666666,
              "#ed7953"
             ],
             [
              0.7777777777777778,
              "#fb9f3a"
             ],
             [
              0.8888888888888888,
              "#fdca26"
             ],
             [
              1,
              "#f0f921"
             ]
            ],
            "type": "heatmapgl"
           }
          ],
          "histogram": [
           {
            "marker": {
             "pattern": {
              "fillmode": "overlay",
              "size": 10,
              "solidity": 0.2
             }
            },
            "type": "histogram"
           }
          ],
          "histogram2d": [
           {
            "colorbar": {
             "outlinewidth": 0,
             "ticks": ""
            },
            "colorscale": [
             [
              0,
              "#0d0887"
             ],
             [
              0.1111111111111111,
              "#46039f"
             ],
             [
              0.2222222222222222,
              "#7201a8"
             ],
             [
              0.3333333333333333,
              "#9c179e"
             ],
             [
              0.4444444444444444,
              "#bd3786"
             ],
             [
              0.5555555555555556,
              "#d8576b"
             ],
             [
              0.6666666666666666,
              "#ed7953"
             ],
             [
              0.7777777777777778,
              "#fb9f3a"
             ],
             [
              0.8888888888888888,
              "#fdca26"
             ],
             [
              1,
              "#f0f921"
             ]
            ],
            "type": "histogram2d"
           }
          ],
          "histogram2dcontour": [
           {
            "colorbar": {
             "outlinewidth": 0,
             "ticks": ""
            },
            "colorscale": [
             [
              0,
              "#0d0887"
             ],
             [
              0.1111111111111111,
              "#46039f"
             ],
             [
              0.2222222222222222,
              "#7201a8"
             ],
             [
              0.3333333333333333,
              "#9c179e"
             ],
             [
              0.4444444444444444,
              "#bd3786"
             ],
             [
              0.5555555555555556,
              "#d8576b"
             ],
             [
              0.6666666666666666,
              "#ed7953"
             ],
             [
              0.7777777777777778,
              "#fb9f3a"
             ],
             [
              0.8888888888888888,
              "#fdca26"
             ],
             [
              1,
              "#f0f921"
             ]
            ],
            "type": "histogram2dcontour"
           }
          ],
          "mesh3d": [
           {
            "colorbar": {
             "outlinewidth": 0,
             "ticks": ""
            },
            "type": "mesh3d"
           }
          ],
          "parcoords": [
           {
            "line": {
             "colorbar": {
              "outlinewidth": 0,
              "ticks": ""
             }
            },
            "type": "parcoords"
           }
          ],
          "pie": [
           {
            "automargin": true,
            "type": "pie"
           }
          ],
          "scatter": [
           {
            "fillpattern": {
             "fillmode": "overlay",
             "size": 10,
             "solidity": 0.2
            },
            "type": "scatter"
           }
          ],
          "scatter3d": [
           {
            "line": {
             "colorbar": {
              "outlinewidth": 0,
              "ticks": ""
             }
            },
            "marker": {
             "colorbar": {
              "outlinewidth": 0,
              "ticks": ""
             }
            },
            "type": "scatter3d"
           }
          ],
          "scattercarpet": [
           {
            "marker": {
             "colorbar": {
              "outlinewidth": 0,
              "ticks": ""
             }
            },
            "type": "scattercarpet"
           }
          ],
          "scattergeo": [
           {
            "marker": {
             "colorbar": {
              "outlinewidth": 0,
              "ticks": ""
             }
            },
            "type": "scattergeo"
           }
          ],
          "scattergl": [
           {
            "marker": {
             "colorbar": {
              "outlinewidth": 0,
              "ticks": ""
             }
            },
            "type": "scattergl"
           }
          ],
          "scattermapbox": [
           {
            "marker": {
             "colorbar": {
              "outlinewidth": 0,
              "ticks": ""
             }
            },
            "type": "scattermapbox"
           }
          ],
          "scatterpolar": [
           {
            "marker": {
             "colorbar": {
              "outlinewidth": 0,
              "ticks": ""
             }
            },
            "type": "scatterpolar"
           }
          ],
          "scatterpolargl": [
           {
            "marker": {
             "colorbar": {
              "outlinewidth": 0,
              "ticks": ""
             }
            },
            "type": "scatterpolargl"
           }
          ],
          "scatterternary": [
           {
            "marker": {
             "colorbar": {
              "outlinewidth": 0,
              "ticks": ""
             }
            },
            "type": "scatterternary"
           }
          ],
          "surface": [
           {
            "colorbar": {
             "outlinewidth": 0,
             "ticks": ""
            },
            "colorscale": [
             [
              0,
              "#0d0887"
             ],
             [
              0.1111111111111111,
              "#46039f"
             ],
             [
              0.2222222222222222,
              "#7201a8"
             ],
             [
              0.3333333333333333,
              "#9c179e"
             ],
             [
              0.4444444444444444,
              "#bd3786"
             ],
             [
              0.5555555555555556,
              "#d8576b"
             ],
             [
              0.6666666666666666,
              "#ed7953"
             ],
             [
              0.7777777777777778,
              "#fb9f3a"
             ],
             [
              0.8888888888888888,
              "#fdca26"
             ],
             [
              1,
              "#f0f921"
             ]
            ],
            "type": "surface"
           }
          ],
          "table": [
           {
            "cells": {
             "fill": {
              "color": "#EBF0F8"
             },
             "line": {
              "color": "white"
             }
            },
            "header": {
             "fill": {
              "color": "#C8D4E3"
             },
             "line": {
              "color": "white"
             }
            },
            "type": "table"
           }
          ]
         },
         "layout": {
          "annotationdefaults": {
           "arrowcolor": "#2a3f5f",
           "arrowhead": 0,
           "arrowwidth": 1
          },
          "autotypenumbers": "strict",
          "coloraxis": {
           "colorbar": {
            "outlinewidth": 0,
            "ticks": ""
           }
          },
          "colorscale": {
           "diverging": [
            [
             0,
             "#8e0152"
            ],
            [
             0.1,
             "#c51b7d"
            ],
            [
             0.2,
             "#de77ae"
            ],
            [
             0.3,
             "#f1b6da"
            ],
            [
             0.4,
             "#fde0ef"
            ],
            [
             0.5,
             "#f7f7f7"
            ],
            [
             0.6,
             "#e6f5d0"
            ],
            [
             0.7,
             "#b8e186"
            ],
            [
             0.8,
             "#7fbc41"
            ],
            [
             0.9,
             "#4d9221"
            ],
            [
             1,
             "#276419"
            ]
           ],
           "sequential": [
            [
             0,
             "#0d0887"
            ],
            [
             0.1111111111111111,
             "#46039f"
            ],
            [
             0.2222222222222222,
             "#7201a8"
            ],
            [
             0.3333333333333333,
             "#9c179e"
            ],
            [
             0.4444444444444444,
             "#bd3786"
            ],
            [
             0.5555555555555556,
             "#d8576b"
            ],
            [
             0.6666666666666666,
             "#ed7953"
            ],
            [
             0.7777777777777778,
             "#fb9f3a"
            ],
            [
             0.8888888888888888,
             "#fdca26"
            ],
            [
             1,
             "#f0f921"
            ]
           ],
           "sequentialminus": [
            [
             0,
             "#0d0887"
            ],
            [
             0.1111111111111111,
             "#46039f"
            ],
            [
             0.2222222222222222,
             "#7201a8"
            ],
            [
             0.3333333333333333,
             "#9c179e"
            ],
            [
             0.4444444444444444,
             "#bd3786"
            ],
            [
             0.5555555555555556,
             "#d8576b"
            ],
            [
             0.6666666666666666,
             "#ed7953"
            ],
            [
             0.7777777777777778,
             "#fb9f3a"
            ],
            [
             0.8888888888888888,
             "#fdca26"
            ],
            [
             1,
             "#f0f921"
            ]
           ]
          },
          "colorway": [
           "#636efa",
           "#EF553B",
           "#00cc96",
           "#ab63fa",
           "#FFA15A",
           "#19d3f3",
           "#FF6692",
           "#B6E880",
           "#FF97FF",
           "#FECB52"
          ],
          "font": {
           "color": "#2a3f5f"
          },
          "geo": {
           "bgcolor": "white",
           "lakecolor": "white",
           "landcolor": "#E5ECF6",
           "showlakes": true,
           "showland": true,
           "subunitcolor": "white"
          },
          "hoverlabel": {
           "align": "left"
          },
          "hovermode": "closest",
          "mapbox": {
           "style": "light"
          },
          "paper_bgcolor": "white",
          "plot_bgcolor": "#E5ECF6",
          "polar": {
           "angularaxis": {
            "gridcolor": "white",
            "linecolor": "white",
            "ticks": ""
           },
           "bgcolor": "#E5ECF6",
           "radialaxis": {
            "gridcolor": "white",
            "linecolor": "white",
            "ticks": ""
           }
          },
          "scene": {
           "xaxis": {
            "backgroundcolor": "#E5ECF6",
            "gridcolor": "white",
            "gridwidth": 2,
            "linecolor": "white",
            "showbackground": true,
            "ticks": "",
            "zerolinecolor": "white"
           },
           "yaxis": {
            "backgroundcolor": "#E5ECF6",
            "gridcolor": "white",
            "gridwidth": 2,
            "linecolor": "white",
            "showbackground": true,
            "ticks": "",
            "zerolinecolor": "white"
           },
           "zaxis": {
            "backgroundcolor": "#E5ECF6",
            "gridcolor": "white",
            "gridwidth": 2,
            "linecolor": "white",
            "showbackground": true,
            "ticks": "",
            "zerolinecolor": "white"
           }
          },
          "shapedefaults": {
           "line": {
            "color": "#2a3f5f"
           }
          },
          "ternary": {
           "aaxis": {
            "gridcolor": "white",
            "linecolor": "white",
            "ticks": ""
           },
           "baxis": {
            "gridcolor": "white",
            "linecolor": "white",
            "ticks": ""
           },
           "bgcolor": "#E5ECF6",
           "caxis": {
            "gridcolor": "white",
            "linecolor": "white",
            "ticks": ""
           }
          },
          "title": {
           "x": 0.05
          },
          "xaxis": {
           "automargin": true,
           "gridcolor": "white",
           "linecolor": "white",
           "ticks": "",
           "title": {
            "standoff": 15
           },
           "zerolinecolor": "white",
           "zerolinewidth": 2
          },
          "yaxis": {
           "automargin": true,
           "gridcolor": "white",
           "linecolor": "white",
           "ticks": "",
           "title": {
            "standoff": 15
           },
           "zerolinecolor": "white",
           "zerolinewidth": 2
          }
         }
        }
       }
      },
      "text/html": [
       "<div>                            <div id=\"e5f3485a-c751-49ca-a6cf-7487b456002c\" class=\"plotly-graph-div\" style=\"height:525px; width:100%;\"></div>            <script type=\"text/javascript\">                require([\"plotly\"], function(Plotly) {                    window.PLOTLYENV=window.PLOTLYENV || {};                                    if (document.getElementById(\"e5f3485a-c751-49ca-a6cf-7487b456002c\")) {                    Plotly.newPlot(                        \"e5f3485a-c751-49ca-a6cf-7487b456002c\",                        [{\"customdata\":[[\"Good\"],[\"Good\"],[\"Bad\"],[\"Bad\"],[\"Bad\"],[\"Bad\"],[\"Bad\"],[\"Good\"],[\"Good\"],[\"Good\"],[\"Good\"],[\"Good\"],[\"Bad\"],[\"Bad\"],[\"Bad\"],[\"Good\"],[\"Bad\"],[\"Bad\"],[\"Good\"],[\"Good\"],[\"Bad\"],[\"Bad\"],[\"Bad\"],[\"Bad\"],[\"Good\"],[\"Good\"],[\"Bad\"],[\"Bad\"],[\"Good\"],[\"Bad\"],[\"Good\"],[\"Good\"],[\"Good\"],[\"Bad\"],[\"Bad\"],[\"Bad\"],[\"Good\"],[\"Good\"],[\"Bad\"],[\"Good\"],[\"Bad\"],[\"Good\"],[\"Good\"],[\"Good\"],[\"Bad\"],[\"Good\"],[\"Bad\"],[\"Good\"],[\"Good\"],[\"Good\"],[\"Bad\"],[\"Good\"],[\"Bad\"],[\"Good\"],[\"Bad\"],[\"Good\"],[\"Good\"],[\"Good\"],[\"Good\"],[\"Good\"],[\"Good\"],[\"Good\"],[\"Good\"],[\"Bad\"],[\"Bad\"],[\"Bad\"],[\"Bad\"],[\"Good\"],[\"Good\"],[\"Bad\"],[\"Good\"],[\"Good\"],[\"Bad\"],[\"Bad\"],[\"Bad\"],[\"Good\"],[\"Good\"],[\"Good\"],[\"Bad\"],[\"Bad\"],[\"Bad\"],[\"Bad\"],[\"Good\"],[\"Good\"],[\"Good\"],[\"Bad\"],[\"Good\"],[\"Bad\"],[\"Bad\"],[\"Good\"],[\"Good\"],[\"Good\"],[\"Good\"],[\"Good\"],[\"Good\"],[\"Bad\"],[\"Good\"],[\"Bad\"],[\"Bad\"],[\"Bad\"],[\"Bad\"],[\"Good\"],[\"Bad\"],[\"Bad\"],[\"Good\"],[\"Good\"],[\"Good\"],[\"Bad\"],[\"Bad\"],[\"Bad\"],[\"Good\"],[\"Good\"],[\"Bad\"],[\"Bad\"],[\"Bad\"],[\"Good\"],[\"Good\"],[\"Good\"],[\"Good\"],[\"Bad\"],[\"Good\"],[\"Bad\"],[\"Good\"],[\"Good\"],[\"Bad\"],[\"Good\"],[\"Good\"],[\"Bad\"],[\"Bad\"],[\"Good\"],[\"Bad\"],[\"Good\"],[\"Bad\"],[\"Good\"],[\"Good\"],[\"Good\"],[\"Good\"],[\"Bad\"],[\"Bad\"],[\"Bad\"],[\"Bad\"],[\"Bad\"],[\"Good\"],[\"Good\"],[\"Bad\"],[\"Bad\"],[\"Good\"],[\"Bad\"],[\"Bad\"],[\"Bad\"],[\"Good\"],[\"Good\"],[\"Bad\"],[\"Bad\"],[\"Bad\"],[\"Bad\"],[\"Good\"],[\"Good\"],[\"Bad\"],[\"Good\"],[\"Good\"],[\"Bad\"],[\"Bad\"],[\"Bad\"],[\"Good\"],[\"Good\"],[\"Bad\"],[\"Good\"],[\"Good\"],[\"Bad\"],[\"Good\"],[\"Good\"],[\"Good\"],[\"Good\"],[\"Bad\"],[\"Bad\"],[\"Bad\"],[\"Bad\"],[\"Bad\"],[\"Bad\"],[\"Bad\"],[\"Bad\"],[\"Bad\"],[\"Bad\"],[\"Bad\"],[\"Good\"],[\"Good\"],[\"Good\"],[\"Good\"],[\"Bad\"],[\"Bad\"],[\"Good\"],[\"Good\"],[\"Bad\"],[\"Bad\"],[\"Good\"],[\"Good\"],[\"Bad\"],[\"Bad\"],[\"Bad\"],[\"Bad\"],[\"Good\"],[\"Good\"],[\"Bad\"],[\"Bad\"],[\"Bad\"],[\"Good\"],[\"Good\"],[\"Bad\"],[\"Bad\"],[\"Good\"],[\"Bad\"],[\"Good\"],[\"Bad\"],[\"Bad\"],[\"Good\"],[\"Bad\"],[\"Good\"],[\"Bad\"],[\"Good\"],[\"Good\"],[\"Good\"],[\"Bad\"],[\"Good\"],[\"Bad\"],[\"Bad\"],[\"Bad\"],[\"Good\"],[\"Good\"],[\"Bad\"],[\"Bad\"],[\"Good\"],[\"Good\"],[\"Good\"],[\"Good\"],[\"Bad\"],[\"Bad\"],[\"Good\"],[\"Good\"],[\"Good\"],[\"Bad\"],[\"Good\"],[\"Bad\"],[\"Bad\"],[\"Bad\"],[\"Bad\"],[\"Good\"],[\"Bad\"],[\"Bad\"],[\"Good\"],[\"Good\"],[\"Good\"],[\"Bad\"],[\"Bad\"],[\"Good\"],[\"Good\"],[\"Good\"],[\"Good\"],[\"Good\"],[\"Bad\"],[\"Bad\"],[\"Bad\"],[\"Good\"],[\"Bad\"],[\"Bad\"],[\"Bad\"],[\"Good\"],[\"Good\"],[\"Bad\"],[\"Bad\"],[\"Good\"],[\"Good\"],[\"Bad\"],[\"Bad\"],[\"Good\"],[\"Good\"],[\"Good\"],[\"Good\"],[\"Good\"],[\"Good\"],[\"Good\"],[\"Good\"],[\"Good\"],[\"Good\"],[\"Bad\"],[\"Bad\"],[\"Good\"],[\"Good\"],[\"Good\"],[\"Good\"],[\"Bad\"],[\"Bad\"],[\"Good\"],[\"Good\"],[\"Good\"],[\"Good\"],[\"Good\"],[\"Good\"],[\"Good\"],[\"Good\"],[\"Bad\"],[\"Bad\"],[\"Bad\"],[\"Bad\"],[\"Bad\"],[\"Bad\"],[\"Good\"],[\"Good\"],[\"Good\"],[\"Good\"],[\"Good\"],[\"Good\"],[\"Good\"],[\"Good\"],[\"Good\"],[\"Good\"],[\"Good\"],[\"Good\"],[\"Good\"],[\"Good\"],[\"Good\"],[\"Good\"],[\"Bad\"],[\"Bad\"],[\"Bad\"],[\"Bad\"],[\"Bad\"],[\"Bad\"],[\"Good\"],[\"Good\"],[\"Good\"],[\"Good\"],[\"Good\"],[\"Good\"],[\"Good\"],[\"Good\"],[\"Good\"],[\"Good\"],[\"Good\"],[\"Good\"],[\"Good\"],[\"Good\"],[\"Bad\"],[\"Bad\"],[\"Good\"],[\"Good\"],[\"Good\"],[\"Good\"],[\"Good\"],[\"Good\"],[\"Good\"],[\"Good\"],[\"Good\"],[\"Good\"],[\"Good\"],[\"Good\"],[\"Good\"],[\"Good\"],[\"Good\"],[\"Good\"],[\"Good\"],[\"Good\"],[\"Good\"],[\"Good\"],[\"Good\"],[\"Good\"],[\"Good\"],[\"Good\"],[\"Good\"],[\"Good\"],[\"Bad\"],[\"Bad\"],[\"Bad\"],[\"Bad\"],[\"Bad\"],[\"Bad\"],[\"Bad\"],[\"Bad\"],[\"Bad\"],[\"Bad\"],[\"Bad\"],[\"Bad\"],[\"Good\"],[\"Good\"],[\"Good\"],[\"Good\"],[\"Good\"],[\"Good\"],[\"Good\"],[\"Good\"],[\"Good\"],[\"Good\"],[\"Good\"],[\"Good\"],[\"Good\"],[\"Good\"],[\"Bad\"],[\"Bad\"],[\"Good\"],[\"Good\"],[\"Good\"],[\"Good\"],[\"Good\"],[\"Good\"],[\"Good\"],[\"Good\"],[\"Bad\"],[\"Bad\"],[\"Bad\"],[\"Bad\"],[\"Good\"],[\"Good\"],[\"Good\"],[\"Good\"],[\"Good\"],[\"Good\"],[\"Good\"],[\"Good\"],[\"Good\"],[\"Good\"],[\"Good\"],[\"Good\"],[\"Good\"],[\"Good\"],[\"Good\"],[\"Good\"],[\"Good\"],[\"Good\"],[\"Bad\"],[\"Bad\"],[\"Bad\"],[\"Bad\"],[\"Bad\"],[\"Bad\"],[\"Good\"],[\"Good\"],[\"Good\"],[\"Good\"],[\"Good\"],[\"Good\"],[\"Good\"],[\"Good\"],[\"Good\"],[\"Good\"],[\"Good\"],[\"Good\"],[\"Good\"],[\"Good\"],[\"Good\"],[\"Good\"],[\"Good\"],[\"Good\"],[\"Good\"],[\"Good\"],[\"Good\"],[\"Good\"],[\"Good\"],[\"Good\"],[\"Good\"],[\"Good\"],[\"Good\"],[\"Good\"],[\"Good\"],[\"Good\"],[\"Good\"],[\"Good\"],[\"Good\"],[\"Good\"],[\"Bad\"],[\"Bad\"],[\"Good\"],[\"Good\"],[\"Good\"],[\"Good\"],[\"Bad\"],[\"Bad\"],[\"Bad\"],[\"Bad\"],[\"Bad\"],[\"Bad\"]],\"domain\":{\"x\":[0.0,1.0],\"y\":[0.0,1.0]},\"hovertemplate\":\"ParentschoolSatisfaction=%{customdata[0]}<extra></extra>\",\"labels\":[\"Good\",\"Good\",\"Bad\",\"Bad\",\"Bad\",\"Bad\",\"Bad\",\"Good\",\"Good\",\"Good\",\"Good\",\"Good\",\"Bad\",\"Bad\",\"Bad\",\"Good\",\"Bad\",\"Bad\",\"Good\",\"Good\",\"Bad\",\"Bad\",\"Bad\",\"Bad\",\"Good\",\"Good\",\"Bad\",\"Bad\",\"Good\",\"Bad\",\"Good\",\"Good\",\"Good\",\"Bad\",\"Bad\",\"Bad\",\"Good\",\"Good\",\"Bad\",\"Good\",\"Bad\",\"Good\",\"Good\",\"Good\",\"Bad\",\"Good\",\"Bad\",\"Good\",\"Good\",\"Good\",\"Bad\",\"Good\",\"Bad\",\"Good\",\"Bad\",\"Good\",\"Good\",\"Good\",\"Good\",\"Good\",\"Good\",\"Good\",\"Good\",\"Bad\",\"Bad\",\"Bad\",\"Bad\",\"Good\",\"Good\",\"Bad\",\"Good\",\"Good\",\"Bad\",\"Bad\",\"Bad\",\"Good\",\"Good\",\"Good\",\"Bad\",\"Bad\",\"Bad\",\"Bad\",\"Good\",\"Good\",\"Good\",\"Bad\",\"Good\",\"Bad\",\"Bad\",\"Good\",\"Good\",\"Good\",\"Good\",\"Good\",\"Good\",\"Bad\",\"Good\",\"Bad\",\"Bad\",\"Bad\",\"Bad\",\"Good\",\"Bad\",\"Bad\",\"Good\",\"Good\",\"Good\",\"Bad\",\"Bad\",\"Bad\",\"Good\",\"Good\",\"Bad\",\"Bad\",\"Bad\",\"Good\",\"Good\",\"Good\",\"Good\",\"Bad\",\"Good\",\"Bad\",\"Good\",\"Good\",\"Bad\",\"Good\",\"Good\",\"Bad\",\"Bad\",\"Good\",\"Bad\",\"Good\",\"Bad\",\"Good\",\"Good\",\"Good\",\"Good\",\"Bad\",\"Bad\",\"Bad\",\"Bad\",\"Bad\",\"Good\",\"Good\",\"Bad\",\"Bad\",\"Good\",\"Bad\",\"Bad\",\"Bad\",\"Good\",\"Good\",\"Bad\",\"Bad\",\"Bad\",\"Bad\",\"Good\",\"Good\",\"Bad\",\"Good\",\"Good\",\"Bad\",\"Bad\",\"Bad\",\"Good\",\"Good\",\"Bad\",\"Good\",\"Good\",\"Bad\",\"Good\",\"Good\",\"Good\",\"Good\",\"Bad\",\"Bad\",\"Bad\",\"Bad\",\"Bad\",\"Bad\",\"Bad\",\"Bad\",\"Bad\",\"Bad\",\"Bad\",\"Good\",\"Good\",\"Good\",\"Good\",\"Bad\",\"Bad\",\"Good\",\"Good\",\"Bad\",\"Bad\",\"Good\",\"Good\",\"Bad\",\"Bad\",\"Bad\",\"Bad\",\"Good\",\"Good\",\"Bad\",\"Bad\",\"Bad\",\"Good\",\"Good\",\"Bad\",\"Bad\",\"Good\",\"Bad\",\"Good\",\"Bad\",\"Bad\",\"Good\",\"Bad\",\"Good\",\"Bad\",\"Good\",\"Good\",\"Good\",\"Bad\",\"Good\",\"Bad\",\"Bad\",\"Bad\",\"Good\",\"Good\",\"Bad\",\"Bad\",\"Good\",\"Good\",\"Good\",\"Good\",\"Bad\",\"Bad\",\"Good\",\"Good\",\"Good\",\"Bad\",\"Good\",\"Bad\",\"Bad\",\"Bad\",\"Bad\",\"Good\",\"Bad\",\"Bad\",\"Good\",\"Good\",\"Good\",\"Bad\",\"Bad\",\"Good\",\"Good\",\"Good\",\"Good\",\"Good\",\"Bad\",\"Bad\",\"Bad\",\"Good\",\"Bad\",\"Bad\",\"Bad\",\"Good\",\"Good\",\"Bad\",\"Bad\",\"Good\",\"Good\",\"Bad\",\"Bad\",\"Good\",\"Good\",\"Good\",\"Good\",\"Good\",\"Good\",\"Good\",\"Good\",\"Good\",\"Good\",\"Bad\",\"Bad\",\"Good\",\"Good\",\"Good\",\"Good\",\"Bad\",\"Bad\",\"Good\",\"Good\",\"Good\",\"Good\",\"Good\",\"Good\",\"Good\",\"Good\",\"Bad\",\"Bad\",\"Bad\",\"Bad\",\"Bad\",\"Bad\",\"Good\",\"Good\",\"Good\",\"Good\",\"Good\",\"Good\",\"Good\",\"Good\",\"Good\",\"Good\",\"Good\",\"Good\",\"Good\",\"Good\",\"Good\",\"Good\",\"Bad\",\"Bad\",\"Bad\",\"Bad\",\"Bad\",\"Bad\",\"Good\",\"Good\",\"Good\",\"Good\",\"Good\",\"Good\",\"Good\",\"Good\",\"Good\",\"Good\",\"Good\",\"Good\",\"Good\",\"Good\",\"Bad\",\"Bad\",\"Good\",\"Good\",\"Good\",\"Good\",\"Good\",\"Good\",\"Good\",\"Good\",\"Good\",\"Good\",\"Good\",\"Good\",\"Good\",\"Good\",\"Good\",\"Good\",\"Good\",\"Good\",\"Good\",\"Good\",\"Good\",\"Good\",\"Good\",\"Good\",\"Good\",\"Good\",\"Bad\",\"Bad\",\"Bad\",\"Bad\",\"Bad\",\"Bad\",\"Bad\",\"Bad\",\"Bad\",\"Bad\",\"Bad\",\"Bad\",\"Good\",\"Good\",\"Good\",\"Good\",\"Good\",\"Good\",\"Good\",\"Good\",\"Good\",\"Good\",\"Good\",\"Good\",\"Good\",\"Good\",\"Bad\",\"Bad\",\"Good\",\"Good\",\"Good\",\"Good\",\"Good\",\"Good\",\"Good\",\"Good\",\"Bad\",\"Bad\",\"Bad\",\"Bad\",\"Good\",\"Good\",\"Good\",\"Good\",\"Good\",\"Good\",\"Good\",\"Good\",\"Good\",\"Good\",\"Good\",\"Good\",\"Good\",\"Good\",\"Good\",\"Good\",\"Good\",\"Good\",\"Bad\",\"Bad\",\"Bad\",\"Bad\",\"Bad\",\"Bad\",\"Good\",\"Good\",\"Good\",\"Good\",\"Good\",\"Good\",\"Good\",\"Good\",\"Good\",\"Good\",\"Good\",\"Good\",\"Good\",\"Good\",\"Good\",\"Good\",\"Good\",\"Good\",\"Good\",\"Good\",\"Good\",\"Good\",\"Good\",\"Good\",\"Good\",\"Good\",\"Good\",\"Good\",\"Good\",\"Good\",\"Good\",\"Good\",\"Good\",\"Good\",\"Bad\",\"Bad\",\"Good\",\"Good\",\"Good\",\"Good\",\"Bad\",\"Bad\",\"Bad\",\"Bad\",\"Bad\",\"Bad\"],\"legendgroup\":\"\",\"marker\":{\"colors\":[\"red\",\"red\",\"green\",\"green\",\"green\",\"green\",\"green\",\"red\",\"red\",\"red\",\"red\",\"red\",\"green\",\"green\",\"green\",\"red\",\"green\",\"green\",\"red\",\"red\",\"green\",\"green\",\"green\",\"green\",\"red\",\"red\",\"green\",\"green\",\"red\",\"green\",\"red\",\"red\",\"red\",\"green\",\"green\",\"green\",\"red\",\"red\",\"green\",\"red\",\"green\",\"red\",\"red\",\"red\",\"green\",\"red\",\"green\",\"red\",\"red\",\"red\",\"green\",\"red\",\"green\",\"red\",\"green\",\"red\",\"red\",\"red\",\"red\",\"red\",\"red\",\"red\",\"red\",\"green\",\"green\",\"green\",\"green\",\"red\",\"red\",\"green\",\"red\",\"red\",\"green\",\"green\",\"green\",\"red\",\"red\",\"red\",\"green\",\"green\",\"green\",\"green\",\"red\",\"red\",\"red\",\"green\",\"red\",\"green\",\"green\",\"red\",\"red\",\"red\",\"red\",\"red\",\"red\",\"green\",\"red\",\"green\",\"green\",\"green\",\"green\",\"red\",\"green\",\"green\",\"red\",\"red\",\"red\",\"green\",\"green\",\"green\",\"red\",\"red\",\"green\",\"green\",\"green\",\"red\",\"red\",\"red\",\"red\",\"green\",\"red\",\"green\",\"red\",\"red\",\"green\",\"red\",\"red\",\"green\",\"green\",\"red\",\"green\",\"red\",\"green\",\"red\",\"red\",\"red\",\"red\",\"green\",\"green\",\"green\",\"green\",\"green\",\"red\",\"red\",\"green\",\"green\",\"red\",\"green\",\"green\",\"green\",\"red\",\"red\",\"green\",\"green\",\"green\",\"green\",\"red\",\"red\",\"green\",\"red\",\"red\",\"green\",\"green\",\"green\",\"red\",\"red\",\"green\",\"red\",\"red\",\"green\",\"red\",\"red\",\"red\",\"red\",\"green\",\"green\",\"green\",\"green\",\"green\",\"green\",\"green\",\"green\",\"green\",\"green\",\"green\",\"red\",\"red\",\"red\",\"red\",\"green\",\"green\",\"red\",\"red\",\"green\",\"green\",\"red\",\"red\",\"green\",\"green\",\"green\",\"green\",\"red\",\"red\",\"green\",\"green\",\"green\",\"red\",\"red\",\"green\",\"green\",\"red\",\"green\",\"red\",\"green\",\"green\",\"red\",\"green\",\"red\",\"green\",\"red\",\"red\",\"red\",\"green\",\"red\",\"green\",\"green\",\"green\",\"red\",\"red\",\"green\",\"green\",\"red\",\"red\",\"red\",\"red\",\"green\",\"green\",\"red\",\"red\",\"red\",\"green\",\"red\",\"green\",\"green\",\"green\",\"green\",\"red\",\"green\",\"green\",\"red\",\"red\",\"red\",\"green\",\"green\",\"red\",\"red\",\"red\",\"red\",\"red\",\"green\",\"green\",\"green\",\"red\",\"green\",\"green\",\"green\",\"red\",\"red\",\"green\",\"green\",\"red\",\"red\",\"green\",\"green\",\"red\",\"red\",\"red\",\"red\",\"red\",\"red\",\"red\",\"red\",\"red\",\"red\",\"green\",\"green\",\"red\",\"red\",\"red\",\"red\",\"green\",\"green\",\"red\",\"red\",\"red\",\"red\",\"red\",\"red\",\"red\",\"red\",\"green\",\"green\",\"green\",\"green\",\"green\",\"green\",\"red\",\"red\",\"red\",\"red\",\"red\",\"red\",\"red\",\"red\",\"red\",\"red\",\"red\",\"red\",\"red\",\"red\",\"red\",\"red\",\"green\",\"green\",\"green\",\"green\",\"green\",\"green\",\"red\",\"red\",\"red\",\"red\",\"red\",\"red\",\"red\",\"red\",\"red\",\"red\",\"red\",\"red\",\"red\",\"red\",\"green\",\"green\",\"red\",\"red\",\"red\",\"red\",\"red\",\"red\",\"red\",\"red\",\"red\",\"red\",\"red\",\"red\",\"red\",\"red\",\"red\",\"red\",\"red\",\"red\",\"red\",\"red\",\"red\",\"red\",\"red\",\"red\",\"red\",\"red\",\"green\",\"green\",\"green\",\"green\",\"green\",\"green\",\"green\",\"green\",\"green\",\"green\",\"green\",\"green\",\"red\",\"red\",\"red\",\"red\",\"red\",\"red\",\"red\",\"red\",\"red\",\"red\",\"red\",\"red\",\"red\",\"red\",\"green\",\"green\",\"red\",\"red\",\"red\",\"red\",\"red\",\"red\",\"red\",\"red\",\"green\",\"green\",\"green\",\"green\",\"red\",\"red\",\"red\",\"red\",\"red\",\"red\",\"red\",\"red\",\"red\",\"red\",\"red\",\"red\",\"red\",\"red\",\"red\",\"red\",\"red\",\"red\",\"green\",\"green\",\"green\",\"green\",\"green\",\"green\",\"red\",\"red\",\"red\",\"red\",\"red\",\"red\",\"red\",\"red\",\"red\",\"red\",\"red\",\"red\",\"red\",\"red\",\"red\",\"red\",\"red\",\"red\",\"red\",\"red\",\"red\",\"red\",\"red\",\"red\",\"red\",\"red\",\"red\",\"red\",\"red\",\"red\",\"red\",\"red\",\"red\",\"red\",\"green\",\"green\",\"red\",\"red\",\"red\",\"red\",\"green\",\"green\",\"green\",\"green\",\"green\",\"green\"]},\"name\":\"\",\"showlegend\":true,\"type\":\"pie\"}],                        {\"template\":{\"data\":{\"histogram2dcontour\":[{\"type\":\"histogram2dcontour\",\"colorbar\":{\"outlinewidth\":0,\"ticks\":\"\"},\"colorscale\":[[0.0,\"#0d0887\"],[0.1111111111111111,\"#46039f\"],[0.2222222222222222,\"#7201a8\"],[0.3333333333333333,\"#9c179e\"],[0.4444444444444444,\"#bd3786\"],[0.5555555555555556,\"#d8576b\"],[0.6666666666666666,\"#ed7953\"],[0.7777777777777778,\"#fb9f3a\"],[0.8888888888888888,\"#fdca26\"],[1.0,\"#f0f921\"]]}],\"choropleth\":[{\"type\":\"choropleth\",\"colorbar\":{\"outlinewidth\":0,\"ticks\":\"\"}}],\"histogram2d\":[{\"type\":\"histogram2d\",\"colorbar\":{\"outlinewidth\":0,\"ticks\":\"\"},\"colorscale\":[[0.0,\"#0d0887\"],[0.1111111111111111,\"#46039f\"],[0.2222222222222222,\"#7201a8\"],[0.3333333333333333,\"#9c179e\"],[0.4444444444444444,\"#bd3786\"],[0.5555555555555556,\"#d8576b\"],[0.6666666666666666,\"#ed7953\"],[0.7777777777777778,\"#fb9f3a\"],[0.8888888888888888,\"#fdca26\"],[1.0,\"#f0f921\"]]}],\"heatmap\":[{\"type\":\"heatmap\",\"colorbar\":{\"outlinewidth\":0,\"ticks\":\"\"},\"colorscale\":[[0.0,\"#0d0887\"],[0.1111111111111111,\"#46039f\"],[0.2222222222222222,\"#7201a8\"],[0.3333333333333333,\"#9c179e\"],[0.4444444444444444,\"#bd3786\"],[0.5555555555555556,\"#d8576b\"],[0.6666666666666666,\"#ed7953\"],[0.7777777777777778,\"#fb9f3a\"],[0.8888888888888888,\"#fdca26\"],[1.0,\"#f0f921\"]]}],\"heatmapgl\":[{\"type\":\"heatmapgl\",\"colorbar\":{\"outlinewidth\":0,\"ticks\":\"\"},\"colorscale\":[[0.0,\"#0d0887\"],[0.1111111111111111,\"#46039f\"],[0.2222222222222222,\"#7201a8\"],[0.3333333333333333,\"#9c179e\"],[0.4444444444444444,\"#bd3786\"],[0.5555555555555556,\"#d8576b\"],[0.6666666666666666,\"#ed7953\"],[0.7777777777777778,\"#fb9f3a\"],[0.8888888888888888,\"#fdca26\"],[1.0,\"#f0f921\"]]}],\"contourcarpet\":[{\"type\":\"contourcarpet\",\"colorbar\":{\"outlinewidth\":0,\"ticks\":\"\"}}],\"contour\":[{\"type\":\"contour\",\"colorbar\":{\"outlinewidth\":0,\"ticks\":\"\"},\"colorscale\":[[0.0,\"#0d0887\"],[0.1111111111111111,\"#46039f\"],[0.2222222222222222,\"#7201a8\"],[0.3333333333333333,\"#9c179e\"],[0.4444444444444444,\"#bd3786\"],[0.5555555555555556,\"#d8576b\"],[0.6666666666666666,\"#ed7953\"],[0.7777777777777778,\"#fb9f3a\"],[0.8888888888888888,\"#fdca26\"],[1.0,\"#f0f921\"]]}],\"surface\":[{\"type\":\"surface\",\"colorbar\":{\"outlinewidth\":0,\"ticks\":\"\"},\"colorscale\":[[0.0,\"#0d0887\"],[0.1111111111111111,\"#46039f\"],[0.2222222222222222,\"#7201a8\"],[0.3333333333333333,\"#9c179e\"],[0.4444444444444444,\"#bd3786\"],[0.5555555555555556,\"#d8576b\"],[0.6666666666666666,\"#ed7953\"],[0.7777777777777778,\"#fb9f3a\"],[0.8888888888888888,\"#fdca26\"],[1.0,\"#f0f921\"]]}],\"mesh3d\":[{\"type\":\"mesh3d\",\"colorbar\":{\"outlinewidth\":0,\"ticks\":\"\"}}],\"scatter\":[{\"fillpattern\":{\"fillmode\":\"overlay\",\"size\":10,\"solidity\":0.2},\"type\":\"scatter\"}],\"parcoords\":[{\"type\":\"parcoords\",\"line\":{\"colorbar\":{\"outlinewidth\":0,\"ticks\":\"\"}}}],\"scatterpolargl\":[{\"type\":\"scatterpolargl\",\"marker\":{\"colorbar\":{\"outlinewidth\":0,\"ticks\":\"\"}}}],\"bar\":[{\"error_x\":{\"color\":\"#2a3f5f\"},\"error_y\":{\"color\":\"#2a3f5f\"},\"marker\":{\"line\":{\"color\":\"#E5ECF6\",\"width\":0.5},\"pattern\":{\"fillmode\":\"overlay\",\"size\":10,\"solidity\":0.2}},\"type\":\"bar\"}],\"scattergeo\":[{\"type\":\"scattergeo\",\"marker\":{\"colorbar\":{\"outlinewidth\":0,\"ticks\":\"\"}}}],\"scatterpolar\":[{\"type\":\"scatterpolar\",\"marker\":{\"colorbar\":{\"outlinewidth\":0,\"ticks\":\"\"}}}],\"histogram\":[{\"marker\":{\"pattern\":{\"fillmode\":\"overlay\",\"size\":10,\"solidity\":0.2}},\"type\":\"histogram\"}],\"scattergl\":[{\"type\":\"scattergl\",\"marker\":{\"colorbar\":{\"outlinewidth\":0,\"ticks\":\"\"}}}],\"scatter3d\":[{\"type\":\"scatter3d\",\"line\":{\"colorbar\":{\"outlinewidth\":0,\"ticks\":\"\"}},\"marker\":{\"colorbar\":{\"outlinewidth\":0,\"ticks\":\"\"}}}],\"scattermapbox\":[{\"type\":\"scattermapbox\",\"marker\":{\"colorbar\":{\"outlinewidth\":0,\"ticks\":\"\"}}}],\"scatterternary\":[{\"type\":\"scatterternary\",\"marker\":{\"colorbar\":{\"outlinewidth\":0,\"ticks\":\"\"}}}],\"scattercarpet\":[{\"type\":\"scattercarpet\",\"marker\":{\"colorbar\":{\"outlinewidth\":0,\"ticks\":\"\"}}}],\"carpet\":[{\"aaxis\":{\"endlinecolor\":\"#2a3f5f\",\"gridcolor\":\"white\",\"linecolor\":\"white\",\"minorgridcolor\":\"white\",\"startlinecolor\":\"#2a3f5f\"},\"baxis\":{\"endlinecolor\":\"#2a3f5f\",\"gridcolor\":\"white\",\"linecolor\":\"white\",\"minorgridcolor\":\"white\",\"startlinecolor\":\"#2a3f5f\"},\"type\":\"carpet\"}],\"table\":[{\"cells\":{\"fill\":{\"color\":\"#EBF0F8\"},\"line\":{\"color\":\"white\"}},\"header\":{\"fill\":{\"color\":\"#C8D4E3\"},\"line\":{\"color\":\"white\"}},\"type\":\"table\"}],\"barpolar\":[{\"marker\":{\"line\":{\"color\":\"#E5ECF6\",\"width\":0.5},\"pattern\":{\"fillmode\":\"overlay\",\"size\":10,\"solidity\":0.2}},\"type\":\"barpolar\"}],\"pie\":[{\"automargin\":true,\"type\":\"pie\"}]},\"layout\":{\"autotypenumbers\":\"strict\",\"colorway\":[\"#636efa\",\"#EF553B\",\"#00cc96\",\"#ab63fa\",\"#FFA15A\",\"#19d3f3\",\"#FF6692\",\"#B6E880\",\"#FF97FF\",\"#FECB52\"],\"font\":{\"color\":\"#2a3f5f\"},\"hovermode\":\"closest\",\"hoverlabel\":{\"align\":\"left\"},\"paper_bgcolor\":\"white\",\"plot_bgcolor\":\"#E5ECF6\",\"polar\":{\"bgcolor\":\"#E5ECF6\",\"angularaxis\":{\"gridcolor\":\"white\",\"linecolor\":\"white\",\"ticks\":\"\"},\"radialaxis\":{\"gridcolor\":\"white\",\"linecolor\":\"white\",\"ticks\":\"\"}},\"ternary\":{\"bgcolor\":\"#E5ECF6\",\"aaxis\":{\"gridcolor\":\"white\",\"linecolor\":\"white\",\"ticks\":\"\"},\"baxis\":{\"gridcolor\":\"white\",\"linecolor\":\"white\",\"ticks\":\"\"},\"caxis\":{\"gridcolor\":\"white\",\"linecolor\":\"white\",\"ticks\":\"\"}},\"coloraxis\":{\"colorbar\":{\"outlinewidth\":0,\"ticks\":\"\"}},\"colorscale\":{\"sequential\":[[0.0,\"#0d0887\"],[0.1111111111111111,\"#46039f\"],[0.2222222222222222,\"#7201a8\"],[0.3333333333333333,\"#9c179e\"],[0.4444444444444444,\"#bd3786\"],[0.5555555555555556,\"#d8576b\"],[0.6666666666666666,\"#ed7953\"],[0.7777777777777778,\"#fb9f3a\"],[0.8888888888888888,\"#fdca26\"],[1.0,\"#f0f921\"]],\"sequentialminus\":[[0.0,\"#0d0887\"],[0.1111111111111111,\"#46039f\"],[0.2222222222222222,\"#7201a8\"],[0.3333333333333333,\"#9c179e\"],[0.4444444444444444,\"#bd3786\"],[0.5555555555555556,\"#d8576b\"],[0.6666666666666666,\"#ed7953\"],[0.7777777777777778,\"#fb9f3a\"],[0.8888888888888888,\"#fdca26\"],[1.0,\"#f0f921\"]],\"diverging\":[[0,\"#8e0152\"],[0.1,\"#c51b7d\"],[0.2,\"#de77ae\"],[0.3,\"#f1b6da\"],[0.4,\"#fde0ef\"],[0.5,\"#f7f7f7\"],[0.6,\"#e6f5d0\"],[0.7,\"#b8e186\"],[0.8,\"#7fbc41\"],[0.9,\"#4d9221\"],[1,\"#276419\"]]},\"xaxis\":{\"gridcolor\":\"white\",\"linecolor\":\"white\",\"ticks\":\"\",\"title\":{\"standoff\":15},\"zerolinecolor\":\"white\",\"automargin\":true,\"zerolinewidth\":2},\"yaxis\":{\"gridcolor\":\"white\",\"linecolor\":\"white\",\"ticks\":\"\",\"title\":{\"standoff\":15},\"zerolinecolor\":\"white\",\"automargin\":true,\"zerolinewidth\":2},\"scene\":{\"xaxis\":{\"backgroundcolor\":\"#E5ECF6\",\"gridcolor\":\"white\",\"linecolor\":\"white\",\"showbackground\":true,\"ticks\":\"\",\"zerolinecolor\":\"white\",\"gridwidth\":2},\"yaxis\":{\"backgroundcolor\":\"#E5ECF6\",\"gridcolor\":\"white\",\"linecolor\":\"white\",\"showbackground\":true,\"ticks\":\"\",\"zerolinecolor\":\"white\",\"gridwidth\":2},\"zaxis\":{\"backgroundcolor\":\"#E5ECF6\",\"gridcolor\":\"white\",\"linecolor\":\"white\",\"showbackground\":true,\"ticks\":\"\",\"zerolinecolor\":\"white\",\"gridwidth\":2}},\"shapedefaults\":{\"line\":{\"color\":\"#2a3f5f\"}},\"annotationdefaults\":{\"arrowcolor\":\"#2a3f5f\",\"arrowhead\":0,\"arrowwidth\":1},\"geo\":{\"bgcolor\":\"white\",\"landcolor\":\"#E5ECF6\",\"subunitcolor\":\"white\",\"showland\":true,\"showlakes\":true,\"lakecolor\":\"white\"},\"title\":{\"x\":0.05},\"mapbox\":{\"style\":\"light\"}}},\"legend\":{\"tracegroupgap\":0},\"margin\":{\"t\":60}},                        {\"responsive\": true}                    ).then(function(){\n",
       "                            \n",
       "var gd = document.getElementById('e5f3485a-c751-49ca-a6cf-7487b456002c');\n",
       "var x = new MutationObserver(function (mutations, observer) {{\n",
       "        var display = window.getComputedStyle(gd).display;\n",
       "        if (!display || display === 'none') {{\n",
       "            console.log([gd, 'removed!']);\n",
       "            Plotly.purge(gd);\n",
       "            observer.disconnect();\n",
       "        }}\n",
       "}});\n",
       "\n",
       "// Listen for the removal of the full notebook cells\n",
       "var notebookContainer = gd.closest('#notebook-container');\n",
       "if (notebookContainer) {{\n",
       "    x.observe(notebookContainer, {childList: true});\n",
       "}}\n",
       "\n",
       "// Listen for the clearing of the current output cell\n",
       "var outputEl = gd.closest('.output');\n",
       "if (outputEl) {{\n",
       "    x.observe(outputEl, {childList: true});\n",
       "}}\n",
       "\n",
       "                        })                };                });            </script>        </div>"
      ]
     },
     "metadata": {},
     "output_type": "display_data"
    }
   ],
   "source": [
    "import plotly.express as px\n",
    "\n",
    "fig = px.pie(students,names='ParentschoolSatisfaction',color='ParentschoolSatisfaction',\n",
    "             color_discrete_map={'Good':'red',\n",
    "                                 'Bad':'green'})\n",
    "fig.show()"
   ]
  },
  {
   "cell_type": "code",
   "execution_count": 24,
   "metadata": {},
   "outputs": [
    {
     "data": {
      "text/html": [
       "<div>\n",
       "<style scoped>\n",
       "    .dataframe tbody tr th:only-of-type {\n",
       "        vertical-align: middle;\n",
       "    }\n",
       "\n",
       "    .dataframe tbody tr th {\n",
       "        vertical-align: top;\n",
       "    }\n",
       "\n",
       "    .dataframe thead th {\n",
       "        text-align: right;\n",
       "    }\n",
       "</style>\n",
       "<table border=\"1\" class=\"dataframe\">\n",
       "  <thead>\n",
       "    <tr style=\"text-align: right;\">\n",
       "      <th></th>\n",
       "      <th>gender</th>\n",
       "      <th>NationalITy</th>\n",
       "      <th>PlaceofBirth</th>\n",
       "      <th>StageID</th>\n",
       "      <th>GradeID</th>\n",
       "      <th>SectionID</th>\n",
       "      <th>Topic</th>\n",
       "      <th>Semester</th>\n",
       "      <th>Relation</th>\n",
       "      <th>raisedhands</th>\n",
       "      <th>VisITedResources</th>\n",
       "      <th>AnnouncementsView</th>\n",
       "      <th>Discussion</th>\n",
       "      <th>ParentAnsweringSurvey</th>\n",
       "      <th>ParentschoolSatisfaction</th>\n",
       "      <th>StudentAbsenceDays</th>\n",
       "      <th>Class</th>\n",
       "    </tr>\n",
       "  </thead>\n",
       "  <tbody>\n",
       "    <tr>\n",
       "      <th>0</th>\n",
       "      <td>M</td>\n",
       "      <td>KW</td>\n",
       "      <td>KuwaIT</td>\n",
       "      <td>lowerlevel</td>\n",
       "      <td>G-04</td>\n",
       "      <td>A</td>\n",
       "      <td>IT</td>\n",
       "      <td>F</td>\n",
       "      <td>Father</td>\n",
       "      <td>15</td>\n",
       "      <td>16</td>\n",
       "      <td>2</td>\n",
       "      <td>20</td>\n",
       "      <td>Yes</td>\n",
       "      <td>Good</td>\n",
       "      <td>Under-7</td>\n",
       "      <td>M</td>\n",
       "    </tr>\n",
       "    <tr>\n",
       "      <th>1</th>\n",
       "      <td>M</td>\n",
       "      <td>KW</td>\n",
       "      <td>KuwaIT</td>\n",
       "      <td>lowerlevel</td>\n",
       "      <td>G-04</td>\n",
       "      <td>A</td>\n",
       "      <td>IT</td>\n",
       "      <td>F</td>\n",
       "      <td>Father</td>\n",
       "      <td>20</td>\n",
       "      <td>20</td>\n",
       "      <td>3</td>\n",
       "      <td>25</td>\n",
       "      <td>Yes</td>\n",
       "      <td>Good</td>\n",
       "      <td>Under-7</td>\n",
       "      <td>M</td>\n",
       "    </tr>\n",
       "    <tr>\n",
       "      <th>7</th>\n",
       "      <td>M</td>\n",
       "      <td>KW</td>\n",
       "      <td>KuwaIT</td>\n",
       "      <td>MiddleSchool</td>\n",
       "      <td>G-07</td>\n",
       "      <td>A</td>\n",
       "      <td>Math</td>\n",
       "      <td>F</td>\n",
       "      <td>Father</td>\n",
       "      <td>50</td>\n",
       "      <td>10</td>\n",
       "      <td>15</td>\n",
       "      <td>22</td>\n",
       "      <td>Yes</td>\n",
       "      <td>Good</td>\n",
       "      <td>Under-7</td>\n",
       "      <td>M</td>\n",
       "    </tr>\n",
       "    <tr>\n",
       "      <th>8</th>\n",
       "      <td>F</td>\n",
       "      <td>KW</td>\n",
       "      <td>KuwaIT</td>\n",
       "      <td>MiddleSchool</td>\n",
       "      <td>G-07</td>\n",
       "      <td>A</td>\n",
       "      <td>Math</td>\n",
       "      <td>F</td>\n",
       "      <td>Father</td>\n",
       "      <td>12</td>\n",
       "      <td>21</td>\n",
       "      <td>16</td>\n",
       "      <td>50</td>\n",
       "      <td>Yes</td>\n",
       "      <td>Good</td>\n",
       "      <td>Under-7</td>\n",
       "      <td>M</td>\n",
       "    </tr>\n",
       "    <tr>\n",
       "      <th>9</th>\n",
       "      <td>F</td>\n",
       "      <td>KW</td>\n",
       "      <td>KuwaIT</td>\n",
       "      <td>MiddleSchool</td>\n",
       "      <td>G-07</td>\n",
       "      <td>B</td>\n",
       "      <td>IT</td>\n",
       "      <td>F</td>\n",
       "      <td>Father</td>\n",
       "      <td>70</td>\n",
       "      <td>80</td>\n",
       "      <td>25</td>\n",
       "      <td>70</td>\n",
       "      <td>Yes</td>\n",
       "      <td>Good</td>\n",
       "      <td>Under-7</td>\n",
       "      <td>M</td>\n",
       "    </tr>\n",
       "    <tr>\n",
       "      <th>...</th>\n",
       "      <td>...</td>\n",
       "      <td>...</td>\n",
       "      <td>...</td>\n",
       "      <td>...</td>\n",
       "      <td>...</td>\n",
       "      <td>...</td>\n",
       "      <td>...</td>\n",
       "      <td>...</td>\n",
       "      <td>...</td>\n",
       "      <td>...</td>\n",
       "      <td>...</td>\n",
       "      <td>...</td>\n",
       "      <td>...</td>\n",
       "      <td>...</td>\n",
       "      <td>...</td>\n",
       "      <td>...</td>\n",
       "      <td>...</td>\n",
       "    </tr>\n",
       "    <tr>\n",
       "      <th>467</th>\n",
       "      <td>F</td>\n",
       "      <td>Jordan</td>\n",
       "      <td>Jordan</td>\n",
       "      <td>MiddleSchool</td>\n",
       "      <td>G-08</td>\n",
       "      <td>A</td>\n",
       "      <td>Geology</td>\n",
       "      <td>S</td>\n",
       "      <td>Mum</td>\n",
       "      <td>87</td>\n",
       "      <td>93</td>\n",
       "      <td>63</td>\n",
       "      <td>60</td>\n",
       "      <td>Yes</td>\n",
       "      <td>Good</td>\n",
       "      <td>Under-7</td>\n",
       "      <td>H</td>\n",
       "    </tr>\n",
       "    <tr>\n",
       "      <th>470</th>\n",
       "      <td>M</td>\n",
       "      <td>Palestine</td>\n",
       "      <td>Jordan</td>\n",
       "      <td>MiddleSchool</td>\n",
       "      <td>G-08</td>\n",
       "      <td>A</td>\n",
       "      <td>History</td>\n",
       "      <td>F</td>\n",
       "      <td>Father</td>\n",
       "      <td>81</td>\n",
       "      <td>86</td>\n",
       "      <td>86</td>\n",
       "      <td>41</td>\n",
       "      <td>Yes</td>\n",
       "      <td>Good</td>\n",
       "      <td>Under-7</td>\n",
       "      <td>M</td>\n",
       "    </tr>\n",
       "    <tr>\n",
       "      <th>471</th>\n",
       "      <td>M</td>\n",
       "      <td>Palestine</td>\n",
       "      <td>Jordan</td>\n",
       "      <td>MiddleSchool</td>\n",
       "      <td>G-08</td>\n",
       "      <td>A</td>\n",
       "      <td>History</td>\n",
       "      <td>S</td>\n",
       "      <td>Father</td>\n",
       "      <td>78</td>\n",
       "      <td>82</td>\n",
       "      <td>78</td>\n",
       "      <td>53</td>\n",
       "      <td>Yes</td>\n",
       "      <td>Good</td>\n",
       "      <td>Under-7</td>\n",
       "      <td>M</td>\n",
       "    </tr>\n",
       "    <tr>\n",
       "      <th>472</th>\n",
       "      <td>M</td>\n",
       "      <td>Palestine</td>\n",
       "      <td>Palestine</td>\n",
       "      <td>MiddleSchool</td>\n",
       "      <td>G-08</td>\n",
       "      <td>A</td>\n",
       "      <td>Geology</td>\n",
       "      <td>F</td>\n",
       "      <td>Father</td>\n",
       "      <td>80</td>\n",
       "      <td>87</td>\n",
       "      <td>74</td>\n",
       "      <td>68</td>\n",
       "      <td>Yes</td>\n",
       "      <td>Good</td>\n",
       "      <td>Under-7</td>\n",
       "      <td>M</td>\n",
       "    </tr>\n",
       "    <tr>\n",
       "      <th>473</th>\n",
       "      <td>M</td>\n",
       "      <td>Palestine</td>\n",
       "      <td>Palestine</td>\n",
       "      <td>MiddleSchool</td>\n",
       "      <td>G-08</td>\n",
       "      <td>A</td>\n",
       "      <td>Geology</td>\n",
       "      <td>S</td>\n",
       "      <td>Father</td>\n",
       "      <td>85</td>\n",
       "      <td>88</td>\n",
       "      <td>79</td>\n",
       "      <td>70</td>\n",
       "      <td>Yes</td>\n",
       "      <td>Good</td>\n",
       "      <td>Under-7</td>\n",
       "      <td>M</td>\n",
       "    </tr>\n",
       "  </tbody>\n",
       "</table>\n",
       "<p>292 rows × 17 columns</p>\n",
       "</div>"
      ],
      "text/plain": [
       "    gender NationalITy PlaceofBirth       StageID GradeID SectionID    Topic  \\\n",
       "0        M          KW       KuwaIT    lowerlevel    G-04         A       IT   \n",
       "1        M          KW       KuwaIT    lowerlevel    G-04         A       IT   \n",
       "7        M          KW       KuwaIT  MiddleSchool    G-07         A     Math   \n",
       "8        F          KW       KuwaIT  MiddleSchool    G-07         A     Math   \n",
       "9        F          KW       KuwaIT  MiddleSchool    G-07         B       IT   \n",
       "..     ...         ...          ...           ...     ...       ...      ...   \n",
       "467      F      Jordan       Jordan  MiddleSchool    G-08         A  Geology   \n",
       "470      M   Palestine       Jordan  MiddleSchool    G-08         A  History   \n",
       "471      M   Palestine       Jordan  MiddleSchool    G-08         A  History   \n",
       "472      M   Palestine    Palestine  MiddleSchool    G-08         A  Geology   \n",
       "473      M   Palestine    Palestine  MiddleSchool    G-08         A  Geology   \n",
       "\n",
       "    Semester Relation  raisedhands  VisITedResources  AnnouncementsView  \\\n",
       "0          F   Father           15                16                  2   \n",
       "1          F   Father           20                20                  3   \n",
       "7          F   Father           50                10                 15   \n",
       "8          F   Father           12                21                 16   \n",
       "9          F   Father           70                80                 25   \n",
       "..       ...      ...          ...               ...                ...   \n",
       "467        S      Mum           87                93                 63   \n",
       "470        F   Father           81                86                 86   \n",
       "471        S   Father           78                82                 78   \n",
       "472        F   Father           80                87                 74   \n",
       "473        S   Father           85                88                 79   \n",
       "\n",
       "     Discussion ParentAnsweringSurvey ParentschoolSatisfaction  \\\n",
       "0            20                   Yes                     Good   \n",
       "1            25                   Yes                     Good   \n",
       "7            22                   Yes                     Good   \n",
       "8            50                   Yes                     Good   \n",
       "9            70                   Yes                     Good   \n",
       "..          ...                   ...                      ...   \n",
       "467          60                   Yes                     Good   \n",
       "470          41                   Yes                     Good   \n",
       "471          53                   Yes                     Good   \n",
       "472          68                   Yes                     Good   \n",
       "473          70                   Yes                     Good   \n",
       "\n",
       "    StudentAbsenceDays Class  \n",
       "0              Under-7     M  \n",
       "1              Under-7     M  \n",
       "7              Under-7     M  \n",
       "8              Under-7     M  \n",
       "9              Under-7     M  \n",
       "..                 ...   ...  \n",
       "467            Under-7     H  \n",
       "470            Under-7     M  \n",
       "471            Under-7     M  \n",
       "472            Under-7     M  \n",
       "473            Under-7     M  \n",
       "\n",
       "[292 rows x 17 columns]"
      ]
     },
     "execution_count": 24,
     "metadata": {},
     "output_type": "execute_result"
    }
   ],
   "source": [
    "students_Good= students[students[\"ParentschoolSatisfaction\"] == \"Good\"]  # 292\n",
    "\n",
    "students_Good"
   ]
  },
  {
   "cell_type": "code",
   "execution_count": null,
   "metadata": {},
   "outputs": [],
   "source": [
    "Binary logistics Regression \n",
    "\n",
    "\n",
    "Y = will have 2 level\n",
    "\n",
    "\n",
    "Multi logistics Regression\n",
    "\n",
    "Y = more than 2 level\n",
    "As per objective\n",
    "\n",
    "y = class ( more than 2 level)\n"
   ]
  },
  {
   "cell_type": "code",
   "execution_count": 26,
   "metadata": {},
   "outputs": [
    {
     "data": {
      "application/vnd.plotly.v1+json": {
       "config": {
        "plotlyServerURL": "https://plot.ly"
       },
       "data": [
        {
         "branchvalues": "total",
         "domain": {
          "x": [
           0,
           1
          ],
          "y": [
           0,
           1
          ]
         },
         "hovertemplate": "labels=%{label}<br>count=%{value}<br>parent=%{parent}<br>id=%{id}<extra></extra>",
         "ids": [
          "M/lowerlevel/G-02/Arabic/F/Above-7",
          "F/MiddleSchool/G-07/Biology/F/Above-7",
          "M/MiddleSchool/G-07/Biology/F/Above-7",
          "M/MiddleSchool/G-08/Chemistry/F/Above-7",
          "F/lowerlevel/G-05/English/F/Above-7",
          "M/MiddleSchool/G-06/English/F/Above-7",
          "M/HighSchool/G-12/English/F/Above-7",
          "F/lowerlevel/G-02/French/F/Above-7",
          "M/lowerlevel/G-02/French/F/Above-7",
          "F/MiddleSchool/G-08/Geology/F/Above-7",
          "M/MiddleSchool/G-08/Geology/F/Above-7",
          "M/MiddleSchool/G-08/History/F/Above-7",
          "F/lowerlevel/G-02/IT/F/Above-7",
          "M/lowerlevel/G-02/IT/F/Above-7",
          "M/MiddleSchool/G-07/IT/F/Above-7",
          "F/lowerlevel/G-07/IT/F/Above-7",
          "M/HighSchool/G-09/IT/F/Above-7",
          "M/MiddleSchool/G-07/Math/F/Above-7",
          "M/MiddleSchool/G-08/Math/F/Above-7",
          "M/MiddleSchool/G-07/Quran/F/Above-7",
          "M/lowerlevel/G-04/Science/F/Above-7",
          "M/MiddleSchool/G-07/Science/F/Above-7",
          "M/lowerlevel/G-02/Arabic/S/Above-7",
          "M/MiddleSchool/G-08/Arabic/S/Above-7",
          "F/MiddleSchool/G-07/Biology/S/Above-7",
          "M/MiddleSchool/G-07/Biology/S/Above-7",
          "M/MiddleSchool/G-08/Chemistry/S/Above-7",
          "M/lowerlevel/G-04/English/S/Above-7",
          "M/MiddleSchool/G-06/English/S/Above-7",
          "F/lowerlevel/G-02/French/S/Above-7",
          "M/lowerlevel/G-02/French/S/Above-7",
          "F/MiddleSchool/G-08/Geology/S/Above-7",
          "M/MiddleSchool/G-08/Geology/S/Above-7",
          "F/lowerlevel/G-04/History/S/Above-7",
          "M/MiddleSchool/G-08/History/S/Above-7",
          "M/lowerlevel/G-02/IT/S/Above-7",
          "M/lowerlevel/G-04/IT/S/Above-7",
          "M/HighSchool/G-11/Math/S/Above-7",
          "M/lowerlevel/G-04/Science/S/Above-7",
          "F/MiddleSchool/G-07/Science/S/Above-7",
          "M/MiddleSchool/G-07/Science/S/Above-7",
          "M/MiddleSchool/G-08/Spanish/S/Above-7",
          "F/lowerlevel/G-02/Arabic/F/Under-7",
          "M/lowerlevel/G-02/Arabic/F/Under-7",
          "F/MiddleSchool/G-08/Arabic/F/Under-7",
          "F/MiddleSchool/G-07/Biology/F/Under-7",
          "M/MiddleSchool/G-07/Biology/F/Under-7",
          "F/MiddleSchool/G-08/Chemistry/F/Under-7",
          "M/MiddleSchool/G-08/Chemistry/F/Under-7",
          "F/MiddleSchool/G-06/English/F/Under-7",
          "M/MiddleSchool/G-06/English/F/Under-7",
          "F/HighSchool/G-12/English/F/Under-7",
          "F/lowerlevel/G-02/French/F/Under-7",
          "M/lowerlevel/G-02/French/F/Under-7",
          "F/MiddleSchool/G-08/Geology/F/Under-7",
          "M/MiddleSchool/G-08/Geology/F/Under-7",
          "F/MiddleSchool/G-08/History/F/Under-7",
          "M/MiddleSchool/G-08/History/F/Under-7",
          "F/lowerlevel/G-02/IT/F/Under-7",
          "M/lowerlevel/G-02/IT/F/Under-7",
          "M/lowerlevel/G-04/IT/F/Under-7",
          "F/MiddleSchool/G-06/IT/F/Under-7",
          "F/MiddleSchool/G-07/IT/F/Under-7",
          "M/MiddleSchool/G-07/IT/F/Under-7",
          "F/HighSchool/G-09/IT/F/Under-7",
          "M/HighSchool/G-09/IT/F/Under-7",
          "M/HighSchool/G-10/IT/F/Under-7",
          "F/HighSchool/G-12/IT/F/Under-7",
          "F/MiddleSchool/G-07/Math/F/Under-7",
          "M/MiddleSchool/G-07/Math/F/Under-7",
          "M/MiddleSchool/G-07/Quran/F/Under-7",
          "F/lowerlevel/G-04/Science/F/Under-7",
          "M/lowerlevel/G-04/Science/F/Under-7",
          "F/MiddleSchool/G-07/Science/F/Under-7",
          "M/MiddleSchool/G-08/Science/F/Under-7",
          "F/HighSchool/G-11/Science/F/Under-7",
          "F/lowerlevel/G-02/Arabic/S/Under-7",
          "M/lowerlevel/G-02/Arabic/S/Under-7",
          "F/MiddleSchool/G-08/Arabic/S/Under-7",
          "M/MiddleSchool/G-08/Arabic/S/Under-7",
          "F/MiddleSchool/G-07/Biology/S/Under-7",
          "M/MiddleSchool/G-07/Biology/S/Under-7",
          "F/MiddleSchool/G-08/Chemistry/S/Under-7",
          "M/MiddleSchool/G-08/Chemistry/S/Under-7",
          "M/lowerlevel/G-04/English/S/Under-7",
          "F/MiddleSchool/G-06/English/S/Under-7",
          "M/MiddleSchool/G-06/English/S/Under-7",
          "F/lowerlevel/G-02/French/S/Under-7",
          "M/lowerlevel/G-02/French/S/Under-7",
          "F/HighSchool/G-11/French/S/Under-7",
          "F/MiddleSchool/G-08/Geology/S/Under-7",
          "M/MiddleSchool/G-08/Geology/S/Under-7",
          "F/lowerlevel/G-04/History/S/Under-7",
          "M/lowerlevel/G-04/History/S/Under-7",
          "F/MiddleSchool/G-08/History/S/Under-7",
          "M/MiddleSchool/G-08/History/S/Under-7",
          "M/lowerlevel/G-04/Math/S/Under-7",
          "F/MiddleSchool/G-07/Quran/S/Under-7",
          "M/MiddleSchool/G-07/Quran/S/Under-7",
          "F/HighSchool/G-11/Quran/S/Under-7",
          "M/HighSchool/G-11/Quran/S/Under-7",
          "F/lowerlevel/G-04/Science/S/Under-7",
          "M/lowerlevel/G-04/Science/S/Under-7",
          "F/MiddleSchool/G-06/Science/S/Under-7",
          "F/MiddleSchool/G-07/Science/S/Under-7",
          "M/MiddleSchool/G-07/Science/S/Under-7",
          "M/HighSchool/G-11/Science/S/Under-7",
          "F/MiddleSchool/G-08/Spanish/S/Under-7",
          "M/MiddleSchool/G-08/Spanish/S/Under-7",
          "F/lowerlevel/G-02/Arabic/F",
          "M/lowerlevel/G-02/Arabic/F",
          "F/MiddleSchool/G-08/Arabic/F",
          "F/MiddleSchool/G-07/Biology/F",
          "M/MiddleSchool/G-07/Biology/F",
          "F/MiddleSchool/G-08/Chemistry/F",
          "M/MiddleSchool/G-08/Chemistry/F",
          "F/lowerlevel/G-05/English/F",
          "F/MiddleSchool/G-06/English/F",
          "M/MiddleSchool/G-06/English/F",
          "F/HighSchool/G-12/English/F",
          "M/HighSchool/G-12/English/F",
          "F/lowerlevel/G-02/French/F",
          "M/lowerlevel/G-02/French/F",
          "F/MiddleSchool/G-08/Geology/F",
          "M/MiddleSchool/G-08/Geology/F",
          "F/MiddleSchool/G-08/History/F",
          "M/MiddleSchool/G-08/History/F",
          "F/lowerlevel/G-02/IT/F",
          "M/lowerlevel/G-02/IT/F",
          "M/lowerlevel/G-04/IT/F",
          "F/MiddleSchool/G-06/IT/F",
          "F/MiddleSchool/G-07/IT/F",
          "M/MiddleSchool/G-07/IT/F",
          "F/lowerlevel/G-07/IT/F",
          "F/HighSchool/G-09/IT/F",
          "M/HighSchool/G-09/IT/F",
          "M/HighSchool/G-10/IT/F",
          "F/HighSchool/G-12/IT/F",
          "F/MiddleSchool/G-07/Math/F",
          "M/MiddleSchool/G-07/Math/F",
          "M/MiddleSchool/G-08/Math/F",
          "M/MiddleSchool/G-07/Quran/F",
          "F/lowerlevel/G-04/Science/F",
          "M/lowerlevel/G-04/Science/F",
          "F/MiddleSchool/G-07/Science/F",
          "M/MiddleSchool/G-07/Science/F",
          "M/MiddleSchool/G-08/Science/F",
          "F/HighSchool/G-11/Science/F",
          "F/lowerlevel/G-02/Arabic/S",
          "M/lowerlevel/G-02/Arabic/S",
          "F/MiddleSchool/G-08/Arabic/S",
          "M/MiddleSchool/G-08/Arabic/S",
          "F/MiddleSchool/G-07/Biology/S",
          "M/MiddleSchool/G-07/Biology/S",
          "F/MiddleSchool/G-08/Chemistry/S",
          "M/MiddleSchool/G-08/Chemistry/S",
          "M/lowerlevel/G-04/English/S",
          "F/MiddleSchool/G-06/English/S",
          "M/MiddleSchool/G-06/English/S",
          "F/lowerlevel/G-02/French/S",
          "M/lowerlevel/G-02/French/S",
          "F/HighSchool/G-11/French/S",
          "F/MiddleSchool/G-08/Geology/S",
          "M/MiddleSchool/G-08/Geology/S",
          "F/lowerlevel/G-04/History/S",
          "M/lowerlevel/G-04/History/S",
          "F/MiddleSchool/G-08/History/S",
          "M/MiddleSchool/G-08/History/S",
          "M/lowerlevel/G-02/IT/S",
          "M/lowerlevel/G-04/IT/S",
          "M/lowerlevel/G-04/Math/S",
          "M/HighSchool/G-11/Math/S",
          "F/MiddleSchool/G-07/Quran/S",
          "M/MiddleSchool/G-07/Quran/S",
          "F/HighSchool/G-11/Quran/S",
          "M/HighSchool/G-11/Quran/S",
          "F/lowerlevel/G-04/Science/S",
          "M/lowerlevel/G-04/Science/S",
          "F/MiddleSchool/G-06/Science/S",
          "F/MiddleSchool/G-07/Science/S",
          "M/MiddleSchool/G-07/Science/S",
          "M/HighSchool/G-11/Science/S",
          "F/MiddleSchool/G-08/Spanish/S",
          "M/MiddleSchool/G-08/Spanish/S",
          "F/lowerlevel/G-02/Arabic",
          "M/lowerlevel/G-02/Arabic",
          "F/MiddleSchool/G-08/Arabic",
          "M/MiddleSchool/G-08/Arabic",
          "F/MiddleSchool/G-07/Biology",
          "M/MiddleSchool/G-07/Biology",
          "F/MiddleSchool/G-08/Chemistry",
          "M/MiddleSchool/G-08/Chemistry",
          "M/lowerlevel/G-04/English",
          "F/lowerlevel/G-05/English",
          "F/MiddleSchool/G-06/English",
          "M/MiddleSchool/G-06/English",
          "F/HighSchool/G-12/English",
          "M/HighSchool/G-12/English",
          "F/lowerlevel/G-02/French",
          "M/lowerlevel/G-02/French",
          "F/HighSchool/G-11/French",
          "F/MiddleSchool/G-08/Geology",
          "M/MiddleSchool/G-08/Geology",
          "F/lowerlevel/G-04/History",
          "M/lowerlevel/G-04/History",
          "F/MiddleSchool/G-08/History",
          "M/MiddleSchool/G-08/History",
          "F/lowerlevel/G-02/IT",
          "M/lowerlevel/G-02/IT",
          "M/lowerlevel/G-04/IT",
          "F/MiddleSchool/G-06/IT",
          "F/MiddleSchool/G-07/IT",
          "M/MiddleSchool/G-07/IT",
          "F/lowerlevel/G-07/IT",
          "F/HighSchool/G-09/IT",
          "M/HighSchool/G-09/IT",
          "M/HighSchool/G-10/IT",
          "F/HighSchool/G-12/IT",
          "M/lowerlevel/G-04/Math",
          "F/MiddleSchool/G-07/Math",
          "M/MiddleSchool/G-07/Math",
          "M/MiddleSchool/G-08/Math",
          "M/HighSchool/G-11/Math",
          "F/MiddleSchool/G-07/Quran",
          "M/MiddleSchool/G-07/Quran",
          "F/HighSchool/G-11/Quran",
          "M/HighSchool/G-11/Quran",
          "F/lowerlevel/G-04/Science",
          "M/lowerlevel/G-04/Science",
          "F/MiddleSchool/G-06/Science",
          "F/MiddleSchool/G-07/Science",
          "M/MiddleSchool/G-07/Science",
          "M/MiddleSchool/G-08/Science",
          "F/HighSchool/G-11/Science",
          "M/HighSchool/G-11/Science",
          "F/MiddleSchool/G-08/Spanish",
          "M/MiddleSchool/G-08/Spanish",
          "F/lowerlevel/G-02",
          "M/lowerlevel/G-02",
          "F/lowerlevel/G-04",
          "M/lowerlevel/G-04",
          "F/lowerlevel/G-05",
          "F/MiddleSchool/G-06",
          "M/MiddleSchool/G-06",
          "F/MiddleSchool/G-07",
          "M/MiddleSchool/G-07",
          "F/lowerlevel/G-07",
          "F/MiddleSchool/G-08",
          "M/MiddleSchool/G-08",
          "F/HighSchool/G-09",
          "M/HighSchool/G-09",
          "M/HighSchool/G-10",
          "F/HighSchool/G-11",
          "M/HighSchool/G-11",
          "F/HighSchool/G-12",
          "M/HighSchool/G-12",
          "F/HighSchool",
          "M/HighSchool",
          "F/MiddleSchool",
          "M/MiddleSchool",
          "F/lowerlevel",
          "M/lowerlevel",
          "F",
          "M"
         ],
         "labels": [
          "Above-7",
          "Above-7",
          "Above-7",
          "Above-7",
          "Above-7",
          "Above-7",
          "Above-7",
          "Above-7",
          "Above-7",
          "Above-7",
          "Above-7",
          "Above-7",
          "Above-7",
          "Above-7",
          "Above-7",
          "Above-7",
          "Above-7",
          "Above-7",
          "Above-7",
          "Above-7",
          "Above-7",
          "Above-7",
          "Above-7",
          "Above-7",
          "Above-7",
          "Above-7",
          "Above-7",
          "Above-7",
          "Above-7",
          "Above-7",
          "Above-7",
          "Above-7",
          "Above-7",
          "Above-7",
          "Above-7",
          "Above-7",
          "Above-7",
          "Above-7",
          "Above-7",
          "Above-7",
          "Above-7",
          "Above-7",
          "Under-7",
          "Under-7",
          "Under-7",
          "Under-7",
          "Under-7",
          "Under-7",
          "Under-7",
          "Under-7",
          "Under-7",
          "Under-7",
          "Under-7",
          "Under-7",
          "Under-7",
          "Under-7",
          "Under-7",
          "Under-7",
          "Under-7",
          "Under-7",
          "Under-7",
          "Under-7",
          "Under-7",
          "Under-7",
          "Under-7",
          "Under-7",
          "Under-7",
          "Under-7",
          "Under-7",
          "Under-7",
          "Under-7",
          "Under-7",
          "Under-7",
          "Under-7",
          "Under-7",
          "Under-7",
          "Under-7",
          "Under-7",
          "Under-7",
          "Under-7",
          "Under-7",
          "Under-7",
          "Under-7",
          "Under-7",
          "Under-7",
          "Under-7",
          "Under-7",
          "Under-7",
          "Under-7",
          "Under-7",
          "Under-7",
          "Under-7",
          "Under-7",
          "Under-7",
          "Under-7",
          "Under-7",
          "Under-7",
          "Under-7",
          "Under-7",
          "Under-7",
          "Under-7",
          "Under-7",
          "Under-7",
          "Under-7",
          "Under-7",
          "Under-7",
          "Under-7",
          "Under-7",
          "Under-7",
          "F",
          "F",
          "F",
          "F",
          "F",
          "F",
          "F",
          "F",
          "F",
          "F",
          "F",
          "F",
          "F",
          "F",
          "F",
          "F",
          "F",
          "F",
          "F",
          "F",
          "F",
          "F",
          "F",
          "F",
          "F",
          "F",
          "F",
          "F",
          "F",
          "F",
          "F",
          "F",
          "F",
          "F",
          "F",
          "F",
          "F",
          "F",
          "F",
          "S",
          "S",
          "S",
          "S",
          "S",
          "S",
          "S",
          "S",
          "S",
          "S",
          "S",
          "S",
          "S",
          "S",
          "S",
          "S",
          "S",
          "S",
          "S",
          "S",
          "S",
          "S",
          "S",
          "S",
          "S",
          "S",
          "S",
          "S",
          "S",
          "S",
          "S",
          "S",
          "S",
          "S",
          "S",
          "S",
          "Arabic",
          "Arabic",
          "Arabic",
          "Arabic",
          "Biology",
          "Biology",
          "Chemistry",
          "Chemistry",
          "English",
          "English",
          "English",
          "English",
          "English",
          "English",
          "French",
          "French",
          "French",
          "Geology",
          "Geology",
          "History",
          "History",
          "History",
          "History",
          "IT",
          "IT",
          "IT",
          "IT",
          "IT",
          "IT",
          "IT",
          "IT",
          "IT",
          "IT",
          "IT",
          "Math",
          "Math",
          "Math",
          "Math",
          "Math",
          "Quran",
          "Quran",
          "Quran",
          "Quran",
          "Science",
          "Science",
          "Science",
          "Science",
          "Science",
          "Science",
          "Science",
          "Science",
          "Spanish",
          "Spanish",
          "G-02",
          "G-02",
          "G-04",
          "G-04",
          "G-05",
          "G-06",
          "G-06",
          "G-07",
          "G-07",
          "G-07",
          "G-08",
          "G-08",
          "G-09",
          "G-09",
          "G-10",
          "G-11",
          "G-11",
          "G-12",
          "G-12",
          "HighSchool",
          "HighSchool",
          "MiddleSchool",
          "MiddleSchool",
          "lowerlevel",
          "lowerlevel",
          "F",
          "M"
         ],
         "name": "",
         "parents": [
          "M/lowerlevel/G-02/Arabic/F",
          "F/MiddleSchool/G-07/Biology/F",
          "M/MiddleSchool/G-07/Biology/F",
          "M/MiddleSchool/G-08/Chemistry/F",
          "F/lowerlevel/G-05/English/F",
          "M/MiddleSchool/G-06/English/F",
          "M/HighSchool/G-12/English/F",
          "F/lowerlevel/G-02/French/F",
          "M/lowerlevel/G-02/French/F",
          "F/MiddleSchool/G-08/Geology/F",
          "M/MiddleSchool/G-08/Geology/F",
          "M/MiddleSchool/G-08/History/F",
          "F/lowerlevel/G-02/IT/F",
          "M/lowerlevel/G-02/IT/F",
          "M/MiddleSchool/G-07/IT/F",
          "F/lowerlevel/G-07/IT/F",
          "M/HighSchool/G-09/IT/F",
          "M/MiddleSchool/G-07/Math/F",
          "M/MiddleSchool/G-08/Math/F",
          "M/MiddleSchool/G-07/Quran/F",
          "M/lowerlevel/G-04/Science/F",
          "M/MiddleSchool/G-07/Science/F",
          "M/lowerlevel/G-02/Arabic/S",
          "M/MiddleSchool/G-08/Arabic/S",
          "F/MiddleSchool/G-07/Biology/S",
          "M/MiddleSchool/G-07/Biology/S",
          "M/MiddleSchool/G-08/Chemistry/S",
          "M/lowerlevel/G-04/English/S",
          "M/MiddleSchool/G-06/English/S",
          "F/lowerlevel/G-02/French/S",
          "M/lowerlevel/G-02/French/S",
          "F/MiddleSchool/G-08/Geology/S",
          "M/MiddleSchool/G-08/Geology/S",
          "F/lowerlevel/G-04/History/S",
          "M/MiddleSchool/G-08/History/S",
          "M/lowerlevel/G-02/IT/S",
          "M/lowerlevel/G-04/IT/S",
          "M/HighSchool/G-11/Math/S",
          "M/lowerlevel/G-04/Science/S",
          "F/MiddleSchool/G-07/Science/S",
          "M/MiddleSchool/G-07/Science/S",
          "M/MiddleSchool/G-08/Spanish/S",
          "F/lowerlevel/G-02/Arabic/F",
          "M/lowerlevel/G-02/Arabic/F",
          "F/MiddleSchool/G-08/Arabic/F",
          "F/MiddleSchool/G-07/Biology/F",
          "M/MiddleSchool/G-07/Biology/F",
          "F/MiddleSchool/G-08/Chemistry/F",
          "M/MiddleSchool/G-08/Chemistry/F",
          "F/MiddleSchool/G-06/English/F",
          "M/MiddleSchool/G-06/English/F",
          "F/HighSchool/G-12/English/F",
          "F/lowerlevel/G-02/French/F",
          "M/lowerlevel/G-02/French/F",
          "F/MiddleSchool/G-08/Geology/F",
          "M/MiddleSchool/G-08/Geology/F",
          "F/MiddleSchool/G-08/History/F",
          "M/MiddleSchool/G-08/History/F",
          "F/lowerlevel/G-02/IT/F",
          "M/lowerlevel/G-02/IT/F",
          "M/lowerlevel/G-04/IT/F",
          "F/MiddleSchool/G-06/IT/F",
          "F/MiddleSchool/G-07/IT/F",
          "M/MiddleSchool/G-07/IT/F",
          "F/HighSchool/G-09/IT/F",
          "M/HighSchool/G-09/IT/F",
          "M/HighSchool/G-10/IT/F",
          "F/HighSchool/G-12/IT/F",
          "F/MiddleSchool/G-07/Math/F",
          "M/MiddleSchool/G-07/Math/F",
          "M/MiddleSchool/G-07/Quran/F",
          "F/lowerlevel/G-04/Science/F",
          "M/lowerlevel/G-04/Science/F",
          "F/MiddleSchool/G-07/Science/F",
          "M/MiddleSchool/G-08/Science/F",
          "F/HighSchool/G-11/Science/F",
          "F/lowerlevel/G-02/Arabic/S",
          "M/lowerlevel/G-02/Arabic/S",
          "F/MiddleSchool/G-08/Arabic/S",
          "M/MiddleSchool/G-08/Arabic/S",
          "F/MiddleSchool/G-07/Biology/S",
          "M/MiddleSchool/G-07/Biology/S",
          "F/MiddleSchool/G-08/Chemistry/S",
          "M/MiddleSchool/G-08/Chemistry/S",
          "M/lowerlevel/G-04/English/S",
          "F/MiddleSchool/G-06/English/S",
          "M/MiddleSchool/G-06/English/S",
          "F/lowerlevel/G-02/French/S",
          "M/lowerlevel/G-02/French/S",
          "F/HighSchool/G-11/French/S",
          "F/MiddleSchool/G-08/Geology/S",
          "M/MiddleSchool/G-08/Geology/S",
          "F/lowerlevel/G-04/History/S",
          "M/lowerlevel/G-04/History/S",
          "F/MiddleSchool/G-08/History/S",
          "M/MiddleSchool/G-08/History/S",
          "M/lowerlevel/G-04/Math/S",
          "F/MiddleSchool/G-07/Quran/S",
          "M/MiddleSchool/G-07/Quran/S",
          "F/HighSchool/G-11/Quran/S",
          "M/HighSchool/G-11/Quran/S",
          "F/lowerlevel/G-04/Science/S",
          "M/lowerlevel/G-04/Science/S",
          "F/MiddleSchool/G-06/Science/S",
          "F/MiddleSchool/G-07/Science/S",
          "M/MiddleSchool/G-07/Science/S",
          "M/HighSchool/G-11/Science/S",
          "F/MiddleSchool/G-08/Spanish/S",
          "M/MiddleSchool/G-08/Spanish/S",
          "F/lowerlevel/G-02/Arabic",
          "M/lowerlevel/G-02/Arabic",
          "F/MiddleSchool/G-08/Arabic",
          "F/MiddleSchool/G-07/Biology",
          "M/MiddleSchool/G-07/Biology",
          "F/MiddleSchool/G-08/Chemistry",
          "M/MiddleSchool/G-08/Chemistry",
          "F/lowerlevel/G-05/English",
          "F/MiddleSchool/G-06/English",
          "M/MiddleSchool/G-06/English",
          "F/HighSchool/G-12/English",
          "M/HighSchool/G-12/English",
          "F/lowerlevel/G-02/French",
          "M/lowerlevel/G-02/French",
          "F/MiddleSchool/G-08/Geology",
          "M/MiddleSchool/G-08/Geology",
          "F/MiddleSchool/G-08/History",
          "M/MiddleSchool/G-08/History",
          "F/lowerlevel/G-02/IT",
          "M/lowerlevel/G-02/IT",
          "M/lowerlevel/G-04/IT",
          "F/MiddleSchool/G-06/IT",
          "F/MiddleSchool/G-07/IT",
          "M/MiddleSchool/G-07/IT",
          "F/lowerlevel/G-07/IT",
          "F/HighSchool/G-09/IT",
          "M/HighSchool/G-09/IT",
          "M/HighSchool/G-10/IT",
          "F/HighSchool/G-12/IT",
          "F/MiddleSchool/G-07/Math",
          "M/MiddleSchool/G-07/Math",
          "M/MiddleSchool/G-08/Math",
          "M/MiddleSchool/G-07/Quran",
          "F/lowerlevel/G-04/Science",
          "M/lowerlevel/G-04/Science",
          "F/MiddleSchool/G-07/Science",
          "M/MiddleSchool/G-07/Science",
          "M/MiddleSchool/G-08/Science",
          "F/HighSchool/G-11/Science",
          "F/lowerlevel/G-02/Arabic",
          "M/lowerlevel/G-02/Arabic",
          "F/MiddleSchool/G-08/Arabic",
          "M/MiddleSchool/G-08/Arabic",
          "F/MiddleSchool/G-07/Biology",
          "M/MiddleSchool/G-07/Biology",
          "F/MiddleSchool/G-08/Chemistry",
          "M/MiddleSchool/G-08/Chemistry",
          "M/lowerlevel/G-04/English",
          "F/MiddleSchool/G-06/English",
          "M/MiddleSchool/G-06/English",
          "F/lowerlevel/G-02/French",
          "M/lowerlevel/G-02/French",
          "F/HighSchool/G-11/French",
          "F/MiddleSchool/G-08/Geology",
          "M/MiddleSchool/G-08/Geology",
          "F/lowerlevel/G-04/History",
          "M/lowerlevel/G-04/History",
          "F/MiddleSchool/G-08/History",
          "M/MiddleSchool/G-08/History",
          "M/lowerlevel/G-02/IT",
          "M/lowerlevel/G-04/IT",
          "M/lowerlevel/G-04/Math",
          "M/HighSchool/G-11/Math",
          "F/MiddleSchool/G-07/Quran",
          "M/MiddleSchool/G-07/Quran",
          "F/HighSchool/G-11/Quran",
          "M/HighSchool/G-11/Quran",
          "F/lowerlevel/G-04/Science",
          "M/lowerlevel/G-04/Science",
          "F/MiddleSchool/G-06/Science",
          "F/MiddleSchool/G-07/Science",
          "M/MiddleSchool/G-07/Science",
          "M/HighSchool/G-11/Science",
          "F/MiddleSchool/G-08/Spanish",
          "M/MiddleSchool/G-08/Spanish",
          "F/lowerlevel/G-02",
          "M/lowerlevel/G-02",
          "F/MiddleSchool/G-08",
          "M/MiddleSchool/G-08",
          "F/MiddleSchool/G-07",
          "M/MiddleSchool/G-07",
          "F/MiddleSchool/G-08",
          "M/MiddleSchool/G-08",
          "M/lowerlevel/G-04",
          "F/lowerlevel/G-05",
          "F/MiddleSchool/G-06",
          "M/MiddleSchool/G-06",
          "F/HighSchool/G-12",
          "M/HighSchool/G-12",
          "F/lowerlevel/G-02",
          "M/lowerlevel/G-02",
          "F/HighSchool/G-11",
          "F/MiddleSchool/G-08",
          "M/MiddleSchool/G-08",
          "F/lowerlevel/G-04",
          "M/lowerlevel/G-04",
          "F/MiddleSchool/G-08",
          "M/MiddleSchool/G-08",
          "F/lowerlevel/G-02",
          "M/lowerlevel/G-02",
          "M/lowerlevel/G-04",
          "F/MiddleSchool/G-06",
          "F/MiddleSchool/G-07",
          "M/MiddleSchool/G-07",
          "F/lowerlevel/G-07",
          "F/HighSchool/G-09",
          "M/HighSchool/G-09",
          "M/HighSchool/G-10",
          "F/HighSchool/G-12",
          "M/lowerlevel/G-04",
          "F/MiddleSchool/G-07",
          "M/MiddleSchool/G-07",
          "M/MiddleSchool/G-08",
          "M/HighSchool/G-11",
          "F/MiddleSchool/G-07",
          "M/MiddleSchool/G-07",
          "F/HighSchool/G-11",
          "M/HighSchool/G-11",
          "F/lowerlevel/G-04",
          "M/lowerlevel/G-04",
          "F/MiddleSchool/G-06",
          "F/MiddleSchool/G-07",
          "M/MiddleSchool/G-07",
          "M/MiddleSchool/G-08",
          "F/HighSchool/G-11",
          "M/HighSchool/G-11",
          "F/MiddleSchool/G-08",
          "M/MiddleSchool/G-08",
          "F/lowerlevel",
          "M/lowerlevel",
          "F/lowerlevel",
          "M/lowerlevel",
          "F/lowerlevel",
          "F/MiddleSchool",
          "M/MiddleSchool",
          "F/MiddleSchool",
          "M/MiddleSchool",
          "F/lowerlevel",
          "F/MiddleSchool",
          "M/MiddleSchool",
          "F/HighSchool",
          "M/HighSchool",
          "M/HighSchool",
          "F/HighSchool",
          "M/HighSchool",
          "F/HighSchool",
          "M/HighSchool",
          "F",
          "M",
          "F",
          "M",
          "F",
          "M",
          "",
          ""
         ],
         "type": "sunburst",
         "values": [
          3,
          2,
          1,
          3,
          1,
          1,
          1,
          1,
          4,
          2,
          1,
          2,
          5,
          8,
          4,
          1,
          1,
          2,
          1,
          2,
          4,
          1,
          3,
          1,
          2,
          1,
          3,
          1,
          1,
          1,
          7,
          2,
          1,
          1,
          2,
          1,
          1,
          1,
          4,
          2,
          2,
          2,
          2,
          4,
          1,
          3,
          6,
          4,
          2,
          4,
          4,
          4,
          10,
          3,
          2,
          4,
          1,
          2,
          8,
          7,
          2,
          1,
          3,
          3,
          1,
          2,
          2,
          1,
          2,
          4,
          1,
          4,
          1,
          1,
          1,
          1,
          2,
          4,
          2,
          8,
          3,
          6,
          4,
          2,
          1,
          4,
          4,
          11,
          7,
          1,
          2,
          4,
          3,
          1,
          1,
          2,
          1,
          2,
          3,
          1,
          1,
          4,
          1,
          1,
          2,
          2,
          2,
          1,
          8,
          2,
          7,
          1,
          5,
          7,
          4,
          5,
          1,
          4,
          5,
          4,
          1,
          11,
          7,
          4,
          5,
          1,
          4,
          13,
          15,
          2,
          1,
          3,
          7,
          1,
          1,
          3,
          2,
          1,
          2,
          6,
          1,
          3,
          4,
          5,
          1,
          1,
          1,
          1,
          2,
          7,
          2,
          9,
          5,
          7,
          4,
          5,
          2,
          4,
          5,
          12,
          14,
          1,
          4,
          5,
          4,
          1,
          1,
          4,
          1,
          1,
          1,
          1,
          2,
          3,
          1,
          1,
          4,
          5,
          1,
          4,
          4,
          2,
          1,
          10,
          4,
          14,
          3,
          9,
          10,
          14,
          8,
          10,
          2,
          1,
          8,
          10,
          4,
          1,
          23,
          21,
          1,
          8,
          10,
          4,
          1,
          2,
          8,
          13,
          16,
          3,
          1,
          3,
          7,
          1,
          1,
          3,
          2,
          1,
          1,
          2,
          6,
          1,
          1,
          2,
          6,
          1,
          1,
          8,
          10,
          1,
          5,
          5,
          1,
          1,
          2,
          1,
          10,
          40,
          51,
          12,
          17,
          1,
          10,
          10,
          22,
          38,
          1,
          22,
          49,
          1,
          3,
          2,
          3,
          4,
          5,
          1,
          9,
          10,
          54,
          97,
          54,
          68,
          117,
          175
         ]
        }
       ],
       "layout": {
        "legend": {
         "tracegroupgap": 0
        },
        "margin": {
         "t": 60
        },
        "template": {
         "data": {
          "bar": [
           {
            "error_x": {
             "color": "#2a3f5f"
            },
            "error_y": {
             "color": "#2a3f5f"
            },
            "marker": {
             "line": {
              "color": "#E5ECF6",
              "width": 0.5
             },
             "pattern": {
              "fillmode": "overlay",
              "size": 10,
              "solidity": 0.2
             }
            },
            "type": "bar"
           }
          ],
          "barpolar": [
           {
            "marker": {
             "line": {
              "color": "#E5ECF6",
              "width": 0.5
             },
             "pattern": {
              "fillmode": "overlay",
              "size": 10,
              "solidity": 0.2
             }
            },
            "type": "barpolar"
           }
          ],
          "carpet": [
           {
            "aaxis": {
             "endlinecolor": "#2a3f5f",
             "gridcolor": "white",
             "linecolor": "white",
             "minorgridcolor": "white",
             "startlinecolor": "#2a3f5f"
            },
            "baxis": {
             "endlinecolor": "#2a3f5f",
             "gridcolor": "white",
             "linecolor": "white",
             "minorgridcolor": "white",
             "startlinecolor": "#2a3f5f"
            },
            "type": "carpet"
           }
          ],
          "choropleth": [
           {
            "colorbar": {
             "outlinewidth": 0,
             "ticks": ""
            },
            "type": "choropleth"
           }
          ],
          "contour": [
           {
            "colorbar": {
             "outlinewidth": 0,
             "ticks": ""
            },
            "colorscale": [
             [
              0,
              "#0d0887"
             ],
             [
              0.1111111111111111,
              "#46039f"
             ],
             [
              0.2222222222222222,
              "#7201a8"
             ],
             [
              0.3333333333333333,
              "#9c179e"
             ],
             [
              0.4444444444444444,
              "#bd3786"
             ],
             [
              0.5555555555555556,
              "#d8576b"
             ],
             [
              0.6666666666666666,
              "#ed7953"
             ],
             [
              0.7777777777777778,
              "#fb9f3a"
             ],
             [
              0.8888888888888888,
              "#fdca26"
             ],
             [
              1,
              "#f0f921"
             ]
            ],
            "type": "contour"
           }
          ],
          "contourcarpet": [
           {
            "colorbar": {
             "outlinewidth": 0,
             "ticks": ""
            },
            "type": "contourcarpet"
           }
          ],
          "heatmap": [
           {
            "colorbar": {
             "outlinewidth": 0,
             "ticks": ""
            },
            "colorscale": [
             [
              0,
              "#0d0887"
             ],
             [
              0.1111111111111111,
              "#46039f"
             ],
             [
              0.2222222222222222,
              "#7201a8"
             ],
             [
              0.3333333333333333,
              "#9c179e"
             ],
             [
              0.4444444444444444,
              "#bd3786"
             ],
             [
              0.5555555555555556,
              "#d8576b"
             ],
             [
              0.6666666666666666,
              "#ed7953"
             ],
             [
              0.7777777777777778,
              "#fb9f3a"
             ],
             [
              0.8888888888888888,
              "#fdca26"
             ],
             [
              1,
              "#f0f921"
             ]
            ],
            "type": "heatmap"
           }
          ],
          "heatmapgl": [
           {
            "colorbar": {
             "outlinewidth": 0,
             "ticks": ""
            },
            "colorscale": [
             [
              0,
              "#0d0887"
             ],
             [
              0.1111111111111111,
              "#46039f"
             ],
             [
              0.2222222222222222,
              "#7201a8"
             ],
             [
              0.3333333333333333,
              "#9c179e"
             ],
             [
              0.4444444444444444,
              "#bd3786"
             ],
             [
              0.5555555555555556,
              "#d8576b"
             ],
             [
              0.6666666666666666,
              "#ed7953"
             ],
             [
              0.7777777777777778,
              "#fb9f3a"
             ],
             [
              0.8888888888888888,
              "#fdca26"
             ],
             [
              1,
              "#f0f921"
             ]
            ],
            "type": "heatmapgl"
           }
          ],
          "histogram": [
           {
            "marker": {
             "pattern": {
              "fillmode": "overlay",
              "size": 10,
              "solidity": 0.2
             }
            },
            "type": "histogram"
           }
          ],
          "histogram2d": [
           {
            "colorbar": {
             "outlinewidth": 0,
             "ticks": ""
            },
            "colorscale": [
             [
              0,
              "#0d0887"
             ],
             [
              0.1111111111111111,
              "#46039f"
             ],
             [
              0.2222222222222222,
              "#7201a8"
             ],
             [
              0.3333333333333333,
              "#9c179e"
             ],
             [
              0.4444444444444444,
              "#bd3786"
             ],
             [
              0.5555555555555556,
              "#d8576b"
             ],
             [
              0.6666666666666666,
              "#ed7953"
             ],
             [
              0.7777777777777778,
              "#fb9f3a"
             ],
             [
              0.8888888888888888,
              "#fdca26"
             ],
             [
              1,
              "#f0f921"
             ]
            ],
            "type": "histogram2d"
           }
          ],
          "histogram2dcontour": [
           {
            "colorbar": {
             "outlinewidth": 0,
             "ticks": ""
            },
            "colorscale": [
             [
              0,
              "#0d0887"
             ],
             [
              0.1111111111111111,
              "#46039f"
             ],
             [
              0.2222222222222222,
              "#7201a8"
             ],
             [
              0.3333333333333333,
              "#9c179e"
             ],
             [
              0.4444444444444444,
              "#bd3786"
             ],
             [
              0.5555555555555556,
              "#d8576b"
             ],
             [
              0.6666666666666666,
              "#ed7953"
             ],
             [
              0.7777777777777778,
              "#fb9f3a"
             ],
             [
              0.8888888888888888,
              "#fdca26"
             ],
             [
              1,
              "#f0f921"
             ]
            ],
            "type": "histogram2dcontour"
           }
          ],
          "mesh3d": [
           {
            "colorbar": {
             "outlinewidth": 0,
             "ticks": ""
            },
            "type": "mesh3d"
           }
          ],
          "parcoords": [
           {
            "line": {
             "colorbar": {
              "outlinewidth": 0,
              "ticks": ""
             }
            },
            "type": "parcoords"
           }
          ],
          "pie": [
           {
            "automargin": true,
            "type": "pie"
           }
          ],
          "scatter": [
           {
            "fillpattern": {
             "fillmode": "overlay",
             "size": 10,
             "solidity": 0.2
            },
            "type": "scatter"
           }
          ],
          "scatter3d": [
           {
            "line": {
             "colorbar": {
              "outlinewidth": 0,
              "ticks": ""
             }
            },
            "marker": {
             "colorbar": {
              "outlinewidth": 0,
              "ticks": ""
             }
            },
            "type": "scatter3d"
           }
          ],
          "scattercarpet": [
           {
            "marker": {
             "colorbar": {
              "outlinewidth": 0,
              "ticks": ""
             }
            },
            "type": "scattercarpet"
           }
          ],
          "scattergeo": [
           {
            "marker": {
             "colorbar": {
              "outlinewidth": 0,
              "ticks": ""
             }
            },
            "type": "scattergeo"
           }
          ],
          "scattergl": [
           {
            "marker": {
             "colorbar": {
              "outlinewidth": 0,
              "ticks": ""
             }
            },
            "type": "scattergl"
           }
          ],
          "scattermapbox": [
           {
            "marker": {
             "colorbar": {
              "outlinewidth": 0,
              "ticks": ""
             }
            },
            "type": "scattermapbox"
           }
          ],
          "scatterpolar": [
           {
            "marker": {
             "colorbar": {
              "outlinewidth": 0,
              "ticks": ""
             }
            },
            "type": "scatterpolar"
           }
          ],
          "scatterpolargl": [
           {
            "marker": {
             "colorbar": {
              "outlinewidth": 0,
              "ticks": ""
             }
            },
            "type": "scatterpolargl"
           }
          ],
          "scatterternary": [
           {
            "marker": {
             "colorbar": {
              "outlinewidth": 0,
              "ticks": ""
             }
            },
            "type": "scatterternary"
           }
          ],
          "surface": [
           {
            "colorbar": {
             "outlinewidth": 0,
             "ticks": ""
            },
            "colorscale": [
             [
              0,
              "#0d0887"
             ],
             [
              0.1111111111111111,
              "#46039f"
             ],
             [
              0.2222222222222222,
              "#7201a8"
             ],
             [
              0.3333333333333333,
              "#9c179e"
             ],
             [
              0.4444444444444444,
              "#bd3786"
             ],
             [
              0.5555555555555556,
              "#d8576b"
             ],
             [
              0.6666666666666666,
              "#ed7953"
             ],
             [
              0.7777777777777778,
              "#fb9f3a"
             ],
             [
              0.8888888888888888,
              "#fdca26"
             ],
             [
              1,
              "#f0f921"
             ]
            ],
            "type": "surface"
           }
          ],
          "table": [
           {
            "cells": {
             "fill": {
              "color": "#EBF0F8"
             },
             "line": {
              "color": "white"
             }
            },
            "header": {
             "fill": {
              "color": "#C8D4E3"
             },
             "line": {
              "color": "white"
             }
            },
            "type": "table"
           }
          ]
         },
         "layout": {
          "annotationdefaults": {
           "arrowcolor": "#2a3f5f",
           "arrowhead": 0,
           "arrowwidth": 1
          },
          "autotypenumbers": "strict",
          "coloraxis": {
           "colorbar": {
            "outlinewidth": 0,
            "ticks": ""
           }
          },
          "colorscale": {
           "diverging": [
            [
             0,
             "#8e0152"
            ],
            [
             0.1,
             "#c51b7d"
            ],
            [
             0.2,
             "#de77ae"
            ],
            [
             0.3,
             "#f1b6da"
            ],
            [
             0.4,
             "#fde0ef"
            ],
            [
             0.5,
             "#f7f7f7"
            ],
            [
             0.6,
             "#e6f5d0"
            ],
            [
             0.7,
             "#b8e186"
            ],
            [
             0.8,
             "#7fbc41"
            ],
            [
             0.9,
             "#4d9221"
            ],
            [
             1,
             "#276419"
            ]
           ],
           "sequential": [
            [
             0,
             "#0d0887"
            ],
            [
             0.1111111111111111,
             "#46039f"
            ],
            [
             0.2222222222222222,
             "#7201a8"
            ],
            [
             0.3333333333333333,
             "#9c179e"
            ],
            [
             0.4444444444444444,
             "#bd3786"
            ],
            [
             0.5555555555555556,
             "#d8576b"
            ],
            [
             0.6666666666666666,
             "#ed7953"
            ],
            [
             0.7777777777777778,
             "#fb9f3a"
            ],
            [
             0.8888888888888888,
             "#fdca26"
            ],
            [
             1,
             "#f0f921"
            ]
           ],
           "sequentialminus": [
            [
             0,
             "#0d0887"
            ],
            [
             0.1111111111111111,
             "#46039f"
            ],
            [
             0.2222222222222222,
             "#7201a8"
            ],
            [
             0.3333333333333333,
             "#9c179e"
            ],
            [
             0.4444444444444444,
             "#bd3786"
            ],
            [
             0.5555555555555556,
             "#d8576b"
            ],
            [
             0.6666666666666666,
             "#ed7953"
            ],
            [
             0.7777777777777778,
             "#fb9f3a"
            ],
            [
             0.8888888888888888,
             "#fdca26"
            ],
            [
             1,
             "#f0f921"
            ]
           ]
          },
          "colorway": [
           "#636efa",
           "#EF553B",
           "#00cc96",
           "#ab63fa",
           "#FFA15A",
           "#19d3f3",
           "#FF6692",
           "#B6E880",
           "#FF97FF",
           "#FECB52"
          ],
          "font": {
           "color": "#2a3f5f"
          },
          "geo": {
           "bgcolor": "white",
           "lakecolor": "white",
           "landcolor": "#E5ECF6",
           "showlakes": true,
           "showland": true,
           "subunitcolor": "white"
          },
          "hoverlabel": {
           "align": "left"
          },
          "hovermode": "closest",
          "mapbox": {
           "style": "light"
          },
          "paper_bgcolor": "white",
          "plot_bgcolor": "#E5ECF6",
          "polar": {
           "angularaxis": {
            "gridcolor": "white",
            "linecolor": "white",
            "ticks": ""
           },
           "bgcolor": "#E5ECF6",
           "radialaxis": {
            "gridcolor": "white",
            "linecolor": "white",
            "ticks": ""
           }
          },
          "scene": {
           "xaxis": {
            "backgroundcolor": "#E5ECF6",
            "gridcolor": "white",
            "gridwidth": 2,
            "linecolor": "white",
            "showbackground": true,
            "ticks": "",
            "zerolinecolor": "white"
           },
           "yaxis": {
            "backgroundcolor": "#E5ECF6",
            "gridcolor": "white",
            "gridwidth": 2,
            "linecolor": "white",
            "showbackground": true,
            "ticks": "",
            "zerolinecolor": "white"
           },
           "zaxis": {
            "backgroundcolor": "#E5ECF6",
            "gridcolor": "white",
            "gridwidth": 2,
            "linecolor": "white",
            "showbackground": true,
            "ticks": "",
            "zerolinecolor": "white"
           }
          },
          "shapedefaults": {
           "line": {
            "color": "#2a3f5f"
           }
          },
          "ternary": {
           "aaxis": {
            "gridcolor": "white",
            "linecolor": "white",
            "ticks": ""
           },
           "baxis": {
            "gridcolor": "white",
            "linecolor": "white",
            "ticks": ""
           },
           "bgcolor": "#E5ECF6",
           "caxis": {
            "gridcolor": "white",
            "linecolor": "white",
            "ticks": ""
           }
          },
          "title": {
           "x": 0.05
          },
          "xaxis": {
           "automargin": true,
           "gridcolor": "white",
           "linecolor": "white",
           "ticks": "",
           "title": {
            "standoff": 15
           },
           "zerolinecolor": "white",
           "zerolinewidth": 2
          },
          "yaxis": {
           "automargin": true,
           "gridcolor": "white",
           "linecolor": "white",
           "ticks": "",
           "title": {
            "standoff": 15
           },
           "zerolinecolor": "white",
           "zerolinewidth": 2
          }
         }
        }
       }
      },
      "text/html": [
       "<div>                            <div id=\"12148650-c903-4ddc-8841-332c476130e7\" class=\"plotly-graph-div\" style=\"height:525px; width:100%;\"></div>            <script type=\"text/javascript\">                require([\"plotly\"], function(Plotly) {                    window.PLOTLYENV=window.PLOTLYENV || {};                                    if (document.getElementById(\"12148650-c903-4ddc-8841-332c476130e7\")) {                    Plotly.newPlot(                        \"12148650-c903-4ddc-8841-332c476130e7\",                        [{\"branchvalues\":\"total\",\"domain\":{\"x\":[0.0,1.0],\"y\":[0.0,1.0]},\"hovertemplate\":\"labels=%{label}<br>count=%{value}<br>parent=%{parent}<br>id=%{id}<extra></extra>\",\"ids\":[\"M/lowerlevel/G-02/Arabic/F/Above-7\",\"F/MiddleSchool/G-07/Biology/F/Above-7\",\"M/MiddleSchool/G-07/Biology/F/Above-7\",\"M/MiddleSchool/G-08/Chemistry/F/Above-7\",\"F/lowerlevel/G-05/English/F/Above-7\",\"M/MiddleSchool/G-06/English/F/Above-7\",\"M/HighSchool/G-12/English/F/Above-7\",\"F/lowerlevel/G-02/French/F/Above-7\",\"M/lowerlevel/G-02/French/F/Above-7\",\"F/MiddleSchool/G-08/Geology/F/Above-7\",\"M/MiddleSchool/G-08/Geology/F/Above-7\",\"M/MiddleSchool/G-08/History/F/Above-7\",\"F/lowerlevel/G-02/IT/F/Above-7\",\"M/lowerlevel/G-02/IT/F/Above-7\",\"M/MiddleSchool/G-07/IT/F/Above-7\",\"F/lowerlevel/G-07/IT/F/Above-7\",\"M/HighSchool/G-09/IT/F/Above-7\",\"M/MiddleSchool/G-07/Math/F/Above-7\",\"M/MiddleSchool/G-08/Math/F/Above-7\",\"M/MiddleSchool/G-07/Quran/F/Above-7\",\"M/lowerlevel/G-04/Science/F/Above-7\",\"M/MiddleSchool/G-07/Science/F/Above-7\",\"M/lowerlevel/G-02/Arabic/S/Above-7\",\"M/MiddleSchool/G-08/Arabic/S/Above-7\",\"F/MiddleSchool/G-07/Biology/S/Above-7\",\"M/MiddleSchool/G-07/Biology/S/Above-7\",\"M/MiddleSchool/G-08/Chemistry/S/Above-7\",\"M/lowerlevel/G-04/English/S/Above-7\",\"M/MiddleSchool/G-06/English/S/Above-7\",\"F/lowerlevel/G-02/French/S/Above-7\",\"M/lowerlevel/G-02/French/S/Above-7\",\"F/MiddleSchool/G-08/Geology/S/Above-7\",\"M/MiddleSchool/G-08/Geology/S/Above-7\",\"F/lowerlevel/G-04/History/S/Above-7\",\"M/MiddleSchool/G-08/History/S/Above-7\",\"M/lowerlevel/G-02/IT/S/Above-7\",\"M/lowerlevel/G-04/IT/S/Above-7\",\"M/HighSchool/G-11/Math/S/Above-7\",\"M/lowerlevel/G-04/Science/S/Above-7\",\"F/MiddleSchool/G-07/Science/S/Above-7\",\"M/MiddleSchool/G-07/Science/S/Above-7\",\"M/MiddleSchool/G-08/Spanish/S/Above-7\",\"F/lowerlevel/G-02/Arabic/F/Under-7\",\"M/lowerlevel/G-02/Arabic/F/Under-7\",\"F/MiddleSchool/G-08/Arabic/F/Under-7\",\"F/MiddleSchool/G-07/Biology/F/Under-7\",\"M/MiddleSchool/G-07/Biology/F/Under-7\",\"F/MiddleSchool/G-08/Chemistry/F/Under-7\",\"M/MiddleSchool/G-08/Chemistry/F/Under-7\",\"F/MiddleSchool/G-06/English/F/Under-7\",\"M/MiddleSchool/G-06/English/F/Under-7\",\"F/HighSchool/G-12/English/F/Under-7\",\"F/lowerlevel/G-02/French/F/Under-7\",\"M/lowerlevel/G-02/French/F/Under-7\",\"F/MiddleSchool/G-08/Geology/F/Under-7\",\"M/MiddleSchool/G-08/Geology/F/Under-7\",\"F/MiddleSchool/G-08/History/F/Under-7\",\"M/MiddleSchool/G-08/History/F/Under-7\",\"F/lowerlevel/G-02/IT/F/Under-7\",\"M/lowerlevel/G-02/IT/F/Under-7\",\"M/lowerlevel/G-04/IT/F/Under-7\",\"F/MiddleSchool/G-06/IT/F/Under-7\",\"F/MiddleSchool/G-07/IT/F/Under-7\",\"M/MiddleSchool/G-07/IT/F/Under-7\",\"F/HighSchool/G-09/IT/F/Under-7\",\"M/HighSchool/G-09/IT/F/Under-7\",\"M/HighSchool/G-10/IT/F/Under-7\",\"F/HighSchool/G-12/IT/F/Under-7\",\"F/MiddleSchool/G-07/Math/F/Under-7\",\"M/MiddleSchool/G-07/Math/F/Under-7\",\"M/MiddleSchool/G-07/Quran/F/Under-7\",\"F/lowerlevel/G-04/Science/F/Under-7\",\"M/lowerlevel/G-04/Science/F/Under-7\",\"F/MiddleSchool/G-07/Science/F/Under-7\",\"M/MiddleSchool/G-08/Science/F/Under-7\",\"F/HighSchool/G-11/Science/F/Under-7\",\"F/lowerlevel/G-02/Arabic/S/Under-7\",\"M/lowerlevel/G-02/Arabic/S/Under-7\",\"F/MiddleSchool/G-08/Arabic/S/Under-7\",\"M/MiddleSchool/G-08/Arabic/S/Under-7\",\"F/MiddleSchool/G-07/Biology/S/Under-7\",\"M/MiddleSchool/G-07/Biology/S/Under-7\",\"F/MiddleSchool/G-08/Chemistry/S/Under-7\",\"M/MiddleSchool/G-08/Chemistry/S/Under-7\",\"M/lowerlevel/G-04/English/S/Under-7\",\"F/MiddleSchool/G-06/English/S/Under-7\",\"M/MiddleSchool/G-06/English/S/Under-7\",\"F/lowerlevel/G-02/French/S/Under-7\",\"M/lowerlevel/G-02/French/S/Under-7\",\"F/HighSchool/G-11/French/S/Under-7\",\"F/MiddleSchool/G-08/Geology/S/Under-7\",\"M/MiddleSchool/G-08/Geology/S/Under-7\",\"F/lowerlevel/G-04/History/S/Under-7\",\"M/lowerlevel/G-04/History/S/Under-7\",\"F/MiddleSchool/G-08/History/S/Under-7\",\"M/MiddleSchool/G-08/History/S/Under-7\",\"M/lowerlevel/G-04/Math/S/Under-7\",\"F/MiddleSchool/G-07/Quran/S/Under-7\",\"M/MiddleSchool/G-07/Quran/S/Under-7\",\"F/HighSchool/G-11/Quran/S/Under-7\",\"M/HighSchool/G-11/Quran/S/Under-7\",\"F/lowerlevel/G-04/Science/S/Under-7\",\"M/lowerlevel/G-04/Science/S/Under-7\",\"F/MiddleSchool/G-06/Science/S/Under-7\",\"F/MiddleSchool/G-07/Science/S/Under-7\",\"M/MiddleSchool/G-07/Science/S/Under-7\",\"M/HighSchool/G-11/Science/S/Under-7\",\"F/MiddleSchool/G-08/Spanish/S/Under-7\",\"M/MiddleSchool/G-08/Spanish/S/Under-7\",\"F/lowerlevel/G-02/Arabic/F\",\"M/lowerlevel/G-02/Arabic/F\",\"F/MiddleSchool/G-08/Arabic/F\",\"F/MiddleSchool/G-07/Biology/F\",\"M/MiddleSchool/G-07/Biology/F\",\"F/MiddleSchool/G-08/Chemistry/F\",\"M/MiddleSchool/G-08/Chemistry/F\",\"F/lowerlevel/G-05/English/F\",\"F/MiddleSchool/G-06/English/F\",\"M/MiddleSchool/G-06/English/F\",\"F/HighSchool/G-12/English/F\",\"M/HighSchool/G-12/English/F\",\"F/lowerlevel/G-02/French/F\",\"M/lowerlevel/G-02/French/F\",\"F/MiddleSchool/G-08/Geology/F\",\"M/MiddleSchool/G-08/Geology/F\",\"F/MiddleSchool/G-08/History/F\",\"M/MiddleSchool/G-08/History/F\",\"F/lowerlevel/G-02/IT/F\",\"M/lowerlevel/G-02/IT/F\",\"M/lowerlevel/G-04/IT/F\",\"F/MiddleSchool/G-06/IT/F\",\"F/MiddleSchool/G-07/IT/F\",\"M/MiddleSchool/G-07/IT/F\",\"F/lowerlevel/G-07/IT/F\",\"F/HighSchool/G-09/IT/F\",\"M/HighSchool/G-09/IT/F\",\"M/HighSchool/G-10/IT/F\",\"F/HighSchool/G-12/IT/F\",\"F/MiddleSchool/G-07/Math/F\",\"M/MiddleSchool/G-07/Math/F\",\"M/MiddleSchool/G-08/Math/F\",\"M/MiddleSchool/G-07/Quran/F\",\"F/lowerlevel/G-04/Science/F\",\"M/lowerlevel/G-04/Science/F\",\"F/MiddleSchool/G-07/Science/F\",\"M/MiddleSchool/G-07/Science/F\",\"M/MiddleSchool/G-08/Science/F\",\"F/HighSchool/G-11/Science/F\",\"F/lowerlevel/G-02/Arabic/S\",\"M/lowerlevel/G-02/Arabic/S\",\"F/MiddleSchool/G-08/Arabic/S\",\"M/MiddleSchool/G-08/Arabic/S\",\"F/MiddleSchool/G-07/Biology/S\",\"M/MiddleSchool/G-07/Biology/S\",\"F/MiddleSchool/G-08/Chemistry/S\",\"M/MiddleSchool/G-08/Chemistry/S\",\"M/lowerlevel/G-04/English/S\",\"F/MiddleSchool/G-06/English/S\",\"M/MiddleSchool/G-06/English/S\",\"F/lowerlevel/G-02/French/S\",\"M/lowerlevel/G-02/French/S\",\"F/HighSchool/G-11/French/S\",\"F/MiddleSchool/G-08/Geology/S\",\"M/MiddleSchool/G-08/Geology/S\",\"F/lowerlevel/G-04/History/S\",\"M/lowerlevel/G-04/History/S\",\"F/MiddleSchool/G-08/History/S\",\"M/MiddleSchool/G-08/History/S\",\"M/lowerlevel/G-02/IT/S\",\"M/lowerlevel/G-04/IT/S\",\"M/lowerlevel/G-04/Math/S\",\"M/HighSchool/G-11/Math/S\",\"F/MiddleSchool/G-07/Quran/S\",\"M/MiddleSchool/G-07/Quran/S\",\"F/HighSchool/G-11/Quran/S\",\"M/HighSchool/G-11/Quran/S\",\"F/lowerlevel/G-04/Science/S\",\"M/lowerlevel/G-04/Science/S\",\"F/MiddleSchool/G-06/Science/S\",\"F/MiddleSchool/G-07/Science/S\",\"M/MiddleSchool/G-07/Science/S\",\"M/HighSchool/G-11/Science/S\",\"F/MiddleSchool/G-08/Spanish/S\",\"M/MiddleSchool/G-08/Spanish/S\",\"F/lowerlevel/G-02/Arabic\",\"M/lowerlevel/G-02/Arabic\",\"F/MiddleSchool/G-08/Arabic\",\"M/MiddleSchool/G-08/Arabic\",\"F/MiddleSchool/G-07/Biology\",\"M/MiddleSchool/G-07/Biology\",\"F/MiddleSchool/G-08/Chemistry\",\"M/MiddleSchool/G-08/Chemistry\",\"M/lowerlevel/G-04/English\",\"F/lowerlevel/G-05/English\",\"F/MiddleSchool/G-06/English\",\"M/MiddleSchool/G-06/English\",\"F/HighSchool/G-12/English\",\"M/HighSchool/G-12/English\",\"F/lowerlevel/G-02/French\",\"M/lowerlevel/G-02/French\",\"F/HighSchool/G-11/French\",\"F/MiddleSchool/G-08/Geology\",\"M/MiddleSchool/G-08/Geology\",\"F/lowerlevel/G-04/History\",\"M/lowerlevel/G-04/History\",\"F/MiddleSchool/G-08/History\",\"M/MiddleSchool/G-08/History\",\"F/lowerlevel/G-02/IT\",\"M/lowerlevel/G-02/IT\",\"M/lowerlevel/G-04/IT\",\"F/MiddleSchool/G-06/IT\",\"F/MiddleSchool/G-07/IT\",\"M/MiddleSchool/G-07/IT\",\"F/lowerlevel/G-07/IT\",\"F/HighSchool/G-09/IT\",\"M/HighSchool/G-09/IT\",\"M/HighSchool/G-10/IT\",\"F/HighSchool/G-12/IT\",\"M/lowerlevel/G-04/Math\",\"F/MiddleSchool/G-07/Math\",\"M/MiddleSchool/G-07/Math\",\"M/MiddleSchool/G-08/Math\",\"M/HighSchool/G-11/Math\",\"F/MiddleSchool/G-07/Quran\",\"M/MiddleSchool/G-07/Quran\",\"F/HighSchool/G-11/Quran\",\"M/HighSchool/G-11/Quran\",\"F/lowerlevel/G-04/Science\",\"M/lowerlevel/G-04/Science\",\"F/MiddleSchool/G-06/Science\",\"F/MiddleSchool/G-07/Science\",\"M/MiddleSchool/G-07/Science\",\"M/MiddleSchool/G-08/Science\",\"F/HighSchool/G-11/Science\",\"M/HighSchool/G-11/Science\",\"F/MiddleSchool/G-08/Spanish\",\"M/MiddleSchool/G-08/Spanish\",\"F/lowerlevel/G-02\",\"M/lowerlevel/G-02\",\"F/lowerlevel/G-04\",\"M/lowerlevel/G-04\",\"F/lowerlevel/G-05\",\"F/MiddleSchool/G-06\",\"M/MiddleSchool/G-06\",\"F/MiddleSchool/G-07\",\"M/MiddleSchool/G-07\",\"F/lowerlevel/G-07\",\"F/MiddleSchool/G-08\",\"M/MiddleSchool/G-08\",\"F/HighSchool/G-09\",\"M/HighSchool/G-09\",\"M/HighSchool/G-10\",\"F/HighSchool/G-11\",\"M/HighSchool/G-11\",\"F/HighSchool/G-12\",\"M/HighSchool/G-12\",\"F/HighSchool\",\"M/HighSchool\",\"F/MiddleSchool\",\"M/MiddleSchool\",\"F/lowerlevel\",\"M/lowerlevel\",\"F\",\"M\"],\"labels\":[\"Above-7\",\"Above-7\",\"Above-7\",\"Above-7\",\"Above-7\",\"Above-7\",\"Above-7\",\"Above-7\",\"Above-7\",\"Above-7\",\"Above-7\",\"Above-7\",\"Above-7\",\"Above-7\",\"Above-7\",\"Above-7\",\"Above-7\",\"Above-7\",\"Above-7\",\"Above-7\",\"Above-7\",\"Above-7\",\"Above-7\",\"Above-7\",\"Above-7\",\"Above-7\",\"Above-7\",\"Above-7\",\"Above-7\",\"Above-7\",\"Above-7\",\"Above-7\",\"Above-7\",\"Above-7\",\"Above-7\",\"Above-7\",\"Above-7\",\"Above-7\",\"Above-7\",\"Above-7\",\"Above-7\",\"Above-7\",\"Under-7\",\"Under-7\",\"Under-7\",\"Under-7\",\"Under-7\",\"Under-7\",\"Under-7\",\"Under-7\",\"Under-7\",\"Under-7\",\"Under-7\",\"Under-7\",\"Under-7\",\"Under-7\",\"Under-7\",\"Under-7\",\"Under-7\",\"Under-7\",\"Under-7\",\"Under-7\",\"Under-7\",\"Under-7\",\"Under-7\",\"Under-7\",\"Under-7\",\"Under-7\",\"Under-7\",\"Under-7\",\"Under-7\",\"Under-7\",\"Under-7\",\"Under-7\",\"Under-7\",\"Under-7\",\"Under-7\",\"Under-7\",\"Under-7\",\"Under-7\",\"Under-7\",\"Under-7\",\"Under-7\",\"Under-7\",\"Under-7\",\"Under-7\",\"Under-7\",\"Under-7\",\"Under-7\",\"Under-7\",\"Under-7\",\"Under-7\",\"Under-7\",\"Under-7\",\"Under-7\",\"Under-7\",\"Under-7\",\"Under-7\",\"Under-7\",\"Under-7\",\"Under-7\",\"Under-7\",\"Under-7\",\"Under-7\",\"Under-7\",\"Under-7\",\"Under-7\",\"Under-7\",\"Under-7\",\"F\",\"F\",\"F\",\"F\",\"F\",\"F\",\"F\",\"F\",\"F\",\"F\",\"F\",\"F\",\"F\",\"F\",\"F\",\"F\",\"F\",\"F\",\"F\",\"F\",\"F\",\"F\",\"F\",\"F\",\"F\",\"F\",\"F\",\"F\",\"F\",\"F\",\"F\",\"F\",\"F\",\"F\",\"F\",\"F\",\"F\",\"F\",\"F\",\"S\",\"S\",\"S\",\"S\",\"S\",\"S\",\"S\",\"S\",\"S\",\"S\",\"S\",\"S\",\"S\",\"S\",\"S\",\"S\",\"S\",\"S\",\"S\",\"S\",\"S\",\"S\",\"S\",\"S\",\"S\",\"S\",\"S\",\"S\",\"S\",\"S\",\"S\",\"S\",\"S\",\"S\",\"S\",\"S\",\"Arabic\",\"Arabic\",\"Arabic\",\"Arabic\",\"Biology\",\"Biology\",\"Chemistry\",\"Chemistry\",\"English\",\"English\",\"English\",\"English\",\"English\",\"English\",\"French\",\"French\",\"French\",\"Geology\",\"Geology\",\"History\",\"History\",\"History\",\"History\",\"IT\",\"IT\",\"IT\",\"IT\",\"IT\",\"IT\",\"IT\",\"IT\",\"IT\",\"IT\",\"IT\",\"Math\",\"Math\",\"Math\",\"Math\",\"Math\",\"Quran\",\"Quran\",\"Quran\",\"Quran\",\"Science\",\"Science\",\"Science\",\"Science\",\"Science\",\"Science\",\"Science\",\"Science\",\"Spanish\",\"Spanish\",\"G-02\",\"G-02\",\"G-04\",\"G-04\",\"G-05\",\"G-06\",\"G-06\",\"G-07\",\"G-07\",\"G-07\",\"G-08\",\"G-08\",\"G-09\",\"G-09\",\"G-10\",\"G-11\",\"G-11\",\"G-12\",\"G-12\",\"HighSchool\",\"HighSchool\",\"MiddleSchool\",\"MiddleSchool\",\"lowerlevel\",\"lowerlevel\",\"F\",\"M\"],\"name\":\"\",\"parents\":[\"M/lowerlevel/G-02/Arabic/F\",\"F/MiddleSchool/G-07/Biology/F\",\"M/MiddleSchool/G-07/Biology/F\",\"M/MiddleSchool/G-08/Chemistry/F\",\"F/lowerlevel/G-05/English/F\",\"M/MiddleSchool/G-06/English/F\",\"M/HighSchool/G-12/English/F\",\"F/lowerlevel/G-02/French/F\",\"M/lowerlevel/G-02/French/F\",\"F/MiddleSchool/G-08/Geology/F\",\"M/MiddleSchool/G-08/Geology/F\",\"M/MiddleSchool/G-08/History/F\",\"F/lowerlevel/G-02/IT/F\",\"M/lowerlevel/G-02/IT/F\",\"M/MiddleSchool/G-07/IT/F\",\"F/lowerlevel/G-07/IT/F\",\"M/HighSchool/G-09/IT/F\",\"M/MiddleSchool/G-07/Math/F\",\"M/MiddleSchool/G-08/Math/F\",\"M/MiddleSchool/G-07/Quran/F\",\"M/lowerlevel/G-04/Science/F\",\"M/MiddleSchool/G-07/Science/F\",\"M/lowerlevel/G-02/Arabic/S\",\"M/MiddleSchool/G-08/Arabic/S\",\"F/MiddleSchool/G-07/Biology/S\",\"M/MiddleSchool/G-07/Biology/S\",\"M/MiddleSchool/G-08/Chemistry/S\",\"M/lowerlevel/G-04/English/S\",\"M/MiddleSchool/G-06/English/S\",\"F/lowerlevel/G-02/French/S\",\"M/lowerlevel/G-02/French/S\",\"F/MiddleSchool/G-08/Geology/S\",\"M/MiddleSchool/G-08/Geology/S\",\"F/lowerlevel/G-04/History/S\",\"M/MiddleSchool/G-08/History/S\",\"M/lowerlevel/G-02/IT/S\",\"M/lowerlevel/G-04/IT/S\",\"M/HighSchool/G-11/Math/S\",\"M/lowerlevel/G-04/Science/S\",\"F/MiddleSchool/G-07/Science/S\",\"M/MiddleSchool/G-07/Science/S\",\"M/MiddleSchool/G-08/Spanish/S\",\"F/lowerlevel/G-02/Arabic/F\",\"M/lowerlevel/G-02/Arabic/F\",\"F/MiddleSchool/G-08/Arabic/F\",\"F/MiddleSchool/G-07/Biology/F\",\"M/MiddleSchool/G-07/Biology/F\",\"F/MiddleSchool/G-08/Chemistry/F\",\"M/MiddleSchool/G-08/Chemistry/F\",\"F/MiddleSchool/G-06/English/F\",\"M/MiddleSchool/G-06/English/F\",\"F/HighSchool/G-12/English/F\",\"F/lowerlevel/G-02/French/F\",\"M/lowerlevel/G-02/French/F\",\"F/MiddleSchool/G-08/Geology/F\",\"M/MiddleSchool/G-08/Geology/F\",\"F/MiddleSchool/G-08/History/F\",\"M/MiddleSchool/G-08/History/F\",\"F/lowerlevel/G-02/IT/F\",\"M/lowerlevel/G-02/IT/F\",\"M/lowerlevel/G-04/IT/F\",\"F/MiddleSchool/G-06/IT/F\",\"F/MiddleSchool/G-07/IT/F\",\"M/MiddleSchool/G-07/IT/F\",\"F/HighSchool/G-09/IT/F\",\"M/HighSchool/G-09/IT/F\",\"M/HighSchool/G-10/IT/F\",\"F/HighSchool/G-12/IT/F\",\"F/MiddleSchool/G-07/Math/F\",\"M/MiddleSchool/G-07/Math/F\",\"M/MiddleSchool/G-07/Quran/F\",\"F/lowerlevel/G-04/Science/F\",\"M/lowerlevel/G-04/Science/F\",\"F/MiddleSchool/G-07/Science/F\",\"M/MiddleSchool/G-08/Science/F\",\"F/HighSchool/G-11/Science/F\",\"F/lowerlevel/G-02/Arabic/S\",\"M/lowerlevel/G-02/Arabic/S\",\"F/MiddleSchool/G-08/Arabic/S\",\"M/MiddleSchool/G-08/Arabic/S\",\"F/MiddleSchool/G-07/Biology/S\",\"M/MiddleSchool/G-07/Biology/S\",\"F/MiddleSchool/G-08/Chemistry/S\",\"M/MiddleSchool/G-08/Chemistry/S\",\"M/lowerlevel/G-04/English/S\",\"F/MiddleSchool/G-06/English/S\",\"M/MiddleSchool/G-06/English/S\",\"F/lowerlevel/G-02/French/S\",\"M/lowerlevel/G-02/French/S\",\"F/HighSchool/G-11/French/S\",\"F/MiddleSchool/G-08/Geology/S\",\"M/MiddleSchool/G-08/Geology/S\",\"F/lowerlevel/G-04/History/S\",\"M/lowerlevel/G-04/History/S\",\"F/MiddleSchool/G-08/History/S\",\"M/MiddleSchool/G-08/History/S\",\"M/lowerlevel/G-04/Math/S\",\"F/MiddleSchool/G-07/Quran/S\",\"M/MiddleSchool/G-07/Quran/S\",\"F/HighSchool/G-11/Quran/S\",\"M/HighSchool/G-11/Quran/S\",\"F/lowerlevel/G-04/Science/S\",\"M/lowerlevel/G-04/Science/S\",\"F/MiddleSchool/G-06/Science/S\",\"F/MiddleSchool/G-07/Science/S\",\"M/MiddleSchool/G-07/Science/S\",\"M/HighSchool/G-11/Science/S\",\"F/MiddleSchool/G-08/Spanish/S\",\"M/MiddleSchool/G-08/Spanish/S\",\"F/lowerlevel/G-02/Arabic\",\"M/lowerlevel/G-02/Arabic\",\"F/MiddleSchool/G-08/Arabic\",\"F/MiddleSchool/G-07/Biology\",\"M/MiddleSchool/G-07/Biology\",\"F/MiddleSchool/G-08/Chemistry\",\"M/MiddleSchool/G-08/Chemistry\",\"F/lowerlevel/G-05/English\",\"F/MiddleSchool/G-06/English\",\"M/MiddleSchool/G-06/English\",\"F/HighSchool/G-12/English\",\"M/HighSchool/G-12/English\",\"F/lowerlevel/G-02/French\",\"M/lowerlevel/G-02/French\",\"F/MiddleSchool/G-08/Geology\",\"M/MiddleSchool/G-08/Geology\",\"F/MiddleSchool/G-08/History\",\"M/MiddleSchool/G-08/History\",\"F/lowerlevel/G-02/IT\",\"M/lowerlevel/G-02/IT\",\"M/lowerlevel/G-04/IT\",\"F/MiddleSchool/G-06/IT\",\"F/MiddleSchool/G-07/IT\",\"M/MiddleSchool/G-07/IT\",\"F/lowerlevel/G-07/IT\",\"F/HighSchool/G-09/IT\",\"M/HighSchool/G-09/IT\",\"M/HighSchool/G-10/IT\",\"F/HighSchool/G-12/IT\",\"F/MiddleSchool/G-07/Math\",\"M/MiddleSchool/G-07/Math\",\"M/MiddleSchool/G-08/Math\",\"M/MiddleSchool/G-07/Quran\",\"F/lowerlevel/G-04/Science\",\"M/lowerlevel/G-04/Science\",\"F/MiddleSchool/G-07/Science\",\"M/MiddleSchool/G-07/Science\",\"M/MiddleSchool/G-08/Science\",\"F/HighSchool/G-11/Science\",\"F/lowerlevel/G-02/Arabic\",\"M/lowerlevel/G-02/Arabic\",\"F/MiddleSchool/G-08/Arabic\",\"M/MiddleSchool/G-08/Arabic\",\"F/MiddleSchool/G-07/Biology\",\"M/MiddleSchool/G-07/Biology\",\"F/MiddleSchool/G-08/Chemistry\",\"M/MiddleSchool/G-08/Chemistry\",\"M/lowerlevel/G-04/English\",\"F/MiddleSchool/G-06/English\",\"M/MiddleSchool/G-06/English\",\"F/lowerlevel/G-02/French\",\"M/lowerlevel/G-02/French\",\"F/HighSchool/G-11/French\",\"F/MiddleSchool/G-08/Geology\",\"M/MiddleSchool/G-08/Geology\",\"F/lowerlevel/G-04/History\",\"M/lowerlevel/G-04/History\",\"F/MiddleSchool/G-08/History\",\"M/MiddleSchool/G-08/History\",\"M/lowerlevel/G-02/IT\",\"M/lowerlevel/G-04/IT\",\"M/lowerlevel/G-04/Math\",\"M/HighSchool/G-11/Math\",\"F/MiddleSchool/G-07/Quran\",\"M/MiddleSchool/G-07/Quran\",\"F/HighSchool/G-11/Quran\",\"M/HighSchool/G-11/Quran\",\"F/lowerlevel/G-04/Science\",\"M/lowerlevel/G-04/Science\",\"F/MiddleSchool/G-06/Science\",\"F/MiddleSchool/G-07/Science\",\"M/MiddleSchool/G-07/Science\",\"M/HighSchool/G-11/Science\",\"F/MiddleSchool/G-08/Spanish\",\"M/MiddleSchool/G-08/Spanish\",\"F/lowerlevel/G-02\",\"M/lowerlevel/G-02\",\"F/MiddleSchool/G-08\",\"M/MiddleSchool/G-08\",\"F/MiddleSchool/G-07\",\"M/MiddleSchool/G-07\",\"F/MiddleSchool/G-08\",\"M/MiddleSchool/G-08\",\"M/lowerlevel/G-04\",\"F/lowerlevel/G-05\",\"F/MiddleSchool/G-06\",\"M/MiddleSchool/G-06\",\"F/HighSchool/G-12\",\"M/HighSchool/G-12\",\"F/lowerlevel/G-02\",\"M/lowerlevel/G-02\",\"F/HighSchool/G-11\",\"F/MiddleSchool/G-08\",\"M/MiddleSchool/G-08\",\"F/lowerlevel/G-04\",\"M/lowerlevel/G-04\",\"F/MiddleSchool/G-08\",\"M/MiddleSchool/G-08\",\"F/lowerlevel/G-02\",\"M/lowerlevel/G-02\",\"M/lowerlevel/G-04\",\"F/MiddleSchool/G-06\",\"F/MiddleSchool/G-07\",\"M/MiddleSchool/G-07\",\"F/lowerlevel/G-07\",\"F/HighSchool/G-09\",\"M/HighSchool/G-09\",\"M/HighSchool/G-10\",\"F/HighSchool/G-12\",\"M/lowerlevel/G-04\",\"F/MiddleSchool/G-07\",\"M/MiddleSchool/G-07\",\"M/MiddleSchool/G-08\",\"M/HighSchool/G-11\",\"F/MiddleSchool/G-07\",\"M/MiddleSchool/G-07\",\"F/HighSchool/G-11\",\"M/HighSchool/G-11\",\"F/lowerlevel/G-04\",\"M/lowerlevel/G-04\",\"F/MiddleSchool/G-06\",\"F/MiddleSchool/G-07\",\"M/MiddleSchool/G-07\",\"M/MiddleSchool/G-08\",\"F/HighSchool/G-11\",\"M/HighSchool/G-11\",\"F/MiddleSchool/G-08\",\"M/MiddleSchool/G-08\",\"F/lowerlevel\",\"M/lowerlevel\",\"F/lowerlevel\",\"M/lowerlevel\",\"F/lowerlevel\",\"F/MiddleSchool\",\"M/MiddleSchool\",\"F/MiddleSchool\",\"M/MiddleSchool\",\"F/lowerlevel\",\"F/MiddleSchool\",\"M/MiddleSchool\",\"F/HighSchool\",\"M/HighSchool\",\"M/HighSchool\",\"F/HighSchool\",\"M/HighSchool\",\"F/HighSchool\",\"M/HighSchool\",\"F\",\"M\",\"F\",\"M\",\"F\",\"M\",\"\",\"\"],\"values\":[3,2,1,3,1,1,1,1,4,2,1,2,5,8,4,1,1,2,1,2,4,1,3,1,2,1,3,1,1,1,7,2,1,1,2,1,1,1,4,2,2,2,2,4,1,3,6,4,2,4,4,4,10,3,2,4,1,2,8,7,2,1,3,3,1,2,2,1,2,4,1,4,1,1,1,1,2,4,2,8,3,6,4,2,1,4,4,11,7,1,2,4,3,1,1,2,1,2,3,1,1,4,1,1,2,2,2,1,8,2,7,1,5,7,4,5,1,4,5,4,1,11,7,4,5,1,4,13,15,2,1,3,7,1,1,3,2,1,2,6,1,3,4,5,1,1,1,1,2,7,2,9,5,7,4,5,2,4,5,12,14,1,4,5,4,1,1,4,1,1,1,1,2,3,1,1,4,5,1,4,4,2,1,10,4,14,3,9,10,14,8,10,2,1,8,10,4,1,23,21,1,8,10,4,1,2,8,13,16,3,1,3,7,1,1,3,2,1,1,2,6,1,1,2,6,1,1,8,10,1,5,5,1,1,2,1,10,40,51,12,17,1,10,10,22,38,1,22,49,1,3,2,3,4,5,1,9,10,54,97,54,68,117,175],\"type\":\"sunburst\"}],                        {\"template\":{\"data\":{\"histogram2dcontour\":[{\"type\":\"histogram2dcontour\",\"colorbar\":{\"outlinewidth\":0,\"ticks\":\"\"},\"colorscale\":[[0.0,\"#0d0887\"],[0.1111111111111111,\"#46039f\"],[0.2222222222222222,\"#7201a8\"],[0.3333333333333333,\"#9c179e\"],[0.4444444444444444,\"#bd3786\"],[0.5555555555555556,\"#d8576b\"],[0.6666666666666666,\"#ed7953\"],[0.7777777777777778,\"#fb9f3a\"],[0.8888888888888888,\"#fdca26\"],[1.0,\"#f0f921\"]]}],\"choropleth\":[{\"type\":\"choropleth\",\"colorbar\":{\"outlinewidth\":0,\"ticks\":\"\"}}],\"histogram2d\":[{\"type\":\"histogram2d\",\"colorbar\":{\"outlinewidth\":0,\"ticks\":\"\"},\"colorscale\":[[0.0,\"#0d0887\"],[0.1111111111111111,\"#46039f\"],[0.2222222222222222,\"#7201a8\"],[0.3333333333333333,\"#9c179e\"],[0.4444444444444444,\"#bd3786\"],[0.5555555555555556,\"#d8576b\"],[0.6666666666666666,\"#ed7953\"],[0.7777777777777778,\"#fb9f3a\"],[0.8888888888888888,\"#fdca26\"],[1.0,\"#f0f921\"]]}],\"heatmap\":[{\"type\":\"heatmap\",\"colorbar\":{\"outlinewidth\":0,\"ticks\":\"\"},\"colorscale\":[[0.0,\"#0d0887\"],[0.1111111111111111,\"#46039f\"],[0.2222222222222222,\"#7201a8\"],[0.3333333333333333,\"#9c179e\"],[0.4444444444444444,\"#bd3786\"],[0.5555555555555556,\"#d8576b\"],[0.6666666666666666,\"#ed7953\"],[0.7777777777777778,\"#fb9f3a\"],[0.8888888888888888,\"#fdca26\"],[1.0,\"#f0f921\"]]}],\"heatmapgl\":[{\"type\":\"heatmapgl\",\"colorbar\":{\"outlinewidth\":0,\"ticks\":\"\"},\"colorscale\":[[0.0,\"#0d0887\"],[0.1111111111111111,\"#46039f\"],[0.2222222222222222,\"#7201a8\"],[0.3333333333333333,\"#9c179e\"],[0.4444444444444444,\"#bd3786\"],[0.5555555555555556,\"#d8576b\"],[0.6666666666666666,\"#ed7953\"],[0.7777777777777778,\"#fb9f3a\"],[0.8888888888888888,\"#fdca26\"],[1.0,\"#f0f921\"]]}],\"contourcarpet\":[{\"type\":\"contourcarpet\",\"colorbar\":{\"outlinewidth\":0,\"ticks\":\"\"}}],\"contour\":[{\"type\":\"contour\",\"colorbar\":{\"outlinewidth\":0,\"ticks\":\"\"},\"colorscale\":[[0.0,\"#0d0887\"],[0.1111111111111111,\"#46039f\"],[0.2222222222222222,\"#7201a8\"],[0.3333333333333333,\"#9c179e\"],[0.4444444444444444,\"#bd3786\"],[0.5555555555555556,\"#d8576b\"],[0.6666666666666666,\"#ed7953\"],[0.7777777777777778,\"#fb9f3a\"],[0.8888888888888888,\"#fdca26\"],[1.0,\"#f0f921\"]]}],\"surface\":[{\"type\":\"surface\",\"colorbar\":{\"outlinewidth\":0,\"ticks\":\"\"},\"colorscale\":[[0.0,\"#0d0887\"],[0.1111111111111111,\"#46039f\"],[0.2222222222222222,\"#7201a8\"],[0.3333333333333333,\"#9c179e\"],[0.4444444444444444,\"#bd3786\"],[0.5555555555555556,\"#d8576b\"],[0.6666666666666666,\"#ed7953\"],[0.7777777777777778,\"#fb9f3a\"],[0.8888888888888888,\"#fdca26\"],[1.0,\"#f0f921\"]]}],\"mesh3d\":[{\"type\":\"mesh3d\",\"colorbar\":{\"outlinewidth\":0,\"ticks\":\"\"}}],\"scatter\":[{\"fillpattern\":{\"fillmode\":\"overlay\",\"size\":10,\"solidity\":0.2},\"type\":\"scatter\"}],\"parcoords\":[{\"type\":\"parcoords\",\"line\":{\"colorbar\":{\"outlinewidth\":0,\"ticks\":\"\"}}}],\"scatterpolargl\":[{\"type\":\"scatterpolargl\",\"marker\":{\"colorbar\":{\"outlinewidth\":0,\"ticks\":\"\"}}}],\"bar\":[{\"error_x\":{\"color\":\"#2a3f5f\"},\"error_y\":{\"color\":\"#2a3f5f\"},\"marker\":{\"line\":{\"color\":\"#E5ECF6\",\"width\":0.5},\"pattern\":{\"fillmode\":\"overlay\",\"size\":10,\"solidity\":0.2}},\"type\":\"bar\"}],\"scattergeo\":[{\"type\":\"scattergeo\",\"marker\":{\"colorbar\":{\"outlinewidth\":0,\"ticks\":\"\"}}}],\"scatterpolar\":[{\"type\":\"scatterpolar\",\"marker\":{\"colorbar\":{\"outlinewidth\":0,\"ticks\":\"\"}}}],\"histogram\":[{\"marker\":{\"pattern\":{\"fillmode\":\"overlay\",\"size\":10,\"solidity\":0.2}},\"type\":\"histogram\"}],\"scattergl\":[{\"type\":\"scattergl\",\"marker\":{\"colorbar\":{\"outlinewidth\":0,\"ticks\":\"\"}}}],\"scatter3d\":[{\"type\":\"scatter3d\",\"line\":{\"colorbar\":{\"outlinewidth\":0,\"ticks\":\"\"}},\"marker\":{\"colorbar\":{\"outlinewidth\":0,\"ticks\":\"\"}}}],\"scattermapbox\":[{\"type\":\"scattermapbox\",\"marker\":{\"colorbar\":{\"outlinewidth\":0,\"ticks\":\"\"}}}],\"scatterternary\":[{\"type\":\"scatterternary\",\"marker\":{\"colorbar\":{\"outlinewidth\":0,\"ticks\":\"\"}}}],\"scattercarpet\":[{\"type\":\"scattercarpet\",\"marker\":{\"colorbar\":{\"outlinewidth\":0,\"ticks\":\"\"}}}],\"carpet\":[{\"aaxis\":{\"endlinecolor\":\"#2a3f5f\",\"gridcolor\":\"white\",\"linecolor\":\"white\",\"minorgridcolor\":\"white\",\"startlinecolor\":\"#2a3f5f\"},\"baxis\":{\"endlinecolor\":\"#2a3f5f\",\"gridcolor\":\"white\",\"linecolor\":\"white\",\"minorgridcolor\":\"white\",\"startlinecolor\":\"#2a3f5f\"},\"type\":\"carpet\"}],\"table\":[{\"cells\":{\"fill\":{\"color\":\"#EBF0F8\"},\"line\":{\"color\":\"white\"}},\"header\":{\"fill\":{\"color\":\"#C8D4E3\"},\"line\":{\"color\":\"white\"}},\"type\":\"table\"}],\"barpolar\":[{\"marker\":{\"line\":{\"color\":\"#E5ECF6\",\"width\":0.5},\"pattern\":{\"fillmode\":\"overlay\",\"size\":10,\"solidity\":0.2}},\"type\":\"barpolar\"}],\"pie\":[{\"automargin\":true,\"type\":\"pie\"}]},\"layout\":{\"autotypenumbers\":\"strict\",\"colorway\":[\"#636efa\",\"#EF553B\",\"#00cc96\",\"#ab63fa\",\"#FFA15A\",\"#19d3f3\",\"#FF6692\",\"#B6E880\",\"#FF97FF\",\"#FECB52\"],\"font\":{\"color\":\"#2a3f5f\"},\"hovermode\":\"closest\",\"hoverlabel\":{\"align\":\"left\"},\"paper_bgcolor\":\"white\",\"plot_bgcolor\":\"#E5ECF6\",\"polar\":{\"bgcolor\":\"#E5ECF6\",\"angularaxis\":{\"gridcolor\":\"white\",\"linecolor\":\"white\",\"ticks\":\"\"},\"radialaxis\":{\"gridcolor\":\"white\",\"linecolor\":\"white\",\"ticks\":\"\"}},\"ternary\":{\"bgcolor\":\"#E5ECF6\",\"aaxis\":{\"gridcolor\":\"white\",\"linecolor\":\"white\",\"ticks\":\"\"},\"baxis\":{\"gridcolor\":\"white\",\"linecolor\":\"white\",\"ticks\":\"\"},\"caxis\":{\"gridcolor\":\"white\",\"linecolor\":\"white\",\"ticks\":\"\"}},\"coloraxis\":{\"colorbar\":{\"outlinewidth\":0,\"ticks\":\"\"}},\"colorscale\":{\"sequential\":[[0.0,\"#0d0887\"],[0.1111111111111111,\"#46039f\"],[0.2222222222222222,\"#7201a8\"],[0.3333333333333333,\"#9c179e\"],[0.4444444444444444,\"#bd3786\"],[0.5555555555555556,\"#d8576b\"],[0.6666666666666666,\"#ed7953\"],[0.7777777777777778,\"#fb9f3a\"],[0.8888888888888888,\"#fdca26\"],[1.0,\"#f0f921\"]],\"sequentialminus\":[[0.0,\"#0d0887\"],[0.1111111111111111,\"#46039f\"],[0.2222222222222222,\"#7201a8\"],[0.3333333333333333,\"#9c179e\"],[0.4444444444444444,\"#bd3786\"],[0.5555555555555556,\"#d8576b\"],[0.6666666666666666,\"#ed7953\"],[0.7777777777777778,\"#fb9f3a\"],[0.8888888888888888,\"#fdca26\"],[1.0,\"#f0f921\"]],\"diverging\":[[0,\"#8e0152\"],[0.1,\"#c51b7d\"],[0.2,\"#de77ae\"],[0.3,\"#f1b6da\"],[0.4,\"#fde0ef\"],[0.5,\"#f7f7f7\"],[0.6,\"#e6f5d0\"],[0.7,\"#b8e186\"],[0.8,\"#7fbc41\"],[0.9,\"#4d9221\"],[1,\"#276419\"]]},\"xaxis\":{\"gridcolor\":\"white\",\"linecolor\":\"white\",\"ticks\":\"\",\"title\":{\"standoff\":15},\"zerolinecolor\":\"white\",\"automargin\":true,\"zerolinewidth\":2},\"yaxis\":{\"gridcolor\":\"white\",\"linecolor\":\"white\",\"ticks\":\"\",\"title\":{\"standoff\":15},\"zerolinecolor\":\"white\",\"automargin\":true,\"zerolinewidth\":2},\"scene\":{\"xaxis\":{\"backgroundcolor\":\"#E5ECF6\",\"gridcolor\":\"white\",\"linecolor\":\"white\",\"showbackground\":true,\"ticks\":\"\",\"zerolinecolor\":\"white\",\"gridwidth\":2},\"yaxis\":{\"backgroundcolor\":\"#E5ECF6\",\"gridcolor\":\"white\",\"linecolor\":\"white\",\"showbackground\":true,\"ticks\":\"\",\"zerolinecolor\":\"white\",\"gridwidth\":2},\"zaxis\":{\"backgroundcolor\":\"#E5ECF6\",\"gridcolor\":\"white\",\"linecolor\":\"white\",\"showbackground\":true,\"ticks\":\"\",\"zerolinecolor\":\"white\",\"gridwidth\":2}},\"shapedefaults\":{\"line\":{\"color\":\"#2a3f5f\"}},\"annotationdefaults\":{\"arrowcolor\":\"#2a3f5f\",\"arrowhead\":0,\"arrowwidth\":1},\"geo\":{\"bgcolor\":\"white\",\"landcolor\":\"#E5ECF6\",\"subunitcolor\":\"white\",\"showland\":true,\"showlakes\":true,\"lakecolor\":\"white\"},\"title\":{\"x\":0.05},\"mapbox\":{\"style\":\"light\"}}},\"legend\":{\"tracegroupgap\":0},\"margin\":{\"t\":60}},                        {\"responsive\": true}                    ).then(function(){\n",
       "                            \n",
       "var gd = document.getElementById('12148650-c903-4ddc-8841-332c476130e7');\n",
       "var x = new MutationObserver(function (mutations, observer) {{\n",
       "        var display = window.getComputedStyle(gd).display;\n",
       "        if (!display || display === 'none') {{\n",
       "            console.log([gd, 'removed!']);\n",
       "            Plotly.purge(gd);\n",
       "            observer.disconnect();\n",
       "        }}\n",
       "}});\n",
       "\n",
       "// Listen for the removal of the full notebook cells\n",
       "var notebookContainer = gd.closest('#notebook-container');\n",
       "if (notebookContainer) {{\n",
       "    x.observe(notebookContainer, {childList: true});\n",
       "}}\n",
       "\n",
       "// Listen for the clearing of the current output cell\n",
       "var outputEl = gd.closest('.output');\n",
       "if (outputEl) {{\n",
       "    x.observe(outputEl, {childList: true});\n",
       "}}\n",
       "\n",
       "                        })                };                });            </script>        </div>"
      ]
     },
     "metadata": {},
     "output_type": "display_data"
    }
   ],
   "source": [
    "fig = px.sunburst(students_Good, path=[\"gender\",'StageID','GradeID',\n",
    "                                    'Topic','Semester','StudentAbsenceDays'])\n",
    "fig.show()"
   ]
  },
  {
   "cell_type": "markdown",
   "metadata": {},
   "source": [
    "### Interpetation : - Trend Analysis\n",
    "* Customer ==  Male,Graduate,salaried & Tenure  less than a year , Rural   == Loan Rejected \n",
    "* customer ==  Male,Graduate,salaried & Tenure  less than a year ,Urban   == Loan Rejected \n",
    "* customer ==  Female,Graduate,salaried & Tenure <= 6 Months ,Rural    == Loan Rejected "
   ]
  },
  {
   "cell_type": "markdown",
   "metadata": {},
   "source": [
    "# 5. Breaking Data into Two Part\n",
    " * Quantitative Variable\n",
    " * Qualitative Variable\n",
    " \n"
   ]
  },
  {
   "cell_type": "code",
   "execution_count": 27,
   "metadata": {},
   "outputs": [
    {
     "data": {
      "text/html": [
       "<div>\n",
       "<style scoped>\n",
       "    .dataframe tbody tr th:only-of-type {\n",
       "        vertical-align: middle;\n",
       "    }\n",
       "\n",
       "    .dataframe tbody tr th {\n",
       "        vertical-align: top;\n",
       "    }\n",
       "\n",
       "    .dataframe thead th {\n",
       "        text-align: right;\n",
       "    }\n",
       "</style>\n",
       "<table border=\"1\" class=\"dataframe\">\n",
       "  <thead>\n",
       "    <tr style=\"text-align: right;\">\n",
       "      <th></th>\n",
       "      <th>gender</th>\n",
       "      <th>PlaceofBirth</th>\n",
       "      <th>StageID</th>\n",
       "      <th>GradeID</th>\n",
       "      <th>SectionID</th>\n",
       "      <th>Topic</th>\n",
       "      <th>Semester</th>\n",
       "      <th>Relation</th>\n",
       "      <th>raisedhands</th>\n",
       "      <th>VisITedResources</th>\n",
       "      <th>AnnouncementsView</th>\n",
       "      <th>Discussion</th>\n",
       "      <th>ParentAnsweringSurvey</th>\n",
       "      <th>ParentschoolSatisfaction</th>\n",
       "      <th>StudentAbsenceDays</th>\n",
       "      <th>Class</th>\n",
       "    </tr>\n",
       "  </thead>\n",
       "  <tbody>\n",
       "    <tr>\n",
       "      <th>0</th>\n",
       "      <td>M</td>\n",
       "      <td>KuwaIT</td>\n",
       "      <td>lowerlevel</td>\n",
       "      <td>G-04</td>\n",
       "      <td>A</td>\n",
       "      <td>IT</td>\n",
       "      <td>F</td>\n",
       "      <td>Father</td>\n",
       "      <td>15</td>\n",
       "      <td>16</td>\n",
       "      <td>2</td>\n",
       "      <td>20</td>\n",
       "      <td>Yes</td>\n",
       "      <td>Good</td>\n",
       "      <td>Under-7</td>\n",
       "      <td>M</td>\n",
       "    </tr>\n",
       "    <tr>\n",
       "      <th>1</th>\n",
       "      <td>M</td>\n",
       "      <td>KuwaIT</td>\n",
       "      <td>lowerlevel</td>\n",
       "      <td>G-04</td>\n",
       "      <td>A</td>\n",
       "      <td>IT</td>\n",
       "      <td>F</td>\n",
       "      <td>Father</td>\n",
       "      <td>20</td>\n",
       "      <td>20</td>\n",
       "      <td>3</td>\n",
       "      <td>25</td>\n",
       "      <td>Yes</td>\n",
       "      <td>Good</td>\n",
       "      <td>Under-7</td>\n",
       "      <td>M</td>\n",
       "    </tr>\n",
       "    <tr>\n",
       "      <th>2</th>\n",
       "      <td>M</td>\n",
       "      <td>KuwaIT</td>\n",
       "      <td>lowerlevel</td>\n",
       "      <td>G-04</td>\n",
       "      <td>A</td>\n",
       "      <td>IT</td>\n",
       "      <td>F</td>\n",
       "      <td>Father</td>\n",
       "      <td>10</td>\n",
       "      <td>7</td>\n",
       "      <td>0</td>\n",
       "      <td>30</td>\n",
       "      <td>No</td>\n",
       "      <td>Bad</td>\n",
       "      <td>Above-7</td>\n",
       "      <td>L</td>\n",
       "    </tr>\n",
       "    <tr>\n",
       "      <th>3</th>\n",
       "      <td>M</td>\n",
       "      <td>KuwaIT</td>\n",
       "      <td>lowerlevel</td>\n",
       "      <td>G-04</td>\n",
       "      <td>A</td>\n",
       "      <td>IT</td>\n",
       "      <td>F</td>\n",
       "      <td>Father</td>\n",
       "      <td>30</td>\n",
       "      <td>25</td>\n",
       "      <td>5</td>\n",
       "      <td>35</td>\n",
       "      <td>No</td>\n",
       "      <td>Bad</td>\n",
       "      <td>Above-7</td>\n",
       "      <td>L</td>\n",
       "    </tr>\n",
       "    <tr>\n",
       "      <th>4</th>\n",
       "      <td>M</td>\n",
       "      <td>KuwaIT</td>\n",
       "      <td>lowerlevel</td>\n",
       "      <td>G-04</td>\n",
       "      <td>A</td>\n",
       "      <td>IT</td>\n",
       "      <td>F</td>\n",
       "      <td>Father</td>\n",
       "      <td>40</td>\n",
       "      <td>50</td>\n",
       "      <td>12</td>\n",
       "      <td>50</td>\n",
       "      <td>No</td>\n",
       "      <td>Bad</td>\n",
       "      <td>Above-7</td>\n",
       "      <td>M</td>\n",
       "    </tr>\n",
       "  </tbody>\n",
       "</table>\n",
       "</div>"
      ],
      "text/plain": [
       "  gender PlaceofBirth     StageID GradeID SectionID Topic Semester Relation  \\\n",
       "0      M       KuwaIT  lowerlevel    G-04         A    IT        F   Father   \n",
       "1      M       KuwaIT  lowerlevel    G-04         A    IT        F   Father   \n",
       "2      M       KuwaIT  lowerlevel    G-04         A    IT        F   Father   \n",
       "3      M       KuwaIT  lowerlevel    G-04         A    IT        F   Father   \n",
       "4      M       KuwaIT  lowerlevel    G-04         A    IT        F   Father   \n",
       "\n",
       "   raisedhands  VisITedResources  AnnouncementsView  Discussion  \\\n",
       "0           15                16                  2          20   \n",
       "1           20                20                  3          25   \n",
       "2           10                 7                  0          30   \n",
       "3           30                25                  5          35   \n",
       "4           40                50                 12          50   \n",
       "\n",
       "  ParentAnsweringSurvey ParentschoolSatisfaction StudentAbsenceDays Class  \n",
       "0                   Yes                     Good            Under-7     M  \n",
       "1                   Yes                     Good            Under-7     M  \n",
       "2                    No                      Bad            Above-7     L  \n",
       "3                    No                      Bad            Above-7     L  \n",
       "4                    No                      Bad            Above-7     M  "
      ]
     },
     "execution_count": 27,
     "metadata": {},
     "output_type": "execute_result"
    }
   ],
   "source": [
    "students=students.drop('NationalITy',axis=1)\n",
    "students.head()"
   ]
  },
  {
   "cell_type": "code",
   "execution_count": 28,
   "metadata": {},
   "outputs": [
    {
     "data": {
      "text/html": [
       "<div>\n",
       "<style scoped>\n",
       "    .dataframe tbody tr th:only-of-type {\n",
       "        vertical-align: middle;\n",
       "    }\n",
       "\n",
       "    .dataframe tbody tr th {\n",
       "        vertical-align: top;\n",
       "    }\n",
       "\n",
       "    .dataframe thead th {\n",
       "        text-align: right;\n",
       "    }\n",
       "</style>\n",
       "<table border=\"1\" class=\"dataframe\">\n",
       "  <thead>\n",
       "    <tr style=\"text-align: right;\">\n",
       "      <th></th>\n",
       "      <th>gender</th>\n",
       "      <th>StageID</th>\n",
       "      <th>GradeID</th>\n",
       "      <th>SectionID</th>\n",
       "      <th>Topic</th>\n",
       "      <th>Semester</th>\n",
       "      <th>Relation</th>\n",
       "      <th>raisedhands</th>\n",
       "      <th>VisITedResources</th>\n",
       "      <th>AnnouncementsView</th>\n",
       "      <th>Discussion</th>\n",
       "      <th>ParentAnsweringSurvey</th>\n",
       "      <th>ParentschoolSatisfaction</th>\n",
       "      <th>StudentAbsenceDays</th>\n",
       "      <th>Class</th>\n",
       "    </tr>\n",
       "  </thead>\n",
       "  <tbody>\n",
       "    <tr>\n",
       "      <th>0</th>\n",
       "      <td>M</td>\n",
       "      <td>lowerlevel</td>\n",
       "      <td>G-04</td>\n",
       "      <td>A</td>\n",
       "      <td>IT</td>\n",
       "      <td>F</td>\n",
       "      <td>Father</td>\n",
       "      <td>15</td>\n",
       "      <td>16</td>\n",
       "      <td>2</td>\n",
       "      <td>20</td>\n",
       "      <td>Yes</td>\n",
       "      <td>Good</td>\n",
       "      <td>Under-7</td>\n",
       "      <td>M</td>\n",
       "    </tr>\n",
       "    <tr>\n",
       "      <th>1</th>\n",
       "      <td>M</td>\n",
       "      <td>lowerlevel</td>\n",
       "      <td>G-04</td>\n",
       "      <td>A</td>\n",
       "      <td>IT</td>\n",
       "      <td>F</td>\n",
       "      <td>Father</td>\n",
       "      <td>20</td>\n",
       "      <td>20</td>\n",
       "      <td>3</td>\n",
       "      <td>25</td>\n",
       "      <td>Yes</td>\n",
       "      <td>Good</td>\n",
       "      <td>Under-7</td>\n",
       "      <td>M</td>\n",
       "    </tr>\n",
       "    <tr>\n",
       "      <th>2</th>\n",
       "      <td>M</td>\n",
       "      <td>lowerlevel</td>\n",
       "      <td>G-04</td>\n",
       "      <td>A</td>\n",
       "      <td>IT</td>\n",
       "      <td>F</td>\n",
       "      <td>Father</td>\n",
       "      <td>10</td>\n",
       "      <td>7</td>\n",
       "      <td>0</td>\n",
       "      <td>30</td>\n",
       "      <td>No</td>\n",
       "      <td>Bad</td>\n",
       "      <td>Above-7</td>\n",
       "      <td>L</td>\n",
       "    </tr>\n",
       "    <tr>\n",
       "      <th>3</th>\n",
       "      <td>M</td>\n",
       "      <td>lowerlevel</td>\n",
       "      <td>G-04</td>\n",
       "      <td>A</td>\n",
       "      <td>IT</td>\n",
       "      <td>F</td>\n",
       "      <td>Father</td>\n",
       "      <td>30</td>\n",
       "      <td>25</td>\n",
       "      <td>5</td>\n",
       "      <td>35</td>\n",
       "      <td>No</td>\n",
       "      <td>Bad</td>\n",
       "      <td>Above-7</td>\n",
       "      <td>L</td>\n",
       "    </tr>\n",
       "    <tr>\n",
       "      <th>4</th>\n",
       "      <td>M</td>\n",
       "      <td>lowerlevel</td>\n",
       "      <td>G-04</td>\n",
       "      <td>A</td>\n",
       "      <td>IT</td>\n",
       "      <td>F</td>\n",
       "      <td>Father</td>\n",
       "      <td>40</td>\n",
       "      <td>50</td>\n",
       "      <td>12</td>\n",
       "      <td>50</td>\n",
       "      <td>No</td>\n",
       "      <td>Bad</td>\n",
       "      <td>Above-7</td>\n",
       "      <td>M</td>\n",
       "    </tr>\n",
       "  </tbody>\n",
       "</table>\n",
       "</div>"
      ],
      "text/plain": [
       "  gender     StageID GradeID SectionID Topic Semester Relation  raisedhands  \\\n",
       "0      M  lowerlevel    G-04         A    IT        F   Father           15   \n",
       "1      M  lowerlevel    G-04         A    IT        F   Father           20   \n",
       "2      M  lowerlevel    G-04         A    IT        F   Father           10   \n",
       "3      M  lowerlevel    G-04         A    IT        F   Father           30   \n",
       "4      M  lowerlevel    G-04         A    IT        F   Father           40   \n",
       "\n",
       "   VisITedResources  AnnouncementsView  Discussion ParentAnsweringSurvey  \\\n",
       "0                16                  2          20                   Yes   \n",
       "1                20                  3          25                   Yes   \n",
       "2                 7                  0          30                    No   \n",
       "3                25                  5          35                    No   \n",
       "4                50                 12          50                    No   \n",
       "\n",
       "  ParentschoolSatisfaction StudentAbsenceDays Class  \n",
       "0                     Good            Under-7     M  \n",
       "1                     Good            Under-7     M  \n",
       "2                      Bad            Above-7     L  \n",
       "3                      Bad            Above-7     L  \n",
       "4                      Bad            Above-7     M  "
      ]
     },
     "execution_count": 28,
     "metadata": {},
     "output_type": "execute_result"
    }
   ],
   "source": [
    "students=students.drop('PlaceofBirth',axis=1)\n",
    "students.head()"
   ]
  },
  {
   "cell_type": "code",
   "execution_count": 30,
   "metadata": {},
   "outputs": [
    {
     "data": {
      "text/plain": [
       "['raisedhands', 'VisITedResources', 'AnnouncementsView', 'Discussion']"
      ]
     },
     "execution_count": 30,
     "metadata": {},
     "output_type": "execute_result"
    }
   ],
   "source": [
    "students.select_dtypes(include=[np.number]).columns.tolist()"
   ]
  },
  {
   "cell_type": "code",
   "execution_count": 31,
   "metadata": {},
   "outputs": [
    {
     "data": {
      "text/html": [
       "<div>\n",
       "<style scoped>\n",
       "    .dataframe tbody tr th:only-of-type {\n",
       "        vertical-align: middle;\n",
       "    }\n",
       "\n",
       "    .dataframe tbody tr th {\n",
       "        vertical-align: top;\n",
       "    }\n",
       "\n",
       "    .dataframe thead th {\n",
       "        text-align: right;\n",
       "    }\n",
       "</style>\n",
       "<table border=\"1\" class=\"dataframe\">\n",
       "  <thead>\n",
       "    <tr style=\"text-align: right;\">\n",
       "      <th></th>\n",
       "      <th>raisedhands</th>\n",
       "      <th>VisITedResources</th>\n",
       "      <th>AnnouncementsView</th>\n",
       "      <th>Discussion</th>\n",
       "    </tr>\n",
       "  </thead>\n",
       "  <tbody>\n",
       "    <tr>\n",
       "      <th>0</th>\n",
       "      <td>15</td>\n",
       "      <td>16</td>\n",
       "      <td>2</td>\n",
       "      <td>20</td>\n",
       "    </tr>\n",
       "    <tr>\n",
       "      <th>1</th>\n",
       "      <td>20</td>\n",
       "      <td>20</td>\n",
       "      <td>3</td>\n",
       "      <td>25</td>\n",
       "    </tr>\n",
       "    <tr>\n",
       "      <th>2</th>\n",
       "      <td>10</td>\n",
       "      <td>7</td>\n",
       "      <td>0</td>\n",
       "      <td>30</td>\n",
       "    </tr>\n",
       "  </tbody>\n",
       "</table>\n",
       "</div>"
      ],
      "text/plain": [
       "   raisedhands  VisITedResources  AnnouncementsView  Discussion\n",
       "0           15                16                  2          20\n",
       "1           20                20                  3          25\n",
       "2           10                 7                  0          30"
      ]
     },
     "execution_count": 31,
     "metadata": {},
     "output_type": "execute_result"
    }
   ],
   "source": [
    "# Qualitative Variable\n",
    "Quantitative_Variable = students[students.select_dtypes(include=[np.number]).columns.tolist()]\n",
    "Quantitative_Variable.head(3)"
   ]
  },
  {
   "cell_type": "code",
   "execution_count": 32,
   "metadata": {},
   "outputs": [
    {
     "data": {
      "text/html": [
       "<div>\n",
       "<style scoped>\n",
       "    .dataframe tbody tr th:only-of-type {\n",
       "        vertical-align: middle;\n",
       "    }\n",
       "\n",
       "    .dataframe tbody tr th {\n",
       "        vertical-align: top;\n",
       "    }\n",
       "\n",
       "    .dataframe thead th {\n",
       "        text-align: right;\n",
       "    }\n",
       "</style>\n",
       "<table border=\"1\" class=\"dataframe\">\n",
       "  <thead>\n",
       "    <tr style=\"text-align: right;\">\n",
       "      <th></th>\n",
       "      <th>gender</th>\n",
       "      <th>StageID</th>\n",
       "      <th>GradeID</th>\n",
       "      <th>SectionID</th>\n",
       "      <th>Topic</th>\n",
       "      <th>Semester</th>\n",
       "      <th>Relation</th>\n",
       "      <th>ParentAnsweringSurvey</th>\n",
       "      <th>ParentschoolSatisfaction</th>\n",
       "      <th>StudentAbsenceDays</th>\n",
       "      <th>Class</th>\n",
       "    </tr>\n",
       "  </thead>\n",
       "  <tbody>\n",
       "    <tr>\n",
       "      <th>0</th>\n",
       "      <td>M</td>\n",
       "      <td>lowerlevel</td>\n",
       "      <td>G-04</td>\n",
       "      <td>A</td>\n",
       "      <td>IT</td>\n",
       "      <td>F</td>\n",
       "      <td>Father</td>\n",
       "      <td>Yes</td>\n",
       "      <td>Good</td>\n",
       "      <td>Under-7</td>\n",
       "      <td>M</td>\n",
       "    </tr>\n",
       "    <tr>\n",
       "      <th>1</th>\n",
       "      <td>M</td>\n",
       "      <td>lowerlevel</td>\n",
       "      <td>G-04</td>\n",
       "      <td>A</td>\n",
       "      <td>IT</td>\n",
       "      <td>F</td>\n",
       "      <td>Father</td>\n",
       "      <td>Yes</td>\n",
       "      <td>Good</td>\n",
       "      <td>Under-7</td>\n",
       "      <td>M</td>\n",
       "    </tr>\n",
       "    <tr>\n",
       "      <th>2</th>\n",
       "      <td>M</td>\n",
       "      <td>lowerlevel</td>\n",
       "      <td>G-04</td>\n",
       "      <td>A</td>\n",
       "      <td>IT</td>\n",
       "      <td>F</td>\n",
       "      <td>Father</td>\n",
       "      <td>No</td>\n",
       "      <td>Bad</td>\n",
       "      <td>Above-7</td>\n",
       "      <td>L</td>\n",
       "    </tr>\n",
       "  </tbody>\n",
       "</table>\n",
       "</div>"
      ],
      "text/plain": [
       "  gender     StageID GradeID SectionID Topic Semester Relation  \\\n",
       "0      M  lowerlevel    G-04         A    IT        F   Father   \n",
       "1      M  lowerlevel    G-04         A    IT        F   Father   \n",
       "2      M  lowerlevel    G-04         A    IT        F   Father   \n",
       "\n",
       "  ParentAnsweringSurvey ParentschoolSatisfaction StudentAbsenceDays Class  \n",
       "0                   Yes                     Good            Under-7     M  \n",
       "1                   Yes                     Good            Under-7     M  \n",
       "2                    No                      Bad            Above-7     L  "
      ]
     },
     "execution_count": 32,
     "metadata": {},
     "output_type": "execute_result"
    }
   ],
   "source": [
    "Qualitative_Variable = students[students.select_dtypes(include=['object']).columns.tolist()]\n",
    "Qualitative_Variable.head(3)"
   ]
  },
  {
   "cell_type": "markdown",
   "metadata": {},
   "source": [
    "### Converting qualitative Variable into number"
   ]
  },
  {
   "cell_type": "code",
   "execution_count": 33,
   "metadata": {},
   "outputs": [
    {
     "data": {
      "text/html": [
       "<div>\n",
       "<style scoped>\n",
       "    .dataframe tbody tr th:only-of-type {\n",
       "        vertical-align: middle;\n",
       "    }\n",
       "\n",
       "    .dataframe tbody tr th {\n",
       "        vertical-align: top;\n",
       "    }\n",
       "\n",
       "    .dataframe thead th {\n",
       "        text-align: right;\n",
       "    }\n",
       "</style>\n",
       "<table border=\"1\" class=\"dataframe\">\n",
       "  <thead>\n",
       "    <tr style=\"text-align: right;\">\n",
       "      <th></th>\n",
       "      <th>gender</th>\n",
       "      <th>StageID</th>\n",
       "      <th>GradeID</th>\n",
       "      <th>SectionID</th>\n",
       "      <th>Topic</th>\n",
       "      <th>Semester</th>\n",
       "      <th>Relation</th>\n",
       "      <th>ParentAnsweringSurvey</th>\n",
       "      <th>ParentschoolSatisfaction</th>\n",
       "      <th>StudentAbsenceDays</th>\n",
       "      <th>Class</th>\n",
       "    </tr>\n",
       "  </thead>\n",
       "  <tbody>\n",
       "    <tr>\n",
       "      <th>0</th>\n",
       "      <td>1</td>\n",
       "      <td>2</td>\n",
       "      <td>1</td>\n",
       "      <td>0</td>\n",
       "      <td>7</td>\n",
       "      <td>0</td>\n",
       "      <td>0</td>\n",
       "      <td>1</td>\n",
       "      <td>1</td>\n",
       "      <td>1</td>\n",
       "      <td>2</td>\n",
       "    </tr>\n",
       "    <tr>\n",
       "      <th>1</th>\n",
       "      <td>1</td>\n",
       "      <td>2</td>\n",
       "      <td>1</td>\n",
       "      <td>0</td>\n",
       "      <td>7</td>\n",
       "      <td>0</td>\n",
       "      <td>0</td>\n",
       "      <td>1</td>\n",
       "      <td>1</td>\n",
       "      <td>1</td>\n",
       "      <td>2</td>\n",
       "    </tr>\n",
       "    <tr>\n",
       "      <th>2</th>\n",
       "      <td>1</td>\n",
       "      <td>2</td>\n",
       "      <td>1</td>\n",
       "      <td>0</td>\n",
       "      <td>7</td>\n",
       "      <td>0</td>\n",
       "      <td>0</td>\n",
       "      <td>0</td>\n",
       "      <td>0</td>\n",
       "      <td>0</td>\n",
       "      <td>1</td>\n",
       "    </tr>\n",
       "    <tr>\n",
       "      <th>3</th>\n",
       "      <td>1</td>\n",
       "      <td>2</td>\n",
       "      <td>1</td>\n",
       "      <td>0</td>\n",
       "      <td>7</td>\n",
       "      <td>0</td>\n",
       "      <td>0</td>\n",
       "      <td>0</td>\n",
       "      <td>0</td>\n",
       "      <td>0</td>\n",
       "      <td>1</td>\n",
       "    </tr>\n",
       "    <tr>\n",
       "      <th>4</th>\n",
       "      <td>1</td>\n",
       "      <td>2</td>\n",
       "      <td>1</td>\n",
       "      <td>0</td>\n",
       "      <td>7</td>\n",
       "      <td>0</td>\n",
       "      <td>0</td>\n",
       "      <td>0</td>\n",
       "      <td>0</td>\n",
       "      <td>0</td>\n",
       "      <td>2</td>\n",
       "    </tr>\n",
       "  </tbody>\n",
       "</table>\n",
       "</div>"
      ],
      "text/plain": [
       "   gender  StageID  GradeID  SectionID  Topic  Semester  Relation  \\\n",
       "0       1        2        1          0      7         0         0   \n",
       "1       1        2        1          0      7         0         0   \n",
       "2       1        2        1          0      7         0         0   \n",
       "3       1        2        1          0      7         0         0   \n",
       "4       1        2        1          0      7         0         0   \n",
       "\n",
       "   ParentAnsweringSurvey  ParentschoolSatisfaction  StudentAbsenceDays  Class  \n",
       "0                      1                         1                   1      2  \n",
       "1                      1                         1                   1      2  \n",
       "2                      0                         0                   0      1  \n",
       "3                      0                         0                   0      1  \n",
       "4                      0                         0                   0      2  "
      ]
     },
     "execution_count": 33,
     "metadata": {},
     "output_type": "execute_result"
    }
   ],
   "source": [
    "from sklearn.preprocessing import LabelEncoder\n",
    "Qualitative_Variable=Qualitative_Variable.apply(LabelEncoder().fit_transform) # label in ascending order\n",
    "Qualitative_Variable.head()"
   ]
  },
  {
   "cell_type": "markdown",
   "metadata": {},
   "source": [
    "## Combining the data set "
   ]
  },
  {
   "cell_type": "code",
   "execution_count": 34,
   "metadata": {},
   "outputs": [
    {
     "data": {
      "text/html": [
       "<div>\n",
       "<style scoped>\n",
       "    .dataframe tbody tr th:only-of-type {\n",
       "        vertical-align: middle;\n",
       "    }\n",
       "\n",
       "    .dataframe tbody tr th {\n",
       "        vertical-align: top;\n",
       "    }\n",
       "\n",
       "    .dataframe thead th {\n",
       "        text-align: right;\n",
       "    }\n",
       "</style>\n",
       "<table border=\"1\" class=\"dataframe\">\n",
       "  <thead>\n",
       "    <tr style=\"text-align: right;\">\n",
       "      <th></th>\n",
       "      <th>gender</th>\n",
       "      <th>StageID</th>\n",
       "      <th>GradeID</th>\n",
       "      <th>SectionID</th>\n",
       "      <th>Topic</th>\n",
       "      <th>Semester</th>\n",
       "      <th>Relation</th>\n",
       "      <th>ParentAnsweringSurvey</th>\n",
       "      <th>ParentschoolSatisfaction</th>\n",
       "      <th>StudentAbsenceDays</th>\n",
       "      <th>Class</th>\n",
       "      <th>raisedhands</th>\n",
       "      <th>VisITedResources</th>\n",
       "      <th>AnnouncementsView</th>\n",
       "      <th>Discussion</th>\n",
       "    </tr>\n",
       "  </thead>\n",
       "  <tbody>\n",
       "    <tr>\n",
       "      <th>0</th>\n",
       "      <td>1</td>\n",
       "      <td>2</td>\n",
       "      <td>1</td>\n",
       "      <td>0</td>\n",
       "      <td>7</td>\n",
       "      <td>0</td>\n",
       "      <td>0</td>\n",
       "      <td>1</td>\n",
       "      <td>1</td>\n",
       "      <td>1</td>\n",
       "      <td>2</td>\n",
       "      <td>15</td>\n",
       "      <td>16</td>\n",
       "      <td>2</td>\n",
       "      <td>20</td>\n",
       "    </tr>\n",
       "    <tr>\n",
       "      <th>1</th>\n",
       "      <td>1</td>\n",
       "      <td>2</td>\n",
       "      <td>1</td>\n",
       "      <td>0</td>\n",
       "      <td>7</td>\n",
       "      <td>0</td>\n",
       "      <td>0</td>\n",
       "      <td>1</td>\n",
       "      <td>1</td>\n",
       "      <td>1</td>\n",
       "      <td>2</td>\n",
       "      <td>20</td>\n",
       "      <td>20</td>\n",
       "      <td>3</td>\n",
       "      <td>25</td>\n",
       "    </tr>\n",
       "    <tr>\n",
       "      <th>2</th>\n",
       "      <td>1</td>\n",
       "      <td>2</td>\n",
       "      <td>1</td>\n",
       "      <td>0</td>\n",
       "      <td>7</td>\n",
       "      <td>0</td>\n",
       "      <td>0</td>\n",
       "      <td>0</td>\n",
       "      <td>0</td>\n",
       "      <td>0</td>\n",
       "      <td>1</td>\n",
       "      <td>10</td>\n",
       "      <td>7</td>\n",
       "      <td>0</td>\n",
       "      <td>30</td>\n",
       "    </tr>\n",
       "    <tr>\n",
       "      <th>3</th>\n",
       "      <td>1</td>\n",
       "      <td>2</td>\n",
       "      <td>1</td>\n",
       "      <td>0</td>\n",
       "      <td>7</td>\n",
       "      <td>0</td>\n",
       "      <td>0</td>\n",
       "      <td>0</td>\n",
       "      <td>0</td>\n",
       "      <td>0</td>\n",
       "      <td>1</td>\n",
       "      <td>30</td>\n",
       "      <td>25</td>\n",
       "      <td>5</td>\n",
       "      <td>35</td>\n",
       "    </tr>\n",
       "    <tr>\n",
       "      <th>4</th>\n",
       "      <td>1</td>\n",
       "      <td>2</td>\n",
       "      <td>1</td>\n",
       "      <td>0</td>\n",
       "      <td>7</td>\n",
       "      <td>0</td>\n",
       "      <td>0</td>\n",
       "      <td>0</td>\n",
       "      <td>0</td>\n",
       "      <td>0</td>\n",
       "      <td>2</td>\n",
       "      <td>40</td>\n",
       "      <td>50</td>\n",
       "      <td>12</td>\n",
       "      <td>50</td>\n",
       "    </tr>\n",
       "  </tbody>\n",
       "</table>\n",
       "</div>"
      ],
      "text/plain": [
       "   gender  StageID  GradeID  SectionID  Topic  Semester  Relation  \\\n",
       "0       1        2        1          0      7         0         0   \n",
       "1       1        2        1          0      7         0         0   \n",
       "2       1        2        1          0      7         0         0   \n",
       "3       1        2        1          0      7         0         0   \n",
       "4       1        2        1          0      7         0         0   \n",
       "\n",
       "   ParentAnsweringSurvey  ParentschoolSatisfaction  StudentAbsenceDays  Class  \\\n",
       "0                      1                         1                   1      2   \n",
       "1                      1                         1                   1      2   \n",
       "2                      0                         0                   0      1   \n",
       "3                      0                         0                   0      1   \n",
       "4                      0                         0                   0      2   \n",
       "\n",
       "   raisedhands  VisITedResources  AnnouncementsView  Discussion  \n",
       "0           15                16                  2          20  \n",
       "1           20                20                  3          25  \n",
       "2           10                 7                  0          30  \n",
       "3           30                25                  5          35  \n",
       "4           40                50                 12          50  "
      ]
     },
     "execution_count": 34,
     "metadata": {},
     "output_type": "execute_result"
    }
   ],
   "source": [
    "Final_combined = pd.concat([Qualitative_Variable, Quantitative_Variable],axis=1)\n",
    "Final_combined.head()"
   ]
  },
  {
   "cell_type": "markdown",
   "metadata": {},
   "source": [
    "# Data Partition "
   ]
  },
  {
   "cell_type": "code",
   "execution_count": 35,
   "metadata": {},
   "outputs": [],
   "source": [
    "from sklearn.model_selection import train_test_split\n",
    "\n",
    "# define our input variable (X) & output variable\n",
    "X = Final_combined.drop('Class', axis = 1)\n",
    "Y = Final_combined[['Class']]\n",
    "\n",
    "X_train, X_test, y_train, y_test = train_test_split(X, Y, test_size=0.20, random_state=56)"
   ]
  },
  {
   "cell_type": "code",
   "execution_count": 36,
   "metadata": {},
   "outputs": [
    {
     "data": {
      "text/html": [
       "<div>\n",
       "<style scoped>\n",
       "    .dataframe tbody tr th:only-of-type {\n",
       "        vertical-align: middle;\n",
       "    }\n",
       "\n",
       "    .dataframe tbody tr th {\n",
       "        vertical-align: top;\n",
       "    }\n",
       "\n",
       "    .dataframe thead th {\n",
       "        text-align: right;\n",
       "    }\n",
       "</style>\n",
       "<table border=\"1\" class=\"dataframe\">\n",
       "  <thead>\n",
       "    <tr style=\"text-align: right;\">\n",
       "      <th></th>\n",
       "      <th>gender</th>\n",
       "      <th>StageID</th>\n",
       "      <th>GradeID</th>\n",
       "      <th>SectionID</th>\n",
       "      <th>Topic</th>\n",
       "      <th>Semester</th>\n",
       "      <th>Relation</th>\n",
       "      <th>ParentAnsweringSurvey</th>\n",
       "      <th>ParentschoolSatisfaction</th>\n",
       "      <th>StudentAbsenceDays</th>\n",
       "      <th>raisedhands</th>\n",
       "      <th>VisITedResources</th>\n",
       "      <th>AnnouncementsView</th>\n",
       "      <th>Discussion</th>\n",
       "      <th>Class</th>\n",
       "    </tr>\n",
       "  </thead>\n",
       "  <tbody>\n",
       "    <tr>\n",
       "      <th>268</th>\n",
       "      <td>1</td>\n",
       "      <td>1</td>\n",
       "      <td>3</td>\n",
       "      <td>0</td>\n",
       "      <td>3</td>\n",
       "      <td>0</td>\n",
       "      <td>0</td>\n",
       "      <td>1</td>\n",
       "      <td>0</td>\n",
       "      <td>0</td>\n",
       "      <td>10</td>\n",
       "      <td>8</td>\n",
       "      <td>10</td>\n",
       "      <td>10</td>\n",
       "      <td>2</td>\n",
       "    </tr>\n",
       "    <tr>\n",
       "      <th>446</th>\n",
       "      <td>1</td>\n",
       "      <td>1</td>\n",
       "      <td>5</td>\n",
       "      <td>0</td>\n",
       "      <td>5</td>\n",
       "      <td>0</td>\n",
       "      <td>1</td>\n",
       "      <td>1</td>\n",
       "      <td>1</td>\n",
       "      <td>1</td>\n",
       "      <td>77</td>\n",
       "      <td>82</td>\n",
       "      <td>74</td>\n",
       "      <td>79</td>\n",
       "      <td>2</td>\n",
       "    </tr>\n",
       "    <tr>\n",
       "      <th>44</th>\n",
       "      <td>0</td>\n",
       "      <td>0</td>\n",
       "      <td>6</td>\n",
       "      <td>0</td>\n",
       "      <td>7</td>\n",
       "      <td>0</td>\n",
       "      <td>0</td>\n",
       "      <td>0</td>\n",
       "      <td>0</td>\n",
       "      <td>1</td>\n",
       "      <td>33</td>\n",
       "      <td>33</td>\n",
       "      <td>30</td>\n",
       "      <td>90</td>\n",
       "      <td>2</td>\n",
       "    </tr>\n",
       "    <tr>\n",
       "      <th>164</th>\n",
       "      <td>1</td>\n",
       "      <td>2</td>\n",
       "      <td>0</td>\n",
       "      <td>1</td>\n",
       "      <td>4</td>\n",
       "      <td>1</td>\n",
       "      <td>1</td>\n",
       "      <td>1</td>\n",
       "      <td>1</td>\n",
       "      <td>0</td>\n",
       "      <td>55</td>\n",
       "      <td>72</td>\n",
       "      <td>83</td>\n",
       "      <td>14</td>\n",
       "      <td>2</td>\n",
       "    </tr>\n",
       "    <tr>\n",
       "      <th>377</th>\n",
       "      <td>1</td>\n",
       "      <td>2</td>\n",
       "      <td>0</td>\n",
       "      <td>1</td>\n",
       "      <td>0</td>\n",
       "      <td>1</td>\n",
       "      <td>1</td>\n",
       "      <td>1</td>\n",
       "      <td>0</td>\n",
       "      <td>0</td>\n",
       "      <td>32</td>\n",
       "      <td>82</td>\n",
       "      <td>59</td>\n",
       "      <td>63</td>\n",
       "      <td>2</td>\n",
       "    </tr>\n",
       "  </tbody>\n",
       "</table>\n",
       "</div>"
      ],
      "text/plain": [
       "     gender  StageID  GradeID  SectionID  Topic  Semester  Relation  \\\n",
       "268       1        1        3          0      3         0         0   \n",
       "446       1        1        5          0      5         0         1   \n",
       "44        0        0        6          0      7         0         0   \n",
       "164       1        2        0          1      4         1         1   \n",
       "377       1        2        0          1      0         1         1   \n",
       "\n",
       "     ParentAnsweringSurvey  ParentschoolSatisfaction  StudentAbsenceDays  \\\n",
       "268                      1                         0                   0   \n",
       "446                      1                         1                   1   \n",
       "44                       0                         0                   1   \n",
       "164                      1                         1                   0   \n",
       "377                      1                         0                   0   \n",
       "\n",
       "     raisedhands  VisITedResources  AnnouncementsView  Discussion  Class  \n",
       "268           10                 8                 10          10      2  \n",
       "446           77                82                 74          79      2  \n",
       "44            33                33                 30          90      2  \n",
       "164           55                72                 83          14      2  \n",
       "377           32                82                 59          63      2  "
      ]
     },
     "execution_count": 36,
     "metadata": {},
     "output_type": "execute_result"
    }
   ],
   "source": [
    "train=pd.concat([X_train,y_train],axis=1)\n",
    "train.head()"
   ]
  },
  {
   "cell_type": "markdown",
   "metadata": {},
   "source": [
    "# Model building "
   ]
  },
  {
   "cell_type": "markdown",
   "metadata": {},
   "source": [
    "# Hypothesis\n",
    "\n",
    "* H0 :- There is no log linear relationship between Loan_Status and all independent Variable\n",
    "\n",
    "Vs \n",
    "\n",
    "* H1 :- There is log linear relationship between Loan_Status and all independent Variable\n",
    "\n",
    "Alpha = 0.05 (5%)"
   ]
  },
  {
   "cell_type": "markdown",
   "metadata": {},
   "source": [
    "# Logistics Regression"
   ]
  },
  {
   "cell_type": "code",
   "execution_count": 37,
   "metadata": {},
   "outputs": [],
   "source": [
    "from sklearn.linear_model import LogisticRegression\n",
    "\n",
    "logreg = LogisticRegression()\n",
    "output=logreg.fit(X_train, y_train) # model = output"
   ]
  },
  {
   "cell_type": "code",
   "execution_count": 38,
   "metadata": {},
   "outputs": [
    {
     "data": {
      "text/plain": [
       "array([-0.78847764,  0.70596125,  0.08251639])"
      ]
     },
     "execution_count": 38,
     "metadata": {},
     "output_type": "execute_result"
    }
   ],
   "source": [
    "output.intercept_  # beto "
   ]
  },
  {
   "cell_type": "code",
   "execution_count": 39,
   "metadata": {},
   "outputs": [
    {
     "data": {
      "text/plain": [
       "array([[-9.86489035e-01, -1.43919255e+00, -4.09961719e-01,\n",
       "        -1.26413015e-01,  6.26057008e-03, -1.63017271e-01,\n",
       "         5.25662601e-01,  4.53796450e-01,  1.57141215e-01,\n",
       "         7.89593039e-01,  2.76421602e-02,  1.96733381e-02,\n",
       "         1.70810794e-02,  1.17073219e-02],\n",
       "       [ 8.71049153e-01,  1.37677011e+00,  4.04325124e-01,\n",
       "         2.25710675e-01, -7.85324106e-02,  4.29334958e-01,\n",
       "         5.75001006e-02, -4.08932157e-01, -1.04259925e-01,\n",
       "        -9.13971115e-01, -3.04530836e-02, -2.72735788e-02,\n",
       "        -3.49674934e-02, -1.02852000e-02],\n",
       "       [ 1.15439882e-01,  6.24224428e-02,  5.63659551e-03,\n",
       "        -9.92976604e-02,  7.22718405e-02, -2.66317687e-01,\n",
       "        -5.83162701e-01, -4.48642924e-02, -5.28812903e-02,\n",
       "         1.24378076e-01,  2.81092335e-03,  7.60024075e-03,\n",
       "         1.78864140e-02, -1.42212194e-03]])"
      ]
     },
     "execution_count": 39,
     "metadata": {},
     "output_type": "execute_result"
    }
   ],
   "source": [
    "output.coef_  # Beta 1 -- "
   ]
  },
  {
   "cell_type": "code",
   "execution_count": 40,
   "metadata": {
    "scrolled": true
   },
   "outputs": [
    {
     "data": {
      "text/plain": [
       "array(['gender', 'StageID', 'GradeID', 'SectionID', 'Topic', 'Semester',\n",
       "       'Relation', 'ParentAnsweringSurvey', 'ParentschoolSatisfaction',\n",
       "       'StudentAbsenceDays', 'raisedhands', 'VisITedResources',\n",
       "       'AnnouncementsView', 'Discussion'], dtype=object)"
      ]
     },
     "execution_count": 40,
     "metadata": {},
     "output_type": "execute_result"
    }
   ],
   "source": [
    "output.feature_names_in_"
   ]
  },
  {
   "cell_type": "markdown",
   "metadata": {},
   "source": [
    "# Step 6 : Predictions on Train Dataset"
   ]
  },
  {
   "cell_type": "code",
   "execution_count": 41,
   "metadata": {},
   "outputs": [
    {
     "data": {
      "text/html": [
       "<div>\n",
       "<style scoped>\n",
       "    .dataframe tbody tr th:only-of-type {\n",
       "        vertical-align: middle;\n",
       "    }\n",
       "\n",
       "    .dataframe tbody tr th {\n",
       "        vertical-align: top;\n",
       "    }\n",
       "\n",
       "    .dataframe thead th {\n",
       "        text-align: right;\n",
       "    }\n",
       "</style>\n",
       "<table border=\"1\" class=\"dataframe\">\n",
       "  <thead>\n",
       "    <tr style=\"text-align: right;\">\n",
       "      <th></th>\n",
       "      <th>gender</th>\n",
       "      <th>StageID</th>\n",
       "      <th>GradeID</th>\n",
       "      <th>SectionID</th>\n",
       "      <th>Topic</th>\n",
       "      <th>Semester</th>\n",
       "      <th>Relation</th>\n",
       "      <th>ParentAnsweringSurvey</th>\n",
       "      <th>ParentschoolSatisfaction</th>\n",
       "      <th>StudentAbsenceDays</th>\n",
       "      <th>raisedhands</th>\n",
       "      <th>VisITedResources</th>\n",
       "      <th>AnnouncementsView</th>\n",
       "      <th>Discussion</th>\n",
       "      <th>Class</th>\n",
       "    </tr>\n",
       "  </thead>\n",
       "  <tbody>\n",
       "    <tr>\n",
       "      <th>268</th>\n",
       "      <td>1</td>\n",
       "      <td>1</td>\n",
       "      <td>3</td>\n",
       "      <td>0</td>\n",
       "      <td>3</td>\n",
       "      <td>0</td>\n",
       "      <td>0</td>\n",
       "      <td>1</td>\n",
       "      <td>0</td>\n",
       "      <td>0</td>\n",
       "      <td>10</td>\n",
       "      <td>8</td>\n",
       "      <td>10</td>\n",
       "      <td>10</td>\n",
       "      <td>2</td>\n",
       "    </tr>\n",
       "    <tr>\n",
       "      <th>446</th>\n",
       "      <td>1</td>\n",
       "      <td>1</td>\n",
       "      <td>5</td>\n",
       "      <td>0</td>\n",
       "      <td>5</td>\n",
       "      <td>0</td>\n",
       "      <td>1</td>\n",
       "      <td>1</td>\n",
       "      <td>1</td>\n",
       "      <td>1</td>\n",
       "      <td>77</td>\n",
       "      <td>82</td>\n",
       "      <td>74</td>\n",
       "      <td>79</td>\n",
       "      <td>2</td>\n",
       "    </tr>\n",
       "    <tr>\n",
       "      <th>44</th>\n",
       "      <td>0</td>\n",
       "      <td>0</td>\n",
       "      <td>6</td>\n",
       "      <td>0</td>\n",
       "      <td>7</td>\n",
       "      <td>0</td>\n",
       "      <td>0</td>\n",
       "      <td>0</td>\n",
       "      <td>0</td>\n",
       "      <td>1</td>\n",
       "      <td>33</td>\n",
       "      <td>33</td>\n",
       "      <td>30</td>\n",
       "      <td>90</td>\n",
       "      <td>2</td>\n",
       "    </tr>\n",
       "    <tr>\n",
       "      <th>164</th>\n",
       "      <td>1</td>\n",
       "      <td>2</td>\n",
       "      <td>0</td>\n",
       "      <td>1</td>\n",
       "      <td>4</td>\n",
       "      <td>1</td>\n",
       "      <td>1</td>\n",
       "      <td>1</td>\n",
       "      <td>1</td>\n",
       "      <td>0</td>\n",
       "      <td>55</td>\n",
       "      <td>72</td>\n",
       "      <td>83</td>\n",
       "      <td>14</td>\n",
       "      <td>2</td>\n",
       "    </tr>\n",
       "    <tr>\n",
       "      <th>377</th>\n",
       "      <td>1</td>\n",
       "      <td>2</td>\n",
       "      <td>0</td>\n",
       "      <td>1</td>\n",
       "      <td>0</td>\n",
       "      <td>1</td>\n",
       "      <td>1</td>\n",
       "      <td>1</td>\n",
       "      <td>0</td>\n",
       "      <td>0</td>\n",
       "      <td>32</td>\n",
       "      <td>82</td>\n",
       "      <td>59</td>\n",
       "      <td>63</td>\n",
       "      <td>2</td>\n",
       "    </tr>\n",
       "  </tbody>\n",
       "</table>\n",
       "</div>"
      ],
      "text/plain": [
       "     gender  StageID  GradeID  SectionID  Topic  Semester  Relation  \\\n",
       "268       1        1        3          0      3         0         0   \n",
       "446       1        1        5          0      5         0         1   \n",
       "44        0        0        6          0      7         0         0   \n",
       "164       1        2        0          1      4         1         1   \n",
       "377       1        2        0          1      0         1         1   \n",
       "\n",
       "     ParentAnsweringSurvey  ParentschoolSatisfaction  StudentAbsenceDays  \\\n",
       "268                      1                         0                   0   \n",
       "446                      1                         1                   1   \n",
       "44                       0                         0                   1   \n",
       "164                      1                         1                   0   \n",
       "377                      1                         0                   0   \n",
       "\n",
       "     raisedhands  VisITedResources  AnnouncementsView  Discussion  Class  \n",
       "268           10                 8                 10          10      2  \n",
       "446           77                82                 74          79      2  \n",
       "44            33                33                 30          90      2  \n",
       "164           55                72                 83          14      2  \n",
       "377           32                82                 59          63      2  "
      ]
     },
     "execution_count": 41,
     "metadata": {},
     "output_type": "execute_result"
    }
   ],
   "source": [
    "train=pd.concat([X_train,y_train],axis=1)\n",
    "train.head()"
   ]
  },
  {
   "cell_type": "code",
   "execution_count": 42,
   "metadata": {},
   "outputs": [
    {
     "data": {
      "text/html": [
       "<div>\n",
       "<style scoped>\n",
       "    .dataframe tbody tr th:only-of-type {\n",
       "        vertical-align: middle;\n",
       "    }\n",
       "\n",
       "    .dataframe tbody tr th {\n",
       "        vertical-align: top;\n",
       "    }\n",
       "\n",
       "    .dataframe thead th {\n",
       "        text-align: right;\n",
       "    }\n",
       "</style>\n",
       "<table border=\"1\" class=\"dataframe\">\n",
       "  <thead>\n",
       "    <tr style=\"text-align: right;\">\n",
       "      <th></th>\n",
       "      <th>gender</th>\n",
       "      <th>StageID</th>\n",
       "      <th>GradeID</th>\n",
       "      <th>SectionID</th>\n",
       "      <th>Topic</th>\n",
       "      <th>Semester</th>\n",
       "      <th>Relation</th>\n",
       "      <th>ParentAnsweringSurvey</th>\n",
       "      <th>ParentschoolSatisfaction</th>\n",
       "      <th>StudentAbsenceDays</th>\n",
       "      <th>raisedhands</th>\n",
       "      <th>VisITedResources</th>\n",
       "      <th>AnnouncementsView</th>\n",
       "      <th>Discussion</th>\n",
       "      <th>Class</th>\n",
       "      <th>Predicted</th>\n",
       "    </tr>\n",
       "  </thead>\n",
       "  <tbody>\n",
       "    <tr>\n",
       "      <th>268</th>\n",
       "      <td>1</td>\n",
       "      <td>1</td>\n",
       "      <td>3</td>\n",
       "      <td>0</td>\n",
       "      <td>3</td>\n",
       "      <td>0</td>\n",
       "      <td>0</td>\n",
       "      <td>1</td>\n",
       "      <td>0</td>\n",
       "      <td>0</td>\n",
       "      <td>10</td>\n",
       "      <td>8</td>\n",
       "      <td>10</td>\n",
       "      <td>10</td>\n",
       "      <td>2</td>\n",
       "      <td>1</td>\n",
       "    </tr>\n",
       "    <tr>\n",
       "      <th>446</th>\n",
       "      <td>1</td>\n",
       "      <td>1</td>\n",
       "      <td>5</td>\n",
       "      <td>0</td>\n",
       "      <td>5</td>\n",
       "      <td>0</td>\n",
       "      <td>1</td>\n",
       "      <td>1</td>\n",
       "      <td>1</td>\n",
       "      <td>1</td>\n",
       "      <td>77</td>\n",
       "      <td>82</td>\n",
       "      <td>74</td>\n",
       "      <td>79</td>\n",
       "      <td>2</td>\n",
       "      <td>0</td>\n",
       "    </tr>\n",
       "    <tr>\n",
       "      <th>44</th>\n",
       "      <td>0</td>\n",
       "      <td>0</td>\n",
       "      <td>6</td>\n",
       "      <td>0</td>\n",
       "      <td>7</td>\n",
       "      <td>0</td>\n",
       "      <td>0</td>\n",
       "      <td>0</td>\n",
       "      <td>0</td>\n",
       "      <td>1</td>\n",
       "      <td>33</td>\n",
       "      <td>33</td>\n",
       "      <td>30</td>\n",
       "      <td>90</td>\n",
       "      <td>2</td>\n",
       "      <td>2</td>\n",
       "    </tr>\n",
       "    <tr>\n",
       "      <th>164</th>\n",
       "      <td>1</td>\n",
       "      <td>2</td>\n",
       "      <td>0</td>\n",
       "      <td>1</td>\n",
       "      <td>4</td>\n",
       "      <td>1</td>\n",
       "      <td>1</td>\n",
       "      <td>1</td>\n",
       "      <td>1</td>\n",
       "      <td>0</td>\n",
       "      <td>55</td>\n",
       "      <td>72</td>\n",
       "      <td>83</td>\n",
       "      <td>14</td>\n",
       "      <td>2</td>\n",
       "      <td>2</td>\n",
       "    </tr>\n",
       "    <tr>\n",
       "      <th>377</th>\n",
       "      <td>1</td>\n",
       "      <td>2</td>\n",
       "      <td>0</td>\n",
       "      <td>1</td>\n",
       "      <td>0</td>\n",
       "      <td>1</td>\n",
       "      <td>1</td>\n",
       "      <td>1</td>\n",
       "      <td>0</td>\n",
       "      <td>0</td>\n",
       "      <td>32</td>\n",
       "      <td>82</td>\n",
       "      <td>59</td>\n",
       "      <td>63</td>\n",
       "      <td>2</td>\n",
       "      <td>2</td>\n",
       "    </tr>\n",
       "  </tbody>\n",
       "</table>\n",
       "</div>"
      ],
      "text/plain": [
       "     gender  StageID  GradeID  SectionID  Topic  Semester  Relation  \\\n",
       "268       1        1        3          0      3         0         0   \n",
       "446       1        1        5          0      5         0         1   \n",
       "44        0        0        6          0      7         0         0   \n",
       "164       1        2        0          1      4         1         1   \n",
       "377       1        2        0          1      0         1         1   \n",
       "\n",
       "     ParentAnsweringSurvey  ParentschoolSatisfaction  StudentAbsenceDays  \\\n",
       "268                      1                         0                   0   \n",
       "446                      1                         1                   1   \n",
       "44                       0                         0                   1   \n",
       "164                      1                         1                   0   \n",
       "377                      1                         0                   0   \n",
       "\n",
       "     raisedhands  VisITedResources  AnnouncementsView  Discussion  Class  \\\n",
       "268           10                 8                 10          10      2   \n",
       "446           77                82                 74          79      2   \n",
       "44            33                33                 30          90      2   \n",
       "164           55                72                 83          14      2   \n",
       "377           32                82                 59          63      2   \n",
       "\n",
       "     Predicted  \n",
       "268          1  \n",
       "446          0  \n",
       "44           2  \n",
       "164          2  \n",
       "377          2  "
      ]
     },
     "execution_count": 42,
     "metadata": {},
     "output_type": "execute_result"
    }
   ],
   "source": [
    "train['Predicted']=output.predict(X_train)\n",
    "train.head()"
   ]
  },
  {
   "cell_type": "markdown",
   "metadata": {},
   "source": [
    "train['Probability']= output.predict_proba(X_train)[:,1]\n",
    "train"
   ]
  },
  {
   "cell_type": "markdown",
   "metadata": {},
   "source": [
    "train['Predicted']=np.where(train['Probability'] >= 0.7,1,0) \n",
    "train.head()"
   ]
  },
  {
   "cell_type": "markdown",
   "metadata": {},
   "source": [
    "# Step 7 : Model Performance Metrics"
   ]
  },
  {
   "cell_type": "code",
   "execution_count": 43,
   "metadata": {},
   "outputs": [
    {
     "data": {
      "text/plain": [
       "array([[ 75,   0,  28],\n",
       "       [  1,  84,  18],\n",
       "       [ 38,  13, 127]], dtype=int64)"
      ]
     },
     "execution_count": 43,
     "metadata": {},
     "output_type": "execute_result"
    }
   ],
   "source": [
    "from sklearn.metrics import confusion_matrix\n",
    "matrix = confusion_matrix(train['Predicted'], train['Class'])\n",
    "matrix"
   ]
  },
  {
   "cell_type": "code",
   "execution_count": 46,
   "metadata": {},
   "outputs": [
    {
     "name": "stdout",
     "output_type": "stream",
     "text": [
      "76.47058823529412\n"
     ]
    }
   ],
   "source": [
    "Accuracy_Train=((75+84+127)/(374)*100)\n",
    "print(Accuracy_Train)"
   ]
  },
  {
   "cell_type": "markdown",
   "metadata": {},
   "source": [
    "* Accuracy of Model is 76% , So we say Model good fit data  "
   ]
  },
  {
   "cell_type": "code",
   "execution_count": 44,
   "metadata": {
    "scrolled": true
   },
   "outputs": [
    {
     "name": "stdout",
     "output_type": "stream",
     "text": [
      "              precision    recall  f1-score   support\n",
      "\n",
      "           0       0.73      0.66      0.69       114\n",
      "           1       0.82      0.87      0.84        97\n",
      "           2       0.71      0.73      0.72       173\n",
      "\n",
      "    accuracy                           0.74       384\n",
      "   macro avg       0.75      0.75      0.75       384\n",
      "weighted avg       0.74      0.74      0.74       384\n",
      "\n"
     ]
    }
   ],
   "source": [
    "from sklearn.metrics import classification_report\n",
    "print(classification_report(train['Class'],train['Predicted']))"
   ]
  },
  {
   "cell_type": "markdown",
   "metadata": {},
   "source": [
    "* Accuracy of  Model is 76%,Hence Model is good Fit \n",
    "* Accuracy of Bad Customer Capture by Model is 19% ( Sensitivity )\n",
    "* Accuracy of Good Customer Capture by Model is 99% (Specificity)"
   ]
  },
  {
   "cell_type": "markdown",
   "metadata": {},
   "source": [
    "# Step 8 : Predictions on Test Dataset"
   ]
  },
  {
   "cell_type": "code",
   "execution_count": 47,
   "metadata": {
    "scrolled": true
   },
   "outputs": [
    {
     "data": {
      "text/html": [
       "<div>\n",
       "<style scoped>\n",
       "    .dataframe tbody tr th:only-of-type {\n",
       "        vertical-align: middle;\n",
       "    }\n",
       "\n",
       "    .dataframe tbody tr th {\n",
       "        vertical-align: top;\n",
       "    }\n",
       "\n",
       "    .dataframe thead th {\n",
       "        text-align: right;\n",
       "    }\n",
       "</style>\n",
       "<table border=\"1\" class=\"dataframe\">\n",
       "  <thead>\n",
       "    <tr style=\"text-align: right;\">\n",
       "      <th></th>\n",
       "      <th>gender</th>\n",
       "      <th>StageID</th>\n",
       "      <th>GradeID</th>\n",
       "      <th>SectionID</th>\n",
       "      <th>Topic</th>\n",
       "      <th>Semester</th>\n",
       "      <th>Relation</th>\n",
       "      <th>ParentAnsweringSurvey</th>\n",
       "      <th>ParentschoolSatisfaction</th>\n",
       "      <th>StudentAbsenceDays</th>\n",
       "      <th>raisedhands</th>\n",
       "      <th>VisITedResources</th>\n",
       "      <th>AnnouncementsView</th>\n",
       "      <th>Discussion</th>\n",
       "      <th>Class</th>\n",
       "    </tr>\n",
       "  </thead>\n",
       "  <tbody>\n",
       "    <tr>\n",
       "      <th>103</th>\n",
       "      <td>1</td>\n",
       "      <td>2</td>\n",
       "      <td>0</td>\n",
       "      <td>1</td>\n",
       "      <td>7</td>\n",
       "      <td>0</td>\n",
       "      <td>0</td>\n",
       "      <td>0</td>\n",
       "      <td>0</td>\n",
       "      <td>0</td>\n",
       "      <td>1</td>\n",
       "      <td>7</td>\n",
       "      <td>6</td>\n",
       "      <td>10</td>\n",
       "      <td>1</td>\n",
       "    </tr>\n",
       "    <tr>\n",
       "      <th>134</th>\n",
       "      <td>1</td>\n",
       "      <td>1</td>\n",
       "      <td>4</td>\n",
       "      <td>0</td>\n",
       "      <td>9</td>\n",
       "      <td>1</td>\n",
       "      <td>0</td>\n",
       "      <td>1</td>\n",
       "      <td>1</td>\n",
       "      <td>1</td>\n",
       "      <td>80</td>\n",
       "      <td>80</td>\n",
       "      <td>15</td>\n",
       "      <td>70</td>\n",
       "      <td>0</td>\n",
       "    </tr>\n",
       "    <tr>\n",
       "      <th>435</th>\n",
       "      <td>1</td>\n",
       "      <td>1</td>\n",
       "      <td>5</td>\n",
       "      <td>0</td>\n",
       "      <td>2</td>\n",
       "      <td>1</td>\n",
       "      <td>1</td>\n",
       "      <td>1</td>\n",
       "      <td>1</td>\n",
       "      <td>0</td>\n",
       "      <td>79</td>\n",
       "      <td>88</td>\n",
       "      <td>79</td>\n",
       "      <td>20</td>\n",
       "      <td>2</td>\n",
       "    </tr>\n",
       "    <tr>\n",
       "      <th>91</th>\n",
       "      <td>1</td>\n",
       "      <td>2</td>\n",
       "      <td>0</td>\n",
       "      <td>1</td>\n",
       "      <td>7</td>\n",
       "      <td>0</td>\n",
       "      <td>0</td>\n",
       "      <td>1</td>\n",
       "      <td>1</td>\n",
       "      <td>1</td>\n",
       "      <td>80</td>\n",
       "      <td>90</td>\n",
       "      <td>55</td>\n",
       "      <td>19</td>\n",
       "      <td>0</td>\n",
       "    </tr>\n",
       "    <tr>\n",
       "      <th>246</th>\n",
       "      <td>0</td>\n",
       "      <td>1</td>\n",
       "      <td>3</td>\n",
       "      <td>0</td>\n",
       "      <td>10</td>\n",
       "      <td>1</td>\n",
       "      <td>0</td>\n",
       "      <td>1</td>\n",
       "      <td>1</td>\n",
       "      <td>1</td>\n",
       "      <td>80</td>\n",
       "      <td>94</td>\n",
       "      <td>62</td>\n",
       "      <td>77</td>\n",
       "      <td>0</td>\n",
       "    </tr>\n",
       "  </tbody>\n",
       "</table>\n",
       "</div>"
      ],
      "text/plain": [
       "     gender  StageID  GradeID  SectionID  Topic  Semester  Relation  \\\n",
       "103       1        2        0          1      7         0         0   \n",
       "134       1        1        4          0      9         1         0   \n",
       "435       1        1        5          0      2         1         1   \n",
       "91        1        2        0          1      7         0         0   \n",
       "246       0        1        3          0     10         1         0   \n",
       "\n",
       "     ParentAnsweringSurvey  ParentschoolSatisfaction  StudentAbsenceDays  \\\n",
       "103                      0                         0                   0   \n",
       "134                      1                         1                   1   \n",
       "435                      1                         1                   0   \n",
       "91                       1                         1                   1   \n",
       "246                      1                         1                   1   \n",
       "\n",
       "     raisedhands  VisITedResources  AnnouncementsView  Discussion  Class  \n",
       "103            1                 7                  6          10      1  \n",
       "134           80                80                 15          70      0  \n",
       "435           79                88                 79          20      2  \n",
       "91            80                90                 55          19      0  \n",
       "246           80                94                 62          77      0  "
      ]
     },
     "execution_count": 47,
     "metadata": {},
     "output_type": "execute_result"
    }
   ],
   "source": [
    "test=pd.concat([X_test,y_test],axis=1)\n",
    "test.head()"
   ]
  },
  {
   "cell_type": "code",
   "execution_count": 48,
   "metadata": {},
   "outputs": [
    {
     "data": {
      "text/html": [
       "<div>\n",
       "<style scoped>\n",
       "    .dataframe tbody tr th:only-of-type {\n",
       "        vertical-align: middle;\n",
       "    }\n",
       "\n",
       "    .dataframe tbody tr th {\n",
       "        vertical-align: top;\n",
       "    }\n",
       "\n",
       "    .dataframe thead th {\n",
       "        text-align: right;\n",
       "    }\n",
       "</style>\n",
       "<table border=\"1\" class=\"dataframe\">\n",
       "  <thead>\n",
       "    <tr style=\"text-align: right;\">\n",
       "      <th></th>\n",
       "      <th>gender</th>\n",
       "      <th>StageID</th>\n",
       "      <th>GradeID</th>\n",
       "      <th>SectionID</th>\n",
       "      <th>Topic</th>\n",
       "      <th>Semester</th>\n",
       "      <th>Relation</th>\n",
       "      <th>ParentAnsweringSurvey</th>\n",
       "      <th>ParentschoolSatisfaction</th>\n",
       "      <th>StudentAbsenceDays</th>\n",
       "      <th>raisedhands</th>\n",
       "      <th>VisITedResources</th>\n",
       "      <th>AnnouncementsView</th>\n",
       "      <th>Discussion</th>\n",
       "      <th>Class</th>\n",
       "      <th>Predicted</th>\n",
       "    </tr>\n",
       "  </thead>\n",
       "  <tbody>\n",
       "    <tr>\n",
       "      <th>103</th>\n",
       "      <td>1</td>\n",
       "      <td>2</td>\n",
       "      <td>0</td>\n",
       "      <td>1</td>\n",
       "      <td>7</td>\n",
       "      <td>0</td>\n",
       "      <td>0</td>\n",
       "      <td>0</td>\n",
       "      <td>0</td>\n",
       "      <td>0</td>\n",
       "      <td>1</td>\n",
       "      <td>7</td>\n",
       "      <td>6</td>\n",
       "      <td>10</td>\n",
       "      <td>1</td>\n",
       "      <td>1</td>\n",
       "    </tr>\n",
       "    <tr>\n",
       "      <th>134</th>\n",
       "      <td>1</td>\n",
       "      <td>1</td>\n",
       "      <td>4</td>\n",
       "      <td>0</td>\n",
       "      <td>9</td>\n",
       "      <td>1</td>\n",
       "      <td>0</td>\n",
       "      <td>1</td>\n",
       "      <td>1</td>\n",
       "      <td>1</td>\n",
       "      <td>80</td>\n",
       "      <td>80</td>\n",
       "      <td>15</td>\n",
       "      <td>70</td>\n",
       "      <td>0</td>\n",
       "      <td>2</td>\n",
       "    </tr>\n",
       "    <tr>\n",
       "      <th>435</th>\n",
       "      <td>1</td>\n",
       "      <td>1</td>\n",
       "      <td>5</td>\n",
       "      <td>0</td>\n",
       "      <td>2</td>\n",
       "      <td>1</td>\n",
       "      <td>1</td>\n",
       "      <td>1</td>\n",
       "      <td>1</td>\n",
       "      <td>0</td>\n",
       "      <td>79</td>\n",
       "      <td>88</td>\n",
       "      <td>79</td>\n",
       "      <td>20</td>\n",
       "      <td>2</td>\n",
       "      <td>2</td>\n",
       "    </tr>\n",
       "    <tr>\n",
       "      <th>91</th>\n",
       "      <td>1</td>\n",
       "      <td>2</td>\n",
       "      <td>0</td>\n",
       "      <td>1</td>\n",
       "      <td>7</td>\n",
       "      <td>0</td>\n",
       "      <td>0</td>\n",
       "      <td>1</td>\n",
       "      <td>1</td>\n",
       "      <td>1</td>\n",
       "      <td>80</td>\n",
       "      <td>90</td>\n",
       "      <td>55</td>\n",
       "      <td>19</td>\n",
       "      <td>0</td>\n",
       "      <td>2</td>\n",
       "    </tr>\n",
       "    <tr>\n",
       "      <th>246</th>\n",
       "      <td>0</td>\n",
       "      <td>1</td>\n",
       "      <td>3</td>\n",
       "      <td>0</td>\n",
       "      <td>10</td>\n",
       "      <td>1</td>\n",
       "      <td>0</td>\n",
       "      <td>1</td>\n",
       "      <td>1</td>\n",
       "      <td>1</td>\n",
       "      <td>80</td>\n",
       "      <td>94</td>\n",
       "      <td>62</td>\n",
       "      <td>77</td>\n",
       "      <td>0</td>\n",
       "      <td>0</td>\n",
       "    </tr>\n",
       "  </tbody>\n",
       "</table>\n",
       "</div>"
      ],
      "text/plain": [
       "     gender  StageID  GradeID  SectionID  Topic  Semester  Relation  \\\n",
       "103       1        2        0          1      7         0         0   \n",
       "134       1        1        4          0      9         1         0   \n",
       "435       1        1        5          0      2         1         1   \n",
       "91        1        2        0          1      7         0         0   \n",
       "246       0        1        3          0     10         1         0   \n",
       "\n",
       "     ParentAnsweringSurvey  ParentschoolSatisfaction  StudentAbsenceDays  \\\n",
       "103                      0                         0                   0   \n",
       "134                      1                         1                   1   \n",
       "435                      1                         1                   0   \n",
       "91                       1                         1                   1   \n",
       "246                      1                         1                   1   \n",
       "\n",
       "     raisedhands  VisITedResources  AnnouncementsView  Discussion  Class  \\\n",
       "103            1                 7                  6          10      1   \n",
       "134           80                80                 15          70      0   \n",
       "435           79                88                 79          20      2   \n",
       "91            80                90                 55          19      0   \n",
       "246           80                94                 62          77      0   \n",
       "\n",
       "     Predicted  \n",
       "103          1  \n",
       "134          2  \n",
       "435          2  \n",
       "91           2  \n",
       "246          0  "
      ]
     },
     "execution_count": 48,
     "metadata": {},
     "output_type": "execute_result"
    }
   ],
   "source": [
    "test['Predicted']=output.predict(X_test)\n",
    "test.head()"
   ]
  },
  {
   "cell_type": "markdown",
   "metadata": {},
   "source": [
    "test['Predicted']=np.where(test['Probability'] >= 0.7,1,0) \n",
    "test.head()"
   ]
  },
  {
   "cell_type": "markdown",
   "metadata": {},
   "source": [
    "# Step 9 : Model Performance Metrics on Test data "
   ]
  },
  {
   "cell_type": "code",
   "execution_count": 49,
   "metadata": {},
   "outputs": [
    {
     "name": "stdout",
     "output_type": "stream",
     "text": [
      "[[21  0  6]\n",
      " [ 1 25  5]\n",
      " [ 6  5 27]]\n"
     ]
    }
   ],
   "source": [
    "from sklearn.metrics import confusion_matrix\n",
    "matrix = confusion_matrix(test['Predicted'],test['Class'])\n",
    "print(matrix)"
   ]
  },
  {
   "cell_type": "code",
   "execution_count": 50,
   "metadata": {},
   "outputs": [
    {
     "data": {
      "text/plain": [
       "74.125"
      ]
     },
     "execution_count": 50,
     "metadata": {},
     "output_type": "execute_result"
    }
   ],
   "source": [
    "Accuracy_test=(21+25+27/(96)*100)\n",
    "Accuracy_test"
   ]
  },
  {
   "cell_type": "code",
   "execution_count": 51,
   "metadata": {
    "scrolled": false
   },
   "outputs": [
    {
     "name": "stdout",
     "output_type": "stream",
     "text": [
      "              precision    recall  f1-score   support\n",
      "\n",
      "           0       0.78      0.75      0.76        28\n",
      "           1       0.81      0.83      0.82        30\n",
      "           2       0.71      0.71      0.71        38\n",
      "\n",
      "    accuracy                           0.76        96\n",
      "   macro avg       0.76      0.76      0.76        96\n",
      "weighted avg       0.76      0.76      0.76        96\n",
      "\n"
     ]
    }
   ],
   "source": [
    "from sklearn.metrics import classification_report\n",
    "print(classification_report(test['Class'],test['Predicted']))"
   ]
  },
  {
   "cell_type": "markdown",
   "metadata": {},
   "source": [
    "* Accuracy of  Model is 76%,Hence Model is good Fit \n",
    "* Accuracy of Bad Customer Capture by Model is 17% ( Sensitivity )\n",
    "* Accuracy of Good Customer Capture by Model is 99% "
   ]
  },
  {
   "cell_type": "markdown",
   "metadata": {},
   "source": [
    "# Coefficient \n",
    "\n",
    "* For future Prediction below 4 variable data is mandatory \n",
    "\n",
    "* Note :- If anyone is not present output will not be reliable "
   ]
  },
  {
   "cell_type": "code",
   "execution_count": 53,
   "metadata": {
    "scrolled": true
   },
   "outputs": [
    {
     "name": "stdout",
     "output_type": "stream",
     "text": [
      "              precision    recall  f1-score   support\n",
      "\n",
      "           0       0.73      0.66      0.69       114\n",
      "           1       0.82      0.87      0.84        97\n",
      "           2       0.71      0.73      0.72       173\n",
      "\n",
      "    accuracy                           0.74       384\n",
      "   macro avg       0.75      0.75      0.75       384\n",
      "weighted avg       0.74      0.74      0.74       384\n",
      "\n"
     ]
    }
   ],
   "source": [
    "from sklearn.metrics import classification_report\n",
    "print(classification_report(train['Class'],train['Predicted']))"
   ]
  },
  {
   "cell_type": "markdown",
   "metadata": {},
   "source": [
    "# Finish"
   ]
  }
 ],
 "metadata": {
  "kernelspec": {
   "display_name": "Python 3 (ipykernel)",
   "language": "python",
   "name": "python3"
  },
  "language_info": {
   "codemirror_mode": {
    "name": "ipython",
    "version": 3
   },
   "file_extension": ".py",
   "mimetype": "text/x-python",
   "name": "python",
   "nbconvert_exporter": "python",
   "pygments_lexer": "ipython3",
   "version": "3.9.13"
  }
 },
 "nbformat": 4,
 "nbformat_minor": 2
}
